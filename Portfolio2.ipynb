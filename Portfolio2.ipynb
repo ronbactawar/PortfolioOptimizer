{
 "cells": [
  {
   "cell_type": "code",
   "execution_count": 26,
   "id": "76f8c8cf",
   "metadata": {},
   "outputs": [
    {
     "data": {
      "text/plain": [
       "120"
      ]
     },
     "execution_count": 26,
     "metadata": {},
     "output_type": "execute_result"
    }
   ],
   "source": [
    "using DataFrames\n",
    "using Statistics\n",
    "using LinearAlgebra\n",
    "using Dates\n",
    "using CSV\n",
    "using Plots\n",
    "using Combinatorics: combinations\n",
    "ENV[\"COLUMNS\"]=120"
   ]
  },
  {
   "cell_type": "code",
   "execution_count": 27,
   "id": "4f73abc5",
   "metadata": {},
   "outputs": [
    {
     "data": {
      "text/plain": [
       "select_stocks (generic function with 2 methods)"
      ]
     },
     "execution_count": 27,
     "metadata": {},
     "output_type": "execute_result"
    }
   ],
   "source": [
    "# Select an array of stocks, between given dates, at a given daily period\n",
    "function select_stocks(file_path::String, begin_date::Date, end_date::Date, period::Int64, stock_list::Vector{String})\n",
    "    data = CSV.read(file_path, DataFrame) |> DataFrame # read in long data\n",
    "    data = filter(row -> (begin_date <= row.date <= end_date), data) # filter for date range\n",
    "    data = filter(row -> row.stock ∈ stock_list, data) # filter for stocks in stock_list\n",
    "    wide_data = unstack(data, :date, :stock, :close) # Create wide table\n",
    "    sort!(data, [:date]) # Make sure data is sorted by date\n",
    "    index = 1:period:size(wide_data)[1] # Create an index based on period to subset the rows\n",
    "    wide_data = wide_data[index, :] # Filter the row based on the index\n",
    "end\n",
    "\n",
    "# If stock list is missing, then return whole stock dataframe in wideform\n",
    "function select_stocks(file_path::String, begin_date::Date, end_date::Date, period::Int64)\n",
    "    data = CSV.read(file_path, DataFrame) |> DataFrame # read in long data\n",
    "    stock_list = levels(data.stock)[1:17]\n",
    "    return select_stocks(file_path::String, begin_date::Date, end_date::Date, period::Int64, stock_list::Vector{String})\n",
    "end"
   ]
  },
  {
   "cell_type": "code",
   "execution_count": 28,
   "id": "d62be5fa",
   "metadata": {},
   "outputs": [
    {
     "data": {
      "text/plain": [
       "portfolio_returns_table (generic function with 2 methods)"
      ]
     },
     "execution_count": 28,
     "metadata": {},
     "output_type": "execute_result"
    }
   ],
   "source": [
    "# This a function that returns a set of portfolio returns for each stock\n",
    "# The returns are in the form of :percentage_change or log_difference\n",
    "# An unspecified third argument defaults to :percentage_change\n",
    "\n",
    "function portfolio_returns_table(input::DataFrame, date::Symbol, relative_difference::Symbol = :percentage_change)\n",
    "    sort!(input, [date])\n",
    "    input_data = select(input, Not([date]))\n",
    "    input_names = names(input_data)\n",
    "    dates = input[!, date]\n",
    "    L = size(input_data)[1]\n",
    "    input_matrix = Matrix(input_data)\n",
    "    input_matrix = float.(input_matrix)\n",
    "    \n",
    "    \n",
    "    if relative_difference == :percentage_change\n",
    "        #\n",
    "        ML = input_matrix[2:L, :]\n",
    "        MR = input_matrix[1:L-1, :]\n",
    "        MF = (ML .- MR) ./ ML\n",
    "        MF = MF * 100\n",
    "    elseif relative_difference == :log_difference\n",
    "        input_matrix = log.(input_matrix)\n",
    "        ML = input_matrix[2:L, :]\n",
    "        MR = input_matrix[1:L-1, :]\n",
    "        MF = ML .- MR\n",
    "        MF = MF * 100\n",
    "    else\n",
    "        error(\"Choose :percentage_change or :log_difference for the relative_difference paramater\")\n",
    "    end\n",
    "\n",
    "    mydates = dates[2:L, :] |> vec\n",
    "    \n",
    "    output = DataFrame()\n",
    "    output[!, :date] = mydates\n",
    "    \n",
    "    for i in eachindex(input_names)\n",
    "        output[!, input_names[i]] = MF[:, i]\n",
    "    end\n",
    "    \n",
    "    return output\n",
    "        \n",
    "end"
   ]
  },
  {
   "cell_type": "code",
   "execution_count": 29,
   "id": "1e1b728c",
   "metadata": {},
   "outputs": [],
   "source": [
    "# Define the Portfolio struct\n",
    "mutable struct Portfolio\n",
    "    equities::Vector{Symbol}\n",
    "    cov_matrix::Matrix{Float64}\n",
    "    means::Vector{Float64}\n",
    "    weights::Vector{Float64}\n",
    "    \n",
    "    # Constraint function\n",
    "    function Portfolio(equities, cov_matrix, means, weights)\n",
    "        if length(equities) == length(means) == length(weights) == size(cov_matrix)[1] == size(cov_matrix)[2]\n",
    "            return new(equities, cov_matrix, means, weights)\n",
    "        else\n",
    "            error(\"Check the dimension of inputs\")\n",
    "        end        \n",
    "    end    \n",
    "end"
   ]
  },
  {
   "cell_type": "code",
   "execution_count": 30,
   "id": "118d484c",
   "metadata": {},
   "outputs": [
    {
     "data": {
      "text/plain": [
       "portfolio (generic function with 1 method)"
      ]
     },
     "execution_count": 30,
     "metadata": {},
     "output_type": "execute_result"
    }
   ],
   "source": [
    "# Constructs a portfolio object from a portfolio return table \n",
    "# Random weights that add to 1 are assigned \n",
    "function portfolio(df_input::DataFrame, date::Symbol)\n",
    "    df = sort(df_input, [date])\n",
    "    df = select(df, Not([date]))\n",
    "    \n",
    "    # Get the data matrix\n",
    "    data = Matrix(df)\n",
    "    \n",
    "    # Produce the equities, cov_matrix, means and random weights that add to 1\n",
    "    equities = Symbol.(names(df))\n",
    "    cov_matrix = Statistics.cov(data)\n",
    "    means = sum(data, dims = 1) |> vec\n",
    "    unscaled_weights = rand(length(means))\n",
    "    weights = unscaled_weights ./ sum(unscaled_weights)\n",
    "    \n",
    "    # Returns a Portfolio object\n",
    "    return Portfolio(equities, cov_matrix, means, weights)\n",
    "end"
   ]
  },
  {
   "cell_type": "code",
   "execution_count": 31,
   "id": "d0bf5aef",
   "metadata": {},
   "outputs": [
    {
     "data": {
      "text/plain": [
       "expected_return (generic function with 1 method)"
      ]
     },
     "execution_count": 31,
     "metadata": {},
     "output_type": "execute_result"
    }
   ],
   "source": [
    "# Calculates the expected return of the portfolio\n",
    "function expected_return(p::Portfolio)\n",
    "    e_return = transpose(p.weights) * p.means\n",
    "    return e_return\n",
    "end"
   ]
  },
  {
   "cell_type": "code",
   "execution_count": 32,
   "id": "f08cb3b8",
   "metadata": {},
   "outputs": [
    {
     "data": {
      "text/plain": [
       "expected_risk (generic function with 1 method)"
      ]
     },
     "execution_count": 32,
     "metadata": {},
     "output_type": "execute_result"
    }
   ],
   "source": [
    "# Calculates the expected risk of the portfolio\n",
    "function expected_risk(p::Portfolio)\n",
    "    e_risk_squared = transpose(p.weights) * p.cov_matrix * p.weights\n",
    "    e_risk = sqrt(e_risk_squared)\n",
    "    return e_risk   \n",
    "end"
   ]
  },
  {
   "cell_type": "code",
   "execution_count": 33,
   "id": "9ef643b4",
   "metadata": {},
   "outputs": [
    {
     "data": {
      "text/plain": [
       "sharp_ratio (generic function with 1 method)"
      ]
     },
     "execution_count": 33,
     "metadata": {},
     "output_type": "execute_result"
    }
   ],
   "source": [
    "# Calculates the Sharp ratio of a portfolio\n",
    "function sharp_ratio(p::Portfolio)\n",
    "    s_ratio = expected_return(p) / expected_risk(p)\n",
    "    return s_ratio\n",
    "end"
   ]
  },
  {
   "cell_type": "code",
   "execution_count": 34,
   "id": "9294ccc1",
   "metadata": {},
   "outputs": [
    {
     "data": {
      "text/plain": [
       "variant (generic function with 1 method)"
      ]
     },
     "execution_count": 34,
     "metadata": {},
     "output_type": "execute_result"
    }
   ],
   "source": [
    "# Creates a variant of a portfolio, only with a different weights \n",
    "function variant(p::Portfolio)\n",
    "    unscaled_weights = rand(length(p.means))\n",
    "    new_weights = unscaled_weights ./ sum(unscaled_weights)\n",
    "    return Portfolio(p.equities, p.cov_matrix, p.means, new_weights)    \n",
    "end"
   ]
  },
  {
   "cell_type": "code",
   "execution_count": 35,
   "id": "b0cbeb9e",
   "metadata": {},
   "outputs": [
    {
     "data": {
      "text/plain": [
       "create_population (generic function with 1 method)"
      ]
     },
     "execution_count": 35,
     "metadata": {},
     "output_type": "execute_result"
    }
   ],
   "source": [
    "# Create a population of portfolios of size N\n",
    "function create_population(p::Portfolio, N::Int64)\n",
    "    population = fill(p, N)\n",
    "    population = variant.(population)\n",
    "    return population   \n",
    "end"
   ]
  },
  {
   "cell_type": "code",
   "execution_count": 36,
   "id": "381d154e",
   "metadata": {},
   "outputs": [
    {
     "data": {
      "text/plain": [
       "reproduce (generic function with 2 methods)"
      ]
     },
     "execution_count": 36,
     "metadata": {},
     "output_type": "execute_result"
    }
   ],
   "source": [
    "# Creates a child portfolio from 2 parent portfolios by averaging their weights\n",
    "function reproduce(p1::Portfolio, p2::Portfolio)\n",
    "    mixed_weights = 0.5 * (p1.weights .+ p2.weights)\n",
    "    return Portfolio(p1.equities, p1.cov_matrix, p1.means, mixed_weights)\n",
    "end\n",
    "\n",
    "# Offspring porfolios are created by mating all pairs in the population \n",
    "function reproduce(p_array::Vector{Portfolio})\n",
    "    idx = 1:length(p_array) |> collect # Create a full index for p_array\n",
    "    pair_set = combinations(idx, 2) |> collect # Generate all ways to select pairs out the full index\n",
    "    offspring = [reproduce(p_array[i[1]], p_array[i[2]]) for i in pair_set] # Create offspring portfolios\n",
    "    new_pop = cat(p_array, offspring, dims = 1) # Merge the parent and offspring portfolios into a single portfolio\n",
    "    return offspring\n",
    "end"
   ]
  },
  {
   "cell_type": "code",
   "execution_count": 37,
   "id": "06bfcd32",
   "metadata": {},
   "outputs": [
    {
     "data": {
      "text/plain": [
       "boundary (generic function with 1 method)"
      ]
     },
     "execution_count": 37,
     "metadata": {},
     "output_type": "execute_result"
    }
   ],
   "source": [
    "# Get the boundary of the efficient frontier\n",
    "function boundary(p_array::Vector{Portfolio})\n",
    "    # Create a base df for analysis\n",
    "    e_risk = expected_risk.(p_array)\n",
    "    e_return = expected_return.(p_array)\n",
    "    sr = sharp_ratio.(p_array)\n",
    "    df = DataFrame(Expected_Return = e_return, Expected_Risk = e_risk, Sharp_Ratio = sr, Portfolio = p_array)\n",
    "    # code here\n",
    "    df = filter(row -> row.Expected_Return > 0, df) # Filter for positive expected returns\n",
    "    df[!, :er_class] = round.(df.Expected_Return, digits = 1) # Create er_class variable for sorting/grouping\n",
    "    sort!(df, [:er_class, :Sharp_Ratio]) # Sort df by :er_class, :Sharp_Ratio\n",
    "    df[!, :id] = 1:size(df)[1] # create an :id variable as a key\n",
    "    ranked_data = select(df,[:id, :er_class, :Sharp_Ratio]) # Create dataframe with just :id, :er_class and Sharp_ratio\n",
    "    gb = groupby(ranked_data, [:er_class]) # Create groupby object over :er_class\n",
    "    id_df = combine(gb, :id => maximum) # Get maximum id over each er_class, :id_maximum is agg value\n",
    "    boundary = df[id_df.id_maximum, [:Portfolio, :Expected_Return, :Expected_Risk, :Sharp_Ratio]] # Original df is filtered for indexes near the boundry\n",
    "    # new code stats here\n",
    "    sort!(boundary, [:Expected_Risk, :Expected_Return]) # Sort boundary for and expected risk and expected return\n",
    "    er_fil = boundary.Expected_Return[1] # Get the expected return for minimum variance\n",
    "    boundary = filter(row -> row.Expected_Return > er_fil, boundary)\n",
    "    # new code ends here\n",
    "    sort!(boundary, [:Sharp_Ratio], rev=(true)) # Sort boundary for desc Sharp ratios\n",
    "    return boundary.Portfolio # Return sorted Portfolio vector, such that the member has the max sharp_ratio\n",
    " \n",
    "end"
   ]
  },
  {
   "cell_type": "code",
   "execution_count": 38,
   "id": "ef9e61c1",
   "metadata": {},
   "outputs": [
    {
     "data": {
      "text/plain": [
       "summary (generic function with 1 method)"
      ]
     },
     "execution_count": 38,
     "metadata": {},
     "output_type": "execute_result"
    }
   ],
   "source": [
    "# For any population of portfolios, a table with expected returns, expected risks and sharp ratios is returned\n",
    "function summary(p_array::Vector{Portfolio})\n",
    "    df = DataFrame(\n",
    "        Expected_Return = expected_return.(p_array),\n",
    "        Expected_Risk = expected_risk.(p_array),\n",
    "        Sharp_Ratio = sharp_ratio.(p_array)\n",
    "    )\n",
    "    sort!(df, [:Sharp_Ratio], rev=(true))\n",
    "    return df\n",
    "end"
   ]
  },
  {
   "cell_type": "code",
   "execution_count": 39,
   "id": "97a0d373",
   "metadata": {},
   "outputs": [
    {
     "data": {
      "text/plain": [
       "equity_performance (generic function with 2 methods)"
      ]
     },
     "execution_count": 39,
     "metadata": {},
     "output_type": "execute_result"
    }
   ],
   "source": [
    "# Summarise a single portfolio\n",
    "## For a portfolio object with a given set of equities and weights, the expected return, expected risk and Sharp ratio is measured for each equity.\n",
    "function equity_performance(p::Portfolio)\n",
    "    equities = string.(p.equities) # # Get the equities\n",
    "    weights = p.weights\n",
    "    weights = round.(weights, digits = 3)\n",
    "    e_returns = p.means # Get the returns\n",
    "    CM = p.cov_matrix\n",
    "    CM_diag = [CM[i, i] for i in 1:size(CM)[1]]\n",
    "    e_risk = sqrt.(CM_diag) # Get the risk\n",
    "    s_ratio = e_returns ./ e_risk # Get the sharp ratio\n",
    "    output = DataFrame(Equities = equities, Weights = weights, Expected_Return = e_returns, Expected_Risk = e_risk, Sharp_Ratio = s_ratio)\n",
    "    return output\n",
    "end\n",
    "\n",
    "# For an optimally sorted portfolio population, the summary of the array is the summary of the first member\n",
    "function equity_performance(p_array::Vector{Portfolio})\n",
    "    equity_performance(p_array[1])\n",
    "end"
   ]
  },
  {
   "cell_type": "code",
   "execution_count": 40,
   "id": "d82d0e3c",
   "metadata": {},
   "outputs": [
    {
     "data": {
      "text/plain": [
       "market_performance (generic function with 2 methods)"
      ]
     },
     "execution_count": 40,
     "metadata": {},
     "output_type": "execute_result"
    }
   ],
   "source": [
    "# This function returns the market portfolio summary for the total equity set  \n",
    "function market_performance(p::Portfolio)\n",
    "    output = DataFrame(\n",
    "        Market_Portfolio = String[], \n",
    "        Expected_Return = Float64[], \n",
    "        Expected_Risk = Float64[], \n",
    "        Sharp_Ratio = Float64[]\n",
    "    )\n",
    "    \n",
    "    market_point = (\"Market Portfolio\", expected_return(p), expected_risk(p), sharp_ratio(p))\n",
    "    push!(output, market_point)\n",
    "end\n",
    "\n",
    "function market_performance(p_array::Vector{Portfolio})\n",
    "    market_performance(p_array[1])   \n",
    "end"
   ]
  },
  {
   "cell_type": "code",
   "execution_count": 41,
   "id": "935162ed",
   "metadata": {},
   "outputs": [
    {
     "data": {
      "text/plain": [
       "efficient_frontier (generic function with 1 method)"
      ]
     },
     "execution_count": 41,
     "metadata": {},
     "output_type": "execute_result"
    }
   ],
   "source": [
    "# This function plots the efficient frontier\n",
    "function efficient_frontier(p_array::Vector{Portfolio})\n",
    "    dfA = summary(p_array)\n",
    "    dfB = equity_performance(p_array[1])\n",
    "    dfC = market_performance(p_array[1])\n",
    "    \n",
    "    Plots.plot(\n",
    "    dfA.Expected_Risk, \n",
    "    dfA.Expected_Return, \n",
    "    seriestype = :scatter, \n",
    "    color = :heat,\n",
    "    markersize = 2,\n",
    "    markeralpha = 0.9,\n",
    "    label = \"Efficient Frontier\"\n",
    "    )\n",
    "    Plots.plot!(\n",
    "        dfB.Expected_Risk, \n",
    "        dfB.Expected_Return, \n",
    "        seriestype = :scatter, \n",
    "        series_annotations = Plots.text.(dfB.Equities, 8, :bottom),\n",
    "        markershape = :cross,\n",
    "        color = :blue,\n",
    "        markersize = 4,\n",
    "        label = \"Equities\"\n",
    "    )\n",
    "    Plots.plot!(\n",
    "        dfC.Expected_Risk, \n",
    "        dfC.Expected_Return,\n",
    "        seriestype = :scatter,\n",
    "        markershape = :star6,\n",
    "        markersize = 8,\n",
    "        color = :red,\n",
    "        label = \"Market Portfolio\"\n",
    "    )\n",
    "    Plots.plot!(\n",
    "        title = \"Efficient Frontier\", \n",
    "        xlabel = \"Expected Risk\", \n",
    "        ylabel = \"Expected Return\",\n",
    "    )\n",
    "        \n",
    "end"
   ]
  },
  {
   "cell_type": "markdown",
   "id": "4488884b",
   "metadata": {},
   "source": [
    "## Upload Stock Data\n",
    "\n",
    "This function imports the portfolio stock data for analysis.  A table of the results are shown below. "
   ]
  },
  {
   "cell_type": "code",
   "execution_count": 42,
   "id": "116dcb2a",
   "metadata": {},
   "outputs": [
    {
     "data": {
      "text/html": [
       "<div class=\"data-frame\"><p>10 rows × 6 columns</p><table class=\"data-frame\"><thead><tr><th></th><th>date</th><th>AMAT</th><th>EQR</th><th>FE</th><th>HRS</th><th>MOS</th></tr><tr><th></th><th title=\"Date\">Date</th><th title=\"Union{Missing, Float64}\">Float64?</th><th title=\"Union{Missing, Float64}\">Float64?</th><th title=\"Union{Missing, Float64}\">Float64?</th><th title=\"Union{Missing, Float64}\">Float64?</th><th title=\"Union{Missing, Float64}\">Float64?</th></tr></thead><tbody><tr><th>1</th><td>2014-01-02</td><td>17.55</td><td>51.99</td><td>32.38</td><td>68.48</td><td>47.0</td></tr><tr><th>2</th><td>2014-01-16</td><td>17.63</td><td>53.89</td><td>32.49</td><td>70.59</td><td>49.32</td></tr><tr><th>3</th><td>2014-01-31</td><td>16.82</td><td>55.38</td><td>31.49</td><td>69.34</td><td>44.66</td></tr><tr><th>4</th><td>2014-02-14</td><td>18.96</td><td>58.58</td><td>31.75</td><td>72.0</td><td>47.78</td></tr><tr><th>5</th><td>2014-03-03</td><td>18.71</td><td>58.52</td><td>30.52</td><td>73.79</td><td>48.98</td></tr><tr><th>6</th><td>2014-03-17</td><td>18.98</td><td>58.37</td><td>31.89</td><td>73.59</td><td>48.02</td></tr><tr><th>7</th><td>2014-03-31</td><td>20.415</td><td>57.99</td><td>34.03</td><td>73.16</td><td>50.0</td></tr><tr><th>8</th><td>2014-04-14</td><td>19.02</td><td>58.08</td><td>33.31</td><td>69.34</td><td>47.44</td></tr><tr><th>9</th><td>2014-04-29</td><td>19.07</td><td>59.32</td><td>34.26</td><td>72.64</td><td>49.94</td></tr><tr><th>10</th><td>2014-05-13</td><td>19.11</td><td>61.71</td><td>32.49</td><td>75.89</td><td>49.26</td></tr></tbody></table></div>"
      ],
      "text/latex": [
       "\\begin{tabular}{r|cccccc}\n",
       "\t& date & AMAT & EQR & FE & HRS & MOS\\\\\n",
       "\t\\hline\n",
       "\t& Date & Float64? & Float64? & Float64? & Float64? & Float64?\\\\\n",
       "\t\\hline\n",
       "\t1 & 2014-01-02 & 17.55 & 51.99 & 32.38 & 68.48 & 47.0 \\\\\n",
       "\t2 & 2014-01-16 & 17.63 & 53.89 & 32.49 & 70.59 & 49.32 \\\\\n",
       "\t3 & 2014-01-31 & 16.82 & 55.38 & 31.49 & 69.34 & 44.66 \\\\\n",
       "\t4 & 2014-02-14 & 18.96 & 58.58 & 31.75 & 72.0 & 47.78 \\\\\n",
       "\t5 & 2014-03-03 & 18.71 & 58.52 & 30.52 & 73.79 & 48.98 \\\\\n",
       "\t6 & 2014-03-17 & 18.98 & 58.37 & 31.89 & 73.59 & 48.02 \\\\\n",
       "\t7 & 2014-03-31 & 20.415 & 57.99 & 34.03 & 73.16 & 50.0 \\\\\n",
       "\t8 & 2014-04-14 & 19.02 & 58.08 & 33.31 & 69.34 & 47.44 \\\\\n",
       "\t9 & 2014-04-29 & 19.07 & 59.32 & 34.26 & 72.64 & 49.94 \\\\\n",
       "\t10 & 2014-05-13 & 19.11 & 61.71 & 32.49 & 75.89 & 49.26 \\\\\n",
       "\\end{tabular}\n"
      ],
      "text/plain": [
       "\u001b[1m10×6 DataFrame\u001b[0m\n",
       "\u001b[1m Row \u001b[0m│\u001b[1m date       \u001b[0m\u001b[1m AMAT     \u001b[0m\u001b[1m EQR      \u001b[0m\u001b[1m FE       \u001b[0m\u001b[1m HRS      \u001b[0m\u001b[1m MOS      \u001b[0m\n",
       "\u001b[1m     \u001b[0m│\u001b[90m Date       \u001b[0m\u001b[90m Float64? \u001b[0m\u001b[90m Float64? \u001b[0m\u001b[90m Float64? \u001b[0m\u001b[90m Float64? \u001b[0m\u001b[90m Float64? \u001b[0m\n",
       "─────┼──────────────────────────────────────────────────────────────\n",
       "   1 │ 2014-01-02    17.55      51.99     32.38     68.48     47.0\n",
       "   2 │ 2014-01-16    17.63      53.89     32.49     70.59     49.32\n",
       "   3 │ 2014-01-31    16.82      55.38     31.49     69.34     44.66\n",
       "   4 │ 2014-02-14    18.96      58.58     31.75     72.0      47.78\n",
       "   5 │ 2014-03-03    18.71      58.52     30.52     73.79     48.98\n",
       "   6 │ 2014-03-17    18.98      58.37     31.89     73.59     48.02\n",
       "   7 │ 2014-03-31    20.415     57.99     34.03     73.16     50.0\n",
       "   8 │ 2014-04-14    19.02      58.08     33.31     69.34     47.44\n",
       "   9 │ 2014-04-29    19.07      59.32     34.26     72.64     49.94\n",
       "  10 │ 2014-05-13    19.11      61.71     32.49     75.89     49.26"
      ]
     },
     "execution_count": 42,
     "metadata": {},
     "output_type": "execute_result"
    }
   ],
   "source": [
    "# Defining the input parameters\n",
    "file_path = \"full_stocks.csv\"\n",
    "begin_date = Date(\"2014-01-01\")\n",
    "end_date = Date(\"2017-01-01\")\n",
    "period = 10\n",
    "stock_list = [\"MOS\", \"AMAT\", \"HRS\", \"EQR\", \"FE\"]\n",
    "\n",
    "\n",
    "# Calling the select_stocks function\n",
    "stocks = \n",
    "select_stocks(\n",
    "    file_path, \n",
    "    begin_date, \n",
    "    end_date,\n",
    "    period,\n",
    "    stock_list \n",
    "    \n",
    ")\n",
    "\n",
    "first(stocks, 10)"
   ]
  },
  {
   "cell_type": "markdown",
   "id": "f9cec21a",
   "metadata": {},
   "source": [
    "## Portfolio Returns Table\n",
    "\n",
    " This a function that returns a set of portfolio returns for each stock .The returns are in the form of :percentage_change or log_difference.  An unspecified third argument defaults to :percentage_change."
   ]
  },
  {
   "cell_type": "code",
   "execution_count": 43,
   "id": "7c21de94",
   "metadata": {},
   "outputs": [
    {
     "data": {
      "text/html": [
       "<div class=\"data-frame\"><p>10 rows × 6 columns</p><table class=\"data-frame\"><thead><tr><th></th><th>date</th><th>AMAT</th><th>EQR</th><th>FE</th><th>HRS</th><th>MOS</th></tr><tr><th></th><th title=\"Date\">Date</th><th title=\"Float64\">Float64</th><th title=\"Float64\">Float64</th><th title=\"Float64\">Float64</th><th title=\"Float64\">Float64</th><th title=\"Float64\">Float64</th></tr></thead><tbody><tr><th>1</th><td>2014-01-16</td><td>0.454805</td><td>3.58935</td><td>0.33914</td><td>3.03468</td><td>4.81821</td></tr><tr><th>2</th><td>2014-01-31</td><td>-4.70333</td><td>2.72736</td><td>-3.12623</td><td>-1.78666</td><td>-9.92514</td></tr><tr><th>3</th><td>2014-02-14</td><td>11.9763</td><td>5.61748</td><td>0.822269</td><td>3.76442</td><td>6.75289</td></tr><tr><th>4</th><td>2014-03-03</td><td>-1.32734</td><td>-0.102477</td><td>-3.95105</td><td>2.45571</td><td>2.48049</td></tr><tr><th>5</th><td>2014-03-17</td><td>1.43277</td><td>-0.256652</td><td>4.39103</td><td>-0.271407</td><td>-1.97945</td></tr><tr><th>6</th><td>2014-03-31</td><td>7.28841</td><td>-0.653148</td><td>6.495</td><td>-0.586032</td><td>4.04054</td></tr><tr><th>7</th><td>2014-04-14</td><td>-7.07789</td><td>0.155079</td><td>-2.13848</td><td>-5.36269</td><td>-5.25573</td></tr><tr><th>8</th><td>2014-04-29</td><td>0.262536</td><td>2.11251</td><td>2.81208</td><td>4.64938</td><td>5.13565</td></tr><tr><th>9</th><td>2014-05-13</td><td>0.209534</td><td>3.94995</td><td>-5.30461</td><td>4.37692</td><td>-1.37099</td></tr><tr><th>10</th><td>2014-05-28</td><td>7.21624</td><td>-0.846221</td><td>3.47835</td><td>1.40009</td><td>0.142002</td></tr></tbody></table></div>"
      ],
      "text/latex": [
       "\\begin{tabular}{r|cccccc}\n",
       "\t& date & AMAT & EQR & FE & HRS & MOS\\\\\n",
       "\t\\hline\n",
       "\t& Date & Float64 & Float64 & Float64 & Float64 & Float64\\\\\n",
       "\t\\hline\n",
       "\t1 & 2014-01-16 & 0.454805 & 3.58935 & 0.33914 & 3.03468 & 4.81821 \\\\\n",
       "\t2 & 2014-01-31 & -4.70333 & 2.72736 & -3.12623 & -1.78666 & -9.92514 \\\\\n",
       "\t3 & 2014-02-14 & 11.9763 & 5.61748 & 0.822269 & 3.76442 & 6.75289 \\\\\n",
       "\t4 & 2014-03-03 & -1.32734 & -0.102477 & -3.95105 & 2.45571 & 2.48049 \\\\\n",
       "\t5 & 2014-03-17 & 1.43277 & -0.256652 & 4.39103 & -0.271407 & -1.97945 \\\\\n",
       "\t6 & 2014-03-31 & 7.28841 & -0.653148 & 6.495 & -0.586032 & 4.04054 \\\\\n",
       "\t7 & 2014-04-14 & -7.07789 & 0.155079 & -2.13848 & -5.36269 & -5.25573 \\\\\n",
       "\t8 & 2014-04-29 & 0.262536 & 2.11251 & 2.81208 & 4.64938 & 5.13565 \\\\\n",
       "\t9 & 2014-05-13 & 0.209534 & 3.94995 & -5.30461 & 4.37692 & -1.37099 \\\\\n",
       "\t10 & 2014-05-28 & 7.21624 & -0.846221 & 3.47835 & 1.40009 & 0.142002 \\\\\n",
       "\\end{tabular}\n"
      ],
      "text/plain": [
       "\u001b[1m10×6 DataFrame\u001b[0m\n",
       "\u001b[1m Row \u001b[0m│\u001b[1m date       \u001b[0m\u001b[1m AMAT      \u001b[0m\u001b[1m EQR       \u001b[0m\u001b[1m FE        \u001b[0m\u001b[1m HRS       \u001b[0m\u001b[1m MOS       \u001b[0m\n",
       "\u001b[1m     \u001b[0m│\u001b[90m Date       \u001b[0m\u001b[90m Float64   \u001b[0m\u001b[90m Float64   \u001b[0m\u001b[90m Float64   \u001b[0m\u001b[90m Float64   \u001b[0m\u001b[90m Float64   \u001b[0m\n",
       "─────┼───────────────────────────────────────────────────────────────────\n",
       "   1 │ 2014-01-16   0.454805   3.58935    0.33914    3.03468    4.81821\n",
       "   2 │ 2014-01-31  -4.70333    2.72736   -3.12623   -1.78666   -9.92514\n",
       "   3 │ 2014-02-14  11.9763     5.61748    0.822269   3.76442    6.75289\n",
       "   4 │ 2014-03-03  -1.32734   -0.102477  -3.95105    2.45571    2.48049\n",
       "   5 │ 2014-03-17   1.43277   -0.256652   4.39103   -0.271407  -1.97945\n",
       "   6 │ 2014-03-31   7.28841   -0.653148   6.495     -0.586032   4.04054\n",
       "   7 │ 2014-04-14  -7.07789    0.155079  -2.13848   -5.36269   -5.25573\n",
       "   8 │ 2014-04-29   0.262536   2.11251    2.81208    4.64938    5.13565\n",
       "   9 │ 2014-05-13   0.209534   3.94995   -5.30461    4.37692   -1.37099\n",
       "  10 │ 2014-05-28   7.21624   -0.846221   3.47835    1.40009    0.142002"
      ]
     },
     "execution_count": 43,
     "metadata": {},
     "output_type": "execute_result"
    }
   ],
   "source": [
    "# Call the portfolio_returns_table function\n",
    "prt = portfolio_returns_table(stocks, :date, :log_difference)\n",
    "\n",
    "first(prt, 10)"
   ]
  },
  {
   "cell_type": "markdown",
   "id": "7a59d0d3",
   "metadata": {},
   "source": [
    "## Portfolio Objects and Populations\n",
    "\n",
    "A single portfolio object can be created from the portfolio returns table as shown below.\n"
   ]
  },
  {
   "cell_type": "code",
   "execution_count": 44,
   "id": "ea158dd0",
   "metadata": {},
   "outputs": [
    {
     "name": "stdout",
     "output_type": "stream",
     "text": [
      "p = Portfolio([:AMAT, :EQR, :FE, :HRS, :MOS], [34.6476876766464 1.771888465797342 6.4756570468747405 13.181091565688204 23.450322814529663; 1.771888465797342 12.959554025557528 4.573208287530197 3.86094773165766 0.07248472898003032; 6.4756570468747405 4.573208287530197 17.65918278116134 1.5603566735009462 8.850378349560836; 13.181091565688204 3.86094773165766 1.5603566735009462 20.396301965956205 15.379700739376382; 23.450322814529663 0.07248472898003032 8.850378349560836 15.379700739376382 50.82730924999266], [63.17565959532267, 19.16070301050268, -3.6482033162203162, 41.496038340199526, -47.0855055435953], [0.18433130808586495, 0.1549901973445587, 0.370403509912776, 0.030326401520873184, 0.25994858313592734])\n"
     ]
    },
    {
     "data": {
      "text/plain": [
       "Portfolio([:AMAT, :EQR, :FE, :HRS, :MOS], [34.6476876766464 1.771888465797342 … 13.181091565688204 23.450322814529663; 1.771888465797342 12.959554025557528 … 3.86094773165766 0.07248472898003032; … ; 13.181091565688204 3.86094773165766 … 20.396301965956205 15.379700739376382; 23.450322814529663 0.07248472898003032 … 15.379700739376382 50.82730924999266], [63.17565959532267, 19.16070301050268, -3.6482033162203162, 41.496038340199526, -47.0855055435953], [0.18433130808586495, 0.1549901973445587, 0.370403509912776, 0.030326401520873184, 0.25994858313592734])"
      ]
     },
     "execution_count": 44,
     "metadata": {},
     "output_type": "execute_result"
    }
   ],
   "source": [
    "# Create a single portfolio object\n",
    "p = portfolio(prt, :date);\n",
    "@show p"
   ]
  },
  {
   "cell_type": "markdown",
   "id": "0fb65708",
   "metadata": {},
   "source": [
    "## Equity Performance\n",
    "For a portfolio object with a given set of equities and weights, the expected return, expected risk and Sharp ratio  is measured for each equity."
   ]
  },
  {
   "cell_type": "code",
   "execution_count": 45,
   "id": "41d94e8e",
   "metadata": {},
   "outputs": [
    {
     "data": {
      "text/html": [
       "<div class=\"data-frame\"><p>5 rows × 5 columns</p><table class=\"data-frame\"><thead><tr><th></th><th>Equities</th><th>Weights</th><th>Expected_Return</th><th>Expected_Risk</th><th>Sharp_Ratio</th></tr><tr><th></th><th title=\"String\">String</th><th title=\"Float64\">Float64</th><th title=\"Float64\">Float64</th><th title=\"Float64\">Float64</th><th title=\"Float64\">Float64</th></tr></thead><tbody><tr><th>1</th><td>AMAT</td><td>0.184</td><td>63.1757</td><td>5.88623</td><td>10.7328</td></tr><tr><th>2</th><td>EQR</td><td>0.155</td><td>19.1607</td><td>3.59994</td><td>5.32251</td></tr><tr><th>3</th><td>FE</td><td>0.37</td><td>-3.6482</td><td>4.20228</td><td>-0.868148</td></tr><tr><th>4</th><td>HRS</td><td>0.03</td><td>41.496</td><td>4.51623</td><td>9.18821</td></tr><tr><th>5</th><td>MOS</td><td>0.26</td><td>-47.0855</td><td>7.12933</td><td>-6.60448</td></tr></tbody></table></div>"
      ],
      "text/latex": [
       "\\begin{tabular}{r|ccccc}\n",
       "\t& Equities & Weights & Expected\\_Return & Expected\\_Risk & Sharp\\_Ratio\\\\\n",
       "\t\\hline\n",
       "\t& String & Float64 & Float64 & Float64 & Float64\\\\\n",
       "\t\\hline\n",
       "\t1 & AMAT & 0.184 & 63.1757 & 5.88623 & 10.7328 \\\\\n",
       "\t2 & EQR & 0.155 & 19.1607 & 3.59994 & 5.32251 \\\\\n",
       "\t3 & FE & 0.37 & -3.6482 & 4.20228 & -0.868148 \\\\\n",
       "\t4 & HRS & 0.03 & 41.496 & 4.51623 & 9.18821 \\\\\n",
       "\t5 & MOS & 0.26 & -47.0855 & 7.12933 & -6.60448 \\\\\n",
       "\\end{tabular}\n"
      ],
      "text/plain": [
       "\u001b[1m5×5 DataFrame\u001b[0m\n",
       "\u001b[1m Row \u001b[0m│\u001b[1m Equities \u001b[0m\u001b[1m Weights \u001b[0m\u001b[1m Expected_Return \u001b[0m\u001b[1m Expected_Risk \u001b[0m\u001b[1m Sharp_Ratio \u001b[0m\n",
       "\u001b[1m     \u001b[0m│\u001b[90m String   \u001b[0m\u001b[90m Float64 \u001b[0m\u001b[90m Float64         \u001b[0m\u001b[90m Float64       \u001b[0m\u001b[90m Float64     \u001b[0m\n",
       "─────┼────────────────────────────────────────────────────────────────\n",
       "   1 │ AMAT        0.184          63.1757        5.88623    10.7328\n",
       "   2 │ EQR         0.155          19.1607        3.59994     5.32251\n",
       "   3 │ FE          0.37           -3.6482        4.20228    -0.868148\n",
       "   4 │ HRS         0.03           41.496         4.51623     9.18821\n",
       "   5 │ MOS         0.26          -47.0855        7.12933    -6.60448"
      ]
     },
     "execution_count": 45,
     "metadata": {},
     "output_type": "execute_result"
    }
   ],
   "source": [
    "# This is the summary of the portfolio object p\n",
    "equity_performance(p)"
   ]
  },
  {
   "cell_type": "markdown",
   "id": "1b6b7f2c",
   "metadata": {},
   "source": [
    "## Market Performance\n",
    "This table measures the market performance by returning the expected return, expected risk and sharp ratio for the full equity set. "
   ]
  },
  {
   "cell_type": "code",
   "execution_count": 46,
   "id": "6b598d4c",
   "metadata": {},
   "outputs": [
    {
     "data": {
      "text/html": [
       "<div class=\"data-frame\"><p>1 rows × 4 columns</p><table class=\"data-frame\"><thead><tr><th></th><th>Market_Portfolio</th><th>Expected_Return</th><th>Expected_Risk</th><th>Sharp_Ratio</th></tr><tr><th></th><th title=\"String\">String</th><th title=\"Float64\">Float64</th><th title=\"Float64\">Float64</th><th title=\"Float64\">Float64</th></tr></thead><tbody><tr><th>1</th><td>Market Portfolio</td><td>2.28228</td><td>3.6461</td><td>0.625952</td></tr></tbody></table></div>"
      ],
      "text/latex": [
       "\\begin{tabular}{r|cccc}\n",
       "\t& Market\\_Portfolio & Expected\\_Return & Expected\\_Risk & Sharp\\_Ratio\\\\\n",
       "\t\\hline\n",
       "\t& String & Float64 & Float64 & Float64\\\\\n",
       "\t\\hline\n",
       "\t1 & Market Portfolio & 2.28228 & 3.6461 & 0.625952 \\\\\n",
       "\\end{tabular}\n"
      ],
      "text/plain": [
       "\u001b[1m1×4 DataFrame\u001b[0m\n",
       "\u001b[1m Row \u001b[0m│\u001b[1m Market_Portfolio \u001b[0m\u001b[1m Expected_Return \u001b[0m\u001b[1m Expected_Risk \u001b[0m\u001b[1m Sharp_Ratio \u001b[0m\n",
       "\u001b[1m     \u001b[0m│\u001b[90m String           \u001b[0m\u001b[90m Float64         \u001b[0m\u001b[90m Float64       \u001b[0m\u001b[90m Float64     \u001b[0m\n",
       "─────┼───────────────────────────────────────────────────────────────\n",
       "   1 │ Market Portfolio          2.28228         3.6461     0.625952"
      ]
     },
     "execution_count": 46,
     "metadata": {},
     "output_type": "execute_result"
    }
   ],
   "source": [
    "# This is the market portfolio summary for the total equity set.  \n",
    "market_performance(p)"
   ]
  },
  {
   "cell_type": "markdown",
   "id": "9255951c",
   "metadata": {},
   "source": [
    "##  Portfolio Populations\n",
    "\n",
    "1. A portfolio population is an array of portfolio objects, each with a random variation of weights.  \n",
    "\n",
    "2. The boundary function filters and returns portfolios on or near the efficient frontier. \n",
    "\n",
    "3. For any population of portfolios, a table with expected return, expected risk and sharp ratio is returned."
   ]
  },
  {
   "cell_type": "code",
   "execution_count": 47,
   "id": "1742753d",
   "metadata": {},
   "outputs": [
    {
     "data": {
      "text/html": [
       "<div class=\"data-frame\"><p>8 rows × 3 columns</p><table class=\"data-frame\"><thead><tr><th></th><th>Expected_Return</th><th>Expected_Risk</th><th>Sharp_Ratio</th></tr><tr><th></th><th title=\"Float64\">Float64</th><th title=\"Float64\">Float64</th><th title=\"Float64\">Float64</th></tr></thead><tbody><tr><th>1</th><td>43.187</td><td>3.57473</td><td>12.0812</td></tr><tr><th>2</th><td>43.3501</td><td>3.59094</td><td>12.0721</td></tr><tr><th>3</th><td>41.9193</td><td>3.48256</td><td>12.0369</td></tr><tr><th>4</th><td>44.0609</td><td>3.66417</td><td>12.0248</td></tr><tr><th>5</th><td>44.3131</td><td>3.6883</td><td>12.0145</td></tr><tr><th>6</th><td>45.3286</td><td>3.77309</td><td>12.0136</td></tr><tr><th>7</th><td>44.6485</td><td>3.7165</td><td>12.0136</td></tr><tr><th>8</th><td>42.8104</td><td>3.56368</td><td>12.013</td></tr></tbody></table></div>"
      ],
      "text/latex": [
       "\\begin{tabular}{r|ccc}\n",
       "\t& Expected\\_Return & Expected\\_Risk & Sharp\\_Ratio\\\\\n",
       "\t\\hline\n",
       "\t& Float64 & Float64 & Float64\\\\\n",
       "\t\\hline\n",
       "\t1 & 43.187 & 3.57473 & 12.0812 \\\\\n",
       "\t2 & 43.3501 & 3.59094 & 12.0721 \\\\\n",
       "\t3 & 41.9193 & 3.48256 & 12.0369 \\\\\n",
       "\t4 & 44.0609 & 3.66417 & 12.0248 \\\\\n",
       "\t5 & 44.3131 & 3.6883 & 12.0145 \\\\\n",
       "\t6 & 45.3286 & 3.77309 & 12.0136 \\\\\n",
       "\t7 & 44.6485 & 3.7165 & 12.0136 \\\\\n",
       "\t8 & 42.8104 & 3.56368 & 12.013 \\\\\n",
       "\\end{tabular}\n"
      ],
      "text/plain": [
       "\u001b[1m8×3 DataFrame\u001b[0m\n",
       "\u001b[1m Row \u001b[0m│\u001b[1m Expected_Return \u001b[0m\u001b[1m Expected_Risk \u001b[0m\u001b[1m Sharp_Ratio \u001b[0m\n",
       "\u001b[1m     \u001b[0m│\u001b[90m Float64         \u001b[0m\u001b[90m Float64       \u001b[0m\u001b[90m Float64     \u001b[0m\n",
       "─────┼─────────────────────────────────────────────\n",
       "   1 │         43.187         3.57473      12.0812\n",
       "   2 │         43.3501        3.59094      12.0721\n",
       "   3 │         41.9193        3.48256      12.0369\n",
       "   4 │         44.0609        3.66417      12.0248\n",
       "   5 │         44.3131        3.6883       12.0145\n",
       "   6 │         45.3286        3.77309      12.0136\n",
       "   7 │         44.6485        3.7165       12.0136\n",
       "   8 │         42.8104        3.56368      12.013"
      ]
     },
     "execution_count": 47,
     "metadata": {},
     "output_type": "execute_result"
    }
   ],
   "source": [
    "# Create a 100000 long array population of portfolios with random weights\n",
    "p_array = create_population(p, 100000)\n",
    "\n",
    "# Filters the population to only include members on the efficient frontier \n",
    "p_array = boundary(p_array)\n",
    "typeof(p_array)\n",
    "\n",
    "# Have the population members breed with each other which tends to produce decendents on the boundary\n",
    "p_array = reproduce(p_array)\n",
    "\n",
    "# Filter the population so that they are close to the boundary\n",
    "p_array = boundary(p_array)\n",
    "\n",
    "# Summarize the outputs\n",
    "details = summary(p_array)\n",
    "first(details, 8)"
   ]
  },
  {
   "cell_type": "markdown",
   "id": "ee54f904",
   "metadata": {},
   "source": [
    "## Efficient Frontier\n",
    "\n",
    "The efficient frontier, equities, and the market portfolio are plotted together in one chart.  The optimal market portfolio is where the Sharp ratio is maximized.  The weights associated with that optimal market portfolio indicates how to allocate resources to each equity.    "
   ]
  },
  {
   "cell_type": "code",
   "execution_count": 48,
   "id": "d1033acd",
   "metadata": {},
   "outputs": [
    {
     "data": {
      "image/svg+xml": [
       "<?xml version=\"1.0\" encoding=\"utf-8\"?>\n",
       "<svg xmlns=\"http://www.w3.org/2000/svg\" xmlns:xlink=\"http://www.w3.org/1999/xlink\" width=\"600\" height=\"400\" viewBox=\"0 0 2400 1600\">\n",
       "<defs>\n",
       "  <clipPath id=\"clip960\">\n",
       "    <rect x=\"0\" y=\"0\" width=\"2400\" height=\"1600\"/>\n",
       "  </clipPath>\n",
       "</defs>\n",
       "<path clip-path=\"url(#clip960)\" d=\"\n",
       "M0 1600 L2400 1600 L2400 0 L0 0  Z\n",
       "  \" fill=\"#ffffff\" fill-rule=\"evenodd\" fill-opacity=\"1\"/>\n",
       "<defs>\n",
       "  <clipPath id=\"clip961\">\n",
       "    <rect x=\"480\" y=\"0\" width=\"1681\" height=\"1600\"/>\n",
       "  </clipPath>\n",
       "</defs>\n",
       "<path clip-path=\"url(#clip960)\" d=\"\n",
       "M242.135 1423.18 L2352.76 1423.18 L2352.76 123.472 L242.135 123.472  Z\n",
       "  \" fill=\"#ffffff\" fill-rule=\"evenodd\" fill-opacity=\"1\"/>\n",
       "<defs>\n",
       "  <clipPath id=\"clip962\">\n",
       "    <rect x=\"242\" y=\"123\" width=\"2112\" height=\"1301\"/>\n",
       "  </clipPath>\n",
       "</defs>\n",
       "<polyline clip-path=\"url(#clip962)\" style=\"stroke:#000000; stroke-linecap:butt; stroke-linejoin:round; stroke-width:2; stroke-opacity:0.1; fill:none\" points=\"\n",
       "  402.488,1423.18 402.488,123.472 \n",
       "  \"/>\n",
       "<polyline clip-path=\"url(#clip962)\" style=\"stroke:#000000; stroke-linecap:butt; stroke-linejoin:round; stroke-width:2; stroke-opacity:0.1; fill:none\" points=\"\n",
       "  860.319,1423.18 860.319,123.472 \n",
       "  \"/>\n",
       "<polyline clip-path=\"url(#clip962)\" style=\"stroke:#000000; stroke-linecap:butt; stroke-linejoin:round; stroke-width:2; stroke-opacity:0.1; fill:none\" points=\"\n",
       "  1318.15,1423.18 1318.15,123.472 \n",
       "  \"/>\n",
       "<polyline clip-path=\"url(#clip962)\" style=\"stroke:#000000; stroke-linecap:butt; stroke-linejoin:round; stroke-width:2; stroke-opacity:0.1; fill:none\" points=\"\n",
       "  1775.98,1423.18 1775.98,123.472 \n",
       "  \"/>\n",
       "<polyline clip-path=\"url(#clip962)\" style=\"stroke:#000000; stroke-linecap:butt; stroke-linejoin:round; stroke-width:2; stroke-opacity:0.1; fill:none\" points=\"\n",
       "  2233.81,1423.18 2233.81,123.472 \n",
       "  \"/>\n",
       "<polyline clip-path=\"url(#clip960)\" style=\"stroke:#000000; stroke-linecap:butt; stroke-linejoin:round; stroke-width:4; stroke-opacity:1; fill:none\" points=\"\n",
       "  242.135,1423.18 2352.76,1423.18 \n",
       "  \"/>\n",
       "<polyline clip-path=\"url(#clip960)\" style=\"stroke:#000000; stroke-linecap:butt; stroke-linejoin:round; stroke-width:4; stroke-opacity:1; fill:none\" points=\"\n",
       "  402.488,1423.18 402.488,1404.28 \n",
       "  \"/>\n",
       "<polyline clip-path=\"url(#clip960)\" style=\"stroke:#000000; stroke-linecap:butt; stroke-linejoin:round; stroke-width:4; stroke-opacity:1; fill:none\" points=\"\n",
       "  860.319,1423.18 860.319,1404.28 \n",
       "  \"/>\n",
       "<polyline clip-path=\"url(#clip960)\" style=\"stroke:#000000; stroke-linecap:butt; stroke-linejoin:round; stroke-width:4; stroke-opacity:1; fill:none\" points=\"\n",
       "  1318.15,1423.18 1318.15,1404.28 \n",
       "  \"/>\n",
       "<polyline clip-path=\"url(#clip960)\" style=\"stroke:#000000; stroke-linecap:butt; stroke-linejoin:round; stroke-width:4; stroke-opacity:1; fill:none\" points=\"\n",
       "  1775.98,1423.18 1775.98,1404.28 \n",
       "  \"/>\n",
       "<polyline clip-path=\"url(#clip960)\" style=\"stroke:#000000; stroke-linecap:butt; stroke-linejoin:round; stroke-width:4; stroke-opacity:1; fill:none\" points=\"\n",
       "  2233.81,1423.18 2233.81,1404.28 \n",
       "  \"/>\n",
       "<path clip-path=\"url(#clip960)\" d=\"M406.735 1466.95 Q410.092 1467.66 411.967 1469.93 Q413.865 1472.2 413.865 1475.53 Q413.865 1480.65 410.347 1483.45 Q406.828 1486.25 400.347 1486.25 Q398.171 1486.25 395.856 1485.81 Q393.564 1485.39 391.111 1484.54 L391.111 1480.02 Q393.055 1481.16 395.37 1481.74 Q397.685 1482.32 400.208 1482.32 Q404.606 1482.32 406.897 1480.58 Q409.212 1478.84 409.212 1475.53 Q409.212 1472.48 407.06 1470.77 Q404.93 1469.03 401.11 1469.03 L397.083 1469.03 L397.083 1465.19 L401.296 1465.19 Q404.745 1465.19 406.573 1463.82 Q408.402 1462.43 408.402 1459.84 Q408.402 1457.18 406.504 1455.77 Q404.629 1454.33 401.11 1454.33 Q399.189 1454.33 396.99 1454.75 Q394.791 1455.16 392.152 1456.04 L392.152 1451.88 Q394.814 1451.14 397.129 1450.77 Q399.467 1450.39 401.527 1450.39 Q406.851 1450.39 409.953 1452.83 Q413.055 1455.23 413.055 1459.35 Q413.055 1462.22 411.411 1464.21 Q409.768 1466.18 406.735 1466.95 Z\" fill=\"#000000\" fill-rule=\"evenodd\" fill-opacity=\"1\" /><path clip-path=\"url(#clip960)\" d=\"M863.328 1455.09 L851.522 1473.54 L863.328 1473.54 L863.328 1455.09 M862.101 1451.02 L867.981 1451.02 L867.981 1473.54 L872.911 1473.54 L872.911 1477.43 L867.981 1477.43 L867.981 1485.58 L863.328 1485.58 L863.328 1477.43 L847.726 1477.43 L847.726 1472.92 L862.101 1451.02 Z\" fill=\"#000000\" fill-rule=\"evenodd\" fill-opacity=\"1\" /><path clip-path=\"url(#clip960)\" d=\"M1308.43 1451.02 L1326.78 1451.02 L1326.78 1454.96 L1312.71 1454.96 L1312.71 1463.43 Q1313.73 1463.08 1314.75 1462.92 Q1315.77 1462.73 1316.78 1462.73 Q1322.57 1462.73 1325.95 1465.9 Q1329.33 1469.08 1329.33 1474.49 Q1329.33 1480.07 1325.86 1483.17 Q1322.39 1486.25 1316.07 1486.25 Q1313.89 1486.25 1311.62 1485.88 Q1309.38 1485.51 1306.97 1484.77 L1306.97 1480.07 Q1309.05 1481.2 1311.27 1481.76 Q1313.5 1482.32 1315.97 1482.32 Q1319.98 1482.32 1322.32 1480.21 Q1324.65 1478.1 1324.65 1474.49 Q1324.65 1470.88 1322.32 1468.77 Q1319.98 1466.67 1315.97 1466.67 Q1314.1 1466.67 1312.22 1467.08 Q1310.37 1467.5 1308.43 1468.38 L1308.43 1451.02 Z\" fill=\"#000000\" fill-rule=\"evenodd\" fill-opacity=\"1\" /><path clip-path=\"url(#clip960)\" d=\"M1776.39 1466.44 Q1773.24 1466.44 1771.39 1468.59 Q1769.56 1470.74 1769.56 1474.49 Q1769.56 1478.22 1771.39 1480.39 Q1773.24 1482.55 1776.39 1482.55 Q1779.53 1482.55 1781.36 1480.39 Q1783.21 1478.22 1783.21 1474.49 Q1783.21 1470.74 1781.36 1468.59 Q1779.53 1466.44 1776.39 1466.44 M1785.67 1451.78 L1785.67 1456.04 Q1783.91 1455.21 1782.1 1454.77 Q1780.32 1454.33 1778.56 1454.33 Q1773.93 1454.33 1771.48 1457.45 Q1769.05 1460.58 1768.7 1466.9 Q1770.07 1464.89 1772.13 1463.82 Q1774.19 1462.73 1776.66 1462.73 Q1781.87 1462.73 1784.88 1465.9 Q1787.91 1469.05 1787.91 1474.49 Q1787.91 1479.82 1784.77 1483.03 Q1781.62 1486.25 1776.39 1486.25 Q1770.39 1486.25 1767.22 1481.67 Q1764.05 1477.06 1764.05 1468.33 Q1764.05 1460.14 1767.94 1455.28 Q1771.83 1450.39 1778.38 1450.39 Q1780.14 1450.39 1781.92 1450.74 Q1783.72 1451.09 1785.67 1451.78 Z\" fill=\"#000000\" fill-rule=\"evenodd\" fill-opacity=\"1\" /><path clip-path=\"url(#clip960)\" d=\"M2222.7 1451.02 L2244.92 1451.02 L2244.92 1453.01 L2232.38 1485.58 L2227.49 1485.58 L2239.3 1454.96 L2222.7 1454.96 L2222.7 1451.02 Z\" fill=\"#000000\" fill-rule=\"evenodd\" fill-opacity=\"1\" /><path clip-path=\"url(#clip960)\" d=\"M1070.76 1520.52 L1100.81 1520.52 L1100.81 1525.93 L1077.19 1525.93 L1077.19 1540 L1099.82 1540 L1099.82 1545.41 L1077.19 1545.41 L1077.19 1562.63 L1101.38 1562.63 L1101.38 1568.04 L1070.76 1568.04 L1070.76 1520.52 Z\" fill=\"#000000\" fill-rule=\"evenodd\" fill-opacity=\"1\" /><path clip-path=\"url(#clip960)\" d=\"M1141.33 1532.4 L1128.44 1549.74 L1141.99 1568.04 L1135.09 1568.04 L1124.71 1554.04 L1114.34 1568.04 L1107.43 1568.04 L1121.27 1549.39 L1108.61 1532.4 L1115.51 1532.4 L1124.97 1545.1 L1134.42 1532.4 L1141.33 1532.4 Z\" fill=\"#000000\" fill-rule=\"evenodd\" fill-opacity=\"1\" /><path clip-path=\"url(#clip960)\" d=\"M1155.94 1562.7 L1155.94 1581.6 L1150.05 1581.6 L1150.05 1532.4 L1155.94 1532.4 L1155.94 1537.81 Q1157.78 1534.62 1160.58 1533.1 Q1163.42 1531.54 1167.33 1531.54 Q1173.82 1531.54 1177.87 1536.69 Q1181.94 1541.85 1181.94 1550.25 Q1181.94 1558.65 1177.87 1563.81 Q1173.82 1568.97 1167.33 1568.97 Q1163.42 1568.97 1160.58 1567.44 Q1157.78 1565.88 1155.94 1562.7 M1175.86 1550.25 Q1175.86 1543.79 1173.19 1540.13 Q1170.54 1536.44 1165.9 1536.44 Q1161.25 1536.44 1158.58 1540.13 Q1155.94 1543.79 1155.94 1550.25 Q1155.94 1556.71 1158.58 1560.4 Q1161.25 1564.07 1165.9 1564.07 Q1170.54 1564.07 1173.19 1560.4 Q1175.86 1556.71 1175.86 1550.25 Z\" fill=\"#000000\" fill-rule=\"evenodd\" fill-opacity=\"1\" /><path clip-path=\"url(#clip960)\" d=\"M1222.14 1548.76 L1222.14 1551.62 L1195.21 1551.62 Q1195.59 1557.67 1198.84 1560.85 Q1202.12 1564 1207.94 1564 Q1211.32 1564 1214.47 1563.17 Q1217.65 1562.35 1220.77 1560.69 L1220.77 1566.23 Q1217.62 1567.57 1214.31 1568.27 Q1211 1568.97 1207.59 1568.97 Q1199.06 1568.97 1194.07 1564 Q1189.1 1559.04 1189.1 1550.57 Q1189.1 1541.82 1193.81 1536.69 Q1198.55 1531.54 1206.57 1531.54 Q1213.77 1531.54 1217.94 1536.18 Q1222.14 1540.8 1222.14 1548.76 M1216.28 1547.04 Q1216.22 1542.23 1213.58 1539.37 Q1210.97 1536.5 1206.64 1536.5 Q1201.74 1536.5 1198.78 1539.27 Q1195.85 1542.04 1195.4 1547.07 L1216.28 1547.04 Z\" fill=\"#000000\" fill-rule=\"evenodd\" fill-opacity=\"1\" /><path clip-path=\"url(#clip960)\" d=\"M1257.4 1533.76 L1257.4 1539.24 Q1254.92 1537.87 1252.41 1537.2 Q1249.93 1536.5 1247.38 1536.5 Q1241.68 1536.5 1238.53 1540.13 Q1235.38 1543.73 1235.38 1550.25 Q1235.38 1556.78 1238.53 1560.4 Q1241.68 1564 1247.38 1564 Q1249.93 1564 1252.41 1563.33 Q1254.92 1562.63 1257.4 1561.26 L1257.4 1566.68 Q1254.95 1567.82 1252.31 1568.39 Q1249.7 1568.97 1246.74 1568.97 Q1238.69 1568.97 1233.95 1563.91 Q1229.2 1558.85 1229.2 1550.25 Q1229.2 1541.53 1233.98 1536.53 Q1238.79 1531.54 1247.12 1531.54 Q1249.83 1531.54 1252.41 1532.11 Q1254.99 1532.65 1257.4 1533.76 Z\" fill=\"#000000\" fill-rule=\"evenodd\" fill-opacity=\"1\" /><path clip-path=\"url(#clip960)\" d=\"M1273.38 1522.27 L1273.38 1532.4 L1285.45 1532.4 L1285.45 1536.95 L1273.38 1536.95 L1273.38 1556.3 Q1273.38 1560.66 1274.56 1561.9 Q1275.77 1563.14 1279.43 1563.14 L1285.45 1563.14 L1285.45 1568.04 L1279.43 1568.04 Q1272.65 1568.04 1270.07 1565.53 Q1267.49 1562.98 1267.49 1556.3 L1267.49 1536.95 L1263.2 1536.95 L1263.2 1532.4 L1267.49 1532.4 L1267.49 1522.27 L1273.38 1522.27 Z\" fill=\"#000000\" fill-rule=\"evenodd\" fill-opacity=\"1\" /><path clip-path=\"url(#clip960)\" d=\"M1323.64 1548.76 L1323.64 1551.62 L1296.71 1551.62 Q1297.1 1557.67 1300.34 1560.85 Q1303.62 1564 1309.44 1564 Q1312.82 1564 1315.97 1563.17 Q1319.15 1562.35 1322.27 1560.69 L1322.27 1566.23 Q1319.12 1567.57 1315.81 1568.27 Q1312.5 1568.97 1309.09 1568.97 Q1300.56 1568.97 1295.57 1564 Q1290.6 1559.04 1290.6 1550.57 Q1290.6 1541.82 1295.31 1536.69 Q1300.06 1531.54 1308.08 1531.54 Q1315.27 1531.54 1319.44 1536.18 Q1323.64 1540.8 1323.64 1548.76 M1317.78 1547.04 Q1317.72 1542.23 1315.08 1539.37 Q1312.47 1536.5 1308.14 1536.5 Q1303.24 1536.5 1300.28 1539.27 Q1297.35 1542.04 1296.9 1547.07 L1317.78 1547.04 Z\" fill=\"#000000\" fill-rule=\"evenodd\" fill-opacity=\"1\" /><path clip-path=\"url(#clip960)\" d=\"M1356.71 1537.81 L1356.71 1518.52 L1362.57 1518.52 L1362.57 1568.04 L1356.71 1568.04 L1356.71 1562.7 Q1354.86 1565.88 1352.03 1567.44 Q1349.23 1568.97 1345.28 1568.97 Q1338.82 1568.97 1334.75 1563.81 Q1330.71 1558.65 1330.71 1550.25 Q1330.71 1541.85 1334.75 1536.69 Q1338.82 1531.54 1345.28 1531.54 Q1349.23 1531.54 1352.03 1533.1 Q1354.86 1534.62 1356.71 1537.81 M1336.75 1550.25 Q1336.75 1556.71 1339.4 1560.4 Q1342.07 1564.07 1346.72 1564.07 Q1351.36 1564.07 1354.04 1560.4 Q1356.71 1556.71 1356.71 1550.25 Q1356.71 1543.79 1354.04 1540.13 Q1351.36 1536.44 1346.72 1536.44 Q1342.07 1536.44 1339.4 1540.13 Q1336.75 1543.79 1336.75 1550.25 Z\" fill=\"#000000\" fill-rule=\"evenodd\" fill-opacity=\"1\" /><path clip-path=\"url(#clip960)\" d=\"M1418.14 1545.76 Q1420.21 1546.46 1422.15 1548.76 Q1424.12 1551.05 1426.1 1555.06 L1432.62 1568.04 L1425.71 1568.04 L1419.64 1555.85 Q1417.28 1551.08 1415.05 1549.52 Q1412.86 1547.96 1409.04 1547.96 L1402.03 1547.96 L1402.03 1568.04 L1395.6 1568.04 L1395.6 1520.52 L1410.12 1520.52 Q1418.27 1520.52 1422.28 1523.93 Q1426.29 1527.34 1426.29 1534.21 Q1426.29 1538.7 1424.19 1541.66 Q1422.12 1544.62 1418.14 1545.76 M1402.03 1525.81 L1402.03 1542.68 L1410.12 1542.68 Q1414.77 1542.68 1417.12 1540.54 Q1419.51 1538.38 1419.51 1534.21 Q1419.51 1530.04 1417.12 1527.94 Q1414.77 1525.81 1410.12 1525.81 L1402.03 1525.81 Z\" fill=\"#000000\" fill-rule=\"evenodd\" fill-opacity=\"1\" /><path clip-path=\"url(#clip960)\" d=\"M1440.64 1532.4 L1446.5 1532.4 L1446.5 1568.04 L1440.64 1568.04 L1440.64 1532.4 M1440.64 1518.52 L1446.5 1518.52 L1446.5 1525.93 L1440.64 1525.93 L1440.64 1518.52 Z\" fill=\"#000000\" fill-rule=\"evenodd\" fill-opacity=\"1\" /><path clip-path=\"url(#clip960)\" d=\"M1481.48 1533.45 L1481.48 1538.98 Q1479 1537.71 1476.32 1537.07 Q1473.65 1536.44 1470.78 1536.44 Q1466.42 1536.44 1464.23 1537.77 Q1462.06 1539.11 1462.06 1541.79 Q1462.06 1543.82 1463.62 1545 Q1465.18 1546.15 1469.89 1547.2 L1471.9 1547.64 Q1478.14 1548.98 1480.75 1551.43 Q1483.39 1553.85 1483.39 1558.21 Q1483.39 1563.17 1479.44 1566.07 Q1475.53 1568.97 1468.65 1568.97 Q1465.79 1568.97 1462.67 1568.39 Q1459.58 1567.85 1456.14 1566.74 L1456.14 1560.69 Q1459.39 1562.38 1462.54 1563.24 Q1465.69 1564.07 1468.78 1564.07 Q1472.92 1564.07 1475.14 1562.66 Q1477.37 1561.23 1477.37 1558.65 Q1477.37 1556.27 1475.75 1554.99 Q1474.16 1553.72 1468.71 1552.54 L1466.68 1552.07 Q1461.23 1550.92 1458.82 1548.56 Q1456.4 1546.18 1456.4 1542.04 Q1456.4 1537.01 1459.96 1534.27 Q1463.53 1531.54 1470.08 1531.54 Q1473.33 1531.54 1476.19 1532.01 Q1479.06 1532.49 1481.48 1533.45 Z\" fill=\"#000000\" fill-rule=\"evenodd\" fill-opacity=\"1\" /><path clip-path=\"url(#clip960)\" d=\"M1492.49 1518.52 L1498.38 1518.52 L1498.38 1547.77 L1515.85 1532.4 L1523.33 1532.4 L1504.43 1549.07 L1524.13 1568.04 L1516.49 1568.04 L1498.38 1550.63 L1498.38 1568.04 L1492.49 1568.04 L1492.49 1518.52 Z\" fill=\"#000000\" fill-rule=\"evenodd\" fill-opacity=\"1\" /><polyline clip-path=\"url(#clip962)\" style=\"stroke:#000000; stroke-linecap:butt; stroke-linejoin:round; stroke-width:2; stroke-opacity:0.1; fill:none\" points=\"\n",
       "  242.135,1418.81 2352.76,1418.81 \n",
       "  \"/>\n",
       "<polyline clip-path=\"url(#clip962)\" style=\"stroke:#000000; stroke-linecap:butt; stroke-linejoin:round; stroke-width:2; stroke-opacity:0.1; fill:none\" points=\"\n",
       "  242.135,1140.8 2352.76,1140.8 \n",
       "  \"/>\n",
       "<polyline clip-path=\"url(#clip962)\" style=\"stroke:#000000; stroke-linecap:butt; stroke-linejoin:round; stroke-width:2; stroke-opacity:0.1; fill:none\" points=\"\n",
       "  242.135,862.79 2352.76,862.79 \n",
       "  \"/>\n",
       "<polyline clip-path=\"url(#clip962)\" style=\"stroke:#000000; stroke-linecap:butt; stroke-linejoin:round; stroke-width:2; stroke-opacity:0.1; fill:none\" points=\"\n",
       "  242.135,584.782 2352.76,584.782 \n",
       "  \"/>\n",
       "<polyline clip-path=\"url(#clip962)\" style=\"stroke:#000000; stroke-linecap:butt; stroke-linejoin:round; stroke-width:2; stroke-opacity:0.1; fill:none\" points=\"\n",
       "  242.135,306.774 2352.76,306.774 \n",
       "  \"/>\n",
       "<polyline clip-path=\"url(#clip960)\" style=\"stroke:#000000; stroke-linecap:butt; stroke-linejoin:round; stroke-width:4; stroke-opacity:1; fill:none\" points=\"\n",
       "  242.135,1423.18 242.135,123.472 \n",
       "  \"/>\n",
       "<polyline clip-path=\"url(#clip960)\" style=\"stroke:#000000; stroke-linecap:butt; stroke-linejoin:round; stroke-width:4; stroke-opacity:1; fill:none\" points=\"\n",
       "  242.135,1418.81 261.032,1418.81 \n",
       "  \"/>\n",
       "<polyline clip-path=\"url(#clip960)\" style=\"stroke:#000000; stroke-linecap:butt; stroke-linejoin:round; stroke-width:4; stroke-opacity:1; fill:none\" points=\"\n",
       "  242.135,1140.8 261.032,1140.8 \n",
       "  \"/>\n",
       "<polyline clip-path=\"url(#clip960)\" style=\"stroke:#000000; stroke-linecap:butt; stroke-linejoin:round; stroke-width:4; stroke-opacity:1; fill:none\" points=\"\n",
       "  242.135,862.79 261.032,862.79 \n",
       "  \"/>\n",
       "<polyline clip-path=\"url(#clip960)\" style=\"stroke:#000000; stroke-linecap:butt; stroke-linejoin:round; stroke-width:4; stroke-opacity:1; fill:none\" points=\"\n",
       "  242.135,584.782 261.032,584.782 \n",
       "  \"/>\n",
       "<polyline clip-path=\"url(#clip960)\" style=\"stroke:#000000; stroke-linecap:butt; stroke-linejoin:round; stroke-width:4; stroke-opacity:1; fill:none\" points=\"\n",
       "  242.135,306.774 261.032,306.774 \n",
       "  \"/>\n",
       "<path clip-path=\"url(#clip960)\" d=\"M114.26 1419.26 L143.936 1419.26 L143.936 1423.19 L114.26 1423.19 L114.26 1419.26 Z\" fill=\"#000000\" fill-rule=\"evenodd\" fill-opacity=\"1\" /><path clip-path=\"url(#clip960)\" d=\"M154.075 1401.53 L172.431 1401.53 L172.431 1405.46 L158.357 1405.46 L158.357 1413.93 Q159.376 1413.59 160.394 1413.42 Q161.413 1413.24 162.431 1413.24 Q168.218 1413.24 171.598 1416.41 Q174.977 1419.58 174.977 1425 Q174.977 1430.58 171.505 1433.68 Q168.033 1436.76 161.714 1436.76 Q159.538 1436.76 157.269 1436.39 Q155.024 1436.02 152.616 1435.28 L152.616 1430.58 Q154.7 1431.71 156.922 1432.27 Q159.144 1432.82 161.621 1432.82 Q165.626 1432.82 167.964 1430.72 Q170.302 1428.61 170.302 1425 Q170.302 1421.39 167.964 1419.28 Q165.626 1417.17 161.621 1417.17 Q159.746 1417.17 157.871 1417.59 Q156.019 1418.01 154.075 1418.89 L154.075 1401.53 Z\" fill=\"#000000\" fill-rule=\"evenodd\" fill-opacity=\"1\" /><path clip-path=\"url(#clip960)\" d=\"M194.19 1404.6 Q190.579 1404.6 188.75 1408.17 Q186.945 1411.71 186.945 1418.84 Q186.945 1425.95 188.75 1429.51 Q190.579 1433.05 194.19 1433.05 Q197.825 1433.05 199.63 1429.51 Q201.459 1425.95 201.459 1418.84 Q201.459 1411.71 199.63 1408.17 Q197.825 1404.6 194.19 1404.6 M194.19 1400.9 Q200 1400.9 203.056 1405.51 Q206.135 1410.09 206.135 1418.84 Q206.135 1427.57 203.056 1432.17 Q200 1436.76 194.19 1436.76 Q188.38 1436.76 185.301 1432.17 Q182.246 1427.57 182.246 1418.84 Q182.246 1410.09 185.301 1405.51 Q188.38 1400.9 194.19 1400.9 Z\" fill=\"#000000\" fill-rule=\"evenodd\" fill-opacity=\"1\" /><path clip-path=\"url(#clip960)\" d=\"M115.256 1141.25 L144.931 1141.25 L144.931 1145.18 L115.256 1145.18 L115.256 1141.25 Z\" fill=\"#000000\" fill-rule=\"evenodd\" fill-opacity=\"1\" /><path clip-path=\"url(#clip960)\" d=\"M159.052 1154.14 L175.371 1154.14 L175.371 1158.08 L153.427 1158.08 L153.427 1154.14 Q156.089 1151.39 160.672 1146.76 Q165.278 1142.11 166.459 1140.76 Q168.704 1138.24 169.584 1136.5 Q170.487 1134.74 170.487 1133.05 Q170.487 1130.3 168.542 1128.56 Q166.621 1126.83 163.519 1126.83 Q161.32 1126.83 158.866 1127.59 Q156.436 1128.36 153.658 1129.91 L153.658 1125.18 Q156.482 1124.05 158.936 1123.47 Q161.39 1122.89 163.427 1122.89 Q168.797 1122.89 171.991 1125.58 Q175.186 1128.26 175.186 1132.75 Q175.186 1134.88 174.376 1136.8 Q173.589 1138.7 171.482 1141.3 Q170.903 1141.97 167.802 1145.18 Q164.7 1148.38 159.052 1154.14 Z\" fill=\"#000000\" fill-rule=\"evenodd\" fill-opacity=\"1\" /><path clip-path=\"url(#clip960)\" d=\"M185.232 1123.52 L203.588 1123.52 L203.588 1127.45 L189.514 1127.45 L189.514 1135.93 Q190.533 1135.58 191.551 1135.42 Q192.57 1135.23 193.588 1135.23 Q199.375 1135.23 202.755 1138.4 Q206.135 1141.57 206.135 1146.99 Q206.135 1152.57 202.662 1155.67 Q199.19 1158.75 192.871 1158.75 Q190.695 1158.75 188.426 1158.38 Q186.181 1158.01 183.774 1157.27 L183.774 1152.57 Q185.857 1153.7 188.079 1154.26 Q190.301 1154.81 192.778 1154.81 Q196.783 1154.81 199.121 1152.71 Q201.459 1150.6 201.459 1146.99 Q201.459 1143.38 199.121 1141.27 Q196.783 1139.17 192.778 1139.17 Q190.903 1139.17 189.028 1139.58 Q187.176 1140 185.232 1140.88 L185.232 1123.52 Z\" fill=\"#000000\" fill-rule=\"evenodd\" fill-opacity=\"1\" /><path clip-path=\"url(#clip960)\" d=\"M194.19 848.588 Q190.579 848.588 188.75 852.153 Q186.945 855.695 186.945 862.825 Q186.945 869.931 188.75 873.496 Q190.579 877.037 194.19 877.037 Q197.825 877.037 199.63 873.496 Q201.459 869.931 201.459 862.825 Q201.459 855.695 199.63 852.153 Q197.825 848.588 194.19 848.588 M194.19 844.885 Q200 844.885 203.056 849.491 Q206.135 854.075 206.135 862.825 Q206.135 871.551 203.056 876.158 Q200 880.741 194.19 880.741 Q188.38 880.741 185.301 876.158 Q182.246 871.551 182.246 862.825 Q182.246 854.075 185.301 849.491 Q188.38 844.885 194.19 844.885 Z\" fill=\"#000000\" fill-rule=\"evenodd\" fill-opacity=\"1\" /><path clip-path=\"url(#clip960)\" d=\"M159.052 598.127 L175.371 598.127 L175.371 602.062 L153.427 602.062 L153.427 598.127 Q156.089 595.372 160.672 590.742 Q165.278 586.09 166.459 584.747 Q168.704 582.224 169.584 580.488 Q170.487 578.729 170.487 577.039 Q170.487 574.284 168.542 572.548 Q166.621 570.812 163.519 570.812 Q161.32 570.812 158.866 571.576 Q156.436 572.34 153.658 573.891 L153.658 569.168 Q156.482 568.034 158.936 567.456 Q161.39 566.877 163.427 566.877 Q168.797 566.877 171.991 569.562 Q175.186 572.247 175.186 576.738 Q175.186 578.868 174.376 580.789 Q173.589 582.687 171.482 585.28 Q170.903 585.951 167.802 589.168 Q164.7 592.363 159.052 598.127 Z\" fill=\"#000000\" fill-rule=\"evenodd\" fill-opacity=\"1\" /><path clip-path=\"url(#clip960)\" d=\"M185.232 567.502 L203.588 567.502 L203.588 571.437 L189.514 571.437 L189.514 579.909 Q190.533 579.562 191.551 579.4 Q192.57 579.215 193.588 579.215 Q199.375 579.215 202.755 582.386 Q206.135 585.557 206.135 590.974 Q206.135 596.553 202.662 599.654 Q199.19 602.733 192.871 602.733 Q190.695 602.733 188.426 602.363 Q186.181 601.992 183.774 601.252 L183.774 596.553 Q185.857 597.687 188.079 598.242 Q190.301 598.798 192.778 598.798 Q196.783 598.798 199.121 596.691 Q201.459 594.585 201.459 590.974 Q201.459 587.363 199.121 585.256 Q196.783 583.15 192.778 583.15 Q190.903 583.15 189.028 583.567 Q187.176 583.983 185.232 584.863 L185.232 567.502 Z\" fill=\"#000000\" fill-rule=\"evenodd\" fill-opacity=\"1\" /><path clip-path=\"url(#clip960)\" d=\"M154.075 289.494 L172.431 289.494 L172.431 293.429 L158.357 293.429 L158.357 301.901 Q159.376 301.554 160.394 301.392 Q161.413 301.207 162.431 301.207 Q168.218 301.207 171.598 304.378 Q174.977 307.549 174.977 312.966 Q174.977 318.545 171.505 321.646 Q168.033 324.725 161.714 324.725 Q159.538 324.725 157.269 324.355 Q155.024 323.984 152.616 323.244 L152.616 318.545 Q154.7 319.679 156.922 320.234 Q159.144 320.79 161.621 320.79 Q165.626 320.79 167.964 318.684 Q170.302 316.577 170.302 312.966 Q170.302 309.355 167.964 307.248 Q165.626 305.142 161.621 305.142 Q159.746 305.142 157.871 305.559 Q156.019 305.975 154.075 306.855 L154.075 289.494 Z\" fill=\"#000000\" fill-rule=\"evenodd\" fill-opacity=\"1\" /><path clip-path=\"url(#clip960)\" d=\"M194.19 292.573 Q190.579 292.573 188.75 296.137 Q186.945 299.679 186.945 306.809 Q186.945 313.915 188.75 317.48 Q190.579 321.021 194.19 321.021 Q197.825 321.021 199.63 317.48 Q201.459 313.915 201.459 306.809 Q201.459 299.679 199.63 296.137 Q197.825 292.573 194.19 292.573 M194.19 288.869 Q200 288.869 203.056 293.475 Q206.135 298.059 206.135 306.809 Q206.135 315.535 203.056 320.142 Q200 324.725 194.19 324.725 Q188.38 324.725 185.301 320.142 Q182.246 315.535 182.246 306.809 Q182.246 298.059 185.301 293.475 Q188.38 288.869 194.19 288.869 Z\" fill=\"#000000\" fill-rule=\"evenodd\" fill-opacity=\"1\" /><path clip-path=\"url(#clip960)\" d=\"M16.4842 1037.93 L16.4842 1007.89 L21.895 1007.89 L21.895 1031.5 L35.9632 1031.5 L35.9632 1008.87 L41.3741 1008.87 L41.3741 1031.5 L58.5933 1031.5 L58.5933 1007.31 L64.0042 1007.31 L64.0042 1037.93 L16.4842 1037.93 Z\" fill=\"#000000\" fill-rule=\"evenodd\" fill-opacity=\"1\" /><path clip-path=\"url(#clip960)\" d=\"M28.3562 967.369 L45.7028 980.259 L64.0042 966.7 L64.0042 973.607 L49.9996 983.983 L64.0042 994.359 L64.0042 1001.27 L45.3526 987.421 L28.3562 1000.09 L28.3562 993.182 L41.0558 983.729 L28.3562 974.275 L28.3562 967.369 Z\" fill=\"#000000\" fill-rule=\"evenodd\" fill-opacity=\"1\" /><path clip-path=\"url(#clip960)\" d=\"M58.657 952.759 L77.5631 952.759 L77.5631 958.648 L28.3562 958.648 L28.3562 952.759 L33.7671 952.759 Q30.5842 950.913 29.0564 948.112 Q27.4968 945.28 27.4968 941.365 Q27.4968 934.872 32.6531 930.829 Q37.8093 926.755 46.212 926.755 Q54.6147 926.755 59.771 930.829 Q64.9272 934.872 64.9272 941.365 Q64.9272 945.28 63.3994 948.112 Q61.8398 950.913 58.657 952.759 M46.212 932.835 Q39.7508 932.835 36.0905 935.508 Q32.3984 938.15 32.3984 942.797 Q32.3984 947.444 36.0905 950.118 Q39.7508 952.759 46.212 952.759 Q52.6732 952.759 56.3653 950.118 Q60.0256 947.444 60.0256 942.797 Q60.0256 938.15 56.3653 935.508 Q52.6732 932.835 46.212 932.835 Z\" fill=\"#000000\" fill-rule=\"evenodd\" fill-opacity=\"1\" /><path clip-path=\"url(#clip960)\" d=\"M44.7161 886.556 L47.5806 886.556 L47.5806 913.483 Q53.6281 913.101 56.8109 909.854 Q59.9619 906.576 59.9619 900.752 Q59.9619 897.378 59.1344 894.227 Q58.3069 891.044 56.6518 887.925 L62.1899 887.925 Q63.5267 891.076 64.227 894.386 Q64.9272 897.696 64.9272 901.102 Q64.9272 909.632 59.9619 914.629 Q54.9967 919.594 46.5303 919.594 Q37.7774 919.594 32.6531 914.883 Q27.4968 910.141 27.4968 902.12 Q27.4968 894.927 32.1438 890.757 Q36.7589 886.556 44.7161 886.556 M42.9973 892.412 Q38.1912 892.476 35.3266 895.118 Q32.4621 897.728 32.4621 902.056 Q32.4621 906.958 35.2312 909.918 Q38.0002 912.846 43.0292 913.292 L42.9973 892.412 Z\" fill=\"#000000\" fill-rule=\"evenodd\" fill-opacity=\"1\" /><path clip-path=\"url(#clip960)\" d=\"M29.7248 851.29 L35.1993 851.29 Q33.8307 853.773 33.1623 856.287 Q32.4621 858.77 32.4621 861.316 Q32.4621 867.013 36.0905 870.164 Q39.6872 873.315 46.212 873.315 Q52.7369 873.315 56.3653 870.164 Q59.9619 867.013 59.9619 861.316 Q59.9619 858.77 59.2935 856.287 Q58.5933 853.773 57.2247 851.29 L62.6355 851.29 Q63.7814 853.741 64.3543 856.383 Q64.9272 858.992 64.9272 861.953 Q64.9272 870.005 59.8664 874.748 Q54.8057 879.49 46.212 879.49 Q37.491 879.49 32.4939 874.716 Q27.4968 869.91 27.4968 861.571 Q27.4968 858.865 28.0697 856.287 Q28.6108 853.709 29.7248 851.29 Z\" fill=\"#000000\" fill-rule=\"evenodd\" fill-opacity=\"1\" /><path clip-path=\"url(#clip960)\" d=\"M18.2347 835.312 L28.3562 835.312 L28.3562 823.249 L32.9077 823.249 L32.9077 835.312 L52.2594 835.312 Q56.6199 835.312 57.8613 834.134 Q59.1026 832.925 59.1026 829.265 L59.1026 823.249 L64.0042 823.249 L64.0042 829.265 Q64.0042 836.044 61.4897 838.622 Q58.9434 841.2 52.2594 841.2 L32.9077 841.2 L32.9077 845.497 L28.3562 845.497 L28.3562 841.2 L18.2347 841.2 L18.2347 835.312 Z\" fill=\"#000000\" fill-rule=\"evenodd\" fill-opacity=\"1\" /><path clip-path=\"url(#clip960)\" d=\"M44.7161 785.055 L47.5806 785.055 L47.5806 811.982 Q53.6281 811.6 56.8109 808.353 Q59.9619 805.075 59.9619 799.25 Q59.9619 795.876 59.1344 792.725 Q58.3069 789.543 56.6518 786.423 L62.1899 786.423 Q63.5267 789.574 64.227 792.885 Q64.9272 796.195 64.9272 799.6 Q64.9272 808.13 59.9619 813.128 Q54.9967 818.093 46.5303 818.093 Q37.7774 818.093 32.6531 813.382 Q27.4968 808.64 27.4968 800.619 Q27.4968 793.426 32.1438 789.256 Q36.7589 785.055 44.7161 785.055 M42.9973 790.911 Q38.1912 790.975 35.3266 793.617 Q32.4621 796.227 32.4621 800.555 Q32.4621 805.457 35.2312 808.417 Q38.0002 811.345 43.0292 811.791 L42.9973 790.911 Z\" fill=\"#000000\" fill-rule=\"evenodd\" fill-opacity=\"1\" /><path clip-path=\"url(#clip960)\" d=\"M33.7671 751.985 L14.479 751.985 L14.479 746.129 L64.0042 746.129 L64.0042 751.985 L58.657 751.985 Q61.8398 753.831 63.3994 756.664 Q64.9272 759.465 64.9272 763.411 Q64.9272 769.873 59.771 773.947 Q54.6147 777.989 46.212 777.989 Q37.8093 777.989 32.6531 773.947 Q27.4968 769.873 27.4968 763.411 Q27.4968 759.465 29.0564 756.664 Q30.5842 753.831 33.7671 751.985 M46.212 771.941 Q52.6732 771.941 56.3653 769.3 Q60.0256 766.626 60.0256 761.979 Q60.0256 757.332 56.3653 754.659 Q52.6732 751.985 46.212 751.985 Q39.7508 751.985 36.0905 754.659 Q32.3984 757.332 32.3984 761.979 Q32.3984 766.626 36.0905 769.3 Q39.7508 771.941 46.212 771.941 Z\" fill=\"#000000\" fill-rule=\"evenodd\" fill-opacity=\"1\" /><path clip-path=\"url(#clip960)\" d=\"M41.7242 690.556 Q42.4244 688.487 44.7161 686.545 Q47.0077 684.572 51.0181 682.599 L64.0042 676.074 L64.0042 682.981 L51.8138 689.06 Q47.0395 691.415 45.48 693.643 Q43.9204 695.839 43.9204 699.659 L43.9204 706.661 L64.0042 706.661 L64.0042 713.09 L16.4842 713.09 L16.4842 698.577 Q16.4842 690.429 19.8898 686.418 Q23.2955 682.408 30.1704 682.408 Q34.6582 682.408 37.6183 684.508 Q40.5784 686.577 41.7242 690.556 M21.7677 706.661 L38.6368 706.661 L38.6368 698.577 Q38.6368 693.93 36.5043 691.574 Q34.34 689.187 30.1704 689.187 Q26.0009 689.187 23.9002 691.574 Q21.7677 693.93 21.7677 698.577 L21.7677 706.661 Z\" fill=\"#000000\" fill-rule=\"evenodd\" fill-opacity=\"1\" /><path clip-path=\"url(#clip960)\" d=\"M44.7161 640.49 L47.5806 640.49 L47.5806 667.417 Q53.6281 667.035 56.8109 663.788 Q59.9619 660.51 59.9619 654.685 Q59.9619 651.311 59.1344 648.16 Q58.3069 644.977 56.6518 641.858 L62.1899 641.858 Q63.5267 645.009 64.227 648.319 Q64.9272 651.63 64.9272 655.035 Q64.9272 663.565 59.9619 668.562 Q54.9967 673.528 46.5303 673.528 Q37.7774 673.528 32.6531 668.817 Q27.4968 664.075 27.4968 656.054 Q27.4968 648.861 32.1438 644.691 Q36.7589 640.49 44.7161 640.49 M42.9973 646.346 Q38.1912 646.41 35.3266 649.051 Q32.4621 651.661 32.4621 655.99 Q32.4621 660.892 35.2312 663.852 Q38.0002 666.78 43.0292 667.226 L42.9973 646.346 Z\" fill=\"#000000\" fill-rule=\"evenodd\" fill-opacity=\"1\" /><path clip-path=\"url(#clip960)\" d=\"M18.2347 625.085 L28.3562 625.085 L28.3562 613.022 L32.9077 613.022 L32.9077 625.085 L52.2594 625.085 Q56.6199 625.085 57.8613 623.907 Q59.1026 622.697 59.1026 619.037 L59.1026 613.022 L64.0042 613.022 L64.0042 619.037 Q64.0042 625.817 61.4897 628.395 Q58.9434 630.973 52.2594 630.973 L32.9077 630.973 L32.9077 635.27 L28.3562 635.27 L28.3562 630.973 L18.2347 630.973 L18.2347 625.085 Z\" fill=\"#000000\" fill-rule=\"evenodd\" fill-opacity=\"1\" /><path clip-path=\"url(#clip960)\" d=\"M49.9359 605.924 L28.3562 605.924 L28.3562 600.067 L49.7131 600.067 Q54.7739 600.067 57.3202 598.094 Q59.8346 596.121 59.8346 592.174 Q59.8346 587.431 56.8109 584.694 Q53.7872 581.925 48.5673 581.925 L28.3562 581.925 L28.3562 576.069 L64.0042 576.069 L64.0042 581.925 L58.5296 581.925 Q61.7762 584.058 63.3676 586.89 Q64.9272 589.691 64.9272 593.415 Q64.9272 599.558 61.1078 602.741 Q57.2883 605.924 49.9359 605.924 M27.4968 591.187 L27.4968 591.187 Z\" fill=\"#000000\" fill-rule=\"evenodd\" fill-opacity=\"1\" /><path clip-path=\"url(#clip960)\" d=\"M33.8307 543.349 Q33.2578 544.336 33.0032 545.513 Q32.7167 546.659 32.7167 548.06 Q32.7167 553.025 35.9632 555.698 Q39.1779 558.34 45.2253 558.34 L64.0042 558.34 L64.0042 564.228 L28.3562 564.228 L28.3562 558.34 L33.8944 558.34 Q30.6479 556.494 29.0883 553.534 Q27.4968 550.574 27.4968 546.341 Q27.4968 545.736 27.5923 545.004 Q27.656 544.272 27.8151 543.381 L33.8307 543.349 Z\" fill=\"#000000\" fill-rule=\"evenodd\" fill-opacity=\"1\" /><path clip-path=\"url(#clip960)\" d=\"M42.4881 508.719 L64.0042 508.719 L64.0042 514.576 L42.679 514.576 Q37.6183 514.576 35.1038 516.549 Q32.5894 518.523 32.5894 522.469 Q32.5894 527.212 35.6131 529.949 Q38.6368 532.686 43.8567 532.686 L64.0042 532.686 L64.0042 538.575 L28.3562 538.575 L28.3562 532.686 L33.8944 532.686 Q30.6797 530.586 29.0883 527.753 Q27.4968 524.888 27.4968 521.164 Q27.4968 515.022 31.3163 511.87 Q35.1038 508.719 42.4881 508.719 Z\" fill=\"#000000\" fill-rule=\"evenodd\" fill-opacity=\"1\" /><path clip-path=\"url(#clip960)\" d=\"M959.964 12.096 L998.205 12.096 L998.205 18.9825 L968.147 18.9825 L968.147 36.8875 L996.949 36.8875 L996.949 43.7741 L968.147 43.7741 L968.147 65.6895 L998.934 65.6895 L998.934 72.576 L959.964 72.576 L959.964 12.096 Z\" fill=\"#000000\" fill-rule=\"evenodd\" fill-opacity=\"1\" /><path clip-path=\"url(#clip960)\" d=\"M1035.03 9.54393 L1035.03 15.7418 L1027.9 15.7418 Q1023.89 15.7418 1022.31 17.3622 Q1020.77 18.9825 1020.77 23.1955 L1020.77 27.2059 L1033.04 27.2059 L1033.04 32.9987 L1020.77 32.9987 L1020.77 72.576 L1013.27 72.576 L1013.27 32.9987 L1006.14 32.9987 L1006.14 27.2059 L1013.27 27.2059 L1013.27 24.0462 Q1013.27 16.471 1016.8 13.0277 Q1020.32 9.54393 1027.98 9.54393 L1035.03 9.54393 Z\" fill=\"#000000\" fill-rule=\"evenodd\" fill-opacity=\"1\" /><path clip-path=\"url(#clip960)\" d=\"M1064.23 9.54393 L1064.23 15.7418 L1057.11 15.7418 Q1053.09 15.7418 1051.51 17.3622 Q1049.98 18.9825 1049.98 23.1955 L1049.98 27.2059 L1062.25 27.2059 L1062.25 32.9987 L1049.98 32.9987 L1049.98 72.576 L1042.48 72.576 L1042.48 32.9987 L1035.35 32.9987 L1035.35 27.2059 L1042.48 27.2059 L1042.48 24.0462 Q1042.48 16.471 1046.01 13.0277 Q1049.53 9.54393 1057.19 9.54393 L1064.23 9.54393 Z\" fill=\"#000000\" fill-rule=\"evenodd\" fill-opacity=\"1\" /><path clip-path=\"url(#clip960)\" d=\"M1070.47 27.2059 L1077.93 27.2059 L1077.93 72.576 L1070.47 72.576 L1070.47 27.2059 M1070.47 9.54393 L1077.93 9.54393 L1077.93 18.9825 L1070.47 18.9825 L1070.47 9.54393 Z\" fill=\"#000000\" fill-rule=\"evenodd\" fill-opacity=\"1\" /><path clip-path=\"url(#clip960)\" d=\"M1126.17 28.9478 L1126.17 35.9153 Q1123.01 34.1734 1119.81 33.3227 Q1116.65 32.4315 1113.41 32.4315 Q1106.16 32.4315 1102.15 37.0496 Q1098.14 41.6271 1098.14 49.9314 Q1098.14 58.2358 1102.15 62.8538 Q1106.16 67.4314 1113.41 67.4314 Q1116.65 67.4314 1119.81 66.5807 Q1123.01 65.6895 1126.17 63.9476 L1126.17 70.8341 Q1123.05 72.2924 1119.69 73.0216 Q1116.37 73.7508 1112.6 73.7508 Q1102.35 73.7508 1096.32 67.3098 Q1090.28 60.8689 1090.28 49.9314 Q1090.28 38.832 1096.36 32.472 Q1102.48 26.1121 1113.09 26.1121 Q1116.53 26.1121 1119.81 26.8413 Q1123.09 27.5299 1126.17 28.9478 Z\" fill=\"#000000\" fill-rule=\"evenodd\" fill-opacity=\"1\" /><path clip-path=\"url(#clip960)\" d=\"M1139.14 27.2059 L1146.59 27.2059 L1146.59 72.576 L1139.14 72.576 L1139.14 27.2059 M1139.14 9.54393 L1146.59 9.54393 L1146.59 18.9825 L1139.14 18.9825 L1139.14 9.54393 Z\" fill=\"#000000\" fill-rule=\"evenodd\" fill-opacity=\"1\" /><path clip-path=\"url(#clip960)\" d=\"M1200.99 48.0275 L1200.99 51.6733 L1166.72 51.6733 Q1167.21 59.3701 1171.34 63.421 Q1175.51 67.4314 1182.93 67.4314 Q1187.22 67.4314 1191.23 66.3781 Q1195.28 65.3249 1199.25 63.2184 L1199.25 70.267 Q1195.24 71.9684 1191.03 72.8596 Q1186.82 73.7508 1182.48 73.7508 Q1171.62 73.7508 1165.26 67.4314 Q1158.94 61.1119 1158.94 50.3365 Q1158.94 39.1965 1164.94 32.6746 Q1170.98 26.1121 1181.18 26.1121 Q1190.34 26.1121 1195.65 32.0264 Q1200.99 37.9003 1200.99 48.0275 M1193.54 45.84 Q1193.46 39.7232 1190.1 36.0774 Q1186.77 32.4315 1181.27 32.4315 Q1175.03 32.4315 1171.26 35.9558 Q1167.53 39.4801 1166.97 45.8805 L1193.54 45.84 Z\" fill=\"#000000\" fill-rule=\"evenodd\" fill-opacity=\"1\" /><path clip-path=\"url(#clip960)\" d=\"M1250.94 45.1919 L1250.94 72.576 L1243.49 72.576 L1243.49 45.4349 Q1243.49 38.994 1240.98 35.7938 Q1238.46 32.5936 1233.44 32.5936 Q1227.41 32.5936 1223.92 36.4419 Q1220.44 40.2903 1220.44 46.9338 L1220.44 72.576 L1212.94 72.576 L1212.94 27.2059 L1220.44 27.2059 L1220.44 34.2544 Q1223.11 30.163 1226.72 28.1376 Q1230.36 26.1121 1235.1 26.1121 Q1242.92 26.1121 1246.93 30.9732 Q1250.94 35.7938 1250.94 45.1919 Z\" fill=\"#000000\" fill-rule=\"evenodd\" fill-opacity=\"1\" /><path clip-path=\"url(#clip960)\" d=\"M1273.18 14.324 L1273.18 27.2059 L1288.53 27.2059 L1288.53 32.9987 L1273.18 32.9987 L1273.18 57.6282 Q1273.18 63.1779 1274.68 64.7578 Q1276.22 66.3376 1280.88 66.3376 L1288.53 66.3376 L1288.53 72.576 L1280.88 72.576 Q1272.25 72.576 1268.97 69.3758 Q1265.69 66.1351 1265.69 57.6282 L1265.69 32.9987 L1260.22 32.9987 L1260.22 27.2059 L1265.69 27.2059 L1265.69 14.324 L1273.18 14.324 Z\" fill=\"#000000\" fill-rule=\"evenodd\" fill-opacity=\"1\" /><path clip-path=\"url(#clip960)\" d=\"M1325.03 12.096 L1359.79 12.096 L1359.79 18.9825 L1333.21 18.9825 L1333.21 36.8065 L1357.2 36.8065 L1357.2 43.6931 L1333.21 43.6931 L1333.21 72.576 L1325.03 72.576 L1325.03 12.096 Z\" fill=\"#000000\" fill-rule=\"evenodd\" fill-opacity=\"1\" /><path clip-path=\"url(#clip960)\" d=\"M1392.68 34.1734 Q1391.43 33.4443 1389.93 33.1202 Q1388.47 32.7556 1386.69 32.7556 Q1380.37 32.7556 1376.96 36.8875 Q1373.6 40.9789 1373.6 48.6757 L1373.6 72.576 L1366.11 72.576 L1366.11 27.2059 L1373.6 27.2059 L1373.6 34.2544 Q1375.95 30.1225 1379.72 28.1376 Q1383.49 26.1121 1388.87 26.1121 Q1389.64 26.1121 1390.58 26.2337 Q1391.51 26.3147 1392.64 26.5172 L1392.68 34.1734 Z\" fill=\"#000000\" fill-rule=\"evenodd\" fill-opacity=\"1\" /><path clip-path=\"url(#clip960)\" d=\"M1416.26 32.4315 Q1410.26 32.4315 1406.78 37.1306 Q1403.3 41.7891 1403.3 49.9314 Q1403.3 58.0738 1406.74 62.7728 Q1410.22 67.4314 1416.26 67.4314 Q1422.21 67.4314 1425.7 62.7323 Q1429.18 58.0333 1429.18 49.9314 Q1429.18 41.8701 1425.7 37.1711 Q1422.21 32.4315 1416.26 32.4315 M1416.26 26.1121 Q1425.98 26.1121 1431.53 32.4315 Q1437.08 38.7509 1437.08 49.9314 Q1437.08 61.0714 1431.53 67.4314 Q1425.98 73.7508 1416.26 73.7508 Q1406.5 73.7508 1400.95 67.4314 Q1395.44 61.0714 1395.44 49.9314 Q1395.44 38.7509 1400.95 32.4315 Q1406.5 26.1121 1416.26 26.1121 Z\" fill=\"#000000\" fill-rule=\"evenodd\" fill-opacity=\"1\" /><path clip-path=\"url(#clip960)\" d=\"M1487.15 45.1919 L1487.15 72.576 L1479.7 72.576 L1479.7 45.4349 Q1479.7 38.994 1477.18 35.7938 Q1474.67 32.5936 1469.65 32.5936 Q1463.61 32.5936 1460.13 36.4419 Q1456.65 40.2903 1456.65 46.9338 L1456.65 72.576 L1449.15 72.576 L1449.15 27.2059 L1456.65 27.2059 L1456.65 34.2544 Q1459.32 30.163 1462.92 28.1376 Q1466.57 26.1121 1471.31 26.1121 Q1479.13 26.1121 1483.14 30.9732 Q1487.15 35.7938 1487.15 45.1919 Z\" fill=\"#000000\" fill-rule=\"evenodd\" fill-opacity=\"1\" /><path clip-path=\"url(#clip960)\" d=\"M1509.39 14.324 L1509.39 27.2059 L1524.74 27.2059 L1524.74 32.9987 L1509.39 32.9987 L1509.39 57.6282 Q1509.39 63.1779 1510.89 64.7578 Q1512.43 66.3376 1517.09 66.3376 L1524.74 66.3376 L1524.74 72.576 L1517.09 72.576 Q1508.46 72.576 1505.18 69.3758 Q1501.89 66.1351 1501.89 57.6282 L1501.89 32.9987 L1496.43 32.9987 L1496.43 27.2059 L1501.89 27.2059 L1501.89 14.324 L1509.39 14.324 Z\" fill=\"#000000\" fill-rule=\"evenodd\" fill-opacity=\"1\" /><path clip-path=\"url(#clip960)\" d=\"M1534.54 27.2059 L1542 27.2059 L1542 72.576 L1534.54 72.576 L1534.54 27.2059 M1534.54 9.54393 L1542 9.54393 L1542 18.9825 L1534.54 18.9825 L1534.54 9.54393 Z\" fill=\"#000000\" fill-rule=\"evenodd\" fill-opacity=\"1\" /><path clip-path=\"url(#clip960)\" d=\"M1596.4 48.0275 L1596.4 51.6733 L1562.13 51.6733 Q1562.62 59.3701 1566.75 63.421 Q1570.92 67.4314 1578.33 67.4314 Q1582.63 67.4314 1586.64 66.3781 Q1590.69 65.3249 1594.66 63.2184 L1594.66 70.267 Q1590.65 71.9684 1586.44 72.8596 Q1582.22 73.7508 1577.89 73.7508 Q1567.03 73.7508 1560.67 67.4314 Q1554.35 61.1119 1554.35 50.3365 Q1554.35 39.1965 1560.35 32.6746 Q1566.38 26.1121 1576.59 26.1121 Q1585.75 26.1121 1591.05 32.0264 Q1596.4 37.9003 1596.4 48.0275 M1588.95 45.84 Q1588.87 39.7232 1585.51 36.0774 Q1582.18 32.4315 1576.67 32.4315 Q1570.44 32.4315 1566.67 35.9558 Q1562.94 39.4801 1562.37 45.8805 L1588.95 45.84 Z\" fill=\"#000000\" fill-rule=\"evenodd\" fill-opacity=\"1\" /><path clip-path=\"url(#clip960)\" d=\"M1634.93 34.1734 Q1633.67 33.4443 1632.17 33.1202 Q1630.71 32.7556 1628.93 32.7556 Q1622.61 32.7556 1619.21 36.8875 Q1615.85 40.9789 1615.85 48.6757 L1615.85 72.576 L1608.35 72.576 L1608.35 27.2059 L1615.85 27.2059 L1615.85 34.2544 Q1618.2 30.1225 1621.96 28.1376 Q1625.73 26.1121 1631.12 26.1121 Q1631.89 26.1121 1632.82 26.2337 Q1633.75 26.3147 1634.89 26.5172 L1634.93 34.1734 Z\" fill=\"#000000\" fill-rule=\"evenodd\" fill-opacity=\"1\" /><circle clip-path=\"url(#clip962)\" cx=\"665.617\" cy=\"382.537\" r=\"7\" fill=\"#ffffe0\" fill-rule=\"evenodd\" fill-opacity=\"0.9\" stroke=\"#000000\" stroke-opacity=\"0.9\" stroke-width=\"3.2\"/>\n",
       "<circle clip-path=\"url(#clip962)\" cx=\"673.037\" cy=\"380.723\" r=\"7\" fill=\"#ffffe0\" fill-rule=\"evenodd\" fill-opacity=\"0.9\" stroke=\"#000000\" stroke-opacity=\"0.9\" stroke-width=\"3.2\"/>\n",
       "<circle clip-path=\"url(#clip962)\" cx=\"623.421\" cy=\"396.634\" r=\"7\" fill=\"#ffffe0\" fill-rule=\"evenodd\" fill-opacity=\"0.9\" stroke=\"#000000\" stroke-opacity=\"0.9\" stroke-width=\"3.2\"/>\n",
       "<circle clip-path=\"url(#clip962)\" cx=\"706.563\" cy=\"372.818\" r=\"7\" fill=\"#ffffe0\" fill-rule=\"evenodd\" fill-opacity=\"0.9\" stroke=\"#000000\" stroke-opacity=\"0.9\" stroke-width=\"3.2\"/>\n",
       "<circle clip-path=\"url(#clip962)\" cx=\"717.613\" cy=\"370.014\" r=\"7\" fill=\"#ffffe0\" fill-rule=\"evenodd\" fill-opacity=\"0.9\" stroke=\"#000000\" stroke-opacity=\"0.9\" stroke-width=\"3.2\"/>\n",
       "<circle clip-path=\"url(#clip962)\" cx=\"756.434\" cy=\"358.722\" r=\"7\" fill=\"#ffffe0\" fill-rule=\"evenodd\" fill-opacity=\"0.9\" stroke=\"#000000\" stroke-opacity=\"0.9\" stroke-width=\"3.2\"/>\n",
       "<circle clip-path=\"url(#clip962)\" cx=\"730.525\" cy=\"366.284\" r=\"7\" fill=\"#ffffe0\" fill-rule=\"evenodd\" fill-opacity=\"0.9\" stroke=\"#000000\" stroke-opacity=\"0.9\" stroke-width=\"3.2\"/>\n",
       "<circle clip-path=\"url(#clip962)\" cx=\"660.559\" cy=\"386.725\" r=\"7\" fill=\"#ffffe0\" fill-rule=\"evenodd\" fill-opacity=\"0.9\" stroke=\"#000000\" stroke-opacity=\"0.9\" stroke-width=\"3.2\"/>\n",
       "<circle clip-path=\"url(#clip962)\" cx=\"690.449\" cy=\"378.052\" r=\"7\" fill=\"#ffffe0\" fill-rule=\"evenodd\" fill-opacity=\"0.9\" stroke=\"#000000\" stroke-opacity=\"0.9\" stroke-width=\"3.2\"/>\n",
       "<circle clip-path=\"url(#clip962)\" cx=\"651.192\" cy=\"389.518\" r=\"7\" fill=\"#ffffe0\" fill-rule=\"evenodd\" fill-opacity=\"0.9\" stroke=\"#000000\" stroke-opacity=\"0.9\" stroke-width=\"3.2\"/>\n",
       "<circle clip-path=\"url(#clip962)\" cx=\"645.664\" cy=\"391.133\" r=\"7\" fill=\"#ffffe0\" fill-rule=\"evenodd\" fill-opacity=\"0.9\" stroke=\"#000000\" stroke-opacity=\"0.9\" stroke-width=\"3.2\"/>\n",
       "<circle clip-path=\"url(#clip962)\" cx=\"664.92\" cy=\"385.525\" r=\"7\" fill=\"#ffffe0\" fill-rule=\"evenodd\" fill-opacity=\"0.9\" stroke=\"#000000\" stroke-opacity=\"0.9\" stroke-width=\"3.2\"/>\n",
       "<circle clip-path=\"url(#clip962)\" cx=\"641.625\" cy=\"392.322\" r=\"7\" fill=\"#ffffe0\" fill-rule=\"evenodd\" fill-opacity=\"0.9\" stroke=\"#000000\" stroke-opacity=\"0.9\" stroke-width=\"3.2\"/>\n",
       "<circle clip-path=\"url(#clip962)\" cx=\"667.063\" cy=\"384.92\" r=\"7\" fill=\"#ffffe0\" fill-rule=\"evenodd\" fill-opacity=\"0.9\" stroke=\"#000000\" stroke-opacity=\"0.9\" stroke-width=\"3.2\"/>\n",
       "<circle clip-path=\"url(#clip962)\" cx=\"629.929\" cy=\"395.852\" r=\"7\" fill=\"#ffffe0\" fill-rule=\"evenodd\" fill-opacity=\"0.9\" stroke=\"#000000\" stroke-opacity=\"0.9\" stroke-width=\"3.2\"/>\n",
       "<circle clip-path=\"url(#clip962)\" cx=\"702.897\" cy=\"374.593\" r=\"7\" fill=\"#ffffe0\" fill-rule=\"evenodd\" fill-opacity=\"0.9\" stroke=\"#000000\" stroke-opacity=\"0.9\" stroke-width=\"3.2\"/>\n",
       "<circle clip-path=\"url(#clip962)\" cx=\"615.323\" cy=\"400.26\" r=\"7\" fill=\"#ffffe0\" fill-rule=\"evenodd\" fill-opacity=\"0.9\" stroke=\"#000000\" stroke-opacity=\"0.9\" stroke-width=\"3.2\"/>\n",
       "<circle clip-path=\"url(#clip962)\" cx=\"705.57\" cy=\"373.99\" r=\"7\" fill=\"#ffffe0\" fill-rule=\"evenodd\" fill-opacity=\"0.9\" stroke=\"#000000\" stroke-opacity=\"0.9\" stroke-width=\"3.2\"/>\n",
       "<circle clip-path=\"url(#clip962)\" cx=\"637.249\" cy=\"393.962\" r=\"7\" fill=\"#ffffe0\" fill-rule=\"evenodd\" fill-opacity=\"0.9\" stroke=\"#000000\" stroke-opacity=\"0.9\" stroke-width=\"3.2\"/>\n",
       "<circle clip-path=\"url(#clip962)\" cx=\"688.027\" cy=\"379.191\" r=\"7\" fill=\"#ffffe0\" fill-rule=\"evenodd\" fill-opacity=\"0.9\" stroke=\"#000000\" stroke-opacity=\"0.9\" stroke-width=\"3.2\"/>\n",
       "<circle clip-path=\"url(#clip962)\" cx=\"649.281\" cy=\"390.533\" r=\"7\" fill=\"#ffffe0\" fill-rule=\"evenodd\" fill-opacity=\"0.9\" stroke=\"#000000\" stroke-opacity=\"0.9\" stroke-width=\"3.2\"/>\n",
       "<circle clip-path=\"url(#clip962)\" cx=\"755.237\" cy=\"359.706\" r=\"7\" fill=\"#ffffe0\" fill-rule=\"evenodd\" fill-opacity=\"0.9\" stroke=\"#000000\" stroke-opacity=\"0.9\" stroke-width=\"3.2\"/>\n",
       "<circle clip-path=\"url(#clip962)\" cx=\"738.978\" cy=\"364.47\" r=\"7\" fill=\"#ffffe0\" fill-rule=\"evenodd\" fill-opacity=\"0.9\" stroke=\"#000000\" stroke-opacity=\"0.9\" stroke-width=\"3.2\"/>\n",
       "<circle clip-path=\"url(#clip962)\" cx=\"636.042\" cy=\"394.475\" r=\"7\" fill=\"#ffffe0\" fill-rule=\"evenodd\" fill-opacity=\"0.9\" stroke=\"#000000\" stroke-opacity=\"0.9\" stroke-width=\"3.2\"/>\n",
       "<circle clip-path=\"url(#clip962)\" cx=\"751.314\" cy=\"360.887\" r=\"7\" fill=\"#ffffe0\" fill-rule=\"evenodd\" fill-opacity=\"0.9\" stroke=\"#000000\" stroke-opacity=\"0.9\" stroke-width=\"3.2\"/>\n",
       "<circle clip-path=\"url(#clip962)\" cx=\"658.158\" cy=\"388.075\" r=\"7\" fill=\"#ffffe0\" fill-rule=\"evenodd\" fill-opacity=\"0.9\" stroke=\"#000000\" stroke-opacity=\"0.9\" stroke-width=\"3.2\"/>\n",
       "<circle clip-path=\"url(#clip962)\" cx=\"621.862\" cy=\"398.656\" r=\"7\" fill=\"#ffffe0\" fill-rule=\"evenodd\" fill-opacity=\"0.9\" stroke=\"#000000\" stroke-opacity=\"0.9\" stroke-width=\"3.2\"/>\n",
       "<circle clip-path=\"url(#clip962)\" cx=\"765.315\" cy=\"356.908\" r=\"7\" fill=\"#ffffe0\" fill-rule=\"evenodd\" fill-opacity=\"0.9\" stroke=\"#000000\" stroke-opacity=\"0.9\" stroke-width=\"3.2\"/>\n",
       "<circle clip-path=\"url(#clip962)\" cx=\"741.696\" cy=\"363.851\" r=\"7\" fill=\"#ffffe0\" fill-rule=\"evenodd\" fill-opacity=\"0.9\" stroke=\"#000000\" stroke-opacity=\"0.9\" stroke-width=\"3.2\"/>\n",
       "<circle clip-path=\"url(#clip962)\" cx=\"604.674\" cy=\"403.795\" r=\"7\" fill=\"#ffffe0\" fill-rule=\"evenodd\" fill-opacity=\"0.9\" stroke=\"#000000\" stroke-opacity=\"0.9\" stroke-width=\"3.2\"/>\n",
       "<circle clip-path=\"url(#clip962)\" cx=\"612.726\" cy=\"401.46\" r=\"7\" fill=\"#ffffe0\" fill-rule=\"evenodd\" fill-opacity=\"0.9\" stroke=\"#000000\" stroke-opacity=\"0.9\" stroke-width=\"3.2\"/>\n",
       "<circle clip-path=\"url(#clip962)\" cx=\"769.406\" cy=\"355.918\" r=\"7\" fill=\"#ffffe0\" fill-rule=\"evenodd\" fill-opacity=\"0.9\" stroke=\"#000000\" stroke-opacity=\"0.9\" stroke-width=\"3.2\"/>\n",
       "<circle clip-path=\"url(#clip962)\" cx=\"701.404\" cy=\"375.793\" r=\"7\" fill=\"#ffffe0\" fill-rule=\"evenodd\" fill-opacity=\"0.9\" stroke=\"#000000\" stroke-opacity=\"0.9\" stroke-width=\"3.2\"/>\n",
       "<circle clip-path=\"url(#clip962)\" cx=\"611.059\" cy=\"402.464\" r=\"7\" fill=\"#ffffe0\" fill-rule=\"evenodd\" fill-opacity=\"0.9\" stroke=\"#000000\" stroke-opacity=\"0.9\" stroke-width=\"3.2\"/>\n",
       "<circle clip-path=\"url(#clip962)\" cx=\"683.554\" cy=\"381.523\" r=\"7\" fill=\"#ffffe0\" fill-rule=\"evenodd\" fill-opacity=\"0.9\" stroke=\"#000000\" stroke-opacity=\"0.9\" stroke-width=\"3.2\"/>\n",
       "<circle clip-path=\"url(#clip962)\" cx=\"776.689\" cy=\"354.487\" r=\"7\" fill=\"#ffffe0\" fill-rule=\"evenodd\" fill-opacity=\"0.9\" stroke=\"#000000\" stroke-opacity=\"0.9\" stroke-width=\"3.2\"/>\n",
       "<circle clip-path=\"url(#clip962)\" cx=\"803.215\" cy=\"346.791\" r=\"7\" fill=\"#ffffe0\" fill-rule=\"evenodd\" fill-opacity=\"0.9\" stroke=\"#000000\" stroke-opacity=\"0.9\" stroke-width=\"3.2\"/>\n",
       "<circle clip-path=\"url(#clip962)\" cx=\"732.399\" cy=\"367.45\" r=\"7\" fill=\"#ffffe0\" fill-rule=\"evenodd\" fill-opacity=\"0.9\" stroke=\"#000000\" stroke-opacity=\"0.9\" stroke-width=\"3.2\"/>\n",
       "<circle clip-path=\"url(#clip962)\" cx=\"598.574\" cy=\"406.406\" r=\"7\" fill=\"#ffffe0\" fill-rule=\"evenodd\" fill-opacity=\"0.9\" stroke=\"#000000\" stroke-opacity=\"0.9\" stroke-width=\"3.2\"/>\n",
       "<circle clip-path=\"url(#clip962)\" cx=\"719.597\" cy=\"371.282\" r=\"7\" fill=\"#ffffe0\" fill-rule=\"evenodd\" fill-opacity=\"0.9\" stroke=\"#000000\" stroke-opacity=\"0.9\" stroke-width=\"3.2\"/>\n",
       "<circle clip-path=\"url(#clip962)\" cx=\"599.498\" cy=\"406.218\" r=\"7\" fill=\"#ffffe0\" fill-rule=\"evenodd\" fill-opacity=\"0.9\" stroke=\"#000000\" stroke-opacity=\"0.9\" stroke-width=\"3.2\"/>\n",
       "<circle clip-path=\"url(#clip962)\" cx=\"788.597\" cy=\"351.271\" r=\"7\" fill=\"#ffffe0\" fill-rule=\"evenodd\" fill-opacity=\"0.9\" stroke=\"#000000\" stroke-opacity=\"0.9\" stroke-width=\"3.2\"/>\n",
       "<circle clip-path=\"url(#clip962)\" cx=\"699.484\" cy=\"377.176\" r=\"7\" fill=\"#ffffe0\" fill-rule=\"evenodd\" fill-opacity=\"0.9\" stroke=\"#000000\" stroke-opacity=\"0.9\" stroke-width=\"3.2\"/>\n",
       "<circle clip-path=\"url(#clip962)\" cx=\"629.052\" cy=\"397.695\" r=\"7\" fill=\"#ffffe0\" fill-rule=\"evenodd\" fill-opacity=\"0.9\" stroke=\"#000000\" stroke-opacity=\"0.9\" stroke-width=\"3.2\"/>\n",
       "<circle clip-path=\"url(#clip962)\" cx=\"606.612\" cy=\"404.264\" r=\"7\" fill=\"#ffffe0\" fill-rule=\"evenodd\" fill-opacity=\"0.9\" stroke=\"#000000\" stroke-opacity=\"0.9\" stroke-width=\"3.2\"/>\n",
       "<circle clip-path=\"url(#clip962)\" cx=\"594.882\" cy=\"407.715\" r=\"7\" fill=\"#ffffe0\" fill-rule=\"evenodd\" fill-opacity=\"0.9\" stroke=\"#000000\" stroke-opacity=\"0.9\" stroke-width=\"3.2\"/>\n",
       "<circle clip-path=\"url(#clip962)\" cx=\"799.022\" cy=\"348.399\" r=\"7\" fill=\"#ffffe0\" fill-rule=\"evenodd\" fill-opacity=\"0.9\" stroke=\"#000000\" stroke-opacity=\"0.9\" stroke-width=\"3.2\"/>\n",
       "<circle clip-path=\"url(#clip962)\" cx=\"827.017\" cy=\"340.391\" r=\"7\" fill=\"#ffffe0\" fill-rule=\"evenodd\" fill-opacity=\"0.9\" stroke=\"#000000\" stroke-opacity=\"0.9\" stroke-width=\"3.2\"/>\n",
       "<circle clip-path=\"url(#clip962)\" cx=\"679.787\" cy=\"383.224\" r=\"7\" fill=\"#ffffe0\" fill-rule=\"evenodd\" fill-opacity=\"0.9\" stroke=\"#000000\" stroke-opacity=\"0.9\" stroke-width=\"3.2\"/>\n",
       "<circle clip-path=\"url(#clip962)\" cx=\"752.22\" cy=\"362.36\" r=\"7\" fill=\"#ffffe0\" fill-rule=\"evenodd\" fill-opacity=\"0.9\" stroke=\"#000000\" stroke-opacity=\"0.9\" stroke-width=\"3.2\"/>\n",
       "<circle clip-path=\"url(#clip962)\" cx=\"586.141\" cy=\"410.626\" r=\"7\" fill=\"#ffffe0\" fill-rule=\"evenodd\" fill-opacity=\"0.9\" stroke=\"#000000\" stroke-opacity=\"0.9\" stroke-width=\"3.2\"/>\n",
       "<circle clip-path=\"url(#clip962)\" cx=\"783.737\" cy=\"353.353\" r=\"7\" fill=\"#ffffe0\" fill-rule=\"evenodd\" fill-opacity=\"0.9\" stroke=\"#000000\" stroke-opacity=\"0.9\" stroke-width=\"3.2\"/>\n",
       "<circle clip-path=\"url(#clip962)\" cx=\"812.852\" cy=\"344.977\" r=\"7\" fill=\"#ffffe0\" fill-rule=\"evenodd\" fill-opacity=\"0.9\" stroke=\"#000000\" stroke-opacity=\"0.9\" stroke-width=\"3.2\"/>\n",
       "<circle clip-path=\"url(#clip962)\" cx=\"577.714\" cy=\"413.391\" r=\"7\" fill=\"#ffffe0\" fill-rule=\"evenodd\" fill-opacity=\"0.9\" stroke=\"#000000\" stroke-opacity=\"0.9\" stroke-width=\"3.2\"/>\n",
       "<circle clip-path=\"url(#clip962)\" cx=\"568.47\" cy=\"416.137\" r=\"7\" fill=\"#ffffe0\" fill-rule=\"evenodd\" fill-opacity=\"0.9\" stroke=\"#000000\" stroke-opacity=\"0.9\" stroke-width=\"3.2\"/>\n",
       "<circle clip-path=\"url(#clip962)\" cx=\"812.189\" cy=\"345.591\" r=\"7\" fill=\"#ffffe0\" fill-rule=\"evenodd\" fill-opacity=\"0.9\" stroke=\"#000000\" stroke-opacity=\"0.9\" stroke-width=\"3.2\"/>\n",
       "<circle clip-path=\"url(#clip962)\" cx=\"744.178\" cy=\"365.374\" r=\"7\" fill=\"#ffffe0\" fill-rule=\"evenodd\" fill-opacity=\"0.9\" stroke=\"#000000\" stroke-opacity=\"0.9\" stroke-width=\"3.2\"/>\n",
       "<circle clip-path=\"url(#clip962)\" cx=\"584.264\" cy=\"411.826\" r=\"7\" fill=\"#ffffe0\" fill-rule=\"evenodd\" fill-opacity=\"0.9\" stroke=\"#000000\" stroke-opacity=\"0.9\" stroke-width=\"3.2\"/>\n",
       "<circle clip-path=\"url(#clip962)\" cx=\"837.012\" cy=\"338.577\" r=\"7\" fill=\"#ffffe0\" fill-rule=\"evenodd\" fill-opacity=\"0.9\" stroke=\"#000000\" stroke-opacity=\"0.9\" stroke-width=\"3.2\"/>\n",
       "<circle clip-path=\"url(#clip962)\" cx=\"730.894\" cy=\"369.35\" r=\"7\" fill=\"#ffffe0\" fill-rule=\"evenodd\" fill-opacity=\"0.9\" stroke=\"#000000\" stroke-opacity=\"0.9\" stroke-width=\"3.2\"/>\n",
       "<circle clip-path=\"url(#clip962)\" cx=\"828.892\" cy=\"340.944\" r=\"7\" fill=\"#ffffe0\" fill-rule=\"evenodd\" fill-opacity=\"0.9\" stroke=\"#000000\" stroke-opacity=\"0.9\" stroke-width=\"3.2\"/>\n",
       "<circle clip-path=\"url(#clip962)\" cx=\"595.483\" cy=\"408.695\" r=\"7\" fill=\"#ffffe0\" fill-rule=\"evenodd\" fill-opacity=\"0.9\" stroke=\"#000000\" stroke-opacity=\"0.9\" stroke-width=\"3.2\"/>\n",
       "<circle clip-path=\"url(#clip962)\" cx=\"771.396\" cy=\"358.043\" r=\"7\" fill=\"#ffffe0\" fill-rule=\"evenodd\" fill-opacity=\"0.9\" stroke=\"#000000\" stroke-opacity=\"0.9\" stroke-width=\"3.2\"/>\n",
       "<circle clip-path=\"url(#clip962)\" cx=\"800.822\" cy=\"349.575\" r=\"7\" fill=\"#ffffe0\" fill-rule=\"evenodd\" fill-opacity=\"0.9\" stroke=\"#000000\" stroke-opacity=\"0.9\" stroke-width=\"3.2\"/>\n",
       "<circle clip-path=\"url(#clip962)\" cx=\"797.339\" cy=\"350.588\" r=\"7\" fill=\"#ffffe0\" fill-rule=\"evenodd\" fill-opacity=\"0.9\" stroke=\"#000000\" stroke-opacity=\"0.9\" stroke-width=\"3.2\"/>\n",
       "<circle clip-path=\"url(#clip962)\" cx=\"575.043\" cy=\"415.106\" r=\"7\" fill=\"#ffffe0\" fill-rule=\"evenodd\" fill-opacity=\"0.9\" stroke=\"#000000\" stroke-opacity=\"0.9\" stroke-width=\"3.2\"/>\n",
       "<circle clip-path=\"url(#clip962)\" cx=\"846.533\" cy=\"336.536\" r=\"7\" fill=\"#ffffe0\" fill-rule=\"evenodd\" fill-opacity=\"0.9\" stroke=\"#000000\" stroke-opacity=\"0.9\" stroke-width=\"3.2\"/>\n",
       "<circle clip-path=\"url(#clip962)\" cx=\"821.788\" cy=\"343.777\" r=\"7\" fill=\"#ffffe0\" fill-rule=\"evenodd\" fill-opacity=\"0.9\" stroke=\"#000000\" stroke-opacity=\"0.9\" stroke-width=\"3.2\"/>\n",
       "<circle clip-path=\"url(#clip962)\" cx=\"828.157\" cy=\"342.144\" r=\"7\" fill=\"#ffffe0\" fill-rule=\"evenodd\" fill-opacity=\"0.9\" stroke=\"#000000\" stroke-opacity=\"0.9\" stroke-width=\"3.2\"/>\n",
       "<circle clip-path=\"url(#clip962)\" cx=\"586.133\" cy=\"412.276\" r=\"7\" fill=\"#ffffe0\" fill-rule=\"evenodd\" fill-opacity=\"0.9\" stroke=\"#000000\" stroke-opacity=\"0.9\" stroke-width=\"3.2\"/>\n",
       "<circle clip-path=\"url(#clip962)\" cx=\"844.119\" cy=\"337.64\" r=\"7\" fill=\"#ffffe0\" fill-rule=\"evenodd\" fill-opacity=\"0.9\" stroke=\"#000000\" stroke-opacity=\"0.9\" stroke-width=\"3.2\"/>\n",
       "<circle clip-path=\"url(#clip962)\" cx=\"870.131\" cy=\"330.251\" r=\"7\" fill=\"#ffffe0\" fill-rule=\"evenodd\" fill-opacity=\"0.9\" stroke=\"#000000\" stroke-opacity=\"0.9\" stroke-width=\"3.2\"/>\n",
       "<circle clip-path=\"url(#clip962)\" cx=\"566.507\" cy=\"418.081\" r=\"7\" fill=\"#ffffe0\" fill-rule=\"evenodd\" fill-opacity=\"0.9\" stroke=\"#000000\" stroke-opacity=\"0.9\" stroke-width=\"3.2\"/>\n",
       "<circle clip-path=\"url(#clip962)\" cx=\"557.093\" cy=\"420.953\" r=\"7\" fill=\"#ffffe0\" fill-rule=\"evenodd\" fill-opacity=\"0.9\" stroke=\"#000000\" stroke-opacity=\"0.9\" stroke-width=\"3.2\"/>\n",
       "<circle clip-path=\"url(#clip962)\" cx=\"563.803\" cy=\"419.022\" r=\"7\" fill=\"#ffffe0\" fill-rule=\"evenodd\" fill-opacity=\"0.9\" stroke=\"#000000\" stroke-opacity=\"0.9\" stroke-width=\"3.2\"/>\n",
       "<circle clip-path=\"url(#clip962)\" cx=\"574.03\" cy=\"416.457\" r=\"7\" fill=\"#ffffe0\" fill-rule=\"evenodd\" fill-opacity=\"0.9\" stroke=\"#000000\" stroke-opacity=\"0.9\" stroke-width=\"3.2\"/>\n",
       "<circle clip-path=\"url(#clip962)\" cx=\"797.34\" cy=\"352.229\" r=\"7\" fill=\"#ffffe0\" fill-rule=\"evenodd\" fill-opacity=\"0.9\" stroke=\"#000000\" stroke-opacity=\"0.9\" stroke-width=\"3.2\"/>\n",
       "<circle clip-path=\"url(#clip962)\" cx=\"563.378\" cy=\"419.799\" r=\"7\" fill=\"#ffffe0\" fill-rule=\"evenodd\" fill-opacity=\"0.9\" stroke=\"#000000\" stroke-opacity=\"0.9\" stroke-width=\"3.2\"/>\n",
       "<circle clip-path=\"url(#clip962)\" cx=\"554.405\" cy=\"422.471\" r=\"7\" fill=\"#ffffe0\" fill-rule=\"evenodd\" fill-opacity=\"0.9\" stroke=\"#000000\" stroke-opacity=\"0.9\" stroke-width=\"3.2\"/>\n",
       "<circle clip-path=\"url(#clip962)\" cx=\"880.606\" cy=\"328.437\" r=\"7\" fill=\"#ffffe0\" fill-rule=\"evenodd\" fill-opacity=\"0.9\" stroke=\"#000000\" stroke-opacity=\"0.9\" stroke-width=\"3.2\"/>\n",
       "<circle clip-path=\"url(#clip962)\" cx=\"541.903\" cy=\"426.279\" r=\"7\" fill=\"#ffffe0\" fill-rule=\"evenodd\" fill-opacity=\"0.9\" stroke=\"#000000\" stroke-opacity=\"0.9\" stroke-width=\"3.2\"/>\n",
       "<circle clip-path=\"url(#clip962)\" cx=\"552.177\" cy=\"423.757\" r=\"7\" fill=\"#ffffe0\" fill-rule=\"evenodd\" fill-opacity=\"0.9\" stroke=\"#000000\" stroke-opacity=\"0.9\" stroke-width=\"3.2\"/>\n",
       "<circle clip-path=\"url(#clip962)\" cx=\"881.059\" cy=\"329.205\" r=\"7\" fill=\"#ffffe0\" fill-rule=\"evenodd\" fill-opacity=\"0.9\" stroke=\"#000000\" stroke-opacity=\"0.9\" stroke-width=\"3.2\"/>\n",
       "<circle clip-path=\"url(#clip962)\" cx=\"868.458\" cy=\"332.856\" r=\"7\" fill=\"#ffffe0\" fill-rule=\"evenodd\" fill-opacity=\"0.9\" stroke=\"#000000\" stroke-opacity=\"0.9\" stroke-width=\"3.2\"/>\n",
       "<circle clip-path=\"url(#clip962)\" cx=\"550.22\" cy=\"424.571\" r=\"7\" fill=\"#ffffe0\" fill-rule=\"evenodd\" fill-opacity=\"0.9\" stroke=\"#000000\" stroke-opacity=\"0.9\" stroke-width=\"3.2\"/>\n",
       "<circle clip-path=\"url(#clip962)\" cx=\"891.611\" cy=\"326.333\" r=\"7\" fill=\"#ffffe0\" fill-rule=\"evenodd\" fill-opacity=\"0.9\" stroke=\"#000000\" stroke-opacity=\"0.9\" stroke-width=\"3.2\"/>\n",
       "<circle clip-path=\"url(#clip962)\" cx=\"531.071\" cy=\"430.221\" r=\"7\" fill=\"#ffffe0\" fill-rule=\"evenodd\" fill-opacity=\"0.9\" stroke=\"#000000\" stroke-opacity=\"0.9\" stroke-width=\"3.2\"/>\n",
       "<circle clip-path=\"url(#clip962)\" cx=\"861.497\" cy=\"335.149\" r=\"7\" fill=\"#ffffe0\" fill-rule=\"evenodd\" fill-opacity=\"0.9\" stroke=\"#000000\" stroke-opacity=\"0.9\" stroke-width=\"3.2\"/>\n",
       "<circle clip-path=\"url(#clip962)\" cx=\"867.052\" cy=\"333.725\" r=\"7\" fill=\"#ffffe0\" fill-rule=\"evenodd\" fill-opacity=\"0.9\" stroke=\"#000000\" stroke-opacity=\"0.9\" stroke-width=\"3.2\"/>\n",
       "<circle clip-path=\"url(#clip962)\" cx=\"541.535\" cy=\"427.55\" r=\"7\" fill=\"#ffffe0\" fill-rule=\"evenodd\" fill-opacity=\"0.9\" stroke=\"#000000\" stroke-opacity=\"0.9\" stroke-width=\"3.2\"/>\n",
       "<circle clip-path=\"url(#clip962)\" cx=\"544.201\" cy=\"426.879\" r=\"7\" fill=\"#ffffe0\" fill-rule=\"evenodd\" fill-opacity=\"0.9\" stroke=\"#000000\" stroke-opacity=\"0.9\" stroke-width=\"3.2\"/>\n",
       "<circle clip-path=\"url(#clip962)\" cx=\"865.426\" cy=\"334.849\" r=\"7\" fill=\"#ffffe0\" fill-rule=\"evenodd\" fill-opacity=\"0.9\" stroke=\"#000000\" stroke-opacity=\"0.9\" stroke-width=\"3.2\"/>\n",
       "<circle clip-path=\"url(#clip962)\" cx=\"897.682\" cy=\"325.604\" r=\"7\" fill=\"#ffffe0\" fill-rule=\"evenodd\" fill-opacity=\"0.9\" stroke=\"#000000\" stroke-opacity=\"0.9\" stroke-width=\"3.2\"/>\n",
       "<circle clip-path=\"url(#clip962)\" cx=\"538.602\" cy=\"428.979\" r=\"7\" fill=\"#ffffe0\" fill-rule=\"evenodd\" fill-opacity=\"0.9\" stroke=\"#000000\" stroke-opacity=\"0.9\" stroke-width=\"3.2\"/>\n",
       "<circle clip-path=\"url(#clip962)\" cx=\"910.716\" cy=\"322.22\" r=\"7\" fill=\"#ffffe0\" fill-rule=\"evenodd\" fill-opacity=\"0.9\" stroke=\"#000000\" stroke-opacity=\"0.9\" stroke-width=\"3.2\"/>\n",
       "<circle clip-path=\"url(#clip962)\" cx=\"533.226\" cy=\"430.779\" r=\"7\" fill=\"#ffffe0\" fill-rule=\"evenodd\" fill-opacity=\"0.9\" stroke=\"#000000\" stroke-opacity=\"0.9\" stroke-width=\"3.2\"/>\n",
       "<circle clip-path=\"url(#clip962)\" cx=\"881.449\" cy=\"330.894\" r=\"7\" fill=\"#ffffe0\" fill-rule=\"evenodd\" fill-opacity=\"0.9\" stroke=\"#000000\" stroke-opacity=\"0.9\" stroke-width=\"3.2\"/>\n",
       "<circle clip-path=\"url(#clip962)\" cx=\"924.13\" cy=\"318.878\" r=\"7\" fill=\"#ffffe0\" fill-rule=\"evenodd\" fill-opacity=\"0.9\" stroke=\"#000000\" stroke-opacity=\"0.9\" stroke-width=\"3.2\"/>\n",
       "<circle clip-path=\"url(#clip962)\" cx=\"529.202\" cy=\"432.322\" r=\"7\" fill=\"#ffffe0\" fill-rule=\"evenodd\" fill-opacity=\"0.9\" stroke=\"#000000\" stroke-opacity=\"0.9\" stroke-width=\"3.2\"/>\n",
       "<circle clip-path=\"url(#clip962)\" cx=\"927.203\" cy=\"318.278\" r=\"7\" fill=\"#ffffe0\" fill-rule=\"evenodd\" fill-opacity=\"0.9\" stroke=\"#000000\" stroke-opacity=\"0.9\" stroke-width=\"3.2\"/>\n",
       "<circle clip-path=\"url(#clip962)\" cx=\"953.744\" cy=\"310.699\" r=\"7\" fill=\"#ffffe0\" fill-rule=\"evenodd\" fill-opacity=\"0.9\" stroke=\"#000000\" stroke-opacity=\"0.9\" stroke-width=\"3.2\"/>\n",
       "<circle clip-path=\"url(#clip962)\" cx=\"519.022\" cy=\"435.51\" r=\"7\" fill=\"#ffffe0\" fill-rule=\"evenodd\" fill-opacity=\"0.9\" stroke=\"#000000\" stroke-opacity=\"0.9\" stroke-width=\"3.2\"/>\n",
       "<circle clip-path=\"url(#clip962)\" cx=\"523.716\" cy=\"434.334\" r=\"7\" fill=\"#ffffe0\" fill-rule=\"evenodd\" fill-opacity=\"0.9\" stroke=\"#000000\" stroke-opacity=\"0.9\" stroke-width=\"3.2\"/>\n",
       "<circle clip-path=\"url(#clip962)\" cx=\"942.808\" cy=\"314.47\" r=\"7\" fill=\"#ffffe0\" fill-rule=\"evenodd\" fill-opacity=\"0.9\" stroke=\"#000000\" stroke-opacity=\"0.9\" stroke-width=\"3.2\"/>\n",
       "<circle clip-path=\"url(#clip962)\" cx=\"923.779\" cy=\"320.078\" r=\"7\" fill=\"#ffffe0\" fill-rule=\"evenodd\" fill-opacity=\"0.9\" stroke=\"#000000\" stroke-opacity=\"0.9\" stroke-width=\"3.2\"/>\n",
       "<circle clip-path=\"url(#clip962)\" cx=\"527.813\" cy=\"433.854\" r=\"7\" fill=\"#ffffe0\" fill-rule=\"evenodd\" fill-opacity=\"0.9\" stroke=\"#000000\" stroke-opacity=\"0.9\" stroke-width=\"3.2\"/>\n",
       "<circle clip-path=\"url(#clip962)\" cx=\"968.551\" cy=\"308.136\" r=\"7\" fill=\"#ffffe0\" fill-rule=\"evenodd\" fill-opacity=\"0.9\" stroke=\"#000000\" stroke-opacity=\"0.9\" stroke-width=\"3.2\"/>\n",
       "<circle clip-path=\"url(#clip962)\" cx=\"520.121\" cy=\"436.434\" r=\"7\" fill=\"#ffffe0\" fill-rule=\"evenodd\" fill-opacity=\"0.9\" stroke=\"#000000\" stroke-opacity=\"0.9\" stroke-width=\"3.2\"/>\n",
       "<circle clip-path=\"url(#clip962)\" cx=\"951.146\" cy=\"313.352\" r=\"7\" fill=\"#ffffe0\" fill-rule=\"evenodd\" fill-opacity=\"0.9\" stroke=\"#000000\" stroke-opacity=\"0.9\" stroke-width=\"3.2\"/>\n",
       "<circle clip-path=\"url(#clip962)\" cx=\"1009.93\" cy=\"296.602\" r=\"7\" fill=\"#ffffe0\" fill-rule=\"evenodd\" fill-opacity=\"0.9\" stroke=\"#000000\" stroke-opacity=\"0.9\" stroke-width=\"3.2\"/>\n",
       "<circle clip-path=\"url(#clip962)\" cx=\"924.764\" cy=\"321.418\" r=\"7\" fill=\"#ffffe0\" fill-rule=\"evenodd\" fill-opacity=\"0.9\" stroke=\"#000000\" stroke-opacity=\"0.9\" stroke-width=\"3.2\"/>\n",
       "<circle clip-path=\"url(#clip962)\" cx=\"507.057\" cy=\"440.839\" r=\"7\" fill=\"#ffffe0\" fill-rule=\"evenodd\" fill-opacity=\"0.9\" stroke=\"#000000\" stroke-opacity=\"0.9\" stroke-width=\"3.2\"/>\n",
       "<circle clip-path=\"url(#clip962)\" cx=\"517.689\" cy=\"437.967\" r=\"7\" fill=\"#ffffe0\" fill-rule=\"evenodd\" fill-opacity=\"0.9\" stroke=\"#000000\" stroke-opacity=\"0.9\" stroke-width=\"3.2\"/>\n",
       "<circle clip-path=\"url(#clip962)\" cx=\"513.041\" cy=\"439.306\" r=\"7\" fill=\"#ffffe0\" fill-rule=\"evenodd\" fill-opacity=\"0.9\" stroke=\"#000000\" stroke-opacity=\"0.9\" stroke-width=\"3.2\"/>\n",
       "<circle clip-path=\"url(#clip962)\" cx=\"948.112\" cy=\"315.345\" r=\"7\" fill=\"#ffffe0\" fill-rule=\"evenodd\" fill-opacity=\"0.9\" stroke=\"#000000\" stroke-opacity=\"0.9\" stroke-width=\"3.2\"/>\n",
       "<circle clip-path=\"url(#clip962)\" cx=\"917.042\" cy=\"324.251\" r=\"7\" fill=\"#ffffe0\" fill-rule=\"evenodd\" fill-opacity=\"0.9\" stroke=\"#000000\" stroke-opacity=\"0.9\" stroke-width=\"3.2\"/>\n",
       "<circle clip-path=\"url(#clip962)\" cx=\"1021.74\" cy=\"294.788\" r=\"7\" fill=\"#ffffe0\" fill-rule=\"evenodd\" fill-opacity=\"0.9\" stroke=\"#000000\" stroke-opacity=\"0.9\" stroke-width=\"3.2\"/>\n",
       "<circle clip-path=\"url(#clip962)\" cx=\"1006.41\" cy=\"299.256\" r=\"7\" fill=\"#ffffe0\" fill-rule=\"evenodd\" fill-opacity=\"0.9\" stroke=\"#000000\" stroke-opacity=\"0.9\" stroke-width=\"3.2\"/>\n",
       "<circle clip-path=\"url(#clip962)\" cx=\"921.934\" cy=\"323.464\" r=\"7\" fill=\"#ffffe0\" fill-rule=\"evenodd\" fill-opacity=\"0.9\" stroke=\"#000000\" stroke-opacity=\"0.9\" stroke-width=\"3.2\"/>\n",
       "<circle clip-path=\"url(#clip962)\" cx=\"512.55\" cy=\"440.427\" r=\"7\" fill=\"#ffffe0\" fill-rule=\"evenodd\" fill-opacity=\"0.9\" stroke=\"#000000\" stroke-opacity=\"0.9\" stroke-width=\"3.2\"/>\n",
       "<circle clip-path=\"url(#clip962)\" cx=\"984.041\" cy=\"306.246\" r=\"7\" fill=\"#ffffe0\" fill-rule=\"evenodd\" fill-opacity=\"0.9\" stroke=\"#000000\" stroke-opacity=\"0.9\" stroke-width=\"3.2\"/>\n",
       "<circle clip-path=\"url(#clip962)\" cx=\"502.276\" cy=\"443.643\" r=\"7\" fill=\"#ffffe0\" fill-rule=\"evenodd\" fill-opacity=\"0.9\" stroke=\"#000000\" stroke-opacity=\"0.9\" stroke-width=\"3.2\"/>\n",
       "<circle clip-path=\"url(#clip962)\" cx=\"505.576\" cy=\"442.969\" r=\"7\" fill=\"#ffffe0\" fill-rule=\"evenodd\" fill-opacity=\"0.9\" stroke=\"#000000\" stroke-opacity=\"0.9\" stroke-width=\"3.2\"/>\n",
       "<circle clip-path=\"url(#clip962)\" cx=\"496.409\" cy=\"445.641\" r=\"7\" fill=\"#ffffe0\" fill-rule=\"evenodd\" fill-opacity=\"0.9\" stroke=\"#000000\" stroke-opacity=\"0.9\" stroke-width=\"3.2\"/>\n",
       "<circle clip-path=\"url(#clip962)\" cx=\"973.167\" cy=\"310.25\" r=\"7\" fill=\"#ffffe0\" fill-rule=\"evenodd\" fill-opacity=\"0.9\" stroke=\"#000000\" stroke-opacity=\"0.9\" stroke-width=\"3.2\"/>\n",
       "<circle clip-path=\"url(#clip962)\" cx=\"1018.3\" cy=\"297.442\" r=\"7\" fill=\"#ffffe0\" fill-rule=\"evenodd\" fill-opacity=\"0.9\" stroke=\"#000000\" stroke-opacity=\"0.9\" stroke-width=\"3.2\"/>\n",
       "<circle clip-path=\"url(#clip962)\" cx=\"1004.72\" cy=\"301.599\" r=\"7\" fill=\"#ffffe0\" fill-rule=\"evenodd\" fill-opacity=\"0.9\" stroke=\"#000000\" stroke-opacity=\"0.9\" stroke-width=\"3.2\"/>\n",
       "<circle clip-path=\"url(#clip962)\" cx=\"997.942\" cy=\"303.539\" r=\"7\" fill=\"#ffffe0\" fill-rule=\"evenodd\" fill-opacity=\"0.9\" stroke=\"#000000\" stroke-opacity=\"0.9\" stroke-width=\"3.2\"/>\n",
       "<circle clip-path=\"url(#clip962)\" cx=\"995.612\" cy=\"304.432\" r=\"7\" fill=\"#ffffe0\" fill-rule=\"evenodd\" fill-opacity=\"0.9\" stroke=\"#000000\" stroke-opacity=\"0.9\" stroke-width=\"3.2\"/>\n",
       "<circle clip-path=\"url(#clip962)\" cx=\"967.221\" cy=\"312.655\" r=\"7\" fill=\"#ffffe0\" fill-rule=\"evenodd\" fill-opacity=\"0.9\" stroke=\"#000000\" stroke-opacity=\"0.9\" stroke-width=\"3.2\"/>\n",
       "<circle clip-path=\"url(#clip962)\" cx=\"953.925\" cy=\"316.534\" r=\"7\" fill=\"#ffffe0\" fill-rule=\"evenodd\" fill-opacity=\"0.9\" stroke=\"#000000\" stroke-opacity=\"0.9\" stroke-width=\"3.2\"/>\n",
       "<circle clip-path=\"url(#clip962)\" cx=\"980.458\" cy=\"309.388\" r=\"7\" fill=\"#ffffe0\" fill-rule=\"evenodd\" fill-opacity=\"0.9\" stroke=\"#000000\" stroke-opacity=\"0.9\" stroke-width=\"3.2\"/>\n",
       "<circle clip-path=\"url(#clip962)\" cx=\"496.115\" cy=\"446.743\" r=\"7\" fill=\"#ffffe0\" fill-rule=\"evenodd\" fill-opacity=\"0.9\" stroke=\"#000000\" stroke-opacity=\"0.9\" stroke-width=\"3.2\"/>\n",
       "<circle clip-path=\"url(#clip962)\" cx=\"996.413\" cy=\"305.293\" r=\"7\" fill=\"#ffffe0\" fill-rule=\"evenodd\" fill-opacity=\"0.9\" stroke=\"#000000\" stroke-opacity=\"0.9\" stroke-width=\"3.2\"/>\n",
       "<circle clip-path=\"url(#clip962)\" cx=\"493.798\" cy=\"447.741\" r=\"7\" fill=\"#ffffe0\" fill-rule=\"evenodd\" fill-opacity=\"0.9\" stroke=\"#000000\" stroke-opacity=\"0.9\" stroke-width=\"3.2\"/>\n",
       "<circle clip-path=\"url(#clip962)\" cx=\"507.055\" cy=\"444.138\" r=\"7\" fill=\"#ffffe0\" fill-rule=\"evenodd\" fill-opacity=\"0.9\" stroke=\"#000000\" stroke-opacity=\"0.9\" stroke-width=\"3.2\"/>\n",
       "<circle clip-path=\"url(#clip962)\" cx=\"1056.38\" cy=\"288.633\" r=\"7\" fill=\"#ffffe0\" fill-rule=\"evenodd\" fill-opacity=\"0.9\" stroke=\"#000000\" stroke-opacity=\"0.9\" stroke-width=\"3.2\"/>\n",
       "<circle clip-path=\"url(#clip962)\" cx=\"1006.52\" cy=\"302.866\" r=\"7\" fill=\"#ffffe0\" fill-rule=\"evenodd\" fill-opacity=\"0.9\" stroke=\"#000000\" stroke-opacity=\"0.9\" stroke-width=\"3.2\"/>\n",
       "<circle clip-path=\"url(#clip962)\" cx=\"1032.89\" cy=\"295.795\" r=\"7\" fill=\"#ffffe0\" fill-rule=\"evenodd\" fill-opacity=\"0.9\" stroke=\"#000000\" stroke-opacity=\"0.9\" stroke-width=\"3.2\"/>\n",
       "<circle clip-path=\"url(#clip962)\" cx=\"488.211\" cy=\"449.943\" r=\"7\" fill=\"#ffffe0\" fill-rule=\"evenodd\" fill-opacity=\"0.9\" stroke=\"#000000\" stroke-opacity=\"0.9\" stroke-width=\"3.2\"/>\n",
       "<circle clip-path=\"url(#clip962)\" cx=\"490.892\" cy=\"449.554\" r=\"7\" fill=\"#ffffe0\" fill-rule=\"evenodd\" fill-opacity=\"0.9\" stroke=\"#000000\" stroke-opacity=\"0.9\" stroke-width=\"3.2\"/>\n",
       "<circle clip-path=\"url(#clip962)\" cx=\"486.074\" cy=\"451.205\" r=\"7\" fill=\"#ffffe0\" fill-rule=\"evenodd\" fill-opacity=\"0.9\" stroke=\"#000000\" stroke-opacity=\"0.9\" stroke-width=\"3.2\"/>\n",
       "<circle clip-path=\"url(#clip962)\" cx=\"1114.08\" cy=\"274.536\" r=\"7\" fill=\"#ffffe0\" fill-rule=\"evenodd\" fill-opacity=\"0.9\" stroke=\"#000000\" stroke-opacity=\"0.9\" stroke-width=\"3.2\"/>\n",
       "<circle clip-path=\"url(#clip962)\" cx=\"483.338\" cy=\"452.869\" r=\"7\" fill=\"#ffffe0\" fill-rule=\"evenodd\" fill-opacity=\"0.9\" stroke=\"#000000\" stroke-opacity=\"0.9\" stroke-width=\"3.2\"/>\n",
       "<circle clip-path=\"url(#clip962)\" cx=\"1052.32\" cy=\"293.158\" r=\"7\" fill=\"#ffffe0\" fill-rule=\"evenodd\" fill-opacity=\"0.9\" stroke=\"#000000\" stroke-opacity=\"0.9\" stroke-width=\"3.2\"/>\n",
       "<circle clip-path=\"url(#clip962)\" cx=\"479.299\" cy=\"454.649\" r=\"7\" fill=\"#ffffe0\" fill-rule=\"evenodd\" fill-opacity=\"0.9\" stroke=\"#000000\" stroke-opacity=\"0.9\" stroke-width=\"3.2\"/>\n",
       "<circle clip-path=\"url(#clip962)\" cx=\"1029.51\" cy=\"299.827\" r=\"7\" fill=\"#ffffe0\" fill-rule=\"evenodd\" fill-opacity=\"0.9\" stroke=\"#000000\" stroke-opacity=\"0.9\" stroke-width=\"3.2\"/>\n",
       "<circle clip-path=\"url(#clip962)\" cx=\"485.086\" cy=\"453.117\" r=\"7\" fill=\"#ffffe0\" fill-rule=\"evenodd\" fill-opacity=\"0.9\" stroke=\"#000000\" stroke-opacity=\"0.9\" stroke-width=\"3.2\"/>\n",
       "<circle clip-path=\"url(#clip962)\" cx=\"1126.8\" cy=\"272.722\" r=\"7\" fill=\"#ffffe0\" fill-rule=\"evenodd\" fill-opacity=\"0.9\" stroke=\"#000000\" stroke-opacity=\"0.9\" stroke-width=\"3.2\"/>\n",
       "<circle clip-path=\"url(#clip962)\" cx=\"1069.01\" cy=\"289.815\" r=\"7\" fill=\"#ffffe0\" fill-rule=\"evenodd\" fill-opacity=\"0.9\" stroke=\"#000000\" stroke-opacity=\"0.9\" stroke-width=\"3.2\"/>\n",
       "<circle clip-path=\"url(#clip962)\" cx=\"476.203\" cy=\"456.502\" r=\"7\" fill=\"#ffffe0\" fill-rule=\"evenodd\" fill-opacity=\"0.9\" stroke=\"#000000\" stroke-opacity=\"0.9\" stroke-width=\"3.2\"/>\n",
       "<circle clip-path=\"url(#clip962)\" cx=\"479.087\" cy=\"455.724\" r=\"7\" fill=\"#ffffe0\" fill-rule=\"evenodd\" fill-opacity=\"0.9\" stroke=\"#000000\" stroke-opacity=\"0.9\" stroke-width=\"3.2\"/>\n",
       "<circle clip-path=\"url(#clip962)\" cx=\"1089.2\" cy=\"285.156\" r=\"7\" fill=\"#ffffe0\" fill-rule=\"evenodd\" fill-opacity=\"0.9\" stroke=\"#000000\" stroke-opacity=\"0.9\" stroke-width=\"3.2\"/>\n",
       "<circle clip-path=\"url(#clip962)\" cx=\"474.273\" cy=\"457.825\" r=\"7\" fill=\"#ffffe0\" fill-rule=\"evenodd\" fill-opacity=\"0.9\" stroke=\"#000000\" stroke-opacity=\"0.9\" stroke-width=\"3.2\"/>\n",
       "<circle clip-path=\"url(#clip962)\" cx=\"1110.59\" cy=\"279.534\" r=\"7\" fill=\"#ffffe0\" fill-rule=\"evenodd\" fill-opacity=\"0.9\" stroke=\"#000000\" stroke-opacity=\"0.9\" stroke-width=\"3.2\"/>\n",
       "<circle clip-path=\"url(#clip962)\" cx=\"1064.65\" cy=\"292.451\" r=\"7\" fill=\"#ffffe0\" fill-rule=\"evenodd\" fill-opacity=\"0.9\" stroke=\"#000000\" stroke-opacity=\"0.9\" stroke-width=\"3.2\"/>\n",
       "<circle clip-path=\"url(#clip962)\" cx=\"472.471\" cy=\"458.794\" r=\"7\" fill=\"#ffffe0\" fill-rule=\"evenodd\" fill-opacity=\"0.9\" stroke=\"#000000\" stroke-opacity=\"0.9\" stroke-width=\"3.2\"/>\n",
       "<circle clip-path=\"url(#clip962)\" cx=\"1073.1\" cy=\"290.896\" r=\"7\" fill=\"#ffffe0\" fill-rule=\"evenodd\" fill-opacity=\"0.9\" stroke=\"#000000\" stroke-opacity=\"0.9\" stroke-width=\"3.2\"/>\n",
       "<circle clip-path=\"url(#clip962)\" cx=\"469.457\" cy=\"459.958\" r=\"7\" fill=\"#ffffe0\" fill-rule=\"evenodd\" fill-opacity=\"0.9\" stroke=\"#000000\" stroke-opacity=\"0.9\" stroke-width=\"3.2\"/>\n",
       "<circle clip-path=\"url(#clip962)\" cx=\"1101.77\" cy=\"283.342\" r=\"7\" fill=\"#ffffe0\" fill-rule=\"evenodd\" fill-opacity=\"0.9\" stroke=\"#000000\" stroke-opacity=\"0.9\" stroke-width=\"3.2\"/>\n",
       "<circle clip-path=\"url(#clip962)\" cx=\"1099.16\" cy=\"284.184\" r=\"7\" fill=\"#ffffe0\" fill-rule=\"evenodd\" fill-opacity=\"0.9\" stroke=\"#000000\" stroke-opacity=\"0.9\" stroke-width=\"3.2\"/>\n",
       "<circle clip-path=\"url(#clip962)\" cx=\"1089.26\" cy=\"287.191\" r=\"7\" fill=\"#ffffe0\" fill-rule=\"evenodd\" fill-opacity=\"0.9\" stroke=\"#000000\" stroke-opacity=\"0.9\" stroke-width=\"3.2\"/>\n",
       "<circle clip-path=\"url(#clip962)\" cx=\"1152.13\" cy=\"269.889\" r=\"7\" fill=\"#ffffe0\" fill-rule=\"evenodd\" fill-opacity=\"0.9\" stroke=\"#000000\" stroke-opacity=\"0.9\" stroke-width=\"3.2\"/>\n",
       "<circle clip-path=\"url(#clip962)\" cx=\"1111.64\" cy=\"281.433\" r=\"7\" fill=\"#ffffe0\" fill-rule=\"evenodd\" fill-opacity=\"0.9\" stroke=\"#000000\" stroke-opacity=\"0.9\" stroke-width=\"3.2\"/>\n",
       "<circle clip-path=\"url(#clip962)\" cx=\"466.035\" cy=\"461.851\" r=\"7\" fill=\"#ffffe0\" fill-rule=\"evenodd\" fill-opacity=\"0.9\" stroke=\"#000000\" stroke-opacity=\"0.9\" stroke-width=\"3.2\"/>\n",
       "<circle clip-path=\"url(#clip962)\" cx=\"1158.02\" cy=\"269.278\" r=\"7\" fill=\"#ffffe0\" fill-rule=\"evenodd\" fill-opacity=\"0.9\" stroke=\"#000000\" stroke-opacity=\"0.9\" stroke-width=\"3.2\"/>\n",
       "<circle clip-path=\"url(#clip962)\" cx=\"465.708\" cy=\"462.286\" r=\"7\" fill=\"#ffffe0\" fill-rule=\"evenodd\" fill-opacity=\"0.9\" stroke=\"#000000\" stroke-opacity=\"0.9\" stroke-width=\"3.2\"/>\n",
       "<circle clip-path=\"url(#clip962)\" cx=\"1133.35\" cy=\"276.44\" r=\"7\" fill=\"#ffffe0\" fill-rule=\"evenodd\" fill-opacity=\"0.9\" stroke=\"#000000\" stroke-opacity=\"0.9\" stroke-width=\"3.2\"/>\n",
       "<circle clip-path=\"url(#clip962)\" cx=\"1093.1\" cy=\"287.727\" r=\"7\" fill=\"#ffffe0\" fill-rule=\"evenodd\" fill-opacity=\"0.9\" stroke=\"#000000\" stroke-opacity=\"0.9\" stroke-width=\"3.2\"/>\n",
       "<circle clip-path=\"url(#clip962)\" cx=\"462.195\" cy=\"463.819\" r=\"7\" fill=\"#ffffe0\" fill-rule=\"evenodd\" fill-opacity=\"0.9\" stroke=\"#000000\" stroke-opacity=\"0.9\" stroke-width=\"3.2\"/>\n",
       "<circle clip-path=\"url(#clip962)\" cx=\"1114.01\" cy=\"282.675\" r=\"7\" fill=\"#ffffe0\" fill-rule=\"evenodd\" fill-opacity=\"0.9\" stroke=\"#000000\" stroke-opacity=\"0.9\" stroke-width=\"3.2\"/>\n",
       "<circle clip-path=\"url(#clip962)\" cx=\"1158.76\" cy=\"271.092\" r=\"7\" fill=\"#ffffe0\" fill-rule=\"evenodd\" fill-opacity=\"0.9\" stroke=\"#000000\" stroke-opacity=\"0.9\" stroke-width=\"3.2\"/>\n",
       "<circle clip-path=\"url(#clip962)\" cx=\"1216.26\" cy=\"255.182\" r=\"7\" fill=\"#ffffe0\" fill-rule=\"evenodd\" fill-opacity=\"0.9\" stroke=\"#000000\" stroke-opacity=\"0.9\" stroke-width=\"3.2\"/>\n",
       "<circle clip-path=\"url(#clip962)\" cx=\"462.088\" cy=\"464.787\" r=\"7\" fill=\"#ffffe0\" fill-rule=\"evenodd\" fill-opacity=\"0.9\" stroke=\"#000000\" stroke-opacity=\"0.9\" stroke-width=\"3.2\"/>\n",
       "<circle clip-path=\"url(#clip962)\" cx=\"460.637\" cy=\"466.022\" r=\"7\" fill=\"#ffffe0\" fill-rule=\"evenodd\" fill-opacity=\"0.9\" stroke=\"#000000\" stroke-opacity=\"0.9\" stroke-width=\"3.2\"/>\n",
       "<circle clip-path=\"url(#clip962)\" cx=\"1177.54\" cy=\"267.749\" r=\"7\" fill=\"#ffffe0\" fill-rule=\"evenodd\" fill-opacity=\"0.9\" stroke=\"#000000\" stroke-opacity=\"0.9\" stroke-width=\"3.2\"/>\n",
       "<circle clip-path=\"url(#clip962)\" cx=\"1229.53\" cy=\"253.368\" r=\"7\" fill=\"#ffffe0\" fill-rule=\"evenodd\" fill-opacity=\"0.9\" stroke=\"#000000\" stroke-opacity=\"0.9\" stroke-width=\"3.2\"/>\n",
       "<circle clip-path=\"url(#clip962)\" cx=\"459.275\" cy=\"467.037\" r=\"7\" fill=\"#ffffe0\" fill-rule=\"evenodd\" fill-opacity=\"0.9\" stroke=\"#000000\" stroke-opacity=\"0.9\" stroke-width=\"3.2\"/>\n",
       "<circle clip-path=\"url(#clip962)\" cx=\"457.889\" cy=\"467.509\" r=\"7\" fill=\"#ffffe0\" fill-rule=\"evenodd\" fill-opacity=\"0.9\" stroke=\"#000000\" stroke-opacity=\"0.9\" stroke-width=\"3.2\"/>\n",
       "<circle clip-path=\"url(#clip962)\" cx=\"450.508\" cy=\"469.559\" r=\"7\" fill=\"#ffffe0\" fill-rule=\"evenodd\" fill-opacity=\"0.9\" stroke=\"#000000\" stroke-opacity=\"0.9\" stroke-width=\"3.2\"/>\n",
       "<circle clip-path=\"url(#clip962)\" cx=\"449.976\" cy=\"470.113\" r=\"7\" fill=\"#ffffe0\" fill-rule=\"evenodd\" fill-opacity=\"0.9\" stroke=\"#000000\" stroke-opacity=\"0.9\" stroke-width=\"3.2\"/>\n",
       "<circle clip-path=\"url(#clip962)\" cx=\"1148.83\" cy=\"278.188\" r=\"7\" fill=\"#ffffe0\" fill-rule=\"evenodd\" fill-opacity=\"0.9\" stroke=\"#000000\" stroke-opacity=\"0.9\" stroke-width=\"3.2\"/>\n",
       "<circle clip-path=\"url(#clip962)\" cx=\"1215.29\" cy=\"260.179\" r=\"7\" fill=\"#ffffe0\" fill-rule=\"evenodd\" fill-opacity=\"0.9\" stroke=\"#000000\" stroke-opacity=\"0.9\" stroke-width=\"3.2\"/>\n",
       "<circle clip-path=\"url(#clip962)\" cx=\"1167.59\" cy=\"273.94\" r=\"7\" fill=\"#ffffe0\" fill-rule=\"evenodd\" fill-opacity=\"0.9\" stroke=\"#000000\" stroke-opacity=\"0.9\" stroke-width=\"3.2\"/>\n",
       "<circle clip-path=\"url(#clip962)\" cx=\"452.465\" cy=\"471.146\" r=\"7\" fill=\"#ffffe0\" fill-rule=\"evenodd\" fill-opacity=\"0.9\" stroke=\"#000000\" stroke-opacity=\"0.9\" stroke-width=\"3.2\"/>\n",
       "<circle clip-path=\"url(#clip962)\" cx=\"447.333\" cy=\"472.629\" r=\"7\" fill=\"#ffffe0\" fill-rule=\"evenodd\" fill-opacity=\"0.9\" stroke=\"#000000\" stroke-opacity=\"0.9\" stroke-width=\"3.2\"/>\n",
       "<circle clip-path=\"url(#clip962)\" cx=\"1162.23\" cy=\"276.148\" r=\"7\" fill=\"#ffffe0\" fill-rule=\"evenodd\" fill-opacity=\"0.9\" stroke=\"#000000\" stroke-opacity=\"0.9\" stroke-width=\"3.2\"/>\n",
       "<circle clip-path=\"url(#clip962)\" cx=\"439.406\" cy=\"475.3\" r=\"7\" fill=\"#ffffe0\" fill-rule=\"evenodd\" fill-opacity=\"0.9\" stroke=\"#000000\" stroke-opacity=\"0.9\" stroke-width=\"3.2\"/>\n",
       "<circle clip-path=\"url(#clip962)\" cx=\"1258.85\" cy=\"250.535\" r=\"7\" fill=\"#ffffe0\" fill-rule=\"evenodd\" fill-opacity=\"0.9\" stroke=\"#000000\" stroke-opacity=\"0.9\" stroke-width=\"3.2\"/>\n",
       "<circle clip-path=\"url(#clip962)\" cx=\"447.072\" cy=\"473.502\" r=\"7\" fill=\"#ffffe0\" fill-rule=\"evenodd\" fill-opacity=\"0.9\" stroke=\"#000000\" stroke-opacity=\"0.9\" stroke-width=\"3.2\"/>\n",
       "<circle clip-path=\"url(#clip962)\" cx=\"444.769\" cy=\"474.443\" r=\"7\" fill=\"#ffffe0\" fill-rule=\"evenodd\" fill-opacity=\"0.9\" stroke=\"#000000\" stroke-opacity=\"0.9\" stroke-width=\"3.2\"/>\n",
       "<circle clip-path=\"url(#clip962)\" cx=\"437.208\" cy=\"477.4\" r=\"7\" fill=\"#ffffe0\" fill-rule=\"evenodd\" fill-opacity=\"0.9\" stroke=\"#000000\" stroke-opacity=\"0.9\" stroke-width=\"3.2\"/>\n",
       "<circle clip-path=\"url(#clip962)\" cx=\"1219.46\" cy=\"263.321\" r=\"7\" fill=\"#ffffe0\" fill-rule=\"evenodd\" fill-opacity=\"0.9\" stroke=\"#000000\" stroke-opacity=\"0.9\" stroke-width=\"3.2\"/>\n",
       "<circle clip-path=\"url(#clip962)\" cx=\"1242.19\" cy=\"257.283\" r=\"7\" fill=\"#ffffe0\" fill-rule=\"evenodd\" fill-opacity=\"0.9\" stroke=\"#000000\" stroke-opacity=\"0.9\" stroke-width=\"3.2\"/>\n",
       "<circle clip-path=\"url(#clip962)\" cx=\"1262.71\" cy=\"251.737\" r=\"7\" fill=\"#ffffe0\" fill-rule=\"evenodd\" fill-opacity=\"0.9\" stroke=\"#000000\" stroke-opacity=\"0.9\" stroke-width=\"3.2\"/>\n",
       "<circle clip-path=\"url(#clip962)\" cx=\"436.154\" cy=\"478.274\" r=\"7\" fill=\"#ffffe0\" fill-rule=\"evenodd\" fill-opacity=\"0.9\" stroke=\"#000000\" stroke-opacity=\"0.9\" stroke-width=\"3.2\"/>\n",
       "<circle clip-path=\"url(#clip962)\" cx=\"1242.21\" cy=\"258.444\" r=\"7\" fill=\"#ffffe0\" fill-rule=\"evenodd\" fill-opacity=\"0.9\" stroke=\"#000000\" stroke-opacity=\"0.9\" stroke-width=\"3.2\"/>\n",
       "<circle clip-path=\"url(#clip962)\" cx=\"436.03\" cy=\"478.828\" r=\"7\" fill=\"#ffffe0\" fill-rule=\"evenodd\" fill-opacity=\"0.9\" stroke=\"#000000\" stroke-opacity=\"0.9\" stroke-width=\"3.2\"/>\n",
       "<circle clip-path=\"url(#clip962)\" cx=\"433.489\" cy=\"479.806\" r=\"7\" fill=\"#ffffe0\" fill-rule=\"evenodd\" fill-opacity=\"0.9\" stroke=\"#000000\" stroke-opacity=\"0.9\" stroke-width=\"3.2\"/>\n",
       "<circle clip-path=\"url(#clip962)\" cx=\"1283.54\" cy=\"248.394\" r=\"7\" fill=\"#ffffe0\" fill-rule=\"evenodd\" fill-opacity=\"0.9\" stroke=\"#000000\" stroke-opacity=\"0.9\" stroke-width=\"3.2\"/>\n",
       "<circle clip-path=\"url(#clip962)\" cx=\"1223.24\" cy=\"264.926\" r=\"7\" fill=\"#ffffe0\" fill-rule=\"evenodd\" fill-opacity=\"0.9\" stroke=\"#000000\" stroke-opacity=\"0.9\" stroke-width=\"3.2\"/>\n",
       "<circle clip-path=\"url(#clip962)\" cx=\"430.752\" cy=\"481.955\" r=\"7\" fill=\"#ffffe0\" fill-rule=\"evenodd\" fill-opacity=\"0.9\" stroke=\"#000000\" stroke-opacity=\"0.9\" stroke-width=\"3.2\"/>\n",
       "<circle clip-path=\"url(#clip962)\" cx=\"434.862\" cy=\"481.284\" r=\"7\" fill=\"#ffffe0\" fill-rule=\"evenodd\" fill-opacity=\"0.9\" stroke=\"#000000\" stroke-opacity=\"0.9\" stroke-width=\"3.2\"/>\n",
       "<circle clip-path=\"url(#clip962)\" cx=\"1226.01\" cy=\"267.248\" r=\"7\" fill=\"#ffffe0\" fill-rule=\"evenodd\" fill-opacity=\"0.9\" stroke=\"#000000\" stroke-opacity=\"0.9\" stroke-width=\"3.2\"/>\n",
       "<circle clip-path=\"url(#clip962)\" cx=\"424.891\" cy=\"484.44\" r=\"7\" fill=\"#ffffe0\" fill-rule=\"evenodd\" fill-opacity=\"0.9\" stroke=\"#000000\" stroke-opacity=\"0.9\" stroke-width=\"3.2\"/>\n",
       "<circle clip-path=\"url(#clip962)\" cx=\"1273.21\" cy=\"254.585\" r=\"7\" fill=\"#ffffe0\" fill-rule=\"evenodd\" fill-opacity=\"0.9\" stroke=\"#000000\" stroke-opacity=\"0.9\" stroke-width=\"3.2\"/>\n",
       "<circle clip-path=\"url(#clip962)\" cx=\"429.397\" cy=\"483.462\" r=\"7\" fill=\"#ffffe0\" fill-rule=\"evenodd\" fill-opacity=\"0.9\" stroke=\"#000000\" stroke-opacity=\"0.9\" stroke-width=\"3.2\"/>\n",
       "<circle clip-path=\"url(#clip962)\" cx=\"1251.02\" cy=\"261.175\" r=\"7\" fill=\"#ffffe0\" fill-rule=\"evenodd\" fill-opacity=\"0.9\" stroke=\"#000000\" stroke-opacity=\"0.9\" stroke-width=\"3.2\"/>\n",
       "<circle clip-path=\"url(#clip962)\" cx=\"1187.41\" cy=\"278.674\" r=\"7\" fill=\"#ffffe0\" fill-rule=\"evenodd\" fill-opacity=\"0.9\" stroke=\"#000000\" stroke-opacity=\"0.9\" stroke-width=\"3.2\"/>\n",
       "<circle clip-path=\"url(#clip962)\" cx=\"1374.61\" cy=\"228.469\" r=\"7\" fill=\"#ffffe0\" fill-rule=\"evenodd\" fill-opacity=\"0.9\" stroke=\"#000000\" stroke-opacity=\"0.9\" stroke-width=\"3.2\"/>\n",
       "<circle clip-path=\"url(#clip962)\" cx=\"424.22\" cy=\"486.055\" r=\"7\" fill=\"#ffffe0\" fill-rule=\"evenodd\" fill-opacity=\"0.9\" stroke=\"#000000\" stroke-opacity=\"0.9\" stroke-width=\"3.2\"/>\n",
       "<circle clip-path=\"url(#clip962)\" cx=\"1239.76\" cy=\"266.152\" r=\"7\" fill=\"#ffffe0\" fill-rule=\"evenodd\" fill-opacity=\"0.9\" stroke=\"#000000\" stroke-opacity=\"0.9\" stroke-width=\"3.2\"/>\n",
       "<circle clip-path=\"url(#clip962)\" cx=\"420.377\" cy=\"487.588\" r=\"7\" fill=\"#ffffe0\" fill-rule=\"evenodd\" fill-opacity=\"0.9\" stroke=\"#000000\" stroke-opacity=\"0.9\" stroke-width=\"3.2\"/>\n",
       "<circle clip-path=\"url(#clip962)\" cx=\"424.392\" cy=\"486.61\" r=\"7\" fill=\"#ffffe0\" fill-rule=\"evenodd\" fill-opacity=\"0.9\" stroke=\"#000000\" stroke-opacity=\"0.9\" stroke-width=\"3.2\"/>\n",
       "<circle clip-path=\"url(#clip962)\" cx=\"1275.61\" cy=\"257.765\" r=\"7\" fill=\"#ffffe0\" fill-rule=\"evenodd\" fill-opacity=\"0.9\" stroke=\"#000000\" stroke-opacity=\"0.9\" stroke-width=\"3.2\"/>\n",
       "<circle clip-path=\"url(#clip962)\" cx=\"1351.9\" cy=\"239.089\" r=\"7\" fill=\"#ffffe0\" fill-rule=\"evenodd\" fill-opacity=\"0.9\" stroke=\"#000000\" stroke-opacity=\"0.9\" stroke-width=\"3.2\"/>\n",
       "<circle clip-path=\"url(#clip962)\" cx=\"421.779\" cy=\"488.967\" r=\"7\" fill=\"#ffffe0\" fill-rule=\"evenodd\" fill-opacity=\"0.9\" stroke=\"#000000\" stroke-opacity=\"0.9\" stroke-width=\"3.2\"/>\n",
       "<circle clip-path=\"url(#clip962)\" cx=\"1331.55\" cy=\"245.571\" r=\"7\" fill=\"#ffffe0\" fill-rule=\"evenodd\" fill-opacity=\"0.9\" stroke=\"#000000\" stroke-opacity=\"0.9\" stroke-width=\"3.2\"/>\n",
       "<circle clip-path=\"url(#clip962)\" cx=\"1323.31\" cy=\"248.198\" r=\"7\" fill=\"#ffffe0\" fill-rule=\"evenodd\" fill-opacity=\"0.9\" stroke=\"#000000\" stroke-opacity=\"0.9\" stroke-width=\"3.2\"/>\n",
       "<circle clip-path=\"url(#clip962)\" cx=\"420.516\" cy=\"490.056\" r=\"7\" fill=\"#ffffe0\" fill-rule=\"evenodd\" fill-opacity=\"0.9\" stroke=\"#000000\" stroke-opacity=\"0.9\" stroke-width=\"3.2\"/>\n",
       "<circle clip-path=\"url(#clip962)\" cx=\"419.095\" cy=\"491.397\" r=\"7\" fill=\"#ffffe0\" fill-rule=\"evenodd\" fill-opacity=\"0.9\" stroke=\"#000000\" stroke-opacity=\"0.9\" stroke-width=\"3.2\"/>\n",
       "<circle clip-path=\"url(#clip962)\" cx=\"413.164\" cy=\"493.155\" r=\"7\" fill=\"#ffffe0\" fill-rule=\"evenodd\" fill-opacity=\"0.9\" stroke=\"#000000\" stroke-opacity=\"0.9\" stroke-width=\"3.2\"/>\n",
       "<circle clip-path=\"url(#clip962)\" cx=\"415.747\" cy=\"492.575\" r=\"7\" fill=\"#ffffe0\" fill-rule=\"evenodd\" fill-opacity=\"0.9\" stroke=\"#000000\" stroke-opacity=\"0.9\" stroke-width=\"3.2\"/>\n",
       "<circle clip-path=\"url(#clip962)\" cx=\"410.954\" cy=\"494.293\" r=\"7\" fill=\"#ffffe0\" fill-rule=\"evenodd\" fill-opacity=\"0.9\" stroke=\"#000000\" stroke-opacity=\"0.9\" stroke-width=\"3.2\"/>\n",
       "<circle clip-path=\"url(#clip962)\" cx=\"408.37\" cy=\"495.271\" r=\"7\" fill=\"#ffffe0\" fill-rule=\"evenodd\" fill-opacity=\"0.9\" stroke=\"#000000\" stroke-opacity=\"0.9\" stroke-width=\"3.2\"/>\n",
       "<circle clip-path=\"url(#clip962)\" cx=\"1348.19\" cy=\"246.798\" r=\"7\" fill=\"#ffffe0\" fill-rule=\"evenodd\" fill-opacity=\"0.9\" stroke=\"#000000\" stroke-opacity=\"0.9\" stroke-width=\"3.2\"/>\n",
       "<circle clip-path=\"url(#clip962)\" cx=\"410.441\" cy=\"496.386\" r=\"7\" fill=\"#ffffe0\" fill-rule=\"evenodd\" fill-opacity=\"0.9\" stroke=\"#000000\" stroke-opacity=\"0.9\" stroke-width=\"3.2\"/>\n",
       "<circle clip-path=\"url(#clip962)\" cx=\"408.124\" cy=\"497.844\" r=\"7\" fill=\"#ffffe0\" fill-rule=\"evenodd\" fill-opacity=\"0.9\" stroke=\"#000000\" stroke-opacity=\"0.9\" stroke-width=\"3.2\"/>\n",
       "<circle clip-path=\"url(#clip962)\" cx=\"404.409\" cy=\"499.057\" r=\"7\" fill=\"#ffffe0\" fill-rule=\"evenodd\" fill-opacity=\"0.9\" stroke=\"#000000\" stroke-opacity=\"0.9\" stroke-width=\"3.2\"/>\n",
       "<circle clip-path=\"url(#clip962)\" cx=\"1403.68\" cy=\"236.052\" r=\"7\" fill=\"#ffffe0\" fill-rule=\"evenodd\" fill-opacity=\"0.9\" stroke=\"#000000\" stroke-opacity=\"0.9\" stroke-width=\"3.2\"/>\n",
       "<circle clip-path=\"url(#clip962)\" cx=\"401.414\" cy=\"500.937\" r=\"7\" fill=\"#ffffe0\" fill-rule=\"evenodd\" fill-opacity=\"0.9\" stroke=\"#000000\" stroke-opacity=\"0.9\" stroke-width=\"3.2\"/>\n",
       "<circle clip-path=\"url(#clip962)\" cx=\"405.912\" cy=\"500.146\" r=\"7\" fill=\"#ffffe0\" fill-rule=\"evenodd\" fill-opacity=\"0.9\" stroke=\"#000000\" stroke-opacity=\"0.9\" stroke-width=\"3.2\"/>\n",
       "<circle clip-path=\"url(#clip962)\" cx=\"400.583\" cy=\"502.15\" r=\"7\" fill=\"#ffffe0\" fill-rule=\"evenodd\" fill-opacity=\"0.9\" stroke=\"#000000\" stroke-opacity=\"0.9\" stroke-width=\"3.2\"/>\n",
       "<circle clip-path=\"url(#clip962)\" cx=\"397.963\" cy=\"503.986\" r=\"7\" fill=\"#ffffe0\" fill-rule=\"evenodd\" fill-opacity=\"0.9\" stroke=\"#000000\" stroke-opacity=\"0.9\" stroke-width=\"3.2\"/>\n",
       "<circle clip-path=\"url(#clip962)\" cx=\"397.694\" cy=\"504.25\" r=\"7\" fill=\"#ffffe0\" fill-rule=\"evenodd\" fill-opacity=\"0.9\" stroke=\"#000000\" stroke-opacity=\"0.9\" stroke-width=\"3.2\"/>\n",
       "<circle clip-path=\"url(#clip962)\" cx=\"395.234\" cy=\"505.45\" r=\"7\" fill=\"#ffffe0\" fill-rule=\"evenodd\" fill-opacity=\"0.9\" stroke=\"#000000\" stroke-opacity=\"0.9\" stroke-width=\"3.2\"/>\n",
       "<circle clip-path=\"url(#clip962)\" cx=\"393.897\" cy=\"506.982\" r=\"7\" fill=\"#ffffe0\" fill-rule=\"evenodd\" fill-opacity=\"0.9\" stroke=\"#000000\" stroke-opacity=\"0.9\" stroke-width=\"3.2\"/>\n",
       "<circle clip-path=\"url(#clip962)\" cx=\"389.729\" cy=\"508.62\" r=\"7\" fill=\"#ffffe0\" fill-rule=\"evenodd\" fill-opacity=\"0.9\" stroke=\"#000000\" stroke-opacity=\"0.9\" stroke-width=\"3.2\"/>\n",
       "<circle clip-path=\"url(#clip962)\" cx=\"390.289\" cy=\"508.508\" r=\"7\" fill=\"#ffffe0\" fill-rule=\"evenodd\" fill-opacity=\"0.9\" stroke=\"#000000\" stroke-opacity=\"0.9\" stroke-width=\"3.2\"/>\n",
       "<circle clip-path=\"url(#clip962)\" cx=\"391.539\" cy=\"509.857\" r=\"7\" fill=\"#ffffe0\" fill-rule=\"evenodd\" fill-opacity=\"0.9\" stroke=\"#000000\" stroke-opacity=\"0.9\" stroke-width=\"3.2\"/>\n",
       "<circle clip-path=\"url(#clip962)\" cx=\"385.925\" cy=\"511.768\" r=\"7\" fill=\"#ffffe0\" fill-rule=\"evenodd\" fill-opacity=\"0.9\" stroke=\"#000000\" stroke-opacity=\"0.9\" stroke-width=\"3.2\"/>\n",
       "<circle clip-path=\"url(#clip962)\" cx=\"388.601\" cy=\"511.985\" r=\"7\" fill=\"#ffffe0\" fill-rule=\"evenodd\" fill-opacity=\"0.9\" stroke=\"#000000\" stroke-opacity=\"0.9\" stroke-width=\"3.2\"/>\n",
       "<circle clip-path=\"url(#clip962)\" cx=\"384.448\" cy=\"513.505\" r=\"7\" fill=\"#ffffe0\" fill-rule=\"evenodd\" fill-opacity=\"0.9\" stroke=\"#000000\" stroke-opacity=\"0.9\" stroke-width=\"3.2\"/>\n",
       "<circle clip-path=\"url(#clip962)\" cx=\"381.63\" cy=\"515.038\" r=\"7\" fill=\"#ffffe0\" fill-rule=\"evenodd\" fill-opacity=\"0.9\" stroke=\"#000000\" stroke-opacity=\"0.9\" stroke-width=\"3.2\"/>\n",
       "<circle clip-path=\"url(#clip962)\" cx=\"384.704\" cy=\"515.43\" r=\"7\" fill=\"#ffffe0\" fill-rule=\"evenodd\" fill-opacity=\"0.9\" stroke=\"#000000\" stroke-opacity=\"0.9\" stroke-width=\"3.2\"/>\n",
       "<circle clip-path=\"url(#clip962)\" cx=\"1485\" cy=\"234.246\" r=\"7\" fill=\"#ffffe0\" fill-rule=\"evenodd\" fill-opacity=\"0.9\" stroke=\"#000000\" stroke-opacity=\"0.9\" stroke-width=\"3.2\"/>\n",
       "<circle clip-path=\"url(#clip962)\" cx=\"381.365\" cy=\"516.755\" r=\"7\" fill=\"#ffffe0\" fill-rule=\"evenodd\" fill-opacity=\"0.9\" stroke=\"#000000\" stroke-opacity=\"0.9\" stroke-width=\"3.2\"/>\n",
       "<circle clip-path=\"url(#clip962)\" cx=\"380.99\" cy=\"517.53\" r=\"7\" fill=\"#ffffe0\" fill-rule=\"evenodd\" fill-opacity=\"0.9\" stroke=\"#000000\" stroke-opacity=\"0.9\" stroke-width=\"3.2\"/>\n",
       "<circle clip-path=\"url(#clip962)\" cx=\"379.25\" cy=\"519.16\" r=\"7\" fill=\"#ffffe0\" fill-rule=\"evenodd\" fill-opacity=\"0.9\" stroke=\"#000000\" stroke-opacity=\"0.9\" stroke-width=\"3.2\"/>\n",
       "<circle clip-path=\"url(#clip962)\" cx=\"378.131\" cy=\"519.97\" r=\"7\" fill=\"#ffffe0\" fill-rule=\"evenodd\" fill-opacity=\"0.9\" stroke=\"#000000\" stroke-opacity=\"0.9\" stroke-width=\"3.2\"/>\n",
       "<circle clip-path=\"url(#clip962)\" cx=\"377.582\" cy=\"520.904\" r=\"7\" fill=\"#ffffe0\" fill-rule=\"evenodd\" fill-opacity=\"0.9\" stroke=\"#000000\" stroke-opacity=\"0.9\" stroke-width=\"3.2\"/>\n",
       "<circle clip-path=\"url(#clip962)\" cx=\"375.319\" cy=\"522.024\" r=\"7\" fill=\"#ffffe0\" fill-rule=\"evenodd\" fill-opacity=\"0.9\" stroke=\"#000000\" stroke-opacity=\"0.9\" stroke-width=\"3.2\"/>\n",
       "<circle clip-path=\"url(#clip962)\" cx=\"374.204\" cy=\"523.186\" r=\"7\" fill=\"#ffffe0\" fill-rule=\"evenodd\" fill-opacity=\"0.9\" stroke=\"#000000\" stroke-opacity=\"0.9\" stroke-width=\"3.2\"/>\n",
       "<circle clip-path=\"url(#clip962)\" cx=\"371.454\" cy=\"524.733\" r=\"7\" fill=\"#ffffe0\" fill-rule=\"evenodd\" fill-opacity=\"0.9\" stroke=\"#000000\" stroke-opacity=\"0.9\" stroke-width=\"3.2\"/>\n",
       "<circle clip-path=\"url(#clip962)\" cx=\"369.737\" cy=\"525.884\" r=\"7\" fill=\"#ffffe0\" fill-rule=\"evenodd\" fill-opacity=\"0.9\" stroke=\"#000000\" stroke-opacity=\"0.9\" stroke-width=\"3.2\"/>\n",
       "<circle clip-path=\"url(#clip962)\" cx=\"369.627\" cy=\"526.661\" r=\"7\" fill=\"#ffffe0\" fill-rule=\"evenodd\" fill-opacity=\"0.9\" stroke=\"#000000\" stroke-opacity=\"0.9\" stroke-width=\"3.2\"/>\n",
       "<circle clip-path=\"url(#clip962)\" cx=\"368.472\" cy=\"527.531\" r=\"7\" fill=\"#ffffe0\" fill-rule=\"evenodd\" fill-opacity=\"0.9\" stroke=\"#000000\" stroke-opacity=\"0.9\" stroke-width=\"3.2\"/>\n",
       "<circle clip-path=\"url(#clip962)\" cx=\"364.779\" cy=\"528.761\" r=\"7\" fill=\"#ffffe0\" fill-rule=\"evenodd\" fill-opacity=\"0.9\" stroke=\"#000000\" stroke-opacity=\"0.9\" stroke-width=\"3.2\"/>\n",
       "<circle clip-path=\"url(#clip962)\" cx=\"365.321\" cy=\"529.743\" r=\"7\" fill=\"#ffffe0\" fill-rule=\"evenodd\" fill-opacity=\"0.9\" stroke=\"#000000\" stroke-opacity=\"0.9\" stroke-width=\"3.2\"/>\n",
       "<circle clip-path=\"url(#clip962)\" cx=\"362.307\" cy=\"531.535\" r=\"7\" fill=\"#ffffe0\" fill-rule=\"evenodd\" fill-opacity=\"0.9\" stroke=\"#000000\" stroke-opacity=\"0.9\" stroke-width=\"3.2\"/>\n",
       "<circle clip-path=\"url(#clip962)\" cx=\"361.448\" cy=\"532.236\" r=\"7\" fill=\"#ffffe0\" fill-rule=\"evenodd\" fill-opacity=\"0.9\" stroke=\"#000000\" stroke-opacity=\"0.9\" stroke-width=\"3.2\"/>\n",
       "<circle clip-path=\"url(#clip962)\" cx=\"362.432\" cy=\"533.303\" r=\"7\" fill=\"#ffffe0\" fill-rule=\"evenodd\" fill-opacity=\"0.9\" stroke=\"#000000\" stroke-opacity=\"0.9\" stroke-width=\"3.2\"/>\n",
       "<circle clip-path=\"url(#clip962)\" cx=\"359.412\" cy=\"534.334\" r=\"7\" fill=\"#ffffe0\" fill-rule=\"evenodd\" fill-opacity=\"0.9\" stroke=\"#000000\" stroke-opacity=\"0.9\" stroke-width=\"3.2\"/>\n",
       "<circle clip-path=\"url(#clip962)\" cx=\"356.323\" cy=\"535.867\" r=\"7\" fill=\"#ffffe0\" fill-rule=\"evenodd\" fill-opacity=\"0.9\" stroke=\"#000000\" stroke-opacity=\"0.9\" stroke-width=\"3.2\"/>\n",
       "<circle clip-path=\"url(#clip962)\" cx=\"358.647\" cy=\"536.522\" r=\"7\" fill=\"#ffffe0\" fill-rule=\"evenodd\" fill-opacity=\"0.9\" stroke=\"#000000\" stroke-opacity=\"0.9\" stroke-width=\"3.2\"/>\n",
       "<circle clip-path=\"url(#clip962)\" cx=\"357.431\" cy=\"537.595\" r=\"7\" fill=\"#ffffe0\" fill-rule=\"evenodd\" fill-opacity=\"0.9\" stroke=\"#000000\" stroke-opacity=\"0.9\" stroke-width=\"3.2\"/>\n",
       "<circle clip-path=\"url(#clip962)\" cx=\"353.738\" cy=\"539.218\" r=\"7\" fill=\"#ffffe0\" fill-rule=\"evenodd\" fill-opacity=\"0.9\" stroke=\"#000000\" stroke-opacity=\"0.9\" stroke-width=\"3.2\"/>\n",
       "<circle clip-path=\"url(#clip962)\" cx=\"354.797\" cy=\"539.789\" r=\"7\" fill=\"#ffffe0\" fill-rule=\"evenodd\" fill-opacity=\"0.9\" stroke=\"#000000\" stroke-opacity=\"0.9\" stroke-width=\"3.2\"/>\n",
       "<circle clip-path=\"url(#clip962)\" cx=\"353.979\" cy=\"541.172\" r=\"7\" fill=\"#ffffe0\" fill-rule=\"evenodd\" fill-opacity=\"0.9\" stroke=\"#000000\" stroke-opacity=\"0.9\" stroke-width=\"3.2\"/>\n",
       "<circle clip-path=\"url(#clip962)\" cx=\"352.24\" cy=\"542.088\" r=\"7\" fill=\"#ffffe0\" fill-rule=\"evenodd\" fill-opacity=\"0.9\" stroke=\"#000000\" stroke-opacity=\"0.9\" stroke-width=\"3.2\"/>\n",
       "<circle clip-path=\"url(#clip962)\" cx=\"350\" cy=\"543.092\" r=\"7\" fill=\"#ffffe0\" fill-rule=\"evenodd\" fill-opacity=\"0.9\" stroke=\"#000000\" stroke-opacity=\"0.9\" stroke-width=\"3.2\"/>\n",
       "<circle clip-path=\"url(#clip962)\" cx=\"348.815\" cy=\"544.582\" r=\"7\" fill=\"#ffffe0\" fill-rule=\"evenodd\" fill-opacity=\"0.9\" stroke=\"#000000\" stroke-opacity=\"0.9\" stroke-width=\"3.2\"/>\n",
       "<circle clip-path=\"url(#clip962)\" cx=\"348.174\" cy=\"545.651\" r=\"7\" fill=\"#ffffe0\" fill-rule=\"evenodd\" fill-opacity=\"0.9\" stroke=\"#000000\" stroke-opacity=\"0.9\" stroke-width=\"3.2\"/>\n",
       "<circle clip-path=\"url(#clip962)\" cx=\"347.176\" cy=\"546.791\" r=\"7\" fill=\"#ffffe0\" fill-rule=\"evenodd\" fill-opacity=\"0.9\" stroke=\"#000000\" stroke-opacity=\"0.9\" stroke-width=\"3.2\"/>\n",
       "<circle clip-path=\"url(#clip962)\" cx=\"346.732\" cy=\"547.765\" r=\"7\" fill=\"#ffffe0\" fill-rule=\"evenodd\" fill-opacity=\"0.9\" stroke=\"#000000\" stroke-opacity=\"0.9\" stroke-width=\"3.2\"/>\n",
       "<circle clip-path=\"url(#clip962)\" cx=\"342.785\" cy=\"549.215\" r=\"7\" fill=\"#ffffe0\" fill-rule=\"evenodd\" fill-opacity=\"0.9\" stroke=\"#000000\" stroke-opacity=\"0.9\" stroke-width=\"3.2\"/>\n",
       "<circle clip-path=\"url(#clip962)\" cx=\"345.436\" cy=\"549.807\" r=\"7\" fill=\"#ffffe0\" fill-rule=\"evenodd\" fill-opacity=\"0.9\" stroke=\"#000000\" stroke-opacity=\"0.9\" stroke-width=\"3.2\"/>\n",
       "<circle clip-path=\"url(#clip962)\" cx=\"341.156\" cy=\"551.244\" r=\"7\" fill=\"#ffffe0\" fill-rule=\"evenodd\" fill-opacity=\"0.9\" stroke=\"#000000\" stroke-opacity=\"0.9\" stroke-width=\"3.2\"/>\n",
       "<circle clip-path=\"url(#clip962)\" cx=\"340.117\" cy=\"552.364\" r=\"7\" fill=\"#ffffe0\" fill-rule=\"evenodd\" fill-opacity=\"0.9\" stroke=\"#000000\" stroke-opacity=\"0.9\" stroke-width=\"3.2\"/>\n",
       "<circle clip-path=\"url(#clip962)\" cx=\"341.862\" cy=\"553.103\" r=\"7\" fill=\"#ffffe0\" fill-rule=\"evenodd\" fill-opacity=\"0.9\" stroke=\"#000000\" stroke-opacity=\"0.9\" stroke-width=\"3.2\"/>\n",
       "<circle clip-path=\"url(#clip962)\" cx=\"340.498\" cy=\"554.474\" r=\"7\" fill=\"#ffffe0\" fill-rule=\"evenodd\" fill-opacity=\"0.9\" stroke=\"#000000\" stroke-opacity=\"0.9\" stroke-width=\"3.2\"/>\n",
       "<circle clip-path=\"url(#clip962)\" cx=\"337.54\" cy=\"555.523\" r=\"7\" fill=\"#ffffe0\" fill-rule=\"evenodd\" fill-opacity=\"0.9\" stroke=\"#000000\" stroke-opacity=\"0.9\" stroke-width=\"3.2\"/>\n",
       "<circle clip-path=\"url(#clip962)\" cx=\"337.717\" cy=\"556.637\" r=\"7\" fill=\"#ffffe0\" fill-rule=\"evenodd\" fill-opacity=\"0.9\" stroke=\"#000000\" stroke-opacity=\"0.9\" stroke-width=\"3.2\"/>\n",
       "<circle clip-path=\"url(#clip962)\" cx=\"336.218\" cy=\"557.885\" r=\"7\" fill=\"#ffffe0\" fill-rule=\"evenodd\" fill-opacity=\"0.9\" stroke=\"#000000\" stroke-opacity=\"0.9\" stroke-width=\"3.2\"/>\n",
       "<circle clip-path=\"url(#clip962)\" cx=\"336.309\" cy=\"559.062\" r=\"7\" fill=\"#ffffe0\" fill-rule=\"evenodd\" fill-opacity=\"0.9\" stroke=\"#000000\" stroke-opacity=\"0.9\" stroke-width=\"3.2\"/>\n",
       "<circle clip-path=\"url(#clip962)\" cx=\"333.635\" cy=\"560.047\" r=\"7\" fill=\"#ffffe0\" fill-rule=\"evenodd\" fill-opacity=\"0.9\" stroke=\"#000000\" stroke-opacity=\"0.9\" stroke-width=\"3.2\"/>\n",
       "<circle clip-path=\"url(#clip962)\" cx=\"334.272\" cy=\"560.907\" r=\"7\" fill=\"#ffffe0\" fill-rule=\"evenodd\" fill-opacity=\"0.9\" stroke=\"#000000\" stroke-opacity=\"0.9\" stroke-width=\"3.2\"/>\n",
       "<circle clip-path=\"url(#clip962)\" cx=\"334.377\" cy=\"562.057\" r=\"7\" fill=\"#ffffe0\" fill-rule=\"evenodd\" fill-opacity=\"0.9\" stroke=\"#000000\" stroke-opacity=\"0.9\" stroke-width=\"3.2\"/>\n",
       "<circle clip-path=\"url(#clip962)\" cx=\"332.279\" cy=\"563.345\" r=\"7\" fill=\"#ffffe0\" fill-rule=\"evenodd\" fill-opacity=\"0.9\" stroke=\"#000000\" stroke-opacity=\"0.9\" stroke-width=\"3.2\"/>\n",
       "<circle clip-path=\"url(#clip962)\" cx=\"331.193\" cy=\"564.239\" r=\"7\" fill=\"#ffffe0\" fill-rule=\"evenodd\" fill-opacity=\"0.9\" stroke=\"#000000\" stroke-opacity=\"0.9\" stroke-width=\"3.2\"/>\n",
       "<circle clip-path=\"url(#clip962)\" cx=\"330.647\" cy=\"565.895\" r=\"7\" fill=\"#ffffe0\" fill-rule=\"evenodd\" fill-opacity=\"0.9\" stroke=\"#000000\" stroke-opacity=\"0.9\" stroke-width=\"3.2\"/>\n",
       "<circle clip-path=\"url(#clip962)\" cx=\"329.537\" cy=\"566.48\" r=\"7\" fill=\"#ffffe0\" fill-rule=\"evenodd\" fill-opacity=\"0.9\" stroke=\"#000000\" stroke-opacity=\"0.9\" stroke-width=\"3.2\"/>\n",
       "<circle clip-path=\"url(#clip962)\" cx=\"328.033\" cy=\"567.741\" r=\"7\" fill=\"#ffffe0\" fill-rule=\"evenodd\" fill-opacity=\"0.9\" stroke=\"#000000\" stroke-opacity=\"0.9\" stroke-width=\"3.2\"/>\n",
       "<circle clip-path=\"url(#clip962)\" cx=\"327.713\" cy=\"568.872\" r=\"7\" fill=\"#ffffe0\" fill-rule=\"evenodd\" fill-opacity=\"0.9\" stroke=\"#000000\" stroke-opacity=\"0.9\" stroke-width=\"3.2\"/>\n",
       "<circle clip-path=\"url(#clip962)\" cx=\"328.849\" cy=\"569.878\" r=\"7\" fill=\"#ffffe0\" fill-rule=\"evenodd\" fill-opacity=\"0.9\" stroke=\"#000000\" stroke-opacity=\"0.9\" stroke-width=\"3.2\"/>\n",
       "<circle clip-path=\"url(#clip962)\" cx=\"326.863\" cy=\"570.977\" r=\"7\" fill=\"#ffffe0\" fill-rule=\"evenodd\" fill-opacity=\"0.9\" stroke=\"#000000\" stroke-opacity=\"0.9\" stroke-width=\"3.2\"/>\n",
       "<circle clip-path=\"url(#clip962)\" cx=\"325.047\" cy=\"572.02\" r=\"7\" fill=\"#ffffe0\" fill-rule=\"evenodd\" fill-opacity=\"0.9\" stroke=\"#000000\" stroke-opacity=\"0.9\" stroke-width=\"3.2\"/>\n",
       "<circle clip-path=\"url(#clip962)\" cx=\"325.548\" cy=\"573.261\" r=\"7\" fill=\"#ffffe0\" fill-rule=\"evenodd\" fill-opacity=\"0.9\" stroke=\"#000000\" stroke-opacity=\"0.9\" stroke-width=\"3.2\"/>\n",
       "<circle clip-path=\"url(#clip962)\" cx=\"323.753\" cy=\"574.382\" r=\"7\" fill=\"#ffffe0\" fill-rule=\"evenodd\" fill-opacity=\"0.9\" stroke=\"#000000\" stroke-opacity=\"0.9\" stroke-width=\"3.2\"/>\n",
       "<circle clip-path=\"url(#clip962)\" cx=\"322.161\" cy=\"575.424\" r=\"7\" fill=\"#ffffe0\" fill-rule=\"evenodd\" fill-opacity=\"0.9\" stroke=\"#000000\" stroke-opacity=\"0.9\" stroke-width=\"3.2\"/>\n",
       "<circle clip-path=\"url(#clip962)\" cx=\"323.781\" cy=\"576.592\" r=\"7\" fill=\"#ffffe0\" fill-rule=\"evenodd\" fill-opacity=\"0.9\" stroke=\"#000000\" stroke-opacity=\"0.9\" stroke-width=\"3.2\"/>\n",
       "<circle clip-path=\"url(#clip962)\" cx=\"322.633\" cy=\"577.859\" r=\"7\" fill=\"#ffffe0\" fill-rule=\"evenodd\" fill-opacity=\"0.9\" stroke=\"#000000\" stroke-opacity=\"0.9\" stroke-width=\"3.2\"/>\n",
       "<circle clip-path=\"url(#clip962)\" cx=\"321.321\" cy=\"578.719\" r=\"7\" fill=\"#ffffe0\" fill-rule=\"evenodd\" fill-opacity=\"0.9\" stroke=\"#000000\" stroke-opacity=\"0.9\" stroke-width=\"3.2\"/>\n",
       "<circle clip-path=\"url(#clip962)\" cx=\"319.201\" cy=\"579.813\" r=\"7\" fill=\"#ffffe0\" fill-rule=\"evenodd\" fill-opacity=\"0.9\" stroke=\"#000000\" stroke-opacity=\"0.9\" stroke-width=\"3.2\"/>\n",
       "<circle clip-path=\"url(#clip962)\" cx=\"320.684\" cy=\"581.149\" r=\"7\" fill=\"#ffffe0\" fill-rule=\"evenodd\" fill-opacity=\"0.9\" stroke=\"#000000\" stroke-opacity=\"0.9\" stroke-width=\"3.2\"/>\n",
       "<circle clip-path=\"url(#clip962)\" cx=\"319.211\" cy=\"582.065\" r=\"7\" fill=\"#ffffe0\" fill-rule=\"evenodd\" fill-opacity=\"0.9\" stroke=\"#000000\" stroke-opacity=\"0.9\" stroke-width=\"3.2\"/>\n",
       "<circle clip-path=\"url(#clip962)\" cx=\"319.219\" cy=\"583.125\" r=\"7\" fill=\"#ffffe0\" fill-rule=\"evenodd\" fill-opacity=\"0.9\" stroke=\"#000000\" stroke-opacity=\"0.9\" stroke-width=\"3.2\"/>\n",
       "<circle clip-path=\"url(#clip962)\" cx=\"318.974\" cy=\"584.296\" r=\"7\" fill=\"#ffffe0\" fill-rule=\"evenodd\" fill-opacity=\"0.9\" stroke=\"#000000\" stroke-opacity=\"0.9\" stroke-width=\"3.2\"/>\n",
       "<circle clip-path=\"url(#clip962)\" cx=\"318.686\" cy=\"585.341\" r=\"7\" fill=\"#ffffe0\" fill-rule=\"evenodd\" fill-opacity=\"0.9\" stroke=\"#000000\" stroke-opacity=\"0.9\" stroke-width=\"3.2\"/>\n",
       "<circle clip-path=\"url(#clip962)\" cx=\"316.485\" cy=\"587.098\" r=\"7\" fill=\"#ffffe0\" fill-rule=\"evenodd\" fill-opacity=\"0.9\" stroke=\"#000000\" stroke-opacity=\"0.9\" stroke-width=\"3.2\"/>\n",
       "<circle clip-path=\"url(#clip962)\" cx=\"315.604\" cy=\"587.97\" r=\"7\" fill=\"#ffffe0\" fill-rule=\"evenodd\" fill-opacity=\"0.9\" stroke=\"#000000\" stroke-opacity=\"0.9\" stroke-width=\"3.2\"/>\n",
       "<circle clip-path=\"url(#clip962)\" cx=\"315.537\" cy=\"588.791\" r=\"7\" fill=\"#ffffe0\" fill-rule=\"evenodd\" fill-opacity=\"0.9\" stroke=\"#000000\" stroke-opacity=\"0.9\" stroke-width=\"3.2\"/>\n",
       "<circle clip-path=\"url(#clip962)\" cx=\"315.803\" cy=\"589.935\" r=\"7\" fill=\"#ffffe0\" fill-rule=\"evenodd\" fill-opacity=\"0.9\" stroke=\"#000000\" stroke-opacity=\"0.9\" stroke-width=\"3.2\"/>\n",
       "<circle clip-path=\"url(#clip962)\" cx=\"314.611\" cy=\"590.937\" r=\"7\" fill=\"#ffffe0\" fill-rule=\"evenodd\" fill-opacity=\"0.9\" stroke=\"#000000\" stroke-opacity=\"0.9\" stroke-width=\"3.2\"/>\n",
       "<circle clip-path=\"url(#clip962)\" cx=\"313.662\" cy=\"592.277\" r=\"7\" fill=\"#ffffe0\" fill-rule=\"evenodd\" fill-opacity=\"0.9\" stroke=\"#000000\" stroke-opacity=\"0.9\" stroke-width=\"3.2\"/>\n",
       "<circle clip-path=\"url(#clip962)\" cx=\"312.891\" cy=\"593.569\" r=\"7\" fill=\"#ffffe0\" fill-rule=\"evenodd\" fill-opacity=\"0.9\" stroke=\"#000000\" stroke-opacity=\"0.9\" stroke-width=\"3.2\"/>\n",
       "<circle clip-path=\"url(#clip962)\" cx=\"312.187\" cy=\"594.289\" r=\"7\" fill=\"#ffffe0\" fill-rule=\"evenodd\" fill-opacity=\"0.9\" stroke=\"#000000\" stroke-opacity=\"0.9\" stroke-width=\"3.2\"/>\n",
       "<circle clip-path=\"url(#clip962)\" cx=\"311.15\" cy=\"595.546\" r=\"7\" fill=\"#ffffe0\" fill-rule=\"evenodd\" fill-opacity=\"0.9\" stroke=\"#000000\" stroke-opacity=\"0.9\" stroke-width=\"3.2\"/>\n",
       "<circle clip-path=\"url(#clip962)\" cx=\"312.045\" cy=\"596.527\" r=\"7\" fill=\"#ffffe0\" fill-rule=\"evenodd\" fill-opacity=\"0.9\" stroke=\"#000000\" stroke-opacity=\"0.9\" stroke-width=\"3.2\"/>\n",
       "<circle clip-path=\"url(#clip962)\" cx=\"312.141\" cy=\"597.664\" r=\"7\" fill=\"#ffffe0\" fill-rule=\"evenodd\" fill-opacity=\"0.9\" stroke=\"#000000\" stroke-opacity=\"0.9\" stroke-width=\"3.2\"/>\n",
       "<circle clip-path=\"url(#clip962)\" cx=\"309.27\" cy=\"599.47\" r=\"7\" fill=\"#ffffe0\" fill-rule=\"evenodd\" fill-opacity=\"0.9\" stroke=\"#000000\" stroke-opacity=\"0.9\" stroke-width=\"3.2\"/>\n",
       "<circle clip-path=\"url(#clip962)\" cx=\"309.491\" cy=\"599.862\" r=\"7\" fill=\"#ffffe0\" fill-rule=\"evenodd\" fill-opacity=\"0.9\" stroke=\"#000000\" stroke-opacity=\"0.9\" stroke-width=\"3.2\"/>\n",
       "<circle clip-path=\"url(#clip962)\" cx=\"311.314\" cy=\"601.137\" r=\"7\" fill=\"#ffffe0\" fill-rule=\"evenodd\" fill-opacity=\"0.9\" stroke=\"#000000\" stroke-opacity=\"0.9\" stroke-width=\"3.2\"/>\n",
       "<circle clip-path=\"url(#clip962)\" cx=\"309.758\" cy=\"602.071\" r=\"7\" fill=\"#ffffe0\" fill-rule=\"evenodd\" fill-opacity=\"0.9\" stroke=\"#000000\" stroke-opacity=\"0.9\" stroke-width=\"3.2\"/>\n",
       "<circle clip-path=\"url(#clip962)\" cx=\"307.986\" cy=\"603.237\" r=\"7\" fill=\"#ffffe0\" fill-rule=\"evenodd\" fill-opacity=\"0.9\" stroke=\"#000000\" stroke-opacity=\"0.9\" stroke-width=\"3.2\"/>\n",
       "<circle clip-path=\"url(#clip962)\" cx=\"308.359\" cy=\"604.402\" r=\"7\" fill=\"#ffffe0\" fill-rule=\"evenodd\" fill-opacity=\"0.9\" stroke=\"#000000\" stroke-opacity=\"0.9\" stroke-width=\"3.2\"/>\n",
       "<circle clip-path=\"url(#clip962)\" cx=\"308.811\" cy=\"605.425\" r=\"7\" fill=\"#ffffe0\" fill-rule=\"evenodd\" fill-opacity=\"0.9\" stroke=\"#000000\" stroke-opacity=\"0.9\" stroke-width=\"3.2\"/>\n",
       "<circle clip-path=\"url(#clip962)\" cx=\"309.172\" cy=\"606.569\" r=\"7\" fill=\"#ffffe0\" fill-rule=\"evenodd\" fill-opacity=\"0.9\" stroke=\"#000000\" stroke-opacity=\"0.9\" stroke-width=\"3.2\"/>\n",
       "<circle clip-path=\"url(#clip962)\" cx=\"307.27\" cy=\"607.618\" r=\"7\" fill=\"#ffffe0\" fill-rule=\"evenodd\" fill-opacity=\"0.9\" stroke=\"#000000\" stroke-opacity=\"0.9\" stroke-width=\"3.2\"/>\n",
       "<circle clip-path=\"url(#clip962)\" cx=\"307.166\" cy=\"608.819\" r=\"7\" fill=\"#ffffe0\" fill-rule=\"evenodd\" fill-opacity=\"0.9\" stroke=\"#000000\" stroke-opacity=\"0.9\" stroke-width=\"3.2\"/>\n",
       "<circle clip-path=\"url(#clip962)\" cx=\"306.284\" cy=\"609.897\" r=\"7\" fill=\"#ffffe0\" fill-rule=\"evenodd\" fill-opacity=\"0.9\" stroke=\"#000000\" stroke-opacity=\"0.9\" stroke-width=\"3.2\"/>\n",
       "<circle clip-path=\"url(#clip962)\" cx=\"306.285\" cy=\"610.992\" r=\"7\" fill=\"#ffffe0\" fill-rule=\"evenodd\" fill-opacity=\"0.9\" stroke=\"#000000\" stroke-opacity=\"0.9\" stroke-width=\"3.2\"/>\n",
       "<circle clip-path=\"url(#clip962)\" cx=\"304.807\" cy=\"612.54\" r=\"7\" fill=\"#ffffe0\" fill-rule=\"evenodd\" fill-opacity=\"0.9\" stroke=\"#000000\" stroke-opacity=\"0.9\" stroke-width=\"3.2\"/>\n",
       "<circle clip-path=\"url(#clip962)\" cx=\"306.294\" cy=\"613.2\" r=\"7\" fill=\"#ffffe0\" fill-rule=\"evenodd\" fill-opacity=\"0.9\" stroke=\"#000000\" stroke-opacity=\"0.9\" stroke-width=\"3.2\"/>\n",
       "<circle clip-path=\"url(#clip962)\" cx=\"306.855\" cy=\"614.263\" r=\"7\" fill=\"#ffffe0\" fill-rule=\"evenodd\" fill-opacity=\"0.9\" stroke=\"#000000\" stroke-opacity=\"0.9\" stroke-width=\"3.2\"/>\n",
       "<circle clip-path=\"url(#clip962)\" cx=\"304.277\" cy=\"615.605\" r=\"7\" fill=\"#ffffe0\" fill-rule=\"evenodd\" fill-opacity=\"0.9\" stroke=\"#000000\" stroke-opacity=\"0.9\" stroke-width=\"3.2\"/>\n",
       "<circle clip-path=\"url(#clip962)\" cx=\"304.211\" cy=\"616.542\" r=\"7\" fill=\"#ffffe0\" fill-rule=\"evenodd\" fill-opacity=\"0.9\" stroke=\"#000000\" stroke-opacity=\"0.9\" stroke-width=\"3.2\"/>\n",
       "<circle clip-path=\"url(#clip962)\" cx=\"306.24\" cy=\"617.668\" r=\"7\" fill=\"#ffffe0\" fill-rule=\"evenodd\" fill-opacity=\"0.9\" stroke=\"#000000\" stroke-opacity=\"0.9\" stroke-width=\"3.2\"/>\n",
       "<circle clip-path=\"url(#clip962)\" cx=\"304.079\" cy=\"619.084\" r=\"7\" fill=\"#ffffe0\" fill-rule=\"evenodd\" fill-opacity=\"0.9\" stroke=\"#000000\" stroke-opacity=\"0.9\" stroke-width=\"3.2\"/>\n",
       "<circle clip-path=\"url(#clip962)\" cx=\"303.237\" cy=\"619.917\" r=\"7\" fill=\"#ffffe0\" fill-rule=\"evenodd\" fill-opacity=\"0.9\" stroke=\"#000000\" stroke-opacity=\"0.9\" stroke-width=\"3.2\"/>\n",
       "<circle clip-path=\"url(#clip962)\" cx=\"303.96\" cy=\"621.136\" r=\"7\" fill=\"#ffffe0\" fill-rule=\"evenodd\" fill-opacity=\"0.9\" stroke=\"#000000\" stroke-opacity=\"0.9\" stroke-width=\"3.2\"/>\n",
       "<circle clip-path=\"url(#clip962)\" cx=\"304.479\" cy=\"622.058\" r=\"7\" fill=\"#ffffe0\" fill-rule=\"evenodd\" fill-opacity=\"0.9\" stroke=\"#000000\" stroke-opacity=\"0.9\" stroke-width=\"3.2\"/>\n",
       "<circle clip-path=\"url(#clip962)\" cx=\"302.584\" cy=\"623.363\" r=\"7\" fill=\"#ffffe0\" fill-rule=\"evenodd\" fill-opacity=\"0.9\" stroke=\"#000000\" stroke-opacity=\"0.9\" stroke-width=\"3.2\"/>\n",
       "<circle clip-path=\"url(#clip962)\" cx=\"304.556\" cy=\"624.314\" r=\"7\" fill=\"#ffffe0\" fill-rule=\"evenodd\" fill-opacity=\"0.9\" stroke=\"#000000\" stroke-opacity=\"0.9\" stroke-width=\"3.2\"/>\n",
       "<circle clip-path=\"url(#clip962)\" cx=\"303.051\" cy=\"625.441\" r=\"7\" fill=\"#ffffe0\" fill-rule=\"evenodd\" fill-opacity=\"0.9\" stroke=\"#000000\" stroke-opacity=\"0.9\" stroke-width=\"3.2\"/>\n",
       "<circle clip-path=\"url(#clip962)\" cx=\"303.518\" cy=\"626.641\" r=\"7\" fill=\"#ffffe0\" fill-rule=\"evenodd\" fill-opacity=\"0.9\" stroke=\"#000000\" stroke-opacity=\"0.9\" stroke-width=\"3.2\"/>\n",
       "<circle clip-path=\"url(#clip962)\" cx=\"302.815\" cy=\"627.65\" r=\"7\" fill=\"#ffffe0\" fill-rule=\"evenodd\" fill-opacity=\"0.9\" stroke=\"#000000\" stroke-opacity=\"0.9\" stroke-width=\"3.2\"/>\n",
       "<circle clip-path=\"url(#clip962)\" cx=\"301.943\" cy=\"629.22\" r=\"7\" fill=\"#ffffe0\" fill-rule=\"evenodd\" fill-opacity=\"0.9\" stroke=\"#000000\" stroke-opacity=\"0.9\" stroke-width=\"3.2\"/>\n",
       "<circle clip-path=\"url(#clip962)\" cx=\"302.294\" cy=\"629.946\" r=\"7\" fill=\"#ffffe0\" fill-rule=\"evenodd\" fill-opacity=\"0.9\" stroke=\"#000000\" stroke-opacity=\"0.9\" stroke-width=\"3.2\"/>\n",
       "<circle clip-path=\"url(#clip962)\" cx=\"302.273\" cy=\"631.386\" r=\"7\" fill=\"#ffffe0\" fill-rule=\"evenodd\" fill-opacity=\"0.9\" stroke=\"#000000\" stroke-opacity=\"0.9\" stroke-width=\"3.2\"/>\n",
       "<circle clip-path=\"url(#clip962)\" cx=\"302.646\" cy=\"632.154\" r=\"7\" fill=\"#ffffe0\" fill-rule=\"evenodd\" fill-opacity=\"0.9\" stroke=\"#000000\" stroke-opacity=\"0.9\" stroke-width=\"3.2\"/>\n",
       "<circle clip-path=\"url(#clip962)\" cx=\"302.004\" cy=\"633.534\" r=\"7\" fill=\"#ffffe0\" fill-rule=\"evenodd\" fill-opacity=\"0.9\" stroke=\"#000000\" stroke-opacity=\"0.9\" stroke-width=\"3.2\"/>\n",
       "<circle clip-path=\"url(#clip962)\" cx=\"301.869\" cy=\"634.559\" r=\"7\" fill=\"#ffffe0\" fill-rule=\"evenodd\" fill-opacity=\"0.9\" stroke=\"#000000\" stroke-opacity=\"0.9\" stroke-width=\"3.2\"/>\n",
       "<circle clip-path=\"url(#clip962)\" cx=\"302.11\" cy=\"635.677\" r=\"7\" fill=\"#ffffe0\" fill-rule=\"evenodd\" fill-opacity=\"0.9\" stroke=\"#000000\" stroke-opacity=\"0.9\" stroke-width=\"3.2\"/>\n",
       "<circle clip-path=\"url(#clip962)\" cx=\"303.268\" cy=\"636.675\" r=\"7\" fill=\"#ffffe0\" fill-rule=\"evenodd\" fill-opacity=\"0.9\" stroke=\"#000000\" stroke-opacity=\"0.9\" stroke-width=\"3.2\"/>\n",
       "<line clip-path=\"url(#clip962)\" x1=\"1723.89\" y1=\"160.256\" x2=\"1723.89\" y2=\"144.256\" style=\"stroke:#0000ff; stroke-width:3.2; stroke-opacity:1\"/>\n",
       "<line clip-path=\"url(#clip962)\" x1=\"1723.89\" y1=\"160.256\" x2=\"1707.89\" y2=\"160.256\" style=\"stroke:#0000ff; stroke-width:3.2; stroke-opacity:1\"/>\n",
       "<line clip-path=\"url(#clip962)\" x1=\"1723.89\" y1=\"160.256\" x2=\"1723.89\" y2=\"176.256\" style=\"stroke:#0000ff; stroke-width:3.2; stroke-opacity:1\"/>\n",
       "<line clip-path=\"url(#clip962)\" x1=\"1723.89\" y1=\"160.256\" x2=\"1739.89\" y2=\"160.256\" style=\"stroke:#0000ff; stroke-width:3.2; stroke-opacity:1\"/>\n",
       "<line clip-path=\"url(#clip962)\" x1=\"677.158\" y1=\"649.717\" x2=\"677.158\" y2=\"633.717\" style=\"stroke:#0000ff; stroke-width:3.2; stroke-opacity:1\"/>\n",
       "<line clip-path=\"url(#clip962)\" x1=\"677.158\" y1=\"649.717\" x2=\"661.158\" y2=\"649.717\" style=\"stroke:#0000ff; stroke-width:3.2; stroke-opacity:1\"/>\n",
       "<line clip-path=\"url(#clip962)\" x1=\"677.158\" y1=\"649.717\" x2=\"677.158\" y2=\"665.717\" style=\"stroke:#0000ff; stroke-width:3.2; stroke-opacity:1\"/>\n",
       "<line clip-path=\"url(#clip962)\" x1=\"677.158\" y1=\"649.717\" x2=\"693.158\" y2=\"649.717\" style=\"stroke:#0000ff; stroke-width:3.2; stroke-opacity:1\"/>\n",
       "<line clip-path=\"url(#clip962)\" x1=\"952.93\" y1=\"903.359\" x2=\"952.93\" y2=\"887.359\" style=\"stroke:#0000ff; stroke-width:3.2; stroke-opacity:1\"/>\n",
       "<line clip-path=\"url(#clip962)\" x1=\"952.93\" y1=\"903.359\" x2=\"936.93\" y2=\"903.359\" style=\"stroke:#0000ff; stroke-width:3.2; stroke-opacity:1\"/>\n",
       "<line clip-path=\"url(#clip962)\" x1=\"952.93\" y1=\"903.359\" x2=\"952.93\" y2=\"919.359\" style=\"stroke:#0000ff; stroke-width:3.2; stroke-opacity:1\"/>\n",
       "<line clip-path=\"url(#clip962)\" x1=\"952.93\" y1=\"903.359\" x2=\"968.93\" y2=\"903.359\" style=\"stroke:#0000ff; stroke-width:3.2; stroke-opacity:1\"/>\n",
       "<line clip-path=\"url(#clip962)\" x1=\"1096.66\" y1=\"401.341\" x2=\"1096.66\" y2=\"385.341\" style=\"stroke:#0000ff; stroke-width:3.2; stroke-opacity:1\"/>\n",
       "<line clip-path=\"url(#clip962)\" x1=\"1096.66\" y1=\"401.341\" x2=\"1080.66\" y2=\"401.341\" style=\"stroke:#0000ff; stroke-width:3.2; stroke-opacity:1\"/>\n",
       "<line clip-path=\"url(#clip962)\" x1=\"1096.66\" y1=\"401.341\" x2=\"1096.66\" y2=\"417.341\" style=\"stroke:#0000ff; stroke-width:3.2; stroke-opacity:1\"/>\n",
       "<line clip-path=\"url(#clip962)\" x1=\"1096.66\" y1=\"401.341\" x2=\"1112.66\" y2=\"401.341\" style=\"stroke:#0000ff; stroke-width:3.2; stroke-opacity:1\"/>\n",
       "<line clip-path=\"url(#clip962)\" x1=\"2293.02\" y1=\"1386.4\" x2=\"2293.02\" y2=\"1370.4\" style=\"stroke:#0000ff; stroke-width:3.2; stroke-opacity:1\"/>\n",
       "<line clip-path=\"url(#clip962)\" x1=\"2293.02\" y1=\"1386.4\" x2=\"2277.02\" y2=\"1386.4\" style=\"stroke:#0000ff; stroke-width:3.2; stroke-opacity:1\"/>\n",
       "<line clip-path=\"url(#clip962)\" x1=\"2293.02\" y1=\"1386.4\" x2=\"2293.02\" y2=\"1402.4\" style=\"stroke:#0000ff; stroke-width:3.2; stroke-opacity:1\"/>\n",
       "<line clip-path=\"url(#clip962)\" x1=\"2293.02\" y1=\"1386.4\" x2=\"2309.02\" y2=\"1386.4\" style=\"stroke:#0000ff; stroke-width:3.2; stroke-opacity:1\"/>\n",
       "<path clip-path=\"url(#clip960)\" d=\"M1674.32 119.935 L1667.98 137.134 L1680.69 137.134 L1674.32 119.935 M1671.68 115.328 L1676.98 115.328 L1690.15 149.888 L1685.29 149.888 L1682.14 141.023 L1666.57 141.023 L1663.42 149.888 L1658.49 149.888 L1671.68 115.328 Z\" fill=\"#000000\" fill-rule=\"evenodd\" fill-opacity=\"1\" /><path clip-path=\"url(#clip960)\" d=\"M1695.2 115.328 L1702.17 115.328 L1710.99 138.847 L1719.85 115.328 L1726.82 115.328 L1726.82 149.888 L1722.26 149.888 L1722.26 119.541 L1713.35 143.245 L1708.65 143.245 L1699.74 119.541 L1699.74 149.888 L1695.2 149.888 L1695.2 115.328 Z\" fill=\"#000000\" fill-rule=\"evenodd\" fill-opacity=\"1\" /><path clip-path=\"url(#clip960)\" d=\"M1747.65 119.935 L1741.31 137.134 L1754.02 137.134 L1747.65 119.935 M1745.01 115.328 L1750.32 115.328 L1763.49 149.888 L1758.63 149.888 L1755.48 141.023 L1739.9 141.023 L1736.75 149.888 L1731.82 149.888 L1745.01 115.328 Z\" fill=\"#000000\" fill-rule=\"evenodd\" fill-opacity=\"1\" /><path clip-path=\"url(#clip960)\" d=\"M1760.06 115.328 L1789.3 115.328 L1789.3 119.263 L1777.03 119.263 L1777.03 149.888 L1772.33 149.888 L1772.33 119.263 L1760.06 119.263 L1760.06 115.328 Z\" fill=\"#000000\" fill-rule=\"evenodd\" fill-opacity=\"1\" /><path clip-path=\"url(#clip960)\" d=\"M630.063 604.789 L651.915 604.789 L651.915 608.724 L634.739 608.724 L634.739 618.955 L651.197 618.955 L651.197 622.89 L634.739 622.89 L634.739 635.414 L652.332 635.414 L652.332 639.349 L630.063 639.349 L630.063 604.789 Z\" fill=\"#000000\" fill-rule=\"evenodd\" fill-opacity=\"1\" /><path clip-path=\"url(#clip960)\" d=\"M674.045 607.96 Q668.952 607.96 665.943 611.756 Q662.957 615.553 662.957 622.103 Q662.957 628.631 665.943 632.427 Q668.952 636.224 674.045 636.224 Q679.137 636.224 682.1 632.427 Q685.086 628.631 685.086 622.103 Q685.086 615.553 682.1 611.756 Q679.137 607.96 674.045 607.96 M680.595 638.724 L686.753 645.46 L681.105 645.46 L675.989 639.927 Q675.225 639.974 674.808 639.997 Q674.415 640.02 674.045 640.02 Q666.753 640.02 662.378 635.159 Q658.026 630.275 658.026 622.103 Q658.026 613.909 662.378 609.048 Q666.753 604.164 674.045 604.164 Q681.313 604.164 685.665 609.048 Q690.017 613.909 690.017 622.103 Q690.017 628.122 687.586 632.404 Q685.179 636.687 680.595 638.724 Z\" fill=\"#000000\" fill-rule=\"evenodd\" fill-opacity=\"1\" /><path clip-path=\"url(#clip960)\" d=\"M713.72 623.145 Q715.225 623.654 716.637 625.321 Q718.072 626.988 719.507 629.904 L724.253 639.349 L719.229 639.349 L714.808 630.483 Q713.095 627.011 711.475 625.877 Q709.878 624.742 707.1 624.742 L702.007 624.742 L702.007 639.349 L697.331 639.349 L697.331 604.789 L707.887 604.789 Q713.813 604.789 716.73 607.266 Q719.646 609.742 719.646 614.742 Q719.646 618.006 718.118 620.159 Q716.614 622.312 713.72 623.145 M702.007 608.631 L702.007 620.9 L707.887 620.9 Q711.267 620.9 712.98 619.349 Q714.716 617.775 714.716 614.742 Q714.716 611.71 712.98 610.182 Q711.267 608.631 707.887 608.631 L702.007 608.631 Z\" fill=\"#000000\" fill-rule=\"evenodd\" fill-opacity=\"1\" /><path clip-path=\"url(#clip960)\" d=\"M928.162 858.431 L948.023 858.431 L948.023 862.366 L932.838 862.366 L932.838 872.551 L946.541 872.551 L946.541 876.486 L932.838 876.486 L932.838 892.991 L928.162 892.991 L928.162 858.431 Z\" fill=\"#000000\" fill-rule=\"evenodd\" fill-opacity=\"1\" /><path clip-path=\"url(#clip960)\" d=\"M955.43 858.431 L977.282 858.431 L977.282 862.366 L960.106 862.366 L960.106 872.598 L976.564 872.598 L976.564 876.533 L960.106 876.533 L960.106 889.056 L977.698 889.056 L977.698 892.991 L955.43 892.991 L955.43 858.431 Z\" fill=\"#000000\" fill-rule=\"evenodd\" fill-opacity=\"1\" /><path clip-path=\"url(#clip960)\" d=\"M1050.97 356.413 L1055.64 356.413 L1055.64 370.579 L1072.64 370.579 L1072.64 356.413 L1077.31 356.413 L1077.31 390.973 L1072.64 390.973 L1072.64 374.514 L1055.64 374.514 L1055.64 390.973 L1050.97 390.973 L1050.97 356.413 Z\" fill=\"#000000\" fill-rule=\"evenodd\" fill-opacity=\"1\" /><path clip-path=\"url(#clip960)\" d=\"M1103.01 374.769 Q1104.51 375.278 1105.92 376.945 Q1107.36 378.612 1108.79 381.528 L1113.54 390.973 L1108.51 390.973 L1104.09 382.107 Q1102.38 378.635 1100.76 377.5 Q1099.16 376.366 1096.39 376.366 L1091.29 376.366 L1091.29 390.973 L1086.62 390.973 L1086.62 356.413 L1097.17 356.413 Q1103.1 356.413 1106.01 358.889 Q1108.93 361.366 1108.93 366.366 Q1108.93 369.63 1107.4 371.783 Q1105.9 373.936 1103.01 374.769 M1091.29 360.255 L1091.29 372.524 L1097.17 372.524 Q1100.55 372.524 1102.26 370.973 Q1104 369.399 1104 366.366 Q1104 363.334 1102.26 361.806 Q1100.55 360.255 1097.17 360.255 L1091.29 360.255 Z\" fill=\"#000000\" fill-rule=\"evenodd\" fill-opacity=\"1\" /><path clip-path=\"url(#clip960)\" d=\"M1140.27 357.547 L1140.27 362.107 Q1137.61 360.834 1135.25 360.209 Q1132.89 359.584 1130.69 359.584 Q1126.87 359.584 1124.79 361.065 Q1122.73 362.547 1122.73 365.278 Q1122.73 367.57 1124.09 368.751 Q1125.48 369.908 1129.32 370.626 L1132.15 371.204 Q1137.38 372.2 1139.86 374.723 Q1142.36 377.223 1142.36 381.436 Q1142.36 386.459 1138.98 389.051 Q1135.62 391.644 1129.12 391.644 Q1126.66 391.644 1123.89 391.088 Q1121.13 390.533 1118.17 389.445 L1118.17 384.63 Q1121.01 386.227 1123.75 387.037 Q1126.48 387.848 1129.12 387.848 Q1133.12 387.848 1135.3 386.274 Q1137.47 384.7 1137.47 381.783 Q1137.47 379.237 1135.9 377.801 Q1134.35 376.366 1130.78 375.649 L1127.94 375.093 Q1122.7 374.051 1120.37 371.829 Q1118.03 369.607 1118.03 365.649 Q1118.03 361.065 1121.25 358.426 Q1124.49 355.788 1130.16 355.788 Q1132.59 355.788 1135.11 356.227 Q1137.64 356.667 1140.27 357.547 Z\" fill=\"#000000\" fill-rule=\"evenodd\" fill-opacity=\"1\" /><path clip-path=\"url(#clip960)\" d=\"M2242.51 1341.47 L2249.48 1341.47 L2258.3 1364.99 L2267.16 1341.47 L2274.13 1341.47 L2274.13 1376.03 L2269.57 1376.03 L2269.57 1345.68 L2260.66 1369.38 L2255.96 1369.38 L2247.05 1345.68 L2247.05 1376.03 L2242.51 1376.03 L2242.51 1341.47 Z\" fill=\"#000000\" fill-rule=\"evenodd\" fill-opacity=\"1\" /><path clip-path=\"url(#clip960)\" d=\"M2297.44 1344.64 Q2292.35 1344.64 2289.34 1348.44 Q2286.35 1352.23 2286.35 1358.78 Q2286.35 1365.31 2289.34 1369.11 Q2292.35 1372.9 2297.44 1372.9 Q2302.54 1372.9 2305.5 1369.11 Q2308.48 1365.31 2308.48 1358.78 Q2308.48 1352.23 2305.5 1348.44 Q2302.54 1344.64 2297.44 1344.64 M2297.44 1340.84 Q2304.71 1340.84 2309.06 1345.73 Q2313.41 1350.59 2313.41 1358.78 Q2313.41 1366.95 2309.06 1371.84 Q2304.71 1376.7 2297.44 1376.7 Q2290.15 1376.7 2285.78 1371.84 Q2281.42 1366.98 2281.42 1358.78 Q2281.42 1350.59 2285.78 1345.73 Q2290.15 1340.84 2297.44 1340.84 Z\" fill=\"#000000\" fill-rule=\"evenodd\" fill-opacity=\"1\" /><path clip-path=\"url(#clip960)\" d=\"M2341.45 1342.6 L2341.45 1347.16 Q2338.78 1345.89 2336.42 1345.26 Q2334.06 1344.64 2331.86 1344.64 Q2328.04 1344.64 2325.96 1346.12 Q2323.9 1347.6 2323.9 1350.33 Q2323.9 1352.63 2325.27 1353.81 Q2326.66 1354.96 2330.5 1355.68 L2333.32 1356.26 Q2338.55 1357.25 2341.03 1359.78 Q2343.53 1362.28 2343.53 1366.49 Q2343.53 1371.51 2340.15 1374.11 Q2336.79 1376.7 2330.29 1376.7 Q2327.84 1376.7 2325.06 1376.14 Q2322.3 1375.59 2319.34 1374.5 L2319.34 1369.69 Q2322.19 1371.28 2324.92 1372.09 Q2327.65 1372.9 2330.29 1372.9 Q2334.29 1372.9 2336.47 1371.33 Q2338.65 1369.75 2338.65 1366.84 Q2338.65 1364.29 2337.07 1362.86 Q2335.52 1361.42 2331.96 1360.7 L2329.11 1360.15 Q2323.88 1359.11 2321.54 1356.88 Q2319.2 1354.66 2319.2 1350.7 Q2319.2 1346.12 2322.42 1343.48 Q2325.66 1340.84 2331.33 1340.84 Q2333.76 1340.84 2336.28 1341.28 Q2338.81 1341.72 2341.45 1342.6 Z\" fill=\"#000000\" fill-rule=\"evenodd\" fill-opacity=\"1\" /><path clip-path=\"url(#clip962)\" d=\"M665.617 414.537 L659.217 393.609 L637.905 398.537 L652.817 382.537 L637.905 366.537 L659.217 371.465 L665.617 350.537 L672.017 371.465 L693.329 366.537 L678.417 382.537 L693.329 398.537 L672.017 393.609 L665.617 414.537 Z\" fill=\"#ff0000\" fill-rule=\"evenodd\" fill-opacity=\"1\" stroke=\"#000000\" stroke-opacity=\"1\" stroke-width=\"3.2\"/>\n",
       "<path clip-path=\"url(#clip960)\" d=\"\n",
       "M1656.71 374.156 L2282.4 374.156 L2282.4 166.796 L1656.71 166.796  Z\n",
       "  \" fill=\"#ffffff\" fill-rule=\"evenodd\" fill-opacity=\"1\"/>\n",
       "<polyline clip-path=\"url(#clip960)\" style=\"stroke:#000000; stroke-linecap:butt; stroke-linejoin:round; stroke-width:4; stroke-opacity:1; fill:none\" points=\"\n",
       "  1656.71,374.156 2282.4,374.156 2282.4,166.796 1656.71,166.796 1656.71,374.156 \n",
       "  \"/>\n",
       "<circle clip-path=\"url(#clip960)\" cx=\"1752.71\" cy=\"218.636\" r=\"23\" fill=\"#ffffe0\" fill-rule=\"evenodd\" fill-opacity=\"0.9\" stroke=\"#000000\" stroke-opacity=\"0.9\" stroke-width=\"10.24\"/>\n",
       "<path clip-path=\"url(#clip960)\" d=\"M1848.71 201.356 L1870.56 201.356 L1870.56 205.291 L1853.39 205.291 L1853.39 215.522 L1869.84 215.522 L1869.84 219.457 L1853.39 219.457 L1853.39 231.981 L1870.98 231.981 L1870.98 235.916 L1848.71 235.916 L1848.71 201.356 Z\" fill=\"#000000\" fill-rule=\"evenodd\" fill-opacity=\"1\" /><path clip-path=\"url(#clip960)\" d=\"M1891.6 199.897 L1891.6 203.439 L1887.53 203.439 Q1885.24 203.439 1884.33 204.365 Q1883.45 205.291 1883.45 207.698 L1883.45 209.99 L1890.47 209.99 L1890.47 213.3 L1883.45 213.3 L1883.45 235.916 L1879.17 235.916 L1879.17 213.3 L1875.1 213.3 L1875.1 209.99 L1879.17 209.99 L1879.17 208.184 Q1879.17 203.856 1881.19 201.888 Q1883.2 199.897 1887.58 199.897 L1891.6 199.897 Z\" fill=\"#000000\" fill-rule=\"evenodd\" fill-opacity=\"1\" /><path clip-path=\"url(#clip960)\" d=\"M1908.29 199.897 L1908.29 203.439 L1904.22 203.439 Q1901.93 203.439 1901.02 204.365 Q1900.14 205.291 1900.14 207.698 L1900.14 209.99 L1907.16 209.99 L1907.16 213.3 L1900.14 213.3 L1900.14 235.916 L1895.86 235.916 L1895.86 213.3 L1891.79 213.3 L1891.79 209.99 L1895.86 209.99 L1895.86 208.184 Q1895.86 203.856 1897.88 201.888 Q1899.89 199.897 1904.26 199.897 L1908.29 199.897 Z\" fill=\"#000000\" fill-rule=\"evenodd\" fill-opacity=\"1\" /><path clip-path=\"url(#clip960)\" d=\"M1911.86 209.99 L1916.12 209.99 L1916.12 235.916 L1911.86 235.916 L1911.86 209.99 M1911.86 199.897 L1916.12 199.897 L1916.12 205.291 L1911.86 205.291 L1911.86 199.897 Z\" fill=\"#000000\" fill-rule=\"evenodd\" fill-opacity=\"1\" /><path clip-path=\"url(#clip960)\" d=\"M1943.69 210.985 L1943.69 214.967 Q1941.88 213.971 1940.05 213.485 Q1938.25 212.976 1936.39 212.976 Q1932.25 212.976 1929.96 215.615 Q1927.67 218.231 1927.67 222.976 Q1927.67 227.721 1929.96 230.36 Q1932.25 232.976 1936.39 232.976 Q1938.25 232.976 1940.05 232.49 Q1941.88 231.981 1943.69 230.985 L1943.69 234.92 Q1941.9 235.754 1939.98 236.17 Q1938.08 236.587 1935.93 236.587 Q1930.07 236.587 1926.63 232.906 Q1923.18 229.226 1923.18 222.976 Q1923.18 216.633 1926.65 212.999 Q1930.14 209.365 1936.21 209.365 Q1938.18 209.365 1940.05 209.782 Q1941.93 210.175 1943.69 210.985 Z\" fill=\"#000000\" fill-rule=\"evenodd\" fill-opacity=\"1\" /><path clip-path=\"url(#clip960)\" d=\"M1951.09 209.99 L1955.35 209.99 L1955.35 235.916 L1951.09 235.916 L1951.09 209.99 M1951.09 199.897 L1955.35 199.897 L1955.35 205.291 L1951.09 205.291 L1951.09 199.897 Z\" fill=\"#000000\" fill-rule=\"evenodd\" fill-opacity=\"1\" /><path clip-path=\"url(#clip960)\" d=\"M1986.44 221.888 L1986.44 223.971 L1966.86 223.971 Q1967.13 228.369 1969.5 230.684 Q1971.88 232.976 1976.12 232.976 Q1978.57 232.976 1980.86 232.374 Q1983.18 231.772 1985.44 230.569 L1985.44 234.596 Q1983.15 235.568 1980.75 236.078 Q1978.34 236.587 1975.86 236.587 Q1969.66 236.587 1966.02 232.976 Q1962.41 229.365 1962.41 223.207 Q1962.41 216.842 1965.84 213.115 Q1969.29 209.365 1975.12 209.365 Q1980.35 209.365 1983.38 212.745 Q1986.44 216.101 1986.44 221.888 M1982.18 220.638 Q1982.13 217.143 1980.21 215.059 Q1978.32 212.976 1975.17 212.976 Q1971.6 212.976 1969.45 214.99 Q1967.32 217.004 1967 220.661 L1982.18 220.638 Z\" fill=\"#000000\" fill-rule=\"evenodd\" fill-opacity=\"1\" /><path clip-path=\"url(#clip960)\" d=\"M2014.98 220.268 L2014.98 235.916 L2010.72 235.916 L2010.72 220.407 Q2010.72 216.726 2009.29 214.897 Q2007.85 213.069 2004.98 213.069 Q2001.53 213.069 1999.54 215.268 Q1997.55 217.467 1997.55 221.263 L1997.55 235.916 L1993.27 235.916 L1993.27 209.99 L1997.55 209.99 L1997.55 214.018 Q1999.08 211.68 2001.14 210.522 Q2003.22 209.365 2005.93 209.365 Q2010.4 209.365 2012.69 212.143 Q2014.98 214.897 2014.98 220.268 Z\" fill=\"#000000\" fill-rule=\"evenodd\" fill-opacity=\"1\" /><path clip-path=\"url(#clip960)\" d=\"M2027.69 202.629 L2027.69 209.99 L2036.46 209.99 L2036.46 213.3 L2027.69 213.3 L2027.69 227.374 Q2027.69 230.545 2028.55 231.448 Q2029.43 232.351 2032.09 232.351 L2036.46 232.351 L2036.46 235.916 L2032.09 235.916 Q2027.16 235.916 2025.28 234.087 Q2023.41 232.235 2023.41 227.374 L2023.41 213.3 L2020.28 213.3 L2020.28 209.99 L2023.41 209.99 L2023.41 202.629 L2027.69 202.629 Z\" fill=\"#000000\" fill-rule=\"evenodd\" fill-opacity=\"1\" /><path clip-path=\"url(#clip960)\" d=\"M2057.32 201.356 L2077.18 201.356 L2077.18 205.291 L2062 205.291 L2062 215.476 L2075.7 215.476 L2075.7 219.411 L2062 219.411 L2062 235.916 L2057.32 235.916 L2057.32 201.356 Z\" fill=\"#000000\" fill-rule=\"evenodd\" fill-opacity=\"1\" /><path clip-path=\"url(#clip960)\" d=\"M2095.98 213.971 Q2095.26 213.555 2094.4 213.37 Q2093.57 213.161 2092.55 213.161 Q2088.94 213.161 2087 215.522 Q2085.07 217.86 2085.07 222.258 L2085.07 235.916 L2080.79 235.916 L2080.79 209.99 L2085.07 209.99 L2085.07 214.018 Q2086.42 211.657 2088.57 210.522 Q2090.72 209.365 2093.8 209.365 Q2094.24 209.365 2094.77 209.434 Q2095.31 209.481 2095.95 209.596 L2095.98 213.971 Z\" fill=\"#000000\" fill-rule=\"evenodd\" fill-opacity=\"1\" /><path clip-path=\"url(#clip960)\" d=\"M2109.45 212.976 Q2106.02 212.976 2104.03 215.661 Q2102.04 218.323 2102.04 222.976 Q2102.04 227.629 2104.01 230.314 Q2106 232.976 2109.45 232.976 Q2112.85 232.976 2114.84 230.291 Q2116.83 227.606 2116.83 222.976 Q2116.83 218.37 2114.84 215.684 Q2112.85 212.976 2109.45 212.976 M2109.45 209.365 Q2115 209.365 2118.18 212.976 Q2121.35 216.587 2121.35 222.976 Q2121.35 229.342 2118.18 232.976 Q2115 236.587 2109.45 236.587 Q2103.87 236.587 2100.7 232.976 Q2097.55 229.342 2097.55 222.976 Q2097.55 216.587 2100.7 212.976 Q2103.87 209.365 2109.45 209.365 Z\" fill=\"#000000\" fill-rule=\"evenodd\" fill-opacity=\"1\" /><path clip-path=\"url(#clip960)\" d=\"M2149.96 220.268 L2149.96 235.916 L2145.7 235.916 L2145.7 220.407 Q2145.7 216.726 2144.26 214.897 Q2142.83 213.069 2139.96 213.069 Q2136.51 213.069 2134.52 215.268 Q2132.53 217.467 2132.53 221.263 L2132.53 235.916 L2128.25 235.916 L2128.25 209.99 L2132.53 209.99 L2132.53 214.018 Q2134.06 211.68 2136.12 210.522 Q2138.2 209.365 2140.91 209.365 Q2145.37 209.365 2147.67 212.143 Q2149.96 214.897 2149.96 220.268 Z\" fill=\"#000000\" fill-rule=\"evenodd\" fill-opacity=\"1\" /><path clip-path=\"url(#clip960)\" d=\"M2162.67 202.629 L2162.67 209.99 L2171.44 209.99 L2171.44 213.3 L2162.67 213.3 L2162.67 227.374 Q2162.67 230.545 2163.52 231.448 Q2164.4 232.351 2167.06 232.351 L2171.44 232.351 L2171.44 235.916 L2167.06 235.916 Q2162.13 235.916 2160.26 234.087 Q2158.38 232.235 2158.38 227.374 L2158.38 213.3 L2155.26 213.3 L2155.26 209.99 L2158.38 209.99 L2158.38 202.629 L2162.67 202.629 Z\" fill=\"#000000\" fill-rule=\"evenodd\" fill-opacity=\"1\" /><path clip-path=\"url(#clip960)\" d=\"M2177.04 209.99 L2181.3 209.99 L2181.3 235.916 L2177.04 235.916 L2177.04 209.99 M2177.04 199.897 L2181.3 199.897 L2181.3 205.291 L2177.04 205.291 L2177.04 199.897 Z\" fill=\"#000000\" fill-rule=\"evenodd\" fill-opacity=\"1\" /><path clip-path=\"url(#clip960)\" d=\"M2212.39 221.888 L2212.39 223.971 L2192.8 223.971 Q2193.08 228.369 2195.44 230.684 Q2197.83 232.976 2202.06 232.976 Q2204.52 232.976 2206.81 232.374 Q2209.12 231.772 2211.39 230.569 L2211.39 234.596 Q2209.1 235.568 2206.69 236.078 Q2204.29 236.587 2201.81 236.587 Q2195.61 236.587 2191.97 232.976 Q2188.36 229.365 2188.36 223.207 Q2188.36 216.842 2191.79 213.115 Q2195.24 209.365 2201.07 209.365 Q2206.3 209.365 2209.33 212.745 Q2212.39 216.101 2212.39 221.888 M2208.13 220.638 Q2208.08 217.143 2206.16 215.059 Q2204.26 212.976 2201.12 212.976 Q2197.55 212.976 2195.4 214.99 Q2193.27 217.004 2192.94 220.661 L2208.13 220.638 Z\" fill=\"#000000\" fill-rule=\"evenodd\" fill-opacity=\"1\" /><path clip-path=\"url(#clip960)\" d=\"M2234.4 213.971 Q2233.68 213.555 2232.83 213.37 Q2231.99 213.161 2230.98 213.161 Q2227.36 213.161 2225.42 215.522 Q2223.5 217.86 2223.5 222.258 L2223.5 235.916 L2219.22 235.916 L2219.22 209.99 L2223.5 209.99 L2223.5 214.018 Q2224.84 211.657 2226.99 210.522 Q2229.15 209.365 2232.23 209.365 Q2232.67 209.365 2233.2 209.434 Q2233.73 209.481 2234.38 209.596 L2234.4 213.971 Z\" fill=\"#000000\" fill-rule=\"evenodd\" fill-opacity=\"1\" /><line clip-path=\"url(#clip960)\" x1=\"1752.71\" y1=\"270.476\" x2=\"1752.71\" y2=\"244.876\" style=\"stroke:#0000ff; stroke-width:3.2; stroke-opacity:1\"/>\n",
       "<line clip-path=\"url(#clip960)\" x1=\"1752.71\" y1=\"270.476\" x2=\"1727.11\" y2=\"270.476\" style=\"stroke:#0000ff; stroke-width:3.2; stroke-opacity:1\"/>\n",
       "<line clip-path=\"url(#clip960)\" x1=\"1752.71\" y1=\"270.476\" x2=\"1752.71\" y2=\"296.076\" style=\"stroke:#0000ff; stroke-width:3.2; stroke-opacity:1\"/>\n",
       "<line clip-path=\"url(#clip960)\" x1=\"1752.71\" y1=\"270.476\" x2=\"1778.31\" y2=\"270.476\" style=\"stroke:#0000ff; stroke-width:3.2; stroke-opacity:1\"/>\n",
       "<path clip-path=\"url(#clip960)\" d=\"M1848.71 253.196 L1870.56 253.196 L1870.56 257.131 L1853.39 257.131 L1853.39 267.362 L1869.84 267.362 L1869.84 271.297 L1853.39 271.297 L1853.39 283.821 L1870.98 283.821 L1870.98 287.756 L1848.71 287.756 L1848.71 253.196 Z\" fill=\"#000000\" fill-rule=\"evenodd\" fill-opacity=\"1\" /><path clip-path=\"url(#clip960)\" d=\"M1881.02 274.816 Q1881.02 279.515 1882.95 282.2 Q1884.89 284.862 1888.27 284.862 Q1891.65 284.862 1893.59 282.2 Q1895.54 279.515 1895.54 274.816 Q1895.54 270.117 1893.59 267.455 Q1891.65 264.77 1888.27 264.77 Q1884.89 264.77 1882.95 267.455 Q1881.02 270.117 1881.02 274.816 M1895.54 283.867 Q1894.2 286.182 1892.14 287.316 Q1890.1 288.427 1887.23 288.427 Q1882.53 288.427 1879.57 284.677 Q1876.63 280.927 1876.63 274.816 Q1876.63 268.705 1879.57 264.955 Q1882.53 261.205 1887.23 261.205 Q1890.1 261.205 1892.14 262.339 Q1894.2 263.45 1895.54 265.765 L1895.54 261.83 L1899.8 261.83 L1899.8 297.617 L1895.54 297.617 L1895.54 283.867 Z\" fill=\"#000000\" fill-rule=\"evenodd\" fill-opacity=\"1\" /><path clip-path=\"url(#clip960)\" d=\"M1908.13 277.524 L1908.13 261.83 L1912.39 261.83 L1912.39 277.362 Q1912.39 281.043 1913.82 282.895 Q1915.26 284.723 1918.13 284.723 Q1921.58 284.723 1923.57 282.524 Q1925.58 280.325 1925.58 276.529 L1925.58 261.83 L1929.84 261.83 L1929.84 287.756 L1925.58 287.756 L1925.58 283.774 Q1924.03 286.135 1921.97 287.293 Q1919.94 288.427 1917.23 288.427 Q1912.76 288.427 1910.45 285.649 Q1908.13 282.871 1908.13 277.524 M1918.85 261.205 L1918.85 261.205 Z\" fill=\"#000000\" fill-rule=\"evenodd\" fill-opacity=\"1\" /><path clip-path=\"url(#clip960)\" d=\"M1938.62 261.83 L1942.88 261.83 L1942.88 287.756 L1938.62 287.756 L1938.62 261.83 M1938.62 251.737 L1942.88 251.737 L1942.88 257.131 L1938.62 257.131 L1938.62 251.737 Z\" fill=\"#000000\" fill-rule=\"evenodd\" fill-opacity=\"1\" /><path clip-path=\"url(#clip960)\" d=\"M1956 254.469 L1956 261.83 L1964.77 261.83 L1964.77 265.14 L1956 265.14 L1956 279.214 Q1956 282.385 1956.86 283.288 Q1957.74 284.191 1960.4 284.191 L1964.77 284.191 L1964.77 287.756 L1960.4 287.756 Q1955.47 287.756 1953.59 285.927 Q1951.72 284.075 1951.72 279.214 L1951.72 265.14 L1948.59 265.14 L1948.59 261.83 L1951.72 261.83 L1951.72 254.469 L1956 254.469 Z\" fill=\"#000000\" fill-rule=\"evenodd\" fill-opacity=\"1\" /><path clip-path=\"url(#clip960)\" d=\"M1970.38 261.83 L1974.63 261.83 L1974.63 287.756 L1970.38 287.756 L1970.38 261.83 M1970.38 251.737 L1974.63 251.737 L1974.63 257.131 L1970.38 257.131 L1970.38 251.737 Z\" fill=\"#000000\" fill-rule=\"evenodd\" fill-opacity=\"1\" /><path clip-path=\"url(#clip960)\" d=\"M2005.72 273.728 L2005.72 275.811 L1986.14 275.811 Q1986.42 280.209 1988.78 282.524 Q1991.16 284.816 1995.4 284.816 Q1997.85 284.816 2000.14 284.214 Q2002.46 283.612 2004.73 282.409 L2004.73 286.436 Q2002.44 287.408 2000.03 287.918 Q1997.62 288.427 1995.14 288.427 Q1988.94 288.427 1985.31 284.816 Q1981.69 281.205 1981.69 275.047 Q1981.69 268.682 1985.12 264.955 Q1988.57 261.205 1994.4 261.205 Q1999.63 261.205 2002.67 264.585 Q2005.72 267.941 2005.72 273.728 M2001.46 272.478 Q2001.42 268.983 1999.5 266.899 Q1997.6 264.816 1994.45 264.816 Q1990.88 264.816 1988.73 266.83 Q1986.6 268.844 1986.28 272.501 L2001.46 272.478 Z\" fill=\"#000000\" fill-rule=\"evenodd\" fill-opacity=\"1\" /><path clip-path=\"url(#clip960)\" d=\"M2029.24 262.594 L2029.24 266.622 Q2027.44 265.696 2025.49 265.233 Q2023.55 264.77 2021.46 264.77 Q2018.29 264.77 2016.69 265.742 Q2015.12 266.714 2015.12 268.659 Q2015.12 270.14 2016.25 270.997 Q2017.39 271.83 2020.82 272.594 L2022.27 272.918 Q2026.81 273.89 2028.71 275.672 Q2030.63 277.432 2030.63 280.603 Q2030.63 284.214 2027.76 286.321 Q2024.91 288.427 2019.91 288.427 Q2017.83 288.427 2015.56 288.01 Q2013.32 287.617 2010.82 286.807 L2010.82 282.409 Q2013.18 283.635 2015.47 284.26 Q2017.76 284.862 2020 284.862 Q2023.01 284.862 2024.63 283.844 Q2026.25 282.802 2026.25 280.927 Q2026.25 279.191 2025.07 278.265 Q2023.92 277.339 2019.96 276.483 L2018.48 276.135 Q2014.52 275.302 2012.76 273.589 Q2011 271.853 2011 268.844 Q2011 265.186 2013.59 263.196 Q2016.19 261.205 2020.95 261.205 Q2023.32 261.205 2025.4 261.552 Q2027.48 261.899 2029.24 262.594 Z\" fill=\"#000000\" fill-rule=\"evenodd\" fill-opacity=\"1\" /><path clip-path=\"url(#clip960)\" d=\"M1752.71 347.916 L1747.59 331.173 L1730.54 335.116 L1742.47 322.316 L1730.54 309.516 L1747.59 313.458 L1752.71 296.716 L1757.83 313.458 L1774.88 309.516 L1762.95 322.316 L1774.88 335.116 L1757.83 331.173 L1752.71 347.916 Z\" fill=\"#ff0000\" fill-rule=\"evenodd\" fill-opacity=\"1\" stroke=\"#000000\" stroke-opacity=\"1\" stroke-width=\"2.56\"/>\n",
       "<path clip-path=\"url(#clip960)\" d=\"M1848.71 305.036 L1855.68 305.036 L1864.5 328.554 L1873.36 305.036 L1880.33 305.036 L1880.33 339.596 L1875.77 339.596 L1875.77 309.249 L1866.86 332.952 L1862.16 332.952 L1853.25 309.249 L1853.25 339.596 L1848.71 339.596 L1848.71 305.036 Z\" fill=\"#000000\" fill-rule=\"evenodd\" fill-opacity=\"1\" /><path clip-path=\"url(#clip960)\" d=\"M1901.21 326.563 Q1896.05 326.563 1894.06 327.744 Q1892.07 328.924 1892.07 331.772 Q1892.07 334.04 1893.55 335.383 Q1895.05 336.702 1897.62 336.702 Q1901.16 336.702 1903.29 334.202 Q1905.45 331.679 1905.45 327.512 L1905.45 326.563 L1901.21 326.563 M1909.7 324.804 L1909.7 339.596 L1905.45 339.596 L1905.45 335.661 Q1903.99 338.022 1901.81 339.156 Q1899.64 340.267 1896.49 340.267 Q1892.51 340.267 1890.14 338.045 Q1887.81 335.799 1887.81 332.049 Q1887.81 327.674 1890.72 325.452 Q1893.66 323.23 1899.47 323.23 L1905.45 323.23 L1905.45 322.813 Q1905.45 319.874 1903.5 318.276 Q1901.58 316.656 1898.08 316.656 Q1895.86 316.656 1893.76 317.188 Q1891.65 317.721 1889.7 318.786 L1889.7 314.85 Q1892.04 313.948 1894.24 313.508 Q1896.44 313.045 1898.52 313.045 Q1904.15 313.045 1906.93 315.962 Q1909.7 318.878 1909.7 324.804 Z\" fill=\"#000000\" fill-rule=\"evenodd\" fill-opacity=\"1\" /><path clip-path=\"url(#clip960)\" d=\"M1933.5 317.651 Q1932.78 317.235 1931.93 317.05 Q1931.09 316.841 1930.07 316.841 Q1926.46 316.841 1924.52 319.202 Q1922.6 321.54 1922.6 325.938 L1922.6 339.596 L1918.32 339.596 L1918.32 313.67 L1922.6 313.67 L1922.6 317.698 Q1923.94 315.337 1926.09 314.202 Q1928.25 313.045 1931.32 313.045 Q1931.76 313.045 1932.3 313.114 Q1932.83 313.161 1933.48 313.276 L1933.5 317.651 Z\" fill=\"#000000\" fill-rule=\"evenodd\" fill-opacity=\"1\" /><path clip-path=\"url(#clip960)\" d=\"M1937.81 303.577 L1942.09 303.577 L1942.09 324.85 L1954.8 313.67 L1960.24 313.67 L1946.49 325.799 L1960.82 339.596 L1955.26 339.596 L1942.09 326.934 L1942.09 339.596 L1937.81 339.596 L1937.81 303.577 Z\" fill=\"#000000\" fill-rule=\"evenodd\" fill-opacity=\"1\" /><path clip-path=\"url(#clip960)\" d=\"M1985.91 325.568 L1985.91 327.651 L1966.32 327.651 Q1966.6 332.049 1968.96 334.364 Q1971.35 336.656 1975.58 336.656 Q1978.04 336.656 1980.33 336.054 Q1982.64 335.452 1984.91 334.249 L1984.91 338.276 Q1982.62 339.248 1980.21 339.758 Q1977.81 340.267 1975.33 340.267 Q1969.13 340.267 1965.49 336.656 Q1961.88 333.045 1961.88 326.887 Q1961.88 320.522 1965.31 316.795 Q1968.76 313.045 1974.59 313.045 Q1979.82 313.045 1982.85 316.425 Q1985.91 319.781 1985.91 325.568 M1981.65 324.318 Q1981.6 320.823 1979.68 318.739 Q1977.78 316.656 1974.63 316.656 Q1971.07 316.656 1968.92 318.67 Q1966.79 320.684 1966.46 324.341 L1981.65 324.318 Z\" fill=\"#000000\" fill-rule=\"evenodd\" fill-opacity=\"1\" /><path clip-path=\"url(#clip960)\" d=\"M1997.11 306.309 L1997.11 313.67 L2005.88 313.67 L2005.88 316.98 L1997.11 316.98 L1997.11 331.054 Q1997.11 334.225 1997.97 335.128 Q1998.85 336.031 2001.51 336.031 L2005.88 336.031 L2005.88 339.596 L2001.51 339.596 Q1996.58 339.596 1994.7 337.767 Q1992.83 335.915 1992.83 331.054 L1992.83 316.98 L1989.7 316.98 L1989.7 313.67 L1992.83 313.67 L1992.83 306.309 L1997.11 306.309 Z\" fill=\"#000000\" fill-rule=\"evenodd\" fill-opacity=\"1\" /><path clip-path=\"url(#clip960)\" d=\"M2031.42 308.878 L2031.42 321.864 L2037.3 321.864 Q2040.56 321.864 2042.34 320.175 Q2044.13 318.485 2044.13 315.36 Q2044.13 312.258 2042.34 310.568 Q2040.56 308.878 2037.3 308.878 L2031.42 308.878 M2026.74 305.036 L2037.3 305.036 Q2043.11 305.036 2046.07 307.675 Q2049.06 310.29 2049.06 315.36 Q2049.06 320.475 2046.07 323.091 Q2043.11 325.707 2037.3 325.707 L2031.42 325.707 L2031.42 339.596 L2026.74 339.596 L2026.74 305.036 Z\" fill=\"#000000\" fill-rule=\"evenodd\" fill-opacity=\"1\" /><path clip-path=\"url(#clip960)\" d=\"M2063.5 316.656 Q2060.07 316.656 2058.08 319.341 Q2056.09 322.003 2056.09 326.656 Q2056.09 331.309 2058.06 333.994 Q2060.05 336.656 2063.5 336.656 Q2066.9 336.656 2068.89 333.971 Q2070.88 331.286 2070.88 326.656 Q2070.88 322.05 2068.89 319.364 Q2066.9 316.656 2063.5 316.656 M2063.5 313.045 Q2069.06 313.045 2072.23 316.656 Q2075.4 320.267 2075.4 326.656 Q2075.4 333.022 2072.23 336.656 Q2069.06 340.267 2063.5 340.267 Q2057.92 340.267 2054.75 336.656 Q2051.6 333.022 2051.6 326.656 Q2051.6 320.267 2054.75 316.656 Q2057.92 313.045 2063.5 313.045 Z\" fill=\"#000000\" fill-rule=\"evenodd\" fill-opacity=\"1\" /><path clip-path=\"url(#clip960)\" d=\"M2097.48 317.651 Q2096.76 317.235 2095.91 317.05 Q2095.07 316.841 2094.06 316.841 Q2090.44 316.841 2088.5 319.202 Q2086.58 321.54 2086.58 325.938 L2086.58 339.596 L2082.3 339.596 L2082.3 313.67 L2086.58 313.67 L2086.58 317.698 Q2087.92 315.337 2090.07 314.202 Q2092.23 313.045 2095.31 313.045 Q2095.75 313.045 2096.28 313.114 Q2096.81 313.161 2097.46 313.276 L2097.48 317.651 Z\" fill=\"#000000\" fill-rule=\"evenodd\" fill-opacity=\"1\" /><path clip-path=\"url(#clip960)\" d=\"M2106.16 306.309 L2106.16 313.67 L2114.93 313.67 L2114.93 316.98 L2106.16 316.98 L2106.16 331.054 Q2106.16 334.225 2107.02 335.128 Q2107.9 336.031 2110.56 336.031 L2114.93 336.031 L2114.93 339.596 L2110.56 339.596 Q2105.63 339.596 2103.75 337.767 Q2101.88 335.915 2101.88 331.054 L2101.88 316.98 L2098.75 316.98 L2098.75 313.67 L2101.88 313.67 L2101.88 306.309 L2106.16 306.309 Z\" fill=\"#000000\" fill-rule=\"evenodd\" fill-opacity=\"1\" /><path clip-path=\"url(#clip960)\" d=\"M2133.66 303.577 L2133.66 307.119 L2129.59 307.119 Q2127.3 307.119 2126.39 308.045 Q2125.51 308.971 2125.51 311.378 L2125.51 313.67 L2132.53 313.67 L2132.53 316.98 L2125.51 316.98 L2125.51 339.596 L2121.23 339.596 L2121.23 316.98 L2117.16 316.98 L2117.16 313.67 L2121.23 313.67 L2121.23 311.864 Q2121.23 307.536 2123.25 305.568 Q2125.26 303.577 2129.63 303.577 L2133.66 303.577 Z\" fill=\"#000000\" fill-rule=\"evenodd\" fill-opacity=\"1\" /><path clip-path=\"url(#clip960)\" d=\"M2147.27 316.656 Q2143.85 316.656 2141.86 319.341 Q2139.87 322.003 2139.87 326.656 Q2139.87 331.309 2141.83 333.994 Q2143.82 336.656 2147.27 336.656 Q2150.68 336.656 2152.67 333.971 Q2154.66 331.286 2154.66 326.656 Q2154.66 322.05 2152.67 319.364 Q2150.68 316.656 2147.27 316.656 M2147.27 313.045 Q2152.83 313.045 2156 316.656 Q2159.17 320.267 2159.17 326.656 Q2159.17 333.022 2156 336.656 Q2152.83 340.267 2147.27 340.267 Q2141.69 340.267 2138.52 336.656 Q2135.37 333.022 2135.37 326.656 Q2135.37 320.267 2138.52 316.656 Q2141.69 313.045 2147.27 313.045 Z\" fill=\"#000000\" fill-rule=\"evenodd\" fill-opacity=\"1\" /><path clip-path=\"url(#clip960)\" d=\"M2166.23 303.577 L2170.49 303.577 L2170.49 339.596 L2166.23 339.596 L2166.23 303.577 Z\" fill=\"#000000\" fill-rule=\"evenodd\" fill-opacity=\"1\" /><path clip-path=\"url(#clip960)\" d=\"M2179.4 313.67 L2183.66 313.67 L2183.66 339.596 L2179.4 339.596 L2179.4 313.67 M2179.4 303.577 L2183.66 303.577 L2183.66 308.971 L2179.4 308.971 L2179.4 303.577 Z\" fill=\"#000000\" fill-rule=\"evenodd\" fill-opacity=\"1\" /><path clip-path=\"url(#clip960)\" d=\"M2202.62 316.656 Q2199.19 316.656 2197.2 319.341 Q2195.21 322.003 2195.21 326.656 Q2195.21 331.309 2197.18 333.994 Q2199.17 336.656 2202.62 336.656 Q2206.02 336.656 2208.01 333.971 Q2210 331.286 2210 326.656 Q2210 322.05 2208.01 319.364 Q2206.02 316.656 2202.62 316.656 M2202.62 313.045 Q2208.18 313.045 2211.35 316.656 Q2214.52 320.267 2214.52 326.656 Q2214.52 333.022 2211.35 336.656 Q2208.18 340.267 2202.62 340.267 Q2197.04 340.267 2193.87 336.656 Q2190.72 333.022 2190.72 326.656 Q2190.72 320.267 2193.87 316.656 Q2197.04 313.045 2202.62 313.045 Z\" fill=\"#000000\" fill-rule=\"evenodd\" fill-opacity=\"1\" /></svg>\n"
      ]
     },
     "execution_count": 48,
     "metadata": {},
     "output_type": "execute_result"
    }
   ],
   "source": [
    "# Plots the efficient frontier\n",
    "efficient_frontier(p_array)"
   ]
  },
  {
   "cell_type": "code",
   "execution_count": 49,
   "id": "70a01af8",
   "metadata": {},
   "outputs": [
    {
     "data": {
      "text/html": [
       "<div class=\"data-frame\"><p>5 rows × 5 columns</p><table class=\"data-frame\"><thead><tr><th></th><th>Equities</th><th>Weights</th><th>Expected_Return</th><th>Expected_Risk</th><th>Sharp_Ratio</th></tr><tr><th></th><th title=\"String\">String</th><th title=\"Float64\">Float64</th><th title=\"Float64\">Float64</th><th title=\"Float64\">Float64</th><th title=\"Float64\">Float64</th></tr></thead><tbody><tr><th>1</th><td>AMAT</td><td>0.401</td><td>63.1757</td><td>5.88623</td><td>10.7328</td></tr><tr><th>2</th><td>EQR</td><td>0.3</td><td>19.1607</td><td>3.59994</td><td>5.32251</td></tr><tr><th>3</th><td>FE</td><td>0.004</td><td>-3.6482</td><td>4.20228</td><td>-0.868148</td></tr><tr><th>4</th><td>HRS</td><td>0.294</td><td>41.496</td><td>4.51623</td><td>9.18821</td></tr><tr><th>5</th><td>MOS</td><td>0.001</td><td>-47.0855</td><td>7.12933</td><td>-6.60448</td></tr></tbody></table></div>"
      ],
      "text/latex": [
       "\\begin{tabular}{r|ccccc}\n",
       "\t& Equities & Weights & Expected\\_Return & Expected\\_Risk & Sharp\\_Ratio\\\\\n",
       "\t\\hline\n",
       "\t& String & Float64 & Float64 & Float64 & Float64\\\\\n",
       "\t\\hline\n",
       "\t1 & AMAT & 0.401 & 63.1757 & 5.88623 & 10.7328 \\\\\n",
       "\t2 & EQR & 0.3 & 19.1607 & 3.59994 & 5.32251 \\\\\n",
       "\t3 & FE & 0.004 & -3.6482 & 4.20228 & -0.868148 \\\\\n",
       "\t4 & HRS & 0.294 & 41.496 & 4.51623 & 9.18821 \\\\\n",
       "\t5 & MOS & 0.001 & -47.0855 & 7.12933 & -6.60448 \\\\\n",
       "\\end{tabular}\n"
      ],
      "text/plain": [
       "\u001b[1m5×5 DataFrame\u001b[0m\n",
       "\u001b[1m Row \u001b[0m│\u001b[1m Equities \u001b[0m\u001b[1m Weights \u001b[0m\u001b[1m Expected_Return \u001b[0m\u001b[1m Expected_Risk \u001b[0m\u001b[1m Sharp_Ratio \u001b[0m\n",
       "\u001b[1m     \u001b[0m│\u001b[90m String   \u001b[0m\u001b[90m Float64 \u001b[0m\u001b[90m Float64         \u001b[0m\u001b[90m Float64       \u001b[0m\u001b[90m Float64     \u001b[0m\n",
       "─────┼────────────────────────────────────────────────────────────────\n",
       "   1 │ AMAT        0.401          63.1757        5.88623    10.7328\n",
       "   2 │ EQR         0.3            19.1607        3.59994     5.32251\n",
       "   3 │ FE          0.004          -3.6482        4.20228    -0.868148\n",
       "   4 │ HRS         0.294          41.496         4.51623     9.18821\n",
       "   5 │ MOS         0.001         -47.0855        7.12933    -6.60448"
      ]
     },
     "execution_count": 49,
     "metadata": {},
     "output_type": "execute_result"
    }
   ],
   "source": [
    "equity_performance(p_array)"
   ]
  },
  {
   "cell_type": "markdown",
   "id": "aac0cc26",
   "metadata": {},
   "source": [
    "The above results suggest that resources should be allocated to AMAT, EQR and HRS respectively, with nothing going to FE and MOS.  "
   ]
  },
  {
   "cell_type": "code",
   "execution_count": 50,
   "id": "f535cb53",
   "metadata": {},
   "outputs": [
    {
     "data": {
      "text/html": [
       "<div class=\"data-frame\"><p>1 rows × 4 columns</p><table class=\"data-frame\"><thead><tr><th></th><th>Market_Portfolio</th><th>Expected_Return</th><th>Expected_Risk</th><th>Sharp_Ratio</th></tr><tr><th></th><th title=\"String\">String</th><th title=\"Float64\">Float64</th><th title=\"Float64\">Float64</th><th title=\"Float64\">Float64</th></tr></thead><tbody><tr><th>1</th><td>Market Portfolio</td><td>43.187</td><td>3.57473</td><td>12.0812</td></tr></tbody></table></div>"
      ],
      "text/latex": [
       "\\begin{tabular}{r|cccc}\n",
       "\t& Market\\_Portfolio & Expected\\_Return & Expected\\_Risk & Sharp\\_Ratio\\\\\n",
       "\t\\hline\n",
       "\t& String & Float64 & Float64 & Float64\\\\\n",
       "\t\\hline\n",
       "\t1 & Market Portfolio & 43.187 & 3.57473 & 12.0812 \\\\\n",
       "\\end{tabular}\n"
      ],
      "text/plain": [
       "\u001b[1m1×4 DataFrame\u001b[0m\n",
       "\u001b[1m Row \u001b[0m│\u001b[1m Market_Portfolio \u001b[0m\u001b[1m Expected_Return \u001b[0m\u001b[1m Expected_Risk \u001b[0m\u001b[1m Sharp_Ratio \u001b[0m\n",
       "\u001b[1m     \u001b[0m│\u001b[90m String           \u001b[0m\u001b[90m Float64         \u001b[0m\u001b[90m Float64       \u001b[0m\u001b[90m Float64     \u001b[0m\n",
       "─────┼───────────────────────────────────────────────────────────────\n",
       "   1 │ Market Portfolio           43.187        3.57473      12.0812"
      ]
     },
     "execution_count": 50,
     "metadata": {},
     "output_type": "execute_result"
    }
   ],
   "source": [
    "market_performance(p_array)"
   ]
  },
  {
   "cell_type": "markdown",
   "id": "ad5cb189",
   "metadata": {},
   "source": [
    "The optimal portfolio should be expected to have 40 to 50 % return."
   ]
  }
 ],
 "metadata": {
  "kernelspec": {
   "display_name": "Julia 1.7.1",
   "language": "julia",
   "name": "julia-1.7"
  },
  "language_info": {
   "file_extension": ".jl",
   "mimetype": "application/julia",
   "name": "julia",
   "version": "1.7.1"
  }
 },
 "nbformat": 4,
 "nbformat_minor": 5
}
