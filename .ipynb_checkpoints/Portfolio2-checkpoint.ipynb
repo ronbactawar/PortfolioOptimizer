{
 "cells": [
  {
   "cell_type": "code",
   "execution_count": 1,
   "id": "76f8c8cf",
   "metadata": {},
   "outputs": [
    {
     "data": {
      "text/plain": [
       "120"
      ]
     },
     "execution_count": 1,
     "metadata": {},
     "output_type": "execute_result"
    }
   ],
   "source": [
    "using DataFrames\n",
    "using Statistics\n",
    "using LinearAlgebra\n",
    "using Dates\n",
    "using CSV\n",
    "using Plots\n",
    "using Combinatorics: combinations\n",
    "ENV[\"COLUMNS\"]=120"
   ]
  },
  {
   "cell_type": "code",
   "execution_count": 2,
   "id": "4f73abc5",
   "metadata": {},
   "outputs": [
    {
     "data": {
      "text/plain": [
       "select_stocks (generic function with 2 methods)"
      ]
     },
     "execution_count": 2,
     "metadata": {},
     "output_type": "execute_result"
    }
   ],
   "source": [
    "# Select an array of stocks, between given dates, at a given daily period\n",
    "function select_stocks(file_path::String, begin_date::Date, end_date::Date, period::Int64, stock_list::Vector{String})\n",
    "    data = CSV.read(file_path, DataFrame) |> DataFrame # read in long data\n",
    "    data = filter(row -> (begin_date <= row.date <= end_date), data) # filter for date range\n",
    "    data = filter(row -> row.stock ∈ stock_list, data) # filter for stocks in stock_list\n",
    "    wide_data = unstack(data, :date, :stock, :close) # Create wide table\n",
    "    sort!(data, [:date]) # Make sure data is sorted by date\n",
    "    index = 1:period:size(wide_data)[1] # Create an index based on period to subset the rows\n",
    "    wide_data = wide_data[index, :] # Filter the row based on the index\n",
    "end\n",
    "\n",
    "# If stock list is missing, then return whole stock dataframe in wideform\n",
    "function select_stocks(file_path::String, begin_date::Date, end_date::Date, period::Int64)\n",
    "    data = CSV.read(file_path, DataFrame) |> DataFrame # read in long data\n",
    "    stock_list = levels(data.stock)[1:17]\n",
    "    return select_stocks(file_path::String, begin_date::Date, end_date::Date, period::Int64, stock_list::Vector{String})\n",
    "end"
   ]
  },
  {
   "cell_type": "code",
   "execution_count": 3,
   "id": "d62be5fa",
   "metadata": {},
   "outputs": [
    {
     "data": {
      "text/plain": [
       "portfolio_returns_table (generic function with 2 methods)"
      ]
     },
     "execution_count": 3,
     "metadata": {},
     "output_type": "execute_result"
    }
   ],
   "source": [
    "# This a function that returns a set of portfolio returns for each stock\n",
    "# The returns are in the form of :percentage_change or log_difference\n",
    "# An unspecified third argument defaults to :percentage_change\n",
    "\n",
    "function portfolio_returns_table(input::DataFrame, date::Symbol, relative_difference::Symbol = :percentage_change)\n",
    "    sort!(input, [date])\n",
    "    input_data = select(input, Not([date]))\n",
    "    input_names = names(input_data)\n",
    "    dates = input[!, date]\n",
    "    L = size(input_data)[1]\n",
    "    input_matrix = Matrix(input_data)\n",
    "    input_matrix = float.(input_matrix)\n",
    "    \n",
    "    \n",
    "    if relative_difference == :percentage_change\n",
    "        #\n",
    "        ML = input_matrix[2:L, :]\n",
    "        MR = input_matrix[1:L-1, :]\n",
    "        MF = (ML .- MR) ./ ML\n",
    "        MF = MF * 100\n",
    "    elseif relative_difference == :log_difference\n",
    "        input_matrix = log.(input_matrix)\n",
    "        ML = input_matrix[2:L, :]\n",
    "        MR = input_matrix[1:L-1, :]\n",
    "        MF = ML .- MR\n",
    "        MF = MF * 100\n",
    "    else\n",
    "        error(\"Choose :percentage_change or :log_difference for the relative_difference paramater\")\n",
    "    end\n",
    "\n",
    "    mydates = dates[2:L, :] |> vec\n",
    "    \n",
    "    output = DataFrame()\n",
    "    output[!, :date] = mydates\n",
    "    \n",
    "    for i in eachindex(input_names)\n",
    "        output[!, input_names[i]] = MF[:, i]\n",
    "    end\n",
    "    \n",
    "    return output\n",
    "        \n",
    "end"
   ]
  },
  {
   "cell_type": "code",
   "execution_count": 4,
   "id": "1e1b728c",
   "metadata": {},
   "outputs": [],
   "source": [
    "# Define the Portfolio struct\n",
    "mutable struct Portfolio\n",
    "    equities::Vector{Symbol}\n",
    "    cov_matrix::Matrix{Float64}\n",
    "    means::Vector{Float64}\n",
    "    weights::Vector{Float64}\n",
    "    \n",
    "    # Constraint function\n",
    "    function Portfolio(equities, cov_matrix, means, weights)\n",
    "        if length(equities) == length(means) == length(weights) == size(cov_matrix)[1] == size(cov_matrix)[2]\n",
    "            return new(equities, cov_matrix, means, weights)\n",
    "        else\n",
    "            error(\"Check the dimension of inputs\")\n",
    "        end        \n",
    "    end    \n",
    "end"
   ]
  },
  {
   "cell_type": "code",
   "execution_count": 5,
   "id": "118d484c",
   "metadata": {},
   "outputs": [
    {
     "data": {
      "text/plain": [
       "portfolio (generic function with 1 method)"
      ]
     },
     "execution_count": 5,
     "metadata": {},
     "output_type": "execute_result"
    }
   ],
   "source": [
    "# Constructs a portfolio object from a portfolio return table \n",
    "# Random weights that add to 1 are assigned \n",
    "function portfolio(df_input::DataFrame, date::Symbol)\n",
    "    df = sort(df_input, [date])\n",
    "    df = select(df, Not([date]))\n",
    "    \n",
    "    # Get the data matrix\n",
    "    data = Matrix(df)\n",
    "    \n",
    "    # Produce the equities, cov_matrix, means and random weights that add to 1\n",
    "    equities = Symbol.(names(df))\n",
    "    cov_matrix = Statistics.cov(data)\n",
    "    means = sum(data, dims = 1) |> vec\n",
    "    unscaled_weights = rand(length(means))\n",
    "    weights = unscaled_weights ./ sum(unscaled_weights)\n",
    "    \n",
    "    # Returns a Portfolio object\n",
    "    return Portfolio(equities, cov_matrix, means, weights)\n",
    "end"
   ]
  },
  {
   "cell_type": "code",
   "execution_count": 6,
   "id": "d0bf5aef",
   "metadata": {},
   "outputs": [
    {
     "data": {
      "text/plain": [
       "expected_return (generic function with 1 method)"
      ]
     },
     "execution_count": 6,
     "metadata": {},
     "output_type": "execute_result"
    }
   ],
   "source": [
    "# Calculates the expected return of the portfolio\n",
    "function expected_return(p::Portfolio)\n",
    "    e_return = transpose(p.weights) * p.means\n",
    "    return e_return\n",
    "end"
   ]
  },
  {
   "cell_type": "code",
   "execution_count": 7,
   "id": "f08cb3b8",
   "metadata": {},
   "outputs": [
    {
     "data": {
      "text/plain": [
       "expected_risk (generic function with 1 method)"
      ]
     },
     "execution_count": 7,
     "metadata": {},
     "output_type": "execute_result"
    }
   ],
   "source": [
    "# Calculates the expected risk of the portfolio\n",
    "function expected_risk(p::Portfolio)\n",
    "    e_risk_squared = transpose(p.weights) * p.cov_matrix * p.weights\n",
    "    e_risk = sqrt(e_risk_squared)\n",
    "    return e_risk   \n",
    "end"
   ]
  },
  {
   "cell_type": "code",
   "execution_count": 8,
   "id": "9ef643b4",
   "metadata": {},
   "outputs": [
    {
     "data": {
      "text/plain": [
       "sharp_ratio (generic function with 1 method)"
      ]
     },
     "execution_count": 8,
     "metadata": {},
     "output_type": "execute_result"
    }
   ],
   "source": [
    "# Calculates the Sharp ratio of a portfolio\n",
    "function sharp_ratio(p::Portfolio)\n",
    "    s_ratio = expected_return(p) / expected_risk(p)\n",
    "    return s_ratio\n",
    "end"
   ]
  },
  {
   "cell_type": "code",
   "execution_count": 9,
   "id": "9294ccc1",
   "metadata": {},
   "outputs": [
    {
     "data": {
      "text/plain": [
       "variant (generic function with 1 method)"
      ]
     },
     "execution_count": 9,
     "metadata": {},
     "output_type": "execute_result"
    }
   ],
   "source": [
    "# Creates a variant of a portfolio, only with a different weights \n",
    "function variant(p::Portfolio)\n",
    "    unscaled_weights = rand(length(p.means))\n",
    "    new_weights = unscaled_weights ./ sum(unscaled_weights)\n",
    "    return Portfolio(p.equities, p.cov_matrix, p.means, new_weights)    \n",
    "end"
   ]
  },
  {
   "cell_type": "code",
   "execution_count": 10,
   "id": "b0cbeb9e",
   "metadata": {},
   "outputs": [
    {
     "data": {
      "text/plain": [
       "create_population (generic function with 1 method)"
      ]
     },
     "execution_count": 10,
     "metadata": {},
     "output_type": "execute_result"
    }
   ],
   "source": [
    "# Create a population of portfolios of size N\n",
    "function create_population(p::Portfolio, N::Int64)\n",
    "    population = fill(p, N)\n",
    "    population = variant.(population)\n",
    "    return population   \n",
    "end"
   ]
  },
  {
   "cell_type": "code",
   "execution_count": 11,
   "id": "381d154e",
   "metadata": {},
   "outputs": [
    {
     "data": {
      "text/plain": [
       "reproduce (generic function with 2 methods)"
      ]
     },
     "execution_count": 11,
     "metadata": {},
     "output_type": "execute_result"
    }
   ],
   "source": [
    "# Creates a child portfolio from 2 parent portfolios by averaging their weights\n",
    "function reproduce(p1::Portfolio, p2::Portfolio)\n",
    "    mixed_weights = 0.5 * (p1.weights .+ p2.weights)\n",
    "    return Portfolio(p1.equities, p1.cov_matrix, p1.means, mixed_weights)\n",
    "end\n",
    "\n",
    "# Offspring porfolios are created by mating all pairs in the population \n",
    "function reproduce(p_array::Vector{Portfolio})\n",
    "    idx = 1:length(p_array) |> collect # Create a full index for p_array\n",
    "    pair_set = combinations(idx, 2) |> collect # Generate all ways to select pairs out the full index\n",
    "    offspring = [reproduce(p_array[i[1]], p_array[i[2]]) for i in pair_set] # Create offspring portfolios\n",
    "    new_pop = cat(p_array, offspring, dims = 1) # Merge the parent and offspring portfolios into a single portfolio\n",
    "    return offspring\n",
    "end"
   ]
  },
  {
   "cell_type": "code",
   "execution_count": 12,
   "id": "06bfcd32",
   "metadata": {},
   "outputs": [
    {
     "data": {
      "text/plain": [
       "boundary (generic function with 1 method)"
      ]
     },
     "execution_count": 12,
     "metadata": {},
     "output_type": "execute_result"
    }
   ],
   "source": [
    "# Get the boundary of the efficient frontier\n",
    "function boundary(p_array::Vector{Portfolio})\n",
    "    # Create a base df for analysis\n",
    "    e_risk = expected_risk.(p_array)\n",
    "    e_return = expected_return.(p_array)\n",
    "    sr = sharp_ratio.(p_array)\n",
    "    df = DataFrame(Expected_Return = e_return, Expected_Risk = e_risk, Sharp_Ratio = sr, Portfolio = p_array)\n",
    "    # code here\n",
    "    df = filter(row -> row.Expected_Return > 0, df) # Filter for positive expected returns\n",
    "    df[!, :er_class] = round.(df.Expected_Return, digits = 1) # Create er_class variable for sorting/grouping\n",
    "    sort!(df, [:er_class, :Sharp_Ratio]) # Sort df by :er_class, :Sharp_Ratio\n",
    "    df[!, :id] = 1:size(df)[1] # create an :id variable as a key\n",
    "    ranked_data = select(df,[:id, :er_class, :Sharp_Ratio]) # Create dataframe with just :id, :er_class and Sharp_ratio\n",
    "    gb = groupby(ranked_data, [:er_class]) # Create groupby object over :er_class\n",
    "    id_df = combine(gb, :id => maximum) # Get maximum id over each er_class, :id_maximum is agg value\n",
    "    boundary = df[id_df.id_maximum, [:Portfolio, :Expected_Return, :Expected_Risk, :Sharp_Ratio]] # Original df is filtered for indexes near the boundry\n",
    "    # new code stats here\n",
    "    sort!(boundary, [:Expected_Risk, :Expected_Return]) # Sort boundary for and expected risk and expected return\n",
    "    er_fil = boundary.Expected_Return[1] # Get the expected return for minimum variance\n",
    "    boundary = filter(row -> row.Expected_Return > er_fil, boundary)\n",
    "    # new code ends here\n",
    "    sort!(boundary, [:Sharp_Ratio], rev=(true)) # Sort boundary for desc Sharp ratios\n",
    "    return boundary.Portfolio # Return sorted Portfolio vector, such that the member has the max sharp_ratio\n",
    " \n",
    "end"
   ]
  },
  {
   "cell_type": "code",
   "execution_count": 13,
   "id": "ef9e61c1",
   "metadata": {},
   "outputs": [
    {
     "data": {
      "text/plain": [
       "summary (generic function with 1 method)"
      ]
     },
     "execution_count": 13,
     "metadata": {},
     "output_type": "execute_result"
    }
   ],
   "source": [
    "# For any population of portfolios, a table with expected returns, expected risks and sharp ratios is returned\n",
    "function summary(p_array::Vector{Portfolio})\n",
    "    df = DataFrame(\n",
    "        Expected_Return = expected_return.(p_array),\n",
    "        Expected_Risk = expected_risk.(p_array),\n",
    "        Sharp_Ratio = sharp_ratio.(p_array)\n",
    "    )\n",
    "    sort!(df, [:Sharp_Ratio], rev=(true))\n",
    "    return df\n",
    "end"
   ]
  },
  {
   "cell_type": "code",
   "execution_count": 14,
   "id": "97a0d373",
   "metadata": {},
   "outputs": [
    {
     "data": {
      "text/plain": [
       "equity_performance (generic function with 2 methods)"
      ]
     },
     "execution_count": 14,
     "metadata": {},
     "output_type": "execute_result"
    }
   ],
   "source": [
    "# Summarise a single portfolio\n",
    "## For a portfolio object with a given set of equities and weights, the expected return, expected risk and Sharp ratio is measured for each equity.\n",
    "function equity_performance(p::Portfolio)\n",
    "    equities = string.(p.equities) # # Get the equities\n",
    "    weights = p.weights\n",
    "    weights = round.(weights, digits = 3)\n",
    "    e_returns = p.means # Get the returns\n",
    "    CM = p.cov_matrix\n",
    "    CM_diag = [CM[i, i] for i in 1:size(CM)[1]]\n",
    "    e_risk = sqrt.(CM_diag) # Get the risk\n",
    "    s_ratio = e_returns ./ e_risk # Get the sharp ratio\n",
    "    output = DataFrame(Equities = equities, Weights = weights, Expected_Return = e_returns, Expected_Risk = e_risk, Sharp_Ratio = s_ratio)\n",
    "    return output\n",
    "end\n",
    "\n",
    "# For an optimally sorted portfolio population, the summary of the array is the summary of the first member\n",
    "function equity_performance(p_array::Vector{Portfolio})\n",
    "    equity_performance(p_array[1])\n",
    "end"
   ]
  },
  {
   "cell_type": "code",
   "execution_count": 15,
   "id": "d82d0e3c",
   "metadata": {},
   "outputs": [
    {
     "data": {
      "text/plain": [
       "market_performance (generic function with 2 methods)"
      ]
     },
     "execution_count": 15,
     "metadata": {},
     "output_type": "execute_result"
    }
   ],
   "source": [
    "# This function returns the market portfolio summary for the total equity set  \n",
    "function market_performance(p::Portfolio)\n",
    "    output = DataFrame(\n",
    "        Market_Portfolio = String[], \n",
    "        Expected_Return = Float64[], \n",
    "        Expected_Risk = Float64[], \n",
    "        Sharp_Ratio = Float64[]\n",
    "    )\n",
    "    \n",
    "    market_point = (\"Market Portfolio\", expected_return(p), expected_risk(p), sharp_ratio(p))\n",
    "    push!(output, market_point)\n",
    "end\n",
    "\n",
    "function market_performance(p_array::Vector{Portfolio})\n",
    "    market_performance(p_array[1])   \n",
    "end"
   ]
  },
  {
   "cell_type": "code",
   "execution_count": 16,
   "id": "935162ed",
   "metadata": {},
   "outputs": [
    {
     "data": {
      "text/plain": [
       "efficient_frontier (generic function with 1 method)"
      ]
     },
     "execution_count": 16,
     "metadata": {},
     "output_type": "execute_result"
    }
   ],
   "source": [
    "# This function plots the efficient frontier\n",
    "function efficient_frontier(p_array::Vector{Portfolio})\n",
    "    dfA = summary(p_array)\n",
    "    dfB = equity_performance(p_array[1])\n",
    "    dfC = market_performance(p_array[1])\n",
    "    \n",
    "    Plots.plot(\n",
    "    dfA.Expected_Risk, \n",
    "    dfA.Expected_Return, \n",
    "    seriestype = :scatter, \n",
    "    color = :heat,\n",
    "    markersize = 2,\n",
    "    markeralpha = 0.9,\n",
    "    label = \"Efficient Frontier\"\n",
    "    )\n",
    "    Plots.plot!(\n",
    "        dfB.Expected_Risk, \n",
    "        dfB.Expected_Return, \n",
    "        seriestype = :scatter, \n",
    "        series_annotations = Plots.text.(dfB.Equities, 8, :bottom),\n",
    "        markershape = :cross,\n",
    "        color = :blue,\n",
    "        markersize = 4,\n",
    "        label = \"Equities\"\n",
    "    )\n",
    "    Plots.plot!(\n",
    "        dfC.Expected_Risk, \n",
    "        dfC.Expected_Return,\n",
    "        seriestype = :scatter,\n",
    "        markershape = :star6,\n",
    "        markersize = 8,\n",
    "        color = :red,\n",
    "        label = \"Market Portfolio\"\n",
    "    )\n",
    "    Plots.plot!(\n",
    "        title = \"Efficient Frontier\", \n",
    "        xlabel = \"Expected Risk\", \n",
    "        ylabel = \"Expected Return\",\n",
    "    )\n",
    "        \n",
    "end"
   ]
  },
  {
   "cell_type": "markdown",
   "id": "4488884b",
   "metadata": {},
   "source": [
    "## Upload Stock Data\n",
    "\n",
    "This function imports the portfolio stock data for analysis.  A table of the results are shown below. "
   ]
  },
  {
   "cell_type": "code",
   "execution_count": 17,
   "id": "116dcb2a",
   "metadata": {},
   "outputs": [
    {
     "data": {
      "text/html": [
       "<div class=\"data-frame\"><p>10 rows × 6 columns</p><table class=\"data-frame\"><thead><tr><th></th><th>date</th><th>AMAT</th><th>EQR</th><th>FE</th><th>HRS</th><th>MOS</th></tr><tr><th></th><th title=\"Date\">Date</th><th title=\"Union{Missing, Float64}\">Float64?</th><th title=\"Union{Missing, Float64}\">Float64?</th><th title=\"Union{Missing, Float64}\">Float64?</th><th title=\"Union{Missing, Float64}\">Float64?</th><th title=\"Union{Missing, Float64}\">Float64?</th></tr></thead><tbody><tr><th>1</th><td>2014-01-02</td><td>17.55</td><td>51.99</td><td>32.38</td><td>68.48</td><td>47.0</td></tr><tr><th>2</th><td>2014-01-16</td><td>17.63</td><td>53.89</td><td>32.49</td><td>70.59</td><td>49.32</td></tr><tr><th>3</th><td>2014-01-31</td><td>16.82</td><td>55.38</td><td>31.49</td><td>69.34</td><td>44.66</td></tr><tr><th>4</th><td>2014-02-14</td><td>18.96</td><td>58.58</td><td>31.75</td><td>72.0</td><td>47.78</td></tr><tr><th>5</th><td>2014-03-03</td><td>18.71</td><td>58.52</td><td>30.52</td><td>73.79</td><td>48.98</td></tr><tr><th>6</th><td>2014-03-17</td><td>18.98</td><td>58.37</td><td>31.89</td><td>73.59</td><td>48.02</td></tr><tr><th>7</th><td>2014-03-31</td><td>20.415</td><td>57.99</td><td>34.03</td><td>73.16</td><td>50.0</td></tr><tr><th>8</th><td>2014-04-14</td><td>19.02</td><td>58.08</td><td>33.31</td><td>69.34</td><td>47.44</td></tr><tr><th>9</th><td>2014-04-29</td><td>19.07</td><td>59.32</td><td>34.26</td><td>72.64</td><td>49.94</td></tr><tr><th>10</th><td>2014-05-13</td><td>19.11</td><td>61.71</td><td>32.49</td><td>75.89</td><td>49.26</td></tr></tbody></table></div>"
      ],
      "text/latex": [
       "\\begin{tabular}{r|cccccc}\n",
       "\t& date & AMAT & EQR & FE & HRS & MOS\\\\\n",
       "\t\\hline\n",
       "\t& Date & Float64? & Float64? & Float64? & Float64? & Float64?\\\\\n",
       "\t\\hline\n",
       "\t1 & 2014-01-02 & 17.55 & 51.99 & 32.38 & 68.48 & 47.0 \\\\\n",
       "\t2 & 2014-01-16 & 17.63 & 53.89 & 32.49 & 70.59 & 49.32 \\\\\n",
       "\t3 & 2014-01-31 & 16.82 & 55.38 & 31.49 & 69.34 & 44.66 \\\\\n",
       "\t4 & 2014-02-14 & 18.96 & 58.58 & 31.75 & 72.0 & 47.78 \\\\\n",
       "\t5 & 2014-03-03 & 18.71 & 58.52 & 30.52 & 73.79 & 48.98 \\\\\n",
       "\t6 & 2014-03-17 & 18.98 & 58.37 & 31.89 & 73.59 & 48.02 \\\\\n",
       "\t7 & 2014-03-31 & 20.415 & 57.99 & 34.03 & 73.16 & 50.0 \\\\\n",
       "\t8 & 2014-04-14 & 19.02 & 58.08 & 33.31 & 69.34 & 47.44 \\\\\n",
       "\t9 & 2014-04-29 & 19.07 & 59.32 & 34.26 & 72.64 & 49.94 \\\\\n",
       "\t10 & 2014-05-13 & 19.11 & 61.71 & 32.49 & 75.89 & 49.26 \\\\\n",
       "\\end{tabular}\n"
      ],
      "text/plain": [
       "\u001b[1m10×6 DataFrame\u001b[0m\n",
       "\u001b[1m Row \u001b[0m│\u001b[1m date       \u001b[0m\u001b[1m AMAT     \u001b[0m\u001b[1m EQR      \u001b[0m\u001b[1m FE       \u001b[0m\u001b[1m HRS      \u001b[0m\u001b[1m MOS      \u001b[0m\n",
       "\u001b[1m     \u001b[0m│\u001b[90m Date       \u001b[0m\u001b[90m Float64? \u001b[0m\u001b[90m Float64? \u001b[0m\u001b[90m Float64? \u001b[0m\u001b[90m Float64? \u001b[0m\u001b[90m Float64? \u001b[0m\n",
       "─────┼──────────────────────────────────────────────────────────────\n",
       "   1 │ 2014-01-02    17.55      51.99     32.38     68.48     47.0\n",
       "   2 │ 2014-01-16    17.63      53.89     32.49     70.59     49.32\n",
       "   3 │ 2014-01-31    16.82      55.38     31.49     69.34     44.66\n",
       "   4 │ 2014-02-14    18.96      58.58     31.75     72.0      47.78\n",
       "   5 │ 2014-03-03    18.71      58.52     30.52     73.79     48.98\n",
       "   6 │ 2014-03-17    18.98      58.37     31.89     73.59     48.02\n",
       "   7 │ 2014-03-31    20.415     57.99     34.03     73.16     50.0\n",
       "   8 │ 2014-04-14    19.02      58.08     33.31     69.34     47.44\n",
       "   9 │ 2014-04-29    19.07      59.32     34.26     72.64     49.94\n",
       "  10 │ 2014-05-13    19.11      61.71     32.49     75.89     49.26"
      ]
     },
     "execution_count": 17,
     "metadata": {},
     "output_type": "execute_result"
    }
   ],
   "source": [
    "# Defining the input parameters\n",
    "file_path = \"full_stocks.csv\"\n",
    "begin_date = Date(\"2014-01-01\")\n",
    "end_date = Date(\"2017-01-01\")\n",
    "period = 10\n",
    "stock_list = [\"MOS\", \"AMAT\", \"HRS\", \"EQR\", \"FE\"]\n",
    "\n",
    "\n",
    "# Calling the select_stocks function\n",
    "stocks = \n",
    "select_stocks(\n",
    "    file_path, \n",
    "    begin_date, \n",
    "    end_date,\n",
    "    period,\n",
    "    stock_list \n",
    "    \n",
    ")\n",
    "\n",
    "first(stocks, 10)"
   ]
  },
  {
   "cell_type": "markdown",
   "id": "f9cec21a",
   "metadata": {},
   "source": [
    "## Portfolio Returns Table\n",
    "\n",
    " This a function that returns a set of portfolio returns for each stock .The returns are in the form of :percentage_change or log_difference.  An unspecified third argument defaults to :percentage_change."
   ]
  },
  {
   "cell_type": "code",
   "execution_count": 18,
   "id": "7c21de94",
   "metadata": {},
   "outputs": [
    {
     "data": {
      "text/html": [
       "<div class=\"data-frame\"><p>10 rows × 6 columns</p><table class=\"data-frame\"><thead><tr><th></th><th>date</th><th>AMAT</th><th>EQR</th><th>FE</th><th>HRS</th><th>MOS</th></tr><tr><th></th><th title=\"Date\">Date</th><th title=\"Float64\">Float64</th><th title=\"Float64\">Float64</th><th title=\"Float64\">Float64</th><th title=\"Float64\">Float64</th><th title=\"Float64\">Float64</th></tr></thead><tbody><tr><th>1</th><td>2014-01-16</td><td>0.454805</td><td>3.58935</td><td>0.33914</td><td>3.03468</td><td>4.81821</td></tr><tr><th>2</th><td>2014-01-31</td><td>-4.70333</td><td>2.72736</td><td>-3.12623</td><td>-1.78666</td><td>-9.92514</td></tr><tr><th>3</th><td>2014-02-14</td><td>11.9763</td><td>5.61748</td><td>0.822269</td><td>3.76442</td><td>6.75289</td></tr><tr><th>4</th><td>2014-03-03</td><td>-1.32734</td><td>-0.102477</td><td>-3.95105</td><td>2.45571</td><td>2.48049</td></tr><tr><th>5</th><td>2014-03-17</td><td>1.43277</td><td>-0.256652</td><td>4.39103</td><td>-0.271407</td><td>-1.97945</td></tr><tr><th>6</th><td>2014-03-31</td><td>7.28841</td><td>-0.653148</td><td>6.495</td><td>-0.586032</td><td>4.04054</td></tr><tr><th>7</th><td>2014-04-14</td><td>-7.07789</td><td>0.155079</td><td>-2.13848</td><td>-5.36269</td><td>-5.25573</td></tr><tr><th>8</th><td>2014-04-29</td><td>0.262536</td><td>2.11251</td><td>2.81208</td><td>4.64938</td><td>5.13565</td></tr><tr><th>9</th><td>2014-05-13</td><td>0.209534</td><td>3.94995</td><td>-5.30461</td><td>4.37692</td><td>-1.37099</td></tr><tr><th>10</th><td>2014-05-28</td><td>7.21624</td><td>-0.846221</td><td>3.47835</td><td>1.40009</td><td>0.142002</td></tr></tbody></table></div>"
      ],
      "text/latex": [
       "\\begin{tabular}{r|cccccc}\n",
       "\t& date & AMAT & EQR & FE & HRS & MOS\\\\\n",
       "\t\\hline\n",
       "\t& Date & Float64 & Float64 & Float64 & Float64 & Float64\\\\\n",
       "\t\\hline\n",
       "\t1 & 2014-01-16 & 0.454805 & 3.58935 & 0.33914 & 3.03468 & 4.81821 \\\\\n",
       "\t2 & 2014-01-31 & -4.70333 & 2.72736 & -3.12623 & -1.78666 & -9.92514 \\\\\n",
       "\t3 & 2014-02-14 & 11.9763 & 5.61748 & 0.822269 & 3.76442 & 6.75289 \\\\\n",
       "\t4 & 2014-03-03 & -1.32734 & -0.102477 & -3.95105 & 2.45571 & 2.48049 \\\\\n",
       "\t5 & 2014-03-17 & 1.43277 & -0.256652 & 4.39103 & -0.271407 & -1.97945 \\\\\n",
       "\t6 & 2014-03-31 & 7.28841 & -0.653148 & 6.495 & -0.586032 & 4.04054 \\\\\n",
       "\t7 & 2014-04-14 & -7.07789 & 0.155079 & -2.13848 & -5.36269 & -5.25573 \\\\\n",
       "\t8 & 2014-04-29 & 0.262536 & 2.11251 & 2.81208 & 4.64938 & 5.13565 \\\\\n",
       "\t9 & 2014-05-13 & 0.209534 & 3.94995 & -5.30461 & 4.37692 & -1.37099 \\\\\n",
       "\t10 & 2014-05-28 & 7.21624 & -0.846221 & 3.47835 & 1.40009 & 0.142002 \\\\\n",
       "\\end{tabular}\n"
      ],
      "text/plain": [
       "\u001b[1m10×6 DataFrame\u001b[0m\n",
       "\u001b[1m Row \u001b[0m│\u001b[1m date       \u001b[0m\u001b[1m AMAT      \u001b[0m\u001b[1m EQR       \u001b[0m\u001b[1m FE        \u001b[0m\u001b[1m HRS       \u001b[0m\u001b[1m MOS       \u001b[0m\n",
       "\u001b[1m     \u001b[0m│\u001b[90m Date       \u001b[0m\u001b[90m Float64   \u001b[0m\u001b[90m Float64   \u001b[0m\u001b[90m Float64   \u001b[0m\u001b[90m Float64   \u001b[0m\u001b[90m Float64   \u001b[0m\n",
       "─────┼───────────────────────────────────────────────────────────────────\n",
       "   1 │ 2014-01-16   0.454805   3.58935    0.33914    3.03468    4.81821\n",
       "   2 │ 2014-01-31  -4.70333    2.72736   -3.12623   -1.78666   -9.92514\n",
       "   3 │ 2014-02-14  11.9763     5.61748    0.822269   3.76442    6.75289\n",
       "   4 │ 2014-03-03  -1.32734   -0.102477  -3.95105    2.45571    2.48049\n",
       "   5 │ 2014-03-17   1.43277   -0.256652   4.39103   -0.271407  -1.97945\n",
       "   6 │ 2014-03-31   7.28841   -0.653148   6.495     -0.586032   4.04054\n",
       "   7 │ 2014-04-14  -7.07789    0.155079  -2.13848   -5.36269   -5.25573\n",
       "   8 │ 2014-04-29   0.262536   2.11251    2.81208    4.64938    5.13565\n",
       "   9 │ 2014-05-13   0.209534   3.94995   -5.30461    4.37692   -1.37099\n",
       "  10 │ 2014-05-28   7.21624   -0.846221   3.47835    1.40009    0.142002"
      ]
     },
     "execution_count": 18,
     "metadata": {},
     "output_type": "execute_result"
    }
   ],
   "source": [
    "# Call the portfolio_returns_table function\n",
    "prt = portfolio_returns_table(stocks, :date, :log_difference)\n",
    "\n",
    "first(prt, 10)"
   ]
  },
  {
   "cell_type": "markdown",
   "id": "7a59d0d3",
   "metadata": {},
   "source": [
    "## Portfolio Objects and Populations\n",
    "\n",
    "A single portfolio object can be created from the portfolio returns table as shown below.\n"
   ]
  },
  {
   "cell_type": "code",
   "execution_count": 19,
   "id": "ea158dd0",
   "metadata": {},
   "outputs": [
    {
     "name": "stdout",
     "output_type": "stream",
     "text": [
      "p = Portfolio([:AMAT, :EQR, :FE, :HRS, :MOS], [34.6476876766464 1.771888465797342 6.4756570468747405 13.181091565688204 23.450322814529663; 1.771888465797342 12.959554025557528 4.573208287530197 3.86094773165766 0.07248472898003032; 6.4756570468747405 4.573208287530197 17.65918278116134 1.5603566735009462 8.850378349560836; 13.181091565688204 3.86094773165766 1.5603566735009462 20.396301965956205 15.379700739376382; 23.450322814529663 0.07248472898003032 8.850378349560836 15.379700739376382 50.82730924999266], [63.17565959532267, 19.16070301050268, -3.6482033162203162, 41.496038340199526, -47.0855055435953], [0.16418520493132727, 0.23870711530363056, 0.21766550935602338, 0.23634082691722016, 0.14310134349179862])\n"
     ]
    },
    {
     "data": {
      "text/plain": [
       "Portfolio([:AMAT, :EQR, :FE, :HRS, :MOS], [34.6476876766464 1.771888465797342 … 13.181091565688204 23.450322814529663; 1.771888465797342 12.959554025557528 … 3.86094773165766 0.07248472898003032; … ; 13.181091565688204 3.86094773165766 … 20.396301965956205 15.379700739376382; 23.450322814529663 0.07248472898003032 … 15.379700739376382 50.82730924999266], [63.17565959532267, 19.16070301050268, -3.6482033162203162, 41.496038340199526, -47.0855055435953], [0.16418520493132727, 0.23870711530363056, 0.21766550935602338, 0.23634082691722016, 0.14310134349179862])"
      ]
     },
     "execution_count": 19,
     "metadata": {},
     "output_type": "execute_result"
    }
   ],
   "source": [
    "# Create a single portfolio object\n",
    "p = portfolio(prt, :date);\n",
    "@show p"
   ]
  },
  {
   "cell_type": "markdown",
   "id": "0fb65708",
   "metadata": {},
   "source": [
    "## Equity Performance\n",
    "For a portfolio object with a given set of equities and weights, the expected return, expected risk and Sharp ratio  is measured for each equity."
   ]
  },
  {
   "cell_type": "code",
   "execution_count": 20,
   "id": "41d94e8e",
   "metadata": {},
   "outputs": [
    {
     "data": {
      "text/html": [
       "<div class=\"data-frame\"><p>5 rows × 5 columns</p><table class=\"data-frame\"><thead><tr><th></th><th>Equities</th><th>Weights</th><th>Expected_Return</th><th>Expected_Risk</th><th>Sharp_Ratio</th></tr><tr><th></th><th title=\"String\">String</th><th title=\"Float64\">Float64</th><th title=\"Float64\">Float64</th><th title=\"Float64\">Float64</th><th title=\"Float64\">Float64</th></tr></thead><tbody><tr><th>1</th><td>AMAT</td><td>0.164</td><td>63.1757</td><td>5.88623</td><td>10.7328</td></tr><tr><th>2</th><td>EQR</td><td>0.239</td><td>19.1607</td><td>3.59994</td><td>5.32251</td></tr><tr><th>3</th><td>FE</td><td>0.218</td><td>-3.6482</td><td>4.20228</td><td>-0.868148</td></tr><tr><th>4</th><td>HRS</td><td>0.236</td><td>41.496</td><td>4.51623</td><td>9.18821</td></tr><tr><th>5</th><td>MOS</td><td>0.143</td><td>-47.0855</td><td>7.12933</td><td>-6.60448</td></tr></tbody></table></div>"
      ],
      "text/latex": [
       "\\begin{tabular}{r|ccccc}\n",
       "\t& Equities & Weights & Expected\\_Return & Expected\\_Risk & Sharp\\_Ratio\\\\\n",
       "\t\\hline\n",
       "\t& String & Float64 & Float64 & Float64 & Float64\\\\\n",
       "\t\\hline\n",
       "\t1 & AMAT & 0.164 & 63.1757 & 5.88623 & 10.7328 \\\\\n",
       "\t2 & EQR & 0.239 & 19.1607 & 3.59994 & 5.32251 \\\\\n",
       "\t3 & FE & 0.218 & -3.6482 & 4.20228 & -0.868148 \\\\\n",
       "\t4 & HRS & 0.236 & 41.496 & 4.51623 & 9.18821 \\\\\n",
       "\t5 & MOS & 0.143 & -47.0855 & 7.12933 & -6.60448 \\\\\n",
       "\\end{tabular}\n"
      ],
      "text/plain": [
       "\u001b[1m5×5 DataFrame\u001b[0m\n",
       "\u001b[1m Row \u001b[0m│\u001b[1m Equities \u001b[0m\u001b[1m Weights \u001b[0m\u001b[1m Expected_Return \u001b[0m\u001b[1m Expected_Risk \u001b[0m\u001b[1m Sharp_Ratio \u001b[0m\n",
       "\u001b[1m     \u001b[0m│\u001b[90m String   \u001b[0m\u001b[90m Float64 \u001b[0m\u001b[90m Float64         \u001b[0m\u001b[90m Float64       \u001b[0m\u001b[90m Float64     \u001b[0m\n",
       "─────┼────────────────────────────────────────────────────────────────\n",
       "   1 │ AMAT        0.164          63.1757        5.88623    10.7328\n",
       "   2 │ EQR         0.239          19.1607        3.59994     5.32251\n",
       "   3 │ FE          0.218          -3.6482        4.20228    -0.868148\n",
       "   4 │ HRS         0.236          41.496         4.51623     9.18821\n",
       "   5 │ MOS         0.143         -47.0855        7.12933    -6.60448"
      ]
     },
     "execution_count": 20,
     "metadata": {},
     "output_type": "execute_result"
    }
   ],
   "source": [
    "# This is the summary of the portfolio object p\n",
    "equity_performance(p)"
   ]
  },
  {
   "cell_type": "markdown",
   "id": "1b6b7f2c",
   "metadata": {},
   "source": [
    "## Market Performance\n",
    "This table measures the market performance by returning the expected return, expected risk and sharp ratio for the full equity set. "
   ]
  },
  {
   "cell_type": "code",
   "execution_count": 21,
   "id": "6b598d4c",
   "metadata": {},
   "outputs": [
    {
     "data": {
      "text/html": [
       "<div class=\"data-frame\"><p>1 rows × 4 columns</p><table class=\"data-frame\"><thead><tr><th></th><th>Market_Portfolio</th><th>Expected_Return</th><th>Expected_Risk</th><th>Sharp_Ratio</th></tr><tr><th></th><th title=\"String\">String</th><th title=\"Float64\">Float64</th><th title=\"Float64\">Float64</th><th title=\"Float64\">Float64</th></tr></thead><tbody><tr><th>1</th><td>Market Portfolio</td><td>17.2214</td><td>3.17551</td><td>5.4232</td></tr></tbody></table></div>"
      ],
      "text/latex": [
       "\\begin{tabular}{r|cccc}\n",
       "\t& Market\\_Portfolio & Expected\\_Return & Expected\\_Risk & Sharp\\_Ratio\\\\\n",
       "\t\\hline\n",
       "\t& String & Float64 & Float64 & Float64\\\\\n",
       "\t\\hline\n",
       "\t1 & Market Portfolio & 17.2214 & 3.17551 & 5.4232 \\\\\n",
       "\\end{tabular}\n"
      ],
      "text/plain": [
       "\u001b[1m1×4 DataFrame\u001b[0m\n",
       "\u001b[1m Row \u001b[0m│\u001b[1m Market_Portfolio \u001b[0m\u001b[1m Expected_Return \u001b[0m\u001b[1m Expected_Risk \u001b[0m\u001b[1m Sharp_Ratio \u001b[0m\n",
       "\u001b[1m     \u001b[0m│\u001b[90m String           \u001b[0m\u001b[90m Float64         \u001b[0m\u001b[90m Float64       \u001b[0m\u001b[90m Float64     \u001b[0m\n",
       "─────┼───────────────────────────────────────────────────────────────\n",
       "   1 │ Market Portfolio          17.2214        3.17551       5.4232"
      ]
     },
     "execution_count": 21,
     "metadata": {},
     "output_type": "execute_result"
    }
   ],
   "source": [
    "# This is the market portfolio summary for the total equity set.  \n",
    "market_performance(p)"
   ]
  },
  {
   "cell_type": "markdown",
   "id": "9255951c",
   "metadata": {},
   "source": [
    "##  Portfolio Populations\n",
    "\n",
    "1. A portfolio population is an array of portfolio objects, each with a random variation of weights.  \n",
    "\n",
    "2. The boundary function filters and returns portfolios on or near the efficient frontier. \n",
    "\n",
    "3. For any population of portfolios, a table with expected return, expected risk and sharp ratio is returned."
   ]
  },
  {
   "cell_type": "code",
   "execution_count": 22,
   "id": "1742753d",
   "metadata": {},
   "outputs": [
    {
     "data": {
      "text/html": [
       "<div class=\"data-frame\"><p>8 rows × 3 columns</p><table class=\"data-frame\"><thead><tr><th></th><th>Expected_Return</th><th>Expected_Risk</th><th>Sharp_Ratio</th></tr><tr><th></th><th title=\"Float64\">Float64</th><th title=\"Float64\">Float64</th><th title=\"Float64\">Float64</th></tr></thead><tbody><tr><th>1</th><td>42.9629</td><td>3.55921</td><td>12.0709</td></tr><tr><th>2</th><td>42.2111</td><td>3.49793</td><td>12.0674</td></tr><tr><th>3</th><td>44.115</td><td>3.65572</td><td>12.0674</td></tr><tr><th>4</th><td>43.1308</td><td>3.57806</td><td>12.0542</td></tr><tr><th>5</th><td>43.9805</td><td>3.65064</td><td>12.0473</td></tr><tr><th>6</th><td>44.4981</td><td>3.69397</td><td>12.0461</td></tr><tr><th>7</th><td>43.3601</td><td>3.60074</td><td>12.042</td></tr><tr><th>8</th><td>43.5302</td><td>3.62033</td><td>12.0238</td></tr></tbody></table></div>"
      ],
      "text/latex": [
       "\\begin{tabular}{r|ccc}\n",
       "\t& Expected\\_Return & Expected\\_Risk & Sharp\\_Ratio\\\\\n",
       "\t\\hline\n",
       "\t& Float64 & Float64 & Float64\\\\\n",
       "\t\\hline\n",
       "\t1 & 42.9629 & 3.55921 & 12.0709 \\\\\n",
       "\t2 & 42.2111 & 3.49793 & 12.0674 \\\\\n",
       "\t3 & 44.115 & 3.65572 & 12.0674 \\\\\n",
       "\t4 & 43.1308 & 3.57806 & 12.0542 \\\\\n",
       "\t5 & 43.9805 & 3.65064 & 12.0473 \\\\\n",
       "\t6 & 44.4981 & 3.69397 & 12.0461 \\\\\n",
       "\t7 & 43.3601 & 3.60074 & 12.042 \\\\\n",
       "\t8 & 43.5302 & 3.62033 & 12.0238 \\\\\n",
       "\\end{tabular}\n"
      ],
      "text/plain": [
       "\u001b[1m8×3 DataFrame\u001b[0m\n",
       "\u001b[1m Row \u001b[0m│\u001b[1m Expected_Return \u001b[0m\u001b[1m Expected_Risk \u001b[0m\u001b[1m Sharp_Ratio \u001b[0m\n",
       "\u001b[1m     \u001b[0m│\u001b[90m Float64         \u001b[0m\u001b[90m Float64       \u001b[0m\u001b[90m Float64     \u001b[0m\n",
       "─────┼─────────────────────────────────────────────\n",
       "   1 │         42.9629        3.55921      12.0709\n",
       "   2 │         42.2111        3.49793      12.0674\n",
       "   3 │         44.115         3.65572      12.0674\n",
       "   4 │         43.1308        3.57806      12.0542\n",
       "   5 │         43.9805        3.65064      12.0473\n",
       "   6 │         44.4981        3.69397      12.0461\n",
       "   7 │         43.3601        3.60074      12.042\n",
       "   8 │         43.5302        3.62033      12.0238"
      ]
     },
     "execution_count": 22,
     "metadata": {},
     "output_type": "execute_result"
    }
   ],
   "source": [
    "# Create a 100000 long array population of portfolios with random weights\n",
    "p_array = create_population(p, 100000)\n",
    "\n",
    "# Filters the population to only include members on the efficient frontier \n",
    "p_array = boundary(p_array)\n",
    "\n",
    "\n",
    "# Have the population members breed with each other which tends to produce decendents on the boundary\n",
    "p_array = reproduce(p_array)\n",
    "\n",
    "# Filter the population so that they are close to the boundary\n",
    "p_array = boundary(p_array)\n",
    "\n",
    "# Summarize the outputs\n",
    "details = summary(p_array)\n",
    "first(details, 8)"
   ]
  },
  {
   "cell_type": "markdown",
   "id": "ee54f904",
   "metadata": {},
   "source": [
    "## Efficient Frontier\n",
    "\n",
    "The efficient frontier, equities, and the market portfolio are plotted together in one chart.  The optimal market portfolio is where the Sharp ratio is maximized.  The weights associated with that optimal market portfolio indicates how to allocate resources to each equity.    "
   ]
  },
  {
   "cell_type": "code",
   "execution_count": 23,
   "id": "d1033acd",
   "metadata": {},
   "outputs": [
    {
     "data": {
      "image/svg+xml": [
       "<?xml version=\"1.0\" encoding=\"utf-8\"?>\n",
       "<svg xmlns=\"http://www.w3.org/2000/svg\" xmlns:xlink=\"http://www.w3.org/1999/xlink\" width=\"600\" height=\"400\" viewBox=\"0 0 2400 1600\">\n",
       "<defs>\n",
       "  <clipPath id=\"clip180\">\n",
       "    <rect x=\"0\" y=\"0\" width=\"2400\" height=\"1600\"/>\n",
       "  </clipPath>\n",
       "</defs>\n",
       "<path clip-path=\"url(#clip180)\" d=\"\n",
       "M0 1600 L2400 1600 L2400 0 L0 0  Z\n",
       "  \" fill=\"#ffffff\" fill-rule=\"evenodd\" fill-opacity=\"1\"/>\n",
       "<defs>\n",
       "  <clipPath id=\"clip181\">\n",
       "    <rect x=\"480\" y=\"0\" width=\"1681\" height=\"1600\"/>\n",
       "  </clipPath>\n",
       "</defs>\n",
       "<path clip-path=\"url(#clip180)\" d=\"\n",
       "M242.135 1423.18 L2352.76 1423.18 L2352.76 123.472 L242.135 123.472  Z\n",
       "  \" fill=\"#ffffff\" fill-rule=\"evenodd\" fill-opacity=\"1\"/>\n",
       "<defs>\n",
       "  <clipPath id=\"clip182\">\n",
       "    <rect x=\"242\" y=\"123\" width=\"2112\" height=\"1301\"/>\n",
       "  </clipPath>\n",
       "</defs>\n",
       "<polyline clip-path=\"url(#clip182)\" style=\"stroke:#000000; stroke-linecap:butt; stroke-linejoin:round; stroke-width:2; stroke-opacity:0.1; fill:none\" points=\"\n",
       "  402.226,1423.18 402.226,123.472 \n",
       "  \"/>\n",
       "<polyline clip-path=\"url(#clip182)\" style=\"stroke:#000000; stroke-linecap:butt; stroke-linejoin:round; stroke-width:2; stroke-opacity:0.1; fill:none\" points=\"\n",
       "  860.12,1423.18 860.12,123.472 \n",
       "  \"/>\n",
       "<polyline clip-path=\"url(#clip182)\" style=\"stroke:#000000; stroke-linecap:butt; stroke-linejoin:round; stroke-width:2; stroke-opacity:0.1; fill:none\" points=\"\n",
       "  1318.01,1423.18 1318.01,123.472 \n",
       "  \"/>\n",
       "<polyline clip-path=\"url(#clip182)\" style=\"stroke:#000000; stroke-linecap:butt; stroke-linejoin:round; stroke-width:2; stroke-opacity:0.1; fill:none\" points=\"\n",
       "  1775.91,1423.18 1775.91,123.472 \n",
       "  \"/>\n",
       "<polyline clip-path=\"url(#clip182)\" style=\"stroke:#000000; stroke-linecap:butt; stroke-linejoin:round; stroke-width:2; stroke-opacity:0.1; fill:none\" points=\"\n",
       "  2233.8,1423.18 2233.8,123.472 \n",
       "  \"/>\n",
       "<polyline clip-path=\"url(#clip180)\" style=\"stroke:#000000; stroke-linecap:butt; stroke-linejoin:round; stroke-width:4; stroke-opacity:1; fill:none\" points=\"\n",
       "  242.135,1423.18 2352.76,1423.18 \n",
       "  \"/>\n",
       "<polyline clip-path=\"url(#clip180)\" style=\"stroke:#000000; stroke-linecap:butt; stroke-linejoin:round; stroke-width:4; stroke-opacity:1; fill:none\" points=\"\n",
       "  402.226,1423.18 402.226,1404.28 \n",
       "  \"/>\n",
       "<polyline clip-path=\"url(#clip180)\" style=\"stroke:#000000; stroke-linecap:butt; stroke-linejoin:round; stroke-width:4; stroke-opacity:1; fill:none\" points=\"\n",
       "  860.12,1423.18 860.12,1404.28 \n",
       "  \"/>\n",
       "<polyline clip-path=\"url(#clip180)\" style=\"stroke:#000000; stroke-linecap:butt; stroke-linejoin:round; stroke-width:4; stroke-opacity:1; fill:none\" points=\"\n",
       "  1318.01,1423.18 1318.01,1404.28 \n",
       "  \"/>\n",
       "<polyline clip-path=\"url(#clip180)\" style=\"stroke:#000000; stroke-linecap:butt; stroke-linejoin:round; stroke-width:4; stroke-opacity:1; fill:none\" points=\"\n",
       "  1775.91,1423.18 1775.91,1404.28 \n",
       "  \"/>\n",
       "<polyline clip-path=\"url(#clip180)\" style=\"stroke:#000000; stroke-linecap:butt; stroke-linejoin:round; stroke-width:4; stroke-opacity:1; fill:none\" points=\"\n",
       "  2233.8,1423.18 2233.8,1404.28 \n",
       "  \"/>\n",
       "<path clip-path=\"url(#clip180)\" d=\"M406.474 1466.95 Q409.83 1467.66 411.705 1469.93 Q413.603 1472.2 413.603 1475.53 Q413.603 1480.65 410.085 1483.45 Q406.566 1486.25 400.085 1486.25 Q397.909 1486.25 395.594 1485.81 Q393.303 1485.39 390.849 1484.54 L390.849 1480.02 Q392.793 1481.16 395.108 1481.74 Q397.423 1482.32 399.946 1482.32 Q404.344 1482.32 406.636 1480.58 Q408.951 1478.84 408.951 1475.53 Q408.951 1472.48 406.798 1470.77 Q404.668 1469.03 400.849 1469.03 L396.821 1469.03 L396.821 1465.19 L401.034 1465.19 Q404.483 1465.19 406.312 1463.82 Q408.141 1462.43 408.141 1459.84 Q408.141 1457.18 406.242 1455.77 Q404.367 1454.33 400.849 1454.33 Q398.928 1454.33 396.729 1454.75 Q394.53 1455.16 391.891 1456.04 L391.891 1451.88 Q394.553 1451.14 396.867 1450.77 Q399.205 1450.39 401.266 1450.39 Q406.59 1450.39 409.691 1452.83 Q412.793 1455.23 412.793 1459.35 Q412.793 1462.22 411.15 1464.21 Q409.506 1466.18 406.474 1466.95 Z\" fill=\"#000000\" fill-rule=\"evenodd\" fill-opacity=\"1\" /><path clip-path=\"url(#clip180)\" d=\"M863.13 1455.09 L851.324 1473.54 L863.13 1473.54 L863.13 1455.09 M861.903 1451.02 L867.782 1451.02 L867.782 1473.54 L872.713 1473.54 L872.713 1477.43 L867.782 1477.43 L867.782 1485.58 L863.13 1485.58 L863.13 1477.43 L847.528 1477.43 L847.528 1472.92 L861.903 1451.02 Z\" fill=\"#000000\" fill-rule=\"evenodd\" fill-opacity=\"1\" /><path clip-path=\"url(#clip180)\" d=\"M1308.29 1451.02 L1326.65 1451.02 L1326.65 1454.96 L1312.57 1454.96 L1312.57 1463.43 Q1313.59 1463.08 1314.61 1462.92 Q1315.63 1462.73 1316.65 1462.73 Q1322.44 1462.73 1325.82 1465.9 Q1329.2 1469.08 1329.2 1474.49 Q1329.2 1480.07 1325.72 1483.17 Q1322.25 1486.25 1315.93 1486.25 Q1313.76 1486.25 1311.49 1485.88 Q1309.24 1485.51 1306.83 1484.77 L1306.83 1480.07 Q1308.92 1481.2 1311.14 1481.76 Q1313.36 1482.32 1315.84 1482.32 Q1319.84 1482.32 1322.18 1480.21 Q1324.52 1478.1 1324.52 1474.49 Q1324.52 1470.88 1322.18 1468.77 Q1319.84 1466.67 1315.84 1466.67 Q1313.96 1466.67 1312.09 1467.08 Q1310.24 1467.5 1308.29 1468.38 L1308.29 1451.02 Z\" fill=\"#000000\" fill-rule=\"evenodd\" fill-opacity=\"1\" /><path clip-path=\"url(#clip180)\" d=\"M1776.31 1466.44 Q1773.17 1466.44 1771.31 1468.59 Q1769.49 1470.74 1769.49 1474.49 Q1769.49 1478.22 1771.31 1480.39 Q1773.17 1482.55 1776.31 1482.55 Q1779.46 1482.55 1781.29 1480.39 Q1783.14 1478.22 1783.14 1474.49 Q1783.14 1470.74 1781.29 1468.59 Q1779.46 1466.44 1776.31 1466.44 M1785.6 1451.78 L1785.6 1456.04 Q1783.84 1455.21 1782.03 1454.77 Q1780.25 1454.33 1778.49 1454.33 Q1773.86 1454.33 1771.41 1457.45 Q1768.98 1460.58 1768.63 1466.9 Q1769.99 1464.89 1772.05 1463.82 Q1774.11 1462.73 1776.59 1462.73 Q1781.8 1462.73 1784.81 1465.9 Q1787.84 1469.05 1787.84 1474.49 Q1787.84 1479.82 1784.69 1483.03 Q1781.55 1486.25 1776.31 1486.25 Q1770.32 1486.25 1767.15 1481.67 Q1763.98 1477.06 1763.98 1468.33 Q1763.98 1460.14 1767.86 1455.28 Q1771.75 1450.39 1778.3 1450.39 Q1780.06 1450.39 1781.85 1450.74 Q1783.65 1451.09 1785.6 1451.78 Z\" fill=\"#000000\" fill-rule=\"evenodd\" fill-opacity=\"1\" /><path clip-path=\"url(#clip180)\" d=\"M2222.69 1451.02 L2244.91 1451.02 L2244.91 1453.01 L2232.37 1485.58 L2227.48 1485.58 L2239.29 1454.96 L2222.69 1454.96 L2222.69 1451.02 Z\" fill=\"#000000\" fill-rule=\"evenodd\" fill-opacity=\"1\" /><path clip-path=\"url(#clip180)\" d=\"M1070.76 1520.52 L1100.81 1520.52 L1100.81 1525.93 L1077.19 1525.93 L1077.19 1540 L1099.82 1540 L1099.82 1545.41 L1077.19 1545.41 L1077.19 1562.63 L1101.38 1562.63 L1101.38 1568.04 L1070.76 1568.04 L1070.76 1520.52 Z\" fill=\"#000000\" fill-rule=\"evenodd\" fill-opacity=\"1\" /><path clip-path=\"url(#clip180)\" d=\"M1141.33 1532.4 L1128.44 1549.74 L1141.99 1568.04 L1135.09 1568.04 L1124.71 1554.04 L1114.34 1568.04 L1107.43 1568.04 L1121.27 1549.39 L1108.61 1532.4 L1115.51 1532.4 L1124.97 1545.1 L1134.42 1532.4 L1141.33 1532.4 Z\" fill=\"#000000\" fill-rule=\"evenodd\" fill-opacity=\"1\" /><path clip-path=\"url(#clip180)\" d=\"M1155.94 1562.7 L1155.94 1581.6 L1150.05 1581.6 L1150.05 1532.4 L1155.94 1532.4 L1155.94 1537.81 Q1157.78 1534.62 1160.58 1533.1 Q1163.42 1531.54 1167.33 1531.54 Q1173.82 1531.54 1177.87 1536.69 Q1181.94 1541.85 1181.94 1550.25 Q1181.94 1558.65 1177.87 1563.81 Q1173.82 1568.97 1167.33 1568.97 Q1163.42 1568.97 1160.58 1567.44 Q1157.78 1565.88 1155.94 1562.7 M1175.86 1550.25 Q1175.86 1543.79 1173.19 1540.13 Q1170.54 1536.44 1165.9 1536.44 Q1161.25 1536.44 1158.58 1540.13 Q1155.94 1543.79 1155.94 1550.25 Q1155.94 1556.71 1158.58 1560.4 Q1161.25 1564.07 1165.9 1564.07 Q1170.54 1564.07 1173.19 1560.4 Q1175.86 1556.71 1175.86 1550.25 Z\" fill=\"#000000\" fill-rule=\"evenodd\" fill-opacity=\"1\" /><path clip-path=\"url(#clip180)\" d=\"M1222.14 1548.76 L1222.14 1551.62 L1195.21 1551.62 Q1195.59 1557.67 1198.84 1560.85 Q1202.12 1564 1207.94 1564 Q1211.32 1564 1214.47 1563.17 Q1217.65 1562.35 1220.77 1560.69 L1220.77 1566.23 Q1217.62 1567.57 1214.31 1568.27 Q1211 1568.97 1207.59 1568.97 Q1199.06 1568.97 1194.07 1564 Q1189.1 1559.04 1189.1 1550.57 Q1189.1 1541.82 1193.81 1536.69 Q1198.55 1531.54 1206.57 1531.54 Q1213.77 1531.54 1217.94 1536.18 Q1222.14 1540.8 1222.14 1548.76 M1216.28 1547.04 Q1216.22 1542.23 1213.58 1539.37 Q1210.97 1536.5 1206.64 1536.5 Q1201.74 1536.5 1198.78 1539.27 Q1195.85 1542.04 1195.4 1547.07 L1216.28 1547.04 Z\" fill=\"#000000\" fill-rule=\"evenodd\" fill-opacity=\"1\" /><path clip-path=\"url(#clip180)\" d=\"M1257.4 1533.76 L1257.4 1539.24 Q1254.92 1537.87 1252.41 1537.2 Q1249.93 1536.5 1247.38 1536.5 Q1241.68 1536.5 1238.53 1540.13 Q1235.38 1543.73 1235.38 1550.25 Q1235.38 1556.78 1238.53 1560.4 Q1241.68 1564 1247.38 1564 Q1249.93 1564 1252.41 1563.33 Q1254.92 1562.63 1257.4 1561.26 L1257.4 1566.68 Q1254.95 1567.82 1252.31 1568.39 Q1249.7 1568.97 1246.74 1568.97 Q1238.69 1568.97 1233.95 1563.91 Q1229.2 1558.85 1229.2 1550.25 Q1229.2 1541.53 1233.98 1536.53 Q1238.79 1531.54 1247.12 1531.54 Q1249.83 1531.54 1252.41 1532.11 Q1254.99 1532.65 1257.4 1533.76 Z\" fill=\"#000000\" fill-rule=\"evenodd\" fill-opacity=\"1\" /><path clip-path=\"url(#clip180)\" d=\"M1273.38 1522.27 L1273.38 1532.4 L1285.45 1532.4 L1285.45 1536.95 L1273.38 1536.95 L1273.38 1556.3 Q1273.38 1560.66 1274.56 1561.9 Q1275.77 1563.14 1279.43 1563.14 L1285.45 1563.14 L1285.45 1568.04 L1279.43 1568.04 Q1272.65 1568.04 1270.07 1565.53 Q1267.49 1562.98 1267.49 1556.3 L1267.49 1536.95 L1263.2 1536.95 L1263.2 1532.4 L1267.49 1532.4 L1267.49 1522.27 L1273.38 1522.27 Z\" fill=\"#000000\" fill-rule=\"evenodd\" fill-opacity=\"1\" /><path clip-path=\"url(#clip180)\" d=\"M1323.64 1548.76 L1323.64 1551.62 L1296.71 1551.62 Q1297.1 1557.67 1300.34 1560.85 Q1303.62 1564 1309.44 1564 Q1312.82 1564 1315.97 1563.17 Q1319.15 1562.35 1322.27 1560.69 L1322.27 1566.23 Q1319.12 1567.57 1315.81 1568.27 Q1312.5 1568.97 1309.09 1568.97 Q1300.56 1568.97 1295.57 1564 Q1290.6 1559.04 1290.6 1550.57 Q1290.6 1541.82 1295.31 1536.69 Q1300.06 1531.54 1308.08 1531.54 Q1315.27 1531.54 1319.44 1536.18 Q1323.64 1540.8 1323.64 1548.76 M1317.78 1547.04 Q1317.72 1542.23 1315.08 1539.37 Q1312.47 1536.5 1308.14 1536.5 Q1303.24 1536.5 1300.28 1539.27 Q1297.35 1542.04 1296.9 1547.07 L1317.78 1547.04 Z\" fill=\"#000000\" fill-rule=\"evenodd\" fill-opacity=\"1\" /><path clip-path=\"url(#clip180)\" d=\"M1356.71 1537.81 L1356.71 1518.52 L1362.57 1518.52 L1362.57 1568.04 L1356.71 1568.04 L1356.71 1562.7 Q1354.86 1565.88 1352.03 1567.44 Q1349.23 1568.97 1345.28 1568.97 Q1338.82 1568.97 1334.75 1563.81 Q1330.71 1558.65 1330.71 1550.25 Q1330.71 1541.85 1334.75 1536.69 Q1338.82 1531.54 1345.28 1531.54 Q1349.23 1531.54 1352.03 1533.1 Q1354.86 1534.62 1356.71 1537.81 M1336.75 1550.25 Q1336.75 1556.71 1339.4 1560.4 Q1342.07 1564.07 1346.72 1564.07 Q1351.36 1564.07 1354.04 1560.4 Q1356.71 1556.71 1356.71 1550.25 Q1356.71 1543.79 1354.04 1540.13 Q1351.36 1536.44 1346.72 1536.44 Q1342.07 1536.44 1339.4 1540.13 Q1336.75 1543.79 1336.75 1550.25 Z\" fill=\"#000000\" fill-rule=\"evenodd\" fill-opacity=\"1\" /><path clip-path=\"url(#clip180)\" d=\"M1418.14 1545.76 Q1420.21 1546.46 1422.15 1548.76 Q1424.12 1551.05 1426.1 1555.06 L1432.62 1568.04 L1425.71 1568.04 L1419.64 1555.85 Q1417.28 1551.08 1415.05 1549.52 Q1412.86 1547.96 1409.04 1547.96 L1402.03 1547.96 L1402.03 1568.04 L1395.6 1568.04 L1395.6 1520.52 L1410.12 1520.52 Q1418.27 1520.52 1422.28 1523.93 Q1426.29 1527.34 1426.29 1534.21 Q1426.29 1538.7 1424.19 1541.66 Q1422.12 1544.62 1418.14 1545.76 M1402.03 1525.81 L1402.03 1542.68 L1410.12 1542.68 Q1414.77 1542.68 1417.12 1540.54 Q1419.51 1538.38 1419.51 1534.21 Q1419.51 1530.04 1417.12 1527.94 Q1414.77 1525.81 1410.12 1525.81 L1402.03 1525.81 Z\" fill=\"#000000\" fill-rule=\"evenodd\" fill-opacity=\"1\" /><path clip-path=\"url(#clip180)\" d=\"M1440.64 1532.4 L1446.5 1532.4 L1446.5 1568.04 L1440.64 1568.04 L1440.64 1532.4 M1440.64 1518.52 L1446.5 1518.52 L1446.5 1525.93 L1440.64 1525.93 L1440.64 1518.52 Z\" fill=\"#000000\" fill-rule=\"evenodd\" fill-opacity=\"1\" /><path clip-path=\"url(#clip180)\" d=\"M1481.48 1533.45 L1481.48 1538.98 Q1479 1537.71 1476.32 1537.07 Q1473.65 1536.44 1470.78 1536.44 Q1466.42 1536.44 1464.23 1537.77 Q1462.06 1539.11 1462.06 1541.79 Q1462.06 1543.82 1463.62 1545 Q1465.18 1546.15 1469.89 1547.2 L1471.9 1547.64 Q1478.14 1548.98 1480.75 1551.43 Q1483.39 1553.85 1483.39 1558.21 Q1483.39 1563.17 1479.44 1566.07 Q1475.53 1568.97 1468.65 1568.97 Q1465.79 1568.97 1462.67 1568.39 Q1459.58 1567.85 1456.14 1566.74 L1456.14 1560.69 Q1459.39 1562.38 1462.54 1563.24 Q1465.69 1564.07 1468.78 1564.07 Q1472.92 1564.07 1475.14 1562.66 Q1477.37 1561.23 1477.37 1558.65 Q1477.37 1556.27 1475.75 1554.99 Q1474.16 1553.72 1468.71 1552.54 L1466.68 1552.07 Q1461.23 1550.92 1458.82 1548.56 Q1456.4 1546.18 1456.4 1542.04 Q1456.4 1537.01 1459.96 1534.27 Q1463.53 1531.54 1470.08 1531.54 Q1473.33 1531.54 1476.19 1532.01 Q1479.06 1532.49 1481.48 1533.45 Z\" fill=\"#000000\" fill-rule=\"evenodd\" fill-opacity=\"1\" /><path clip-path=\"url(#clip180)\" d=\"M1492.49 1518.52 L1498.38 1518.52 L1498.38 1547.77 L1515.85 1532.4 L1523.33 1532.4 L1504.43 1549.07 L1524.13 1568.04 L1516.49 1568.04 L1498.38 1550.63 L1498.38 1568.04 L1492.49 1568.04 L1492.49 1518.52 Z\" fill=\"#000000\" fill-rule=\"evenodd\" fill-opacity=\"1\" /><polyline clip-path=\"url(#clip182)\" style=\"stroke:#000000; stroke-linecap:butt; stroke-linejoin:round; stroke-width:2; stroke-opacity:0.1; fill:none\" points=\"\n",
       "  242.135,1418.81 2352.76,1418.81 \n",
       "  \"/>\n",
       "<polyline clip-path=\"url(#clip182)\" style=\"stroke:#000000; stroke-linecap:butt; stroke-linejoin:round; stroke-width:2; stroke-opacity:0.1; fill:none\" points=\"\n",
       "  242.135,1140.8 2352.76,1140.8 \n",
       "  \"/>\n",
       "<polyline clip-path=\"url(#clip182)\" style=\"stroke:#000000; stroke-linecap:butt; stroke-linejoin:round; stroke-width:2; stroke-opacity:0.1; fill:none\" points=\"\n",
       "  242.135,862.79 2352.76,862.79 \n",
       "  \"/>\n",
       "<polyline clip-path=\"url(#clip182)\" style=\"stroke:#000000; stroke-linecap:butt; stroke-linejoin:round; stroke-width:2; stroke-opacity:0.1; fill:none\" points=\"\n",
       "  242.135,584.782 2352.76,584.782 \n",
       "  \"/>\n",
       "<polyline clip-path=\"url(#clip182)\" style=\"stroke:#000000; stroke-linecap:butt; stroke-linejoin:round; stroke-width:2; stroke-opacity:0.1; fill:none\" points=\"\n",
       "  242.135,306.774 2352.76,306.774 \n",
       "  \"/>\n",
       "<polyline clip-path=\"url(#clip180)\" style=\"stroke:#000000; stroke-linecap:butt; stroke-linejoin:round; stroke-width:4; stroke-opacity:1; fill:none\" points=\"\n",
       "  242.135,1423.18 242.135,123.472 \n",
       "  \"/>\n",
       "<polyline clip-path=\"url(#clip180)\" style=\"stroke:#000000; stroke-linecap:butt; stroke-linejoin:round; stroke-width:4; stroke-opacity:1; fill:none\" points=\"\n",
       "  242.135,1418.81 261.032,1418.81 \n",
       "  \"/>\n",
       "<polyline clip-path=\"url(#clip180)\" style=\"stroke:#000000; stroke-linecap:butt; stroke-linejoin:round; stroke-width:4; stroke-opacity:1; fill:none\" points=\"\n",
       "  242.135,1140.8 261.032,1140.8 \n",
       "  \"/>\n",
       "<polyline clip-path=\"url(#clip180)\" style=\"stroke:#000000; stroke-linecap:butt; stroke-linejoin:round; stroke-width:4; stroke-opacity:1; fill:none\" points=\"\n",
       "  242.135,862.79 261.032,862.79 \n",
       "  \"/>\n",
       "<polyline clip-path=\"url(#clip180)\" style=\"stroke:#000000; stroke-linecap:butt; stroke-linejoin:round; stroke-width:4; stroke-opacity:1; fill:none\" points=\"\n",
       "  242.135,584.782 261.032,584.782 \n",
       "  \"/>\n",
       "<polyline clip-path=\"url(#clip180)\" style=\"stroke:#000000; stroke-linecap:butt; stroke-linejoin:round; stroke-width:4; stroke-opacity:1; fill:none\" points=\"\n",
       "  242.135,306.774 261.032,306.774 \n",
       "  \"/>\n",
       "<path clip-path=\"url(#clip180)\" d=\"M114.26 1419.26 L143.936 1419.26 L143.936 1423.19 L114.26 1423.19 L114.26 1419.26 Z\" fill=\"#000000\" fill-rule=\"evenodd\" fill-opacity=\"1\" /><path clip-path=\"url(#clip180)\" d=\"M154.075 1401.53 L172.431 1401.53 L172.431 1405.46 L158.357 1405.46 L158.357 1413.93 Q159.376 1413.59 160.394 1413.42 Q161.413 1413.24 162.431 1413.24 Q168.218 1413.24 171.598 1416.41 Q174.977 1419.58 174.977 1425 Q174.977 1430.58 171.505 1433.68 Q168.033 1436.76 161.714 1436.76 Q159.538 1436.76 157.269 1436.39 Q155.024 1436.02 152.616 1435.28 L152.616 1430.58 Q154.7 1431.71 156.922 1432.27 Q159.144 1432.82 161.621 1432.82 Q165.626 1432.82 167.964 1430.72 Q170.302 1428.61 170.302 1425 Q170.302 1421.39 167.964 1419.28 Q165.626 1417.17 161.621 1417.17 Q159.746 1417.17 157.871 1417.59 Q156.019 1418.01 154.075 1418.89 L154.075 1401.53 Z\" fill=\"#000000\" fill-rule=\"evenodd\" fill-opacity=\"1\" /><path clip-path=\"url(#clip180)\" d=\"M194.19 1404.6 Q190.579 1404.6 188.75 1408.17 Q186.945 1411.71 186.945 1418.84 Q186.945 1425.95 188.75 1429.51 Q190.579 1433.05 194.19 1433.05 Q197.825 1433.05 199.63 1429.51 Q201.459 1425.95 201.459 1418.84 Q201.459 1411.71 199.63 1408.17 Q197.825 1404.6 194.19 1404.6 M194.19 1400.9 Q200 1400.9 203.056 1405.51 Q206.135 1410.09 206.135 1418.84 Q206.135 1427.57 203.056 1432.17 Q200 1436.76 194.19 1436.76 Q188.38 1436.76 185.301 1432.17 Q182.246 1427.57 182.246 1418.84 Q182.246 1410.09 185.301 1405.51 Q188.38 1400.9 194.19 1400.9 Z\" fill=\"#000000\" fill-rule=\"evenodd\" fill-opacity=\"1\" /><path clip-path=\"url(#clip180)\" d=\"M115.256 1141.25 L144.931 1141.25 L144.931 1145.18 L115.256 1145.18 L115.256 1141.25 Z\" fill=\"#000000\" fill-rule=\"evenodd\" fill-opacity=\"1\" /><path clip-path=\"url(#clip180)\" d=\"M159.052 1154.14 L175.371 1154.14 L175.371 1158.08 L153.427 1158.08 L153.427 1154.14 Q156.089 1151.39 160.672 1146.76 Q165.278 1142.11 166.459 1140.76 Q168.704 1138.24 169.584 1136.5 Q170.487 1134.74 170.487 1133.05 Q170.487 1130.3 168.542 1128.56 Q166.621 1126.83 163.519 1126.83 Q161.32 1126.83 158.866 1127.59 Q156.436 1128.36 153.658 1129.91 L153.658 1125.18 Q156.482 1124.05 158.936 1123.47 Q161.39 1122.89 163.427 1122.89 Q168.797 1122.89 171.991 1125.58 Q175.186 1128.26 175.186 1132.75 Q175.186 1134.88 174.376 1136.8 Q173.589 1138.7 171.482 1141.3 Q170.903 1141.97 167.802 1145.18 Q164.7 1148.38 159.052 1154.14 Z\" fill=\"#000000\" fill-rule=\"evenodd\" fill-opacity=\"1\" /><path clip-path=\"url(#clip180)\" d=\"M185.232 1123.52 L203.588 1123.52 L203.588 1127.45 L189.514 1127.45 L189.514 1135.93 Q190.533 1135.58 191.551 1135.42 Q192.57 1135.23 193.588 1135.23 Q199.375 1135.23 202.755 1138.4 Q206.135 1141.57 206.135 1146.99 Q206.135 1152.57 202.662 1155.67 Q199.19 1158.75 192.871 1158.75 Q190.695 1158.75 188.426 1158.38 Q186.181 1158.01 183.774 1157.27 L183.774 1152.57 Q185.857 1153.7 188.079 1154.26 Q190.301 1154.81 192.778 1154.81 Q196.783 1154.81 199.121 1152.71 Q201.459 1150.6 201.459 1146.99 Q201.459 1143.38 199.121 1141.27 Q196.783 1139.17 192.778 1139.17 Q190.903 1139.17 189.028 1139.58 Q187.176 1140 185.232 1140.88 L185.232 1123.52 Z\" fill=\"#000000\" fill-rule=\"evenodd\" fill-opacity=\"1\" /><path clip-path=\"url(#clip180)\" d=\"M194.19 848.588 Q190.579 848.588 188.75 852.153 Q186.945 855.695 186.945 862.825 Q186.945 869.931 188.75 873.496 Q190.579 877.037 194.19 877.037 Q197.825 877.037 199.63 873.496 Q201.459 869.931 201.459 862.825 Q201.459 855.695 199.63 852.153 Q197.825 848.588 194.19 848.588 M194.19 844.885 Q200 844.885 203.056 849.491 Q206.135 854.075 206.135 862.825 Q206.135 871.551 203.056 876.158 Q200 880.741 194.19 880.741 Q188.38 880.741 185.301 876.158 Q182.246 871.551 182.246 862.825 Q182.246 854.075 185.301 849.491 Q188.38 844.885 194.19 844.885 Z\" fill=\"#000000\" fill-rule=\"evenodd\" fill-opacity=\"1\" /><path clip-path=\"url(#clip180)\" d=\"M159.052 598.127 L175.371 598.127 L175.371 602.062 L153.427 602.062 L153.427 598.127 Q156.089 595.372 160.672 590.742 Q165.278 586.09 166.459 584.747 Q168.704 582.224 169.584 580.488 Q170.487 578.729 170.487 577.039 Q170.487 574.284 168.542 572.548 Q166.621 570.812 163.519 570.812 Q161.32 570.812 158.866 571.576 Q156.436 572.34 153.658 573.891 L153.658 569.168 Q156.482 568.034 158.936 567.456 Q161.39 566.877 163.427 566.877 Q168.797 566.877 171.991 569.562 Q175.186 572.247 175.186 576.738 Q175.186 578.868 174.376 580.789 Q173.589 582.687 171.482 585.28 Q170.903 585.951 167.802 589.168 Q164.7 592.363 159.052 598.127 Z\" fill=\"#000000\" fill-rule=\"evenodd\" fill-opacity=\"1\" /><path clip-path=\"url(#clip180)\" d=\"M185.232 567.502 L203.588 567.502 L203.588 571.437 L189.514 571.437 L189.514 579.909 Q190.533 579.562 191.551 579.4 Q192.57 579.215 193.588 579.215 Q199.375 579.215 202.755 582.386 Q206.135 585.557 206.135 590.974 Q206.135 596.553 202.662 599.654 Q199.19 602.733 192.871 602.733 Q190.695 602.733 188.426 602.363 Q186.181 601.992 183.774 601.252 L183.774 596.553 Q185.857 597.687 188.079 598.242 Q190.301 598.798 192.778 598.798 Q196.783 598.798 199.121 596.691 Q201.459 594.585 201.459 590.974 Q201.459 587.363 199.121 585.256 Q196.783 583.15 192.778 583.15 Q190.903 583.15 189.028 583.567 Q187.176 583.983 185.232 584.863 L185.232 567.502 Z\" fill=\"#000000\" fill-rule=\"evenodd\" fill-opacity=\"1\" /><path clip-path=\"url(#clip180)\" d=\"M154.075 289.494 L172.431 289.494 L172.431 293.429 L158.357 293.429 L158.357 301.901 Q159.376 301.554 160.394 301.392 Q161.413 301.207 162.431 301.207 Q168.218 301.207 171.598 304.378 Q174.977 307.549 174.977 312.966 Q174.977 318.545 171.505 321.646 Q168.033 324.725 161.714 324.725 Q159.538 324.725 157.269 324.355 Q155.024 323.984 152.616 323.244 L152.616 318.545 Q154.7 319.679 156.922 320.234 Q159.144 320.79 161.621 320.79 Q165.626 320.79 167.964 318.684 Q170.302 316.577 170.302 312.966 Q170.302 309.355 167.964 307.248 Q165.626 305.142 161.621 305.142 Q159.746 305.142 157.871 305.559 Q156.019 305.975 154.075 306.855 L154.075 289.494 Z\" fill=\"#000000\" fill-rule=\"evenodd\" fill-opacity=\"1\" /><path clip-path=\"url(#clip180)\" d=\"M194.19 292.573 Q190.579 292.573 188.75 296.137 Q186.945 299.679 186.945 306.809 Q186.945 313.915 188.75 317.48 Q190.579 321.021 194.19 321.021 Q197.825 321.021 199.63 317.48 Q201.459 313.915 201.459 306.809 Q201.459 299.679 199.63 296.137 Q197.825 292.573 194.19 292.573 M194.19 288.869 Q200 288.869 203.056 293.475 Q206.135 298.059 206.135 306.809 Q206.135 315.535 203.056 320.142 Q200 324.725 194.19 324.725 Q188.38 324.725 185.301 320.142 Q182.246 315.535 182.246 306.809 Q182.246 298.059 185.301 293.475 Q188.38 288.869 194.19 288.869 Z\" fill=\"#000000\" fill-rule=\"evenodd\" fill-opacity=\"1\" /><path clip-path=\"url(#clip180)\" d=\"M16.4842 1037.93 L16.4842 1007.89 L21.895 1007.89 L21.895 1031.5 L35.9632 1031.5 L35.9632 1008.87 L41.3741 1008.87 L41.3741 1031.5 L58.5933 1031.5 L58.5933 1007.31 L64.0042 1007.31 L64.0042 1037.93 L16.4842 1037.93 Z\" fill=\"#000000\" fill-rule=\"evenodd\" fill-opacity=\"1\" /><path clip-path=\"url(#clip180)\" d=\"M28.3562 967.369 L45.7028 980.259 L64.0042 966.7 L64.0042 973.607 L49.9996 983.983 L64.0042 994.359 L64.0042 1001.27 L45.3526 987.421 L28.3562 1000.09 L28.3562 993.182 L41.0558 983.729 L28.3562 974.275 L28.3562 967.369 Z\" fill=\"#000000\" fill-rule=\"evenodd\" fill-opacity=\"1\" /><path clip-path=\"url(#clip180)\" d=\"M58.657 952.759 L77.5631 952.759 L77.5631 958.648 L28.3562 958.648 L28.3562 952.759 L33.7671 952.759 Q30.5842 950.913 29.0564 948.112 Q27.4968 945.28 27.4968 941.365 Q27.4968 934.872 32.6531 930.829 Q37.8093 926.755 46.212 926.755 Q54.6147 926.755 59.771 930.829 Q64.9272 934.872 64.9272 941.365 Q64.9272 945.28 63.3994 948.112 Q61.8398 950.913 58.657 952.759 M46.212 932.835 Q39.7508 932.835 36.0905 935.508 Q32.3984 938.15 32.3984 942.797 Q32.3984 947.444 36.0905 950.118 Q39.7508 952.759 46.212 952.759 Q52.6732 952.759 56.3653 950.118 Q60.0256 947.444 60.0256 942.797 Q60.0256 938.15 56.3653 935.508 Q52.6732 932.835 46.212 932.835 Z\" fill=\"#000000\" fill-rule=\"evenodd\" fill-opacity=\"1\" /><path clip-path=\"url(#clip180)\" d=\"M44.7161 886.556 L47.5806 886.556 L47.5806 913.483 Q53.6281 913.101 56.8109 909.854 Q59.9619 906.576 59.9619 900.752 Q59.9619 897.378 59.1344 894.227 Q58.3069 891.044 56.6518 887.925 L62.1899 887.925 Q63.5267 891.076 64.227 894.386 Q64.9272 897.696 64.9272 901.102 Q64.9272 909.632 59.9619 914.629 Q54.9967 919.594 46.5303 919.594 Q37.7774 919.594 32.6531 914.883 Q27.4968 910.141 27.4968 902.12 Q27.4968 894.927 32.1438 890.757 Q36.7589 886.556 44.7161 886.556 M42.9973 892.412 Q38.1912 892.476 35.3266 895.118 Q32.4621 897.728 32.4621 902.056 Q32.4621 906.958 35.2312 909.918 Q38.0002 912.846 43.0292 913.292 L42.9973 892.412 Z\" fill=\"#000000\" fill-rule=\"evenodd\" fill-opacity=\"1\" /><path clip-path=\"url(#clip180)\" d=\"M29.7248 851.29 L35.1993 851.29 Q33.8307 853.773 33.1623 856.287 Q32.4621 858.77 32.4621 861.316 Q32.4621 867.013 36.0905 870.164 Q39.6872 873.315 46.212 873.315 Q52.7369 873.315 56.3653 870.164 Q59.9619 867.013 59.9619 861.316 Q59.9619 858.77 59.2935 856.287 Q58.5933 853.773 57.2247 851.29 L62.6355 851.29 Q63.7814 853.741 64.3543 856.383 Q64.9272 858.992 64.9272 861.953 Q64.9272 870.005 59.8664 874.748 Q54.8057 879.49 46.212 879.49 Q37.491 879.49 32.4939 874.716 Q27.4968 869.91 27.4968 861.571 Q27.4968 858.865 28.0697 856.287 Q28.6108 853.709 29.7248 851.29 Z\" fill=\"#000000\" fill-rule=\"evenodd\" fill-opacity=\"1\" /><path clip-path=\"url(#clip180)\" d=\"M18.2347 835.312 L28.3562 835.312 L28.3562 823.249 L32.9077 823.249 L32.9077 835.312 L52.2594 835.312 Q56.6199 835.312 57.8613 834.134 Q59.1026 832.925 59.1026 829.265 L59.1026 823.249 L64.0042 823.249 L64.0042 829.265 Q64.0042 836.044 61.4897 838.622 Q58.9434 841.2 52.2594 841.2 L32.9077 841.2 L32.9077 845.497 L28.3562 845.497 L28.3562 841.2 L18.2347 841.2 L18.2347 835.312 Z\" fill=\"#000000\" fill-rule=\"evenodd\" fill-opacity=\"1\" /><path clip-path=\"url(#clip180)\" d=\"M44.7161 785.055 L47.5806 785.055 L47.5806 811.982 Q53.6281 811.6 56.8109 808.353 Q59.9619 805.075 59.9619 799.25 Q59.9619 795.876 59.1344 792.725 Q58.3069 789.543 56.6518 786.423 L62.1899 786.423 Q63.5267 789.574 64.227 792.885 Q64.9272 796.195 64.9272 799.6 Q64.9272 808.13 59.9619 813.128 Q54.9967 818.093 46.5303 818.093 Q37.7774 818.093 32.6531 813.382 Q27.4968 808.64 27.4968 800.619 Q27.4968 793.426 32.1438 789.256 Q36.7589 785.055 44.7161 785.055 M42.9973 790.911 Q38.1912 790.975 35.3266 793.617 Q32.4621 796.227 32.4621 800.555 Q32.4621 805.457 35.2312 808.417 Q38.0002 811.345 43.0292 811.791 L42.9973 790.911 Z\" fill=\"#000000\" fill-rule=\"evenodd\" fill-opacity=\"1\" /><path clip-path=\"url(#clip180)\" d=\"M33.7671 751.985 L14.479 751.985 L14.479 746.129 L64.0042 746.129 L64.0042 751.985 L58.657 751.985 Q61.8398 753.831 63.3994 756.664 Q64.9272 759.465 64.9272 763.411 Q64.9272 769.873 59.771 773.947 Q54.6147 777.989 46.212 777.989 Q37.8093 777.989 32.6531 773.947 Q27.4968 769.873 27.4968 763.411 Q27.4968 759.465 29.0564 756.664 Q30.5842 753.831 33.7671 751.985 M46.212 771.941 Q52.6732 771.941 56.3653 769.3 Q60.0256 766.626 60.0256 761.979 Q60.0256 757.332 56.3653 754.659 Q52.6732 751.985 46.212 751.985 Q39.7508 751.985 36.0905 754.659 Q32.3984 757.332 32.3984 761.979 Q32.3984 766.626 36.0905 769.3 Q39.7508 771.941 46.212 771.941 Z\" fill=\"#000000\" fill-rule=\"evenodd\" fill-opacity=\"1\" /><path clip-path=\"url(#clip180)\" d=\"M41.7242 690.556 Q42.4244 688.487 44.7161 686.545 Q47.0077 684.572 51.0181 682.599 L64.0042 676.074 L64.0042 682.981 L51.8138 689.06 Q47.0395 691.415 45.48 693.643 Q43.9204 695.839 43.9204 699.659 L43.9204 706.661 L64.0042 706.661 L64.0042 713.09 L16.4842 713.09 L16.4842 698.577 Q16.4842 690.429 19.8898 686.418 Q23.2955 682.408 30.1704 682.408 Q34.6582 682.408 37.6183 684.508 Q40.5784 686.577 41.7242 690.556 M21.7677 706.661 L38.6368 706.661 L38.6368 698.577 Q38.6368 693.93 36.5043 691.574 Q34.34 689.187 30.1704 689.187 Q26.0009 689.187 23.9002 691.574 Q21.7677 693.93 21.7677 698.577 L21.7677 706.661 Z\" fill=\"#000000\" fill-rule=\"evenodd\" fill-opacity=\"1\" /><path clip-path=\"url(#clip180)\" d=\"M44.7161 640.49 L47.5806 640.49 L47.5806 667.417 Q53.6281 667.035 56.8109 663.788 Q59.9619 660.51 59.9619 654.685 Q59.9619 651.311 59.1344 648.16 Q58.3069 644.977 56.6518 641.858 L62.1899 641.858 Q63.5267 645.009 64.227 648.319 Q64.9272 651.63 64.9272 655.035 Q64.9272 663.565 59.9619 668.562 Q54.9967 673.528 46.5303 673.528 Q37.7774 673.528 32.6531 668.817 Q27.4968 664.075 27.4968 656.054 Q27.4968 648.861 32.1438 644.691 Q36.7589 640.49 44.7161 640.49 M42.9973 646.346 Q38.1912 646.41 35.3266 649.051 Q32.4621 651.661 32.4621 655.99 Q32.4621 660.892 35.2312 663.852 Q38.0002 666.78 43.0292 667.226 L42.9973 646.346 Z\" fill=\"#000000\" fill-rule=\"evenodd\" fill-opacity=\"1\" /><path clip-path=\"url(#clip180)\" d=\"M18.2347 625.085 L28.3562 625.085 L28.3562 613.022 L32.9077 613.022 L32.9077 625.085 L52.2594 625.085 Q56.6199 625.085 57.8613 623.907 Q59.1026 622.697 59.1026 619.037 L59.1026 613.022 L64.0042 613.022 L64.0042 619.037 Q64.0042 625.817 61.4897 628.395 Q58.9434 630.973 52.2594 630.973 L32.9077 630.973 L32.9077 635.27 L28.3562 635.27 L28.3562 630.973 L18.2347 630.973 L18.2347 625.085 Z\" fill=\"#000000\" fill-rule=\"evenodd\" fill-opacity=\"1\" /><path clip-path=\"url(#clip180)\" d=\"M49.9359 605.924 L28.3562 605.924 L28.3562 600.067 L49.7131 600.067 Q54.7739 600.067 57.3202 598.094 Q59.8346 596.121 59.8346 592.174 Q59.8346 587.431 56.8109 584.694 Q53.7872 581.925 48.5673 581.925 L28.3562 581.925 L28.3562 576.069 L64.0042 576.069 L64.0042 581.925 L58.5296 581.925 Q61.7762 584.058 63.3676 586.89 Q64.9272 589.691 64.9272 593.415 Q64.9272 599.558 61.1078 602.741 Q57.2883 605.924 49.9359 605.924 M27.4968 591.187 L27.4968 591.187 Z\" fill=\"#000000\" fill-rule=\"evenodd\" fill-opacity=\"1\" /><path clip-path=\"url(#clip180)\" d=\"M33.8307 543.349 Q33.2578 544.336 33.0032 545.513 Q32.7167 546.659 32.7167 548.06 Q32.7167 553.025 35.9632 555.698 Q39.1779 558.34 45.2253 558.34 L64.0042 558.34 L64.0042 564.228 L28.3562 564.228 L28.3562 558.34 L33.8944 558.34 Q30.6479 556.494 29.0883 553.534 Q27.4968 550.574 27.4968 546.341 Q27.4968 545.736 27.5923 545.004 Q27.656 544.272 27.8151 543.381 L33.8307 543.349 Z\" fill=\"#000000\" fill-rule=\"evenodd\" fill-opacity=\"1\" /><path clip-path=\"url(#clip180)\" d=\"M42.4881 508.719 L64.0042 508.719 L64.0042 514.576 L42.679 514.576 Q37.6183 514.576 35.1038 516.549 Q32.5894 518.523 32.5894 522.469 Q32.5894 527.212 35.6131 529.949 Q38.6368 532.686 43.8567 532.686 L64.0042 532.686 L64.0042 538.575 L28.3562 538.575 L28.3562 532.686 L33.8944 532.686 Q30.6797 530.586 29.0883 527.753 Q27.4968 524.888 27.4968 521.164 Q27.4968 515.022 31.3163 511.87 Q35.1038 508.719 42.4881 508.719 Z\" fill=\"#000000\" fill-rule=\"evenodd\" fill-opacity=\"1\" /><path clip-path=\"url(#clip180)\" d=\"M959.964 12.096 L998.205 12.096 L998.205 18.9825 L968.147 18.9825 L968.147 36.8875 L996.949 36.8875 L996.949 43.7741 L968.147 43.7741 L968.147 65.6895 L998.934 65.6895 L998.934 72.576 L959.964 72.576 L959.964 12.096 Z\" fill=\"#000000\" fill-rule=\"evenodd\" fill-opacity=\"1\" /><path clip-path=\"url(#clip180)\" d=\"M1035.03 9.54393 L1035.03 15.7418 L1027.9 15.7418 Q1023.89 15.7418 1022.31 17.3622 Q1020.77 18.9825 1020.77 23.1955 L1020.77 27.2059 L1033.04 27.2059 L1033.04 32.9987 L1020.77 32.9987 L1020.77 72.576 L1013.27 72.576 L1013.27 32.9987 L1006.14 32.9987 L1006.14 27.2059 L1013.27 27.2059 L1013.27 24.0462 Q1013.27 16.471 1016.8 13.0277 Q1020.32 9.54393 1027.98 9.54393 L1035.03 9.54393 Z\" fill=\"#000000\" fill-rule=\"evenodd\" fill-opacity=\"1\" /><path clip-path=\"url(#clip180)\" d=\"M1064.23 9.54393 L1064.23 15.7418 L1057.11 15.7418 Q1053.09 15.7418 1051.51 17.3622 Q1049.98 18.9825 1049.98 23.1955 L1049.98 27.2059 L1062.25 27.2059 L1062.25 32.9987 L1049.98 32.9987 L1049.98 72.576 L1042.48 72.576 L1042.48 32.9987 L1035.35 32.9987 L1035.35 27.2059 L1042.48 27.2059 L1042.48 24.0462 Q1042.48 16.471 1046.01 13.0277 Q1049.53 9.54393 1057.19 9.54393 L1064.23 9.54393 Z\" fill=\"#000000\" fill-rule=\"evenodd\" fill-opacity=\"1\" /><path clip-path=\"url(#clip180)\" d=\"M1070.47 27.2059 L1077.93 27.2059 L1077.93 72.576 L1070.47 72.576 L1070.47 27.2059 M1070.47 9.54393 L1077.93 9.54393 L1077.93 18.9825 L1070.47 18.9825 L1070.47 9.54393 Z\" fill=\"#000000\" fill-rule=\"evenodd\" fill-opacity=\"1\" /><path clip-path=\"url(#clip180)\" d=\"M1126.17 28.9478 L1126.17 35.9153 Q1123.01 34.1734 1119.81 33.3227 Q1116.65 32.4315 1113.41 32.4315 Q1106.16 32.4315 1102.15 37.0496 Q1098.14 41.6271 1098.14 49.9314 Q1098.14 58.2358 1102.15 62.8538 Q1106.16 67.4314 1113.41 67.4314 Q1116.65 67.4314 1119.81 66.5807 Q1123.01 65.6895 1126.17 63.9476 L1126.17 70.8341 Q1123.05 72.2924 1119.69 73.0216 Q1116.37 73.7508 1112.6 73.7508 Q1102.35 73.7508 1096.32 67.3098 Q1090.28 60.8689 1090.28 49.9314 Q1090.28 38.832 1096.36 32.472 Q1102.48 26.1121 1113.09 26.1121 Q1116.53 26.1121 1119.81 26.8413 Q1123.09 27.5299 1126.17 28.9478 Z\" fill=\"#000000\" fill-rule=\"evenodd\" fill-opacity=\"1\" /><path clip-path=\"url(#clip180)\" d=\"M1139.14 27.2059 L1146.59 27.2059 L1146.59 72.576 L1139.14 72.576 L1139.14 27.2059 M1139.14 9.54393 L1146.59 9.54393 L1146.59 18.9825 L1139.14 18.9825 L1139.14 9.54393 Z\" fill=\"#000000\" fill-rule=\"evenodd\" fill-opacity=\"1\" /><path clip-path=\"url(#clip180)\" d=\"M1200.99 48.0275 L1200.99 51.6733 L1166.72 51.6733 Q1167.21 59.3701 1171.34 63.421 Q1175.51 67.4314 1182.93 67.4314 Q1187.22 67.4314 1191.23 66.3781 Q1195.28 65.3249 1199.25 63.2184 L1199.25 70.267 Q1195.24 71.9684 1191.03 72.8596 Q1186.82 73.7508 1182.48 73.7508 Q1171.62 73.7508 1165.26 67.4314 Q1158.94 61.1119 1158.94 50.3365 Q1158.94 39.1965 1164.94 32.6746 Q1170.98 26.1121 1181.18 26.1121 Q1190.34 26.1121 1195.65 32.0264 Q1200.99 37.9003 1200.99 48.0275 M1193.54 45.84 Q1193.46 39.7232 1190.1 36.0774 Q1186.77 32.4315 1181.27 32.4315 Q1175.03 32.4315 1171.26 35.9558 Q1167.53 39.4801 1166.97 45.8805 L1193.54 45.84 Z\" fill=\"#000000\" fill-rule=\"evenodd\" fill-opacity=\"1\" /><path clip-path=\"url(#clip180)\" d=\"M1250.94 45.1919 L1250.94 72.576 L1243.49 72.576 L1243.49 45.4349 Q1243.49 38.994 1240.98 35.7938 Q1238.46 32.5936 1233.44 32.5936 Q1227.41 32.5936 1223.92 36.4419 Q1220.44 40.2903 1220.44 46.9338 L1220.44 72.576 L1212.94 72.576 L1212.94 27.2059 L1220.44 27.2059 L1220.44 34.2544 Q1223.11 30.163 1226.72 28.1376 Q1230.36 26.1121 1235.1 26.1121 Q1242.92 26.1121 1246.93 30.9732 Q1250.94 35.7938 1250.94 45.1919 Z\" fill=\"#000000\" fill-rule=\"evenodd\" fill-opacity=\"1\" /><path clip-path=\"url(#clip180)\" d=\"M1273.18 14.324 L1273.18 27.2059 L1288.53 27.2059 L1288.53 32.9987 L1273.18 32.9987 L1273.18 57.6282 Q1273.18 63.1779 1274.68 64.7578 Q1276.22 66.3376 1280.88 66.3376 L1288.53 66.3376 L1288.53 72.576 L1280.88 72.576 Q1272.25 72.576 1268.97 69.3758 Q1265.69 66.1351 1265.69 57.6282 L1265.69 32.9987 L1260.22 32.9987 L1260.22 27.2059 L1265.69 27.2059 L1265.69 14.324 L1273.18 14.324 Z\" fill=\"#000000\" fill-rule=\"evenodd\" fill-opacity=\"1\" /><path clip-path=\"url(#clip180)\" d=\"M1325.03 12.096 L1359.79 12.096 L1359.79 18.9825 L1333.21 18.9825 L1333.21 36.8065 L1357.2 36.8065 L1357.2 43.6931 L1333.21 43.6931 L1333.21 72.576 L1325.03 72.576 L1325.03 12.096 Z\" fill=\"#000000\" fill-rule=\"evenodd\" fill-opacity=\"1\" /><path clip-path=\"url(#clip180)\" d=\"M1392.68 34.1734 Q1391.43 33.4443 1389.93 33.1202 Q1388.47 32.7556 1386.69 32.7556 Q1380.37 32.7556 1376.96 36.8875 Q1373.6 40.9789 1373.6 48.6757 L1373.6 72.576 L1366.11 72.576 L1366.11 27.2059 L1373.6 27.2059 L1373.6 34.2544 Q1375.95 30.1225 1379.72 28.1376 Q1383.49 26.1121 1388.87 26.1121 Q1389.64 26.1121 1390.58 26.2337 Q1391.51 26.3147 1392.64 26.5172 L1392.68 34.1734 Z\" fill=\"#000000\" fill-rule=\"evenodd\" fill-opacity=\"1\" /><path clip-path=\"url(#clip180)\" d=\"M1416.26 32.4315 Q1410.26 32.4315 1406.78 37.1306 Q1403.3 41.7891 1403.3 49.9314 Q1403.3 58.0738 1406.74 62.7728 Q1410.22 67.4314 1416.26 67.4314 Q1422.21 67.4314 1425.7 62.7323 Q1429.18 58.0333 1429.18 49.9314 Q1429.18 41.8701 1425.7 37.1711 Q1422.21 32.4315 1416.26 32.4315 M1416.26 26.1121 Q1425.98 26.1121 1431.53 32.4315 Q1437.08 38.7509 1437.08 49.9314 Q1437.08 61.0714 1431.53 67.4314 Q1425.98 73.7508 1416.26 73.7508 Q1406.5 73.7508 1400.95 67.4314 Q1395.44 61.0714 1395.44 49.9314 Q1395.44 38.7509 1400.95 32.4315 Q1406.5 26.1121 1416.26 26.1121 Z\" fill=\"#000000\" fill-rule=\"evenodd\" fill-opacity=\"1\" /><path clip-path=\"url(#clip180)\" d=\"M1487.15 45.1919 L1487.15 72.576 L1479.7 72.576 L1479.7 45.4349 Q1479.7 38.994 1477.18 35.7938 Q1474.67 32.5936 1469.65 32.5936 Q1463.61 32.5936 1460.13 36.4419 Q1456.65 40.2903 1456.65 46.9338 L1456.65 72.576 L1449.15 72.576 L1449.15 27.2059 L1456.65 27.2059 L1456.65 34.2544 Q1459.32 30.163 1462.92 28.1376 Q1466.57 26.1121 1471.31 26.1121 Q1479.13 26.1121 1483.14 30.9732 Q1487.15 35.7938 1487.15 45.1919 Z\" fill=\"#000000\" fill-rule=\"evenodd\" fill-opacity=\"1\" /><path clip-path=\"url(#clip180)\" d=\"M1509.39 14.324 L1509.39 27.2059 L1524.74 27.2059 L1524.74 32.9987 L1509.39 32.9987 L1509.39 57.6282 Q1509.39 63.1779 1510.89 64.7578 Q1512.43 66.3376 1517.09 66.3376 L1524.74 66.3376 L1524.74 72.576 L1517.09 72.576 Q1508.46 72.576 1505.18 69.3758 Q1501.89 66.1351 1501.89 57.6282 L1501.89 32.9987 L1496.43 32.9987 L1496.43 27.2059 L1501.89 27.2059 L1501.89 14.324 L1509.39 14.324 Z\" fill=\"#000000\" fill-rule=\"evenodd\" fill-opacity=\"1\" /><path clip-path=\"url(#clip180)\" d=\"M1534.54 27.2059 L1542 27.2059 L1542 72.576 L1534.54 72.576 L1534.54 27.2059 M1534.54 9.54393 L1542 9.54393 L1542 18.9825 L1534.54 18.9825 L1534.54 9.54393 Z\" fill=\"#000000\" fill-rule=\"evenodd\" fill-opacity=\"1\" /><path clip-path=\"url(#clip180)\" d=\"M1596.4 48.0275 L1596.4 51.6733 L1562.13 51.6733 Q1562.62 59.3701 1566.75 63.421 Q1570.92 67.4314 1578.33 67.4314 Q1582.63 67.4314 1586.64 66.3781 Q1590.69 65.3249 1594.66 63.2184 L1594.66 70.267 Q1590.65 71.9684 1586.44 72.8596 Q1582.22 73.7508 1577.89 73.7508 Q1567.03 73.7508 1560.67 67.4314 Q1554.35 61.1119 1554.35 50.3365 Q1554.35 39.1965 1560.35 32.6746 Q1566.38 26.1121 1576.59 26.1121 Q1585.75 26.1121 1591.05 32.0264 Q1596.4 37.9003 1596.4 48.0275 M1588.95 45.84 Q1588.87 39.7232 1585.51 36.0774 Q1582.18 32.4315 1576.67 32.4315 Q1570.44 32.4315 1566.67 35.9558 Q1562.94 39.4801 1562.37 45.8805 L1588.95 45.84 Z\" fill=\"#000000\" fill-rule=\"evenodd\" fill-opacity=\"1\" /><path clip-path=\"url(#clip180)\" d=\"M1634.93 34.1734 Q1633.67 33.4443 1632.17 33.1202 Q1630.71 32.7556 1628.93 32.7556 Q1622.61 32.7556 1619.21 36.8875 Q1615.85 40.9789 1615.85 48.6757 L1615.85 72.576 L1608.35 72.576 L1608.35 27.2059 L1615.85 27.2059 L1615.85 34.2544 Q1618.2 30.1225 1621.96 28.1376 Q1625.73 26.1121 1631.12 26.1121 Q1631.89 26.1121 1632.82 26.2337 Q1633.75 26.3147 1634.89 26.5172 L1634.93 34.1734 Z\" fill=\"#000000\" fill-rule=\"evenodd\" fill-opacity=\"1\" /><circle clip-path=\"url(#clip182)\" cx=\"658.286\" cy=\"385.029\" r=\"7\" fill=\"#ffffe0\" fill-rule=\"evenodd\" fill-opacity=\"0.9\" stroke=\"#000000\" stroke-opacity=\"0.9\" stroke-width=\"3.2\"/>\n",
       "<circle clip-path=\"url(#clip182)\" cx=\"630.226\" cy=\"393.389\" r=\"7\" fill=\"#ffffe0\" fill-rule=\"evenodd\" fill-opacity=\"0.9\" stroke=\"#000000\" stroke-opacity=\"0.9\" stroke-width=\"3.2\"/>\n",
       "<circle clip-path=\"url(#clip182)\" cx=\"702.478\" cy=\"372.217\" r=\"7\" fill=\"#ffffe0\" fill-rule=\"evenodd\" fill-opacity=\"0.9\" stroke=\"#000000\" stroke-opacity=\"0.9\" stroke-width=\"3.2\"/>\n",
       "<circle clip-path=\"url(#clip182)\" cx=\"666.915\" cy=\"383.162\" r=\"7\" fill=\"#ffffe0\" fill-rule=\"evenodd\" fill-opacity=\"0.9\" stroke=\"#000000\" stroke-opacity=\"0.9\" stroke-width=\"3.2\"/>\n",
       "<circle clip-path=\"url(#clip182)\" cx=\"700.149\" cy=\"373.713\" r=\"7\" fill=\"#ffffe0\" fill-rule=\"evenodd\" fill-opacity=\"0.9\" stroke=\"#000000\" stroke-opacity=\"0.9\" stroke-width=\"3.2\"/>\n",
       "<circle clip-path=\"url(#clip182)\" cx=\"719.991\" cy=\"367.957\" r=\"7\" fill=\"#ffffe0\" fill-rule=\"evenodd\" fill-opacity=\"0.9\" stroke=\"#000000\" stroke-opacity=\"0.9\" stroke-width=\"3.2\"/>\n",
       "<circle clip-path=\"url(#clip182)\" cx=\"677.301\" cy=\"380.612\" r=\"7\" fill=\"#ffffe0\" fill-rule=\"evenodd\" fill-opacity=\"0.9\" stroke=\"#000000\" stroke-opacity=\"0.9\" stroke-width=\"3.2\"/>\n",
       "<circle clip-path=\"url(#clip182)\" cx=\"686.27\" cy=\"378.72\" r=\"7\" fill=\"#ffffe0\" fill-rule=\"evenodd\" fill-opacity=\"0.9\" stroke=\"#000000\" stroke-opacity=\"0.9\" stroke-width=\"3.2\"/>\n",
       "<circle clip-path=\"url(#clip182)\" cx=\"729.866\" cy=\"366.061\" r=\"7\" fill=\"#ffffe0\" fill-rule=\"evenodd\" fill-opacity=\"0.9\" stroke=\"#000000\" stroke-opacity=\"0.9\" stroke-width=\"3.2\"/>\n",
       "<circle clip-path=\"url(#clip182)\" cx=\"632.796\" cy=\"394.52\" r=\"7\" fill=\"#ffffe0\" fill-rule=\"evenodd\" fill-opacity=\"0.9\" stroke=\"#000000\" stroke-opacity=\"0.9\" stroke-width=\"3.2\"/>\n",
       "<circle clip-path=\"url(#clip182)\" cx=\"749.995\" cy=\"360.405\" r=\"7\" fill=\"#ffffe0\" fill-rule=\"evenodd\" fill-opacity=\"0.9\" stroke=\"#000000\" stroke-opacity=\"0.9\" stroke-width=\"3.2\"/>\n",
       "<circle clip-path=\"url(#clip182)\" cx=\"673.116\" cy=\"382.866\" r=\"7\" fill=\"#ffffe0\" fill-rule=\"evenodd\" fill-opacity=\"0.9\" stroke=\"#000000\" stroke-opacity=\"0.9\" stroke-width=\"3.2\"/>\n",
       "<circle clip-path=\"url(#clip182)\" cx=\"625.41\" cy=\"396.866\" r=\"7\" fill=\"#ffffe0\" fill-rule=\"evenodd\" fill-opacity=\"0.9\" stroke=\"#000000\" stroke-opacity=\"0.9\" stroke-width=\"3.2\"/>\n",
       "<circle clip-path=\"url(#clip182)\" cx=\"642.194\" cy=\"391.97\" r=\"7\" fill=\"#ffffe0\" fill-rule=\"evenodd\" fill-opacity=\"0.9\" stroke=\"#000000\" stroke-opacity=\"0.9\" stroke-width=\"3.2\"/>\n",
       "<circle clip-path=\"url(#clip182)\" cx=\"716.524\" cy=\"370.36\" r=\"7\" fill=\"#ffffe0\" fill-rule=\"evenodd\" fill-opacity=\"0.9\" stroke=\"#000000\" stroke-opacity=\"0.9\" stroke-width=\"3.2\"/>\n",
       "<circle clip-path=\"url(#clip182)\" cx=\"662.263\" cy=\"386.245\" r=\"7\" fill=\"#ffffe0\" fill-rule=\"evenodd\" fill-opacity=\"0.9\" stroke=\"#000000\" stroke-opacity=\"0.9\" stroke-width=\"3.2\"/>\n",
       "<circle clip-path=\"url(#clip182)\" cx=\"692.57\" cy=\"377.419\" r=\"7\" fill=\"#ffffe0\" fill-rule=\"evenodd\" fill-opacity=\"0.9\" stroke=\"#000000\" stroke-opacity=\"0.9\" stroke-width=\"3.2\"/>\n",
       "<circle clip-path=\"url(#clip182)\" cx=\"697.11\" cy=\"376.12\" r=\"7\" fill=\"#ffffe0\" fill-rule=\"evenodd\" fill-opacity=\"0.9\" stroke=\"#000000\" stroke-opacity=\"0.9\" stroke-width=\"3.2\"/>\n",
       "<circle clip-path=\"url(#clip182)\" cx=\"702.099\" cy=\"374.814\" r=\"7\" fill=\"#ffffe0\" fill-rule=\"evenodd\" fill-opacity=\"0.9\" stroke=\"#000000\" stroke-opacity=\"0.9\" stroke-width=\"3.2\"/>\n",
       "<circle clip-path=\"url(#clip182)\" cx=\"681.567\" cy=\"380.845\" r=\"7\" fill=\"#ffffe0\" fill-rule=\"evenodd\" fill-opacity=\"0.9\" stroke=\"#000000\" stroke-opacity=\"0.9\" stroke-width=\"3.2\"/>\n",
       "<circle clip-path=\"url(#clip182)\" cx=\"645.934\" cy=\"391.256\" r=\"7\" fill=\"#ffffe0\" fill-rule=\"evenodd\" fill-opacity=\"0.9\" stroke=\"#000000\" stroke-opacity=\"0.9\" stroke-width=\"3.2\"/>\n",
       "<circle clip-path=\"url(#clip182)\" cx=\"713.944\" cy=\"371.582\" r=\"7\" fill=\"#ffffe0\" fill-rule=\"evenodd\" fill-opacity=\"0.9\" stroke=\"#000000\" stroke-opacity=\"0.9\" stroke-width=\"3.2\"/>\n",
       "<circle clip-path=\"url(#clip182)\" cx=\"598.7\" cy=\"405.226\" r=\"7\" fill=\"#ffffe0\" fill-rule=\"evenodd\" fill-opacity=\"0.9\" stroke=\"#000000\" stroke-opacity=\"0.9\" stroke-width=\"3.2\"/>\n",
       "<circle clip-path=\"url(#clip182)\" cx=\"609.722\" cy=\"402.017\" r=\"7\" fill=\"#ffffe0\" fill-rule=\"evenodd\" fill-opacity=\"0.9\" stroke=\"#000000\" stroke-opacity=\"0.9\" stroke-width=\"3.2\"/>\n",
       "<circle clip-path=\"url(#clip182)\" cx=\"633.135\" cy=\"395.314\" r=\"7\" fill=\"#ffffe0\" fill-rule=\"evenodd\" fill-opacity=\"0.9\" stroke=\"#000000\" stroke-opacity=\"0.9\" stroke-width=\"3.2\"/>\n",
       "<circle clip-path=\"url(#clip182)\" cx=\"697.775\" cy=\"376.585\" r=\"7\" fill=\"#ffffe0\" fill-rule=\"evenodd\" fill-opacity=\"0.9\" stroke=\"#000000\" stroke-opacity=\"0.9\" stroke-width=\"3.2\"/>\n",
       "<circle clip-path=\"url(#clip182)\" cx=\"658.274\" cy=\"388.166\" r=\"7\" fill=\"#ffffe0\" fill-rule=\"evenodd\" fill-opacity=\"0.9\" stroke=\"#000000\" stroke-opacity=\"0.9\" stroke-width=\"3.2\"/>\n",
       "<circle clip-path=\"url(#clip182)\" cx=\"619.508\" cy=\"399.498\" r=\"7\" fill=\"#ffffe0\" fill-rule=\"evenodd\" fill-opacity=\"0.9\" stroke=\"#000000\" stroke-opacity=\"0.9\" stroke-width=\"3.2\"/>\n",
       "<circle clip-path=\"url(#clip182)\" cx=\"725.034\" cy=\"368.846\" r=\"7\" fill=\"#ffffe0\" fill-rule=\"evenodd\" fill-opacity=\"0.9\" stroke=\"#000000\" stroke-opacity=\"0.9\" stroke-width=\"3.2\"/>\n",
       "<circle clip-path=\"url(#clip182)\" cx=\"601.729\" cy=\"404.748\" r=\"7\" fill=\"#ffffe0\" fill-rule=\"evenodd\" fill-opacity=\"0.9\" stroke=\"#000000\" stroke-opacity=\"0.9\" stroke-width=\"3.2\"/>\n",
       "<circle clip-path=\"url(#clip182)\" cx=\"747.942\" cy=\"362.333\" r=\"7\" fill=\"#ffffe0\" fill-rule=\"evenodd\" fill-opacity=\"0.9\" stroke=\"#000000\" stroke-opacity=\"0.9\" stroke-width=\"3.2\"/>\n",
       "<circle clip-path=\"url(#clip182)\" cx=\"793.703\" cy=\"349.047\" r=\"7\" fill=\"#ffffe0\" fill-rule=\"evenodd\" fill-opacity=\"0.9\" stroke=\"#000000\" stroke-opacity=\"0.9\" stroke-width=\"3.2\"/>\n",
       "<circle clip-path=\"url(#clip182)\" cx=\"608.366\" cy=\"403.016\" r=\"7\" fill=\"#ffffe0\" fill-rule=\"evenodd\" fill-opacity=\"0.9\" stroke=\"#000000\" stroke-opacity=\"0.9\" stroke-width=\"3.2\"/>\n",
       "<circle clip-path=\"url(#clip182)\" cx=\"624.984\" cy=\"398.189\" r=\"7\" fill=\"#ffffe0\" fill-rule=\"evenodd\" fill-opacity=\"0.9\" stroke=\"#000000\" stroke-opacity=\"0.9\" stroke-width=\"3.2\"/>\n",
       "<circle clip-path=\"url(#clip182)\" cx=\"744.988\" cy=\"363.308\" r=\"7\" fill=\"#ffffe0\" fill-rule=\"evenodd\" fill-opacity=\"0.9\" stroke=\"#000000\" stroke-opacity=\"0.9\" stroke-width=\"3.2\"/>\n",
       "<circle clip-path=\"url(#clip182)\" cx=\"612.931\" cy=\"401.773\" r=\"7\" fill=\"#ffffe0\" fill-rule=\"evenodd\" fill-opacity=\"0.9\" stroke=\"#000000\" stroke-opacity=\"0.9\" stroke-width=\"3.2\"/>\n",
       "<circle clip-path=\"url(#clip182)\" cx=\"786.595\" cy=\"351.335\" r=\"7\" fill=\"#ffffe0\" fill-rule=\"evenodd\" fill-opacity=\"0.9\" stroke=\"#000000\" stroke-opacity=\"0.9\" stroke-width=\"3.2\"/>\n",
       "<circle clip-path=\"url(#clip182)\" cx=\"585.033\" cy=\"410.022\" r=\"7\" fill=\"#ffffe0\" fill-rule=\"evenodd\" fill-opacity=\"0.9\" stroke=\"#000000\" stroke-opacity=\"0.9\" stroke-width=\"3.2\"/>\n",
       "<circle clip-path=\"url(#clip182)\" cx=\"652.327\" cy=\"390.457\" r=\"7\" fill=\"#ffffe0\" fill-rule=\"evenodd\" fill-opacity=\"0.9\" stroke=\"#000000\" stroke-opacity=\"0.9\" stroke-width=\"3.2\"/>\n",
       "<circle clip-path=\"url(#clip182)\" cx=\"657.542\" cy=\"388.961\" r=\"7\" fill=\"#ffffe0\" fill-rule=\"evenodd\" fill-opacity=\"0.9\" stroke=\"#000000\" stroke-opacity=\"0.9\" stroke-width=\"3.2\"/>\n",
       "<circle clip-path=\"url(#clip182)\" cx=\"754.2\" cy=\"360.884\" r=\"7\" fill=\"#ffffe0\" fill-rule=\"evenodd\" fill-opacity=\"0.9\" stroke=\"#000000\" stroke-opacity=\"0.9\" stroke-width=\"3.2\"/>\n",
       "<circle clip-path=\"url(#clip182)\" cx=\"766.536\" cy=\"357.548\" r=\"7\" fill=\"#ffffe0\" fill-rule=\"evenodd\" fill-opacity=\"0.9\" stroke=\"#000000\" stroke-opacity=\"0.9\" stroke-width=\"3.2\"/>\n",
       "<circle clip-path=\"url(#clip182)\" cx=\"792.475\" cy=\"350.026\" r=\"7\" fill=\"#ffffe0\" fill-rule=\"evenodd\" fill-opacity=\"0.9\" stroke=\"#000000\" stroke-opacity=\"0.9\" stroke-width=\"3.2\"/>\n",
       "<circle clip-path=\"url(#clip182)\" cx=\"842.995\" cy=\"335.412\" r=\"7\" fill=\"#ffffe0\" fill-rule=\"evenodd\" fill-opacity=\"0.9\" stroke=\"#000000\" stroke-opacity=\"0.9\" stroke-width=\"3.2\"/>\n",
       "<circle clip-path=\"url(#clip182)\" cx=\"741.876\" cy=\"364.804\" r=\"7\" fill=\"#ffffe0\" fill-rule=\"evenodd\" fill-opacity=\"0.9\" stroke=\"#000000\" stroke-opacity=\"0.9\" stroke-width=\"3.2\"/>\n",
       "<circle clip-path=\"url(#clip182)\" cx=\"785.573\" cy=\"352.156\" r=\"7\" fill=\"#ffffe0\" fill-rule=\"evenodd\" fill-opacity=\"0.9\" stroke=\"#000000\" stroke-opacity=\"0.9\" stroke-width=\"3.2\"/>\n",
       "<circle clip-path=\"url(#clip182)\" cx=\"667.077\" cy=\"386.651\" r=\"7\" fill=\"#ffffe0\" fill-rule=\"evenodd\" fill-opacity=\"0.9\" stroke=\"#000000\" stroke-opacity=\"0.9\" stroke-width=\"3.2\"/>\n",
       "<circle clip-path=\"url(#clip182)\" cx=\"762.148\" cy=\"359.044\" r=\"7\" fill=\"#ffffe0\" fill-rule=\"evenodd\" fill-opacity=\"0.9\" stroke=\"#000000\" stroke-opacity=\"0.9\" stroke-width=\"3.2\"/>\n",
       "<circle clip-path=\"url(#clip182)\" cx=\"801.286\" cy=\"347.711\" r=\"7\" fill=\"#ffffe0\" fill-rule=\"evenodd\" fill-opacity=\"0.9\" stroke=\"#000000\" stroke-opacity=\"0.9\" stroke-width=\"3.2\"/>\n",
       "<circle clip-path=\"url(#clip182)\" cx=\"622.254\" cy=\"399.807\" r=\"7\" fill=\"#ffffe0\" fill-rule=\"evenodd\" fill-opacity=\"0.9\" stroke=\"#000000\" stroke-opacity=\"0.9\" stroke-width=\"3.2\"/>\n",
       "<circle clip-path=\"url(#clip182)\" cx=\"803.371\" cy=\"347.249\" r=\"7\" fill=\"#ffffe0\" fill-rule=\"evenodd\" fill-opacity=\"0.9\" stroke=\"#000000\" stroke-opacity=\"0.9\" stroke-width=\"3.2\"/>\n",
       "<circle clip-path=\"url(#clip182)\" cx=\"592.618\" cy=\"408.533\" r=\"7\" fill=\"#ffffe0\" fill-rule=\"evenodd\" fill-opacity=\"0.9\" stroke=\"#000000\" stroke-opacity=\"0.9\" stroke-width=\"3.2\"/>\n",
       "<circle clip-path=\"url(#clip182)\" cx=\"593.462\" cy=\"408.387\" r=\"7\" fill=\"#ffffe0\" fill-rule=\"evenodd\" fill-opacity=\"0.9\" stroke=\"#000000\" stroke-opacity=\"0.9\" stroke-width=\"3.2\"/>\n",
       "<circle clip-path=\"url(#clip182)\" cx=\"842.477\" cy=\"336.353\" r=\"7\" fill=\"#ffffe0\" fill-rule=\"evenodd\" fill-opacity=\"0.9\" stroke=\"#000000\" stroke-opacity=\"0.9\" stroke-width=\"3.2\"/>\n",
       "<circle clip-path=\"url(#clip182)\" cx=\"784.208\" cy=\"353.288\" r=\"7\" fill=\"#ffffe0\" fill-rule=\"evenodd\" fill-opacity=\"0.9\" stroke=\"#000000\" stroke-opacity=\"0.9\" stroke-width=\"3.2\"/>\n",
       "<circle clip-path=\"url(#clip182)\" cx=\"581.037\" cy=\"412.309\" r=\"7\" fill=\"#ffffe0\" fill-rule=\"evenodd\" fill-opacity=\"0.9\" stroke=\"#000000\" stroke-opacity=\"0.9\" stroke-width=\"3.2\"/>\n",
       "<circle clip-path=\"url(#clip182)\" cx=\"575.109\" cy=\"414.224\" r=\"7\" fill=\"#ffffe0\" fill-rule=\"evenodd\" fill-opacity=\"0.9\" stroke=\"#000000\" stroke-opacity=\"0.9\" stroke-width=\"3.2\"/>\n",
       "<circle clip-path=\"url(#clip182)\" cx=\"817.251\" cy=\"344.04\" r=\"7\" fill=\"#ffffe0\" fill-rule=\"evenodd\" fill-opacity=\"0.9\" stroke=\"#000000\" stroke-opacity=\"0.9\" stroke-width=\"3.2\"/>\n",
       "<circle clip-path=\"url(#clip182)\" cx=\"568.771\" cy=\"416.12\" r=\"7\" fill=\"#ffffe0\" fill-rule=\"evenodd\" fill-opacity=\"0.9\" stroke=\"#000000\" stroke-opacity=\"0.9\" stroke-width=\"3.2\"/>\n",
       "<circle clip-path=\"url(#clip182)\" cx=\"778.354\" cy=\"355.374\" r=\"7\" fill=\"#ffffe0\" fill-rule=\"evenodd\" fill-opacity=\"0.9\" stroke=\"#000000\" stroke-opacity=\"0.9\" stroke-width=\"3.2\"/>\n",
       "<circle clip-path=\"url(#clip182)\" cx=\"600.045\" cy=\"407.146\" r=\"7\" fill=\"#ffffe0\" fill-rule=\"evenodd\" fill-opacity=\"0.9\" stroke=\"#000000\" stroke-opacity=\"0.9\" stroke-width=\"3.2\"/>\n",
       "<circle clip-path=\"url(#clip182)\" cx=\"739.463\" cy=\"366.732\" r=\"7\" fill=\"#ffffe0\" fill-rule=\"evenodd\" fill-opacity=\"0.9\" stroke=\"#000000\" stroke-opacity=\"0.9\" stroke-width=\"3.2\"/>\n",
       "<circle clip-path=\"url(#clip182)\" cx=\"586.97\" cy=\"411.001\" r=\"7\" fill=\"#ffffe0\" fill-rule=\"evenodd\" fill-opacity=\"0.9\" stroke=\"#000000\" stroke-opacity=\"0.9\" stroke-width=\"3.2\"/>\n",
       "<circle clip-path=\"url(#clip182)\" cx=\"562.306\" cy=\"418.382\" r=\"7\" fill=\"#ffffe0\" fill-rule=\"evenodd\" fill-opacity=\"0.9\" stroke=\"#000000\" stroke-opacity=\"0.9\" stroke-width=\"3.2\"/>\n",
       "<circle clip-path=\"url(#clip182)\" cx=\"567.922\" cy=\"416.894\" r=\"7\" fill=\"#ffffe0\" fill-rule=\"evenodd\" fill-opacity=\"0.9\" stroke=\"#000000\" stroke-opacity=\"0.9\" stroke-width=\"3.2\"/>\n",
       "<circle clip-path=\"url(#clip182)\" cx=\"830.891\" cy=\"340.798\" r=\"7\" fill=\"#ffffe0\" fill-rule=\"evenodd\" fill-opacity=\"0.9\" stroke=\"#000000\" stroke-opacity=\"0.9\" stroke-width=\"3.2\"/>\n",
       "<circle clip-path=\"url(#clip182)\" cx=\"774.58\" cy=\"357.119\" r=\"7\" fill=\"#ffffe0\" fill-rule=\"evenodd\" fill-opacity=\"0.9\" stroke=\"#000000\" stroke-opacity=\"0.9\" stroke-width=\"3.2\"/>\n",
       "<circle clip-path=\"url(#clip182)\" cx=\"783.315\" cy=\"354.912\" r=\"7\" fill=\"#ffffe0\" fill-rule=\"evenodd\" fill-opacity=\"0.9\" stroke=\"#000000\" stroke-opacity=\"0.9\" stroke-width=\"3.2\"/>\n",
       "<circle clip-path=\"url(#clip182)\" cx=\"556.423\" cy=\"420.67\" r=\"7\" fill=\"#ffffe0\" fill-rule=\"evenodd\" fill-opacity=\"0.9\" stroke=\"#000000\" stroke-opacity=\"0.9\" stroke-width=\"3.2\"/>\n",
       "<circle clip-path=\"url(#clip182)\" cx=\"858.905\" cy=\"333.25\" r=\"7\" fill=\"#ffffe0\" fill-rule=\"evenodd\" fill-opacity=\"0.9\" stroke=\"#000000\" stroke-opacity=\"0.9\" stroke-width=\"3.2\"/>\n",
       "<circle clip-path=\"url(#clip182)\" cx=\"861.125\" cy=\"332.682\" r=\"7\" fill=\"#ffffe0\" fill-rule=\"evenodd\" fill-opacity=\"0.9\" stroke=\"#000000\" stroke-opacity=\"0.9\" stroke-width=\"3.2\"/>\n",
       "<circle clip-path=\"url(#clip182)\" cx=\"561.991\" cy=\"419.362\" r=\"7\" fill=\"#ffffe0\" fill-rule=\"evenodd\" fill-opacity=\"0.9\" stroke=\"#000000\" stroke-opacity=\"0.9\" stroke-width=\"3.2\"/>\n",
       "<circle clip-path=\"url(#clip182)\" cx=\"555.822\" cy=\"421.199\" r=\"7\" fill=\"#ffffe0\" fill-rule=\"evenodd\" fill-opacity=\"0.9\" stroke=\"#000000\" stroke-opacity=\"0.9\" stroke-width=\"3.2\"/>\n",
       "<circle clip-path=\"url(#clip182)\" cx=\"553.532\" cy=\"421.876\" r=\"7\" fill=\"#ffffe0\" fill-rule=\"evenodd\" fill-opacity=\"0.9\" stroke=\"#000000\" stroke-opacity=\"0.9\" stroke-width=\"3.2\"/>\n",
       "<circle clip-path=\"url(#clip182)\" cx=\"583.545\" cy=\"413.526\" r=\"7\" fill=\"#ffffe0\" fill-rule=\"evenodd\" fill-opacity=\"0.9\" stroke=\"#000000\" stroke-opacity=\"0.9\" stroke-width=\"3.2\"/>\n",
       "<circle clip-path=\"url(#clip182)\" cx=\"551.367\" cy=\"423.308\" r=\"7\" fill=\"#ffffe0\" fill-rule=\"evenodd\" fill-opacity=\"0.9\" stroke=\"#000000\" stroke-opacity=\"0.9\" stroke-width=\"3.2\"/>\n",
       "<circle clip-path=\"url(#clip182)\" cx=\"821.85\" cy=\"345.555\" r=\"7\" fill=\"#ffffe0\" fill-rule=\"evenodd\" fill-opacity=\"0.9\" stroke=\"#000000\" stroke-opacity=\"0.9\" stroke-width=\"3.2\"/>\n",
       "<circle clip-path=\"url(#clip182)\" cx=\"539.441\" cy=\"427.036\" r=\"7\" fill=\"#ffffe0\" fill-rule=\"evenodd\" fill-opacity=\"0.9\" stroke=\"#000000\" stroke-opacity=\"0.9\" stroke-width=\"3.2\"/>\n",
       "<circle clip-path=\"url(#clip182)\" cx=\"546.794\" cy=\"425.169\" r=\"7\" fill=\"#ffffe0\" fill-rule=\"evenodd\" fill-opacity=\"0.9\" stroke=\"#000000\" stroke-opacity=\"0.9\" stroke-width=\"3.2\"/>\n",
       "<circle clip-path=\"url(#clip182)\" cx=\"842.088\" cy=\"340.138\" r=\"7\" fill=\"#ffffe0\" fill-rule=\"evenodd\" fill-opacity=\"0.9\" stroke=\"#000000\" stroke-opacity=\"0.9\" stroke-width=\"3.2\"/>\n",
       "<circle clip-path=\"url(#clip182)\" cx=\"834.51\" cy=\"342.426\" r=\"7\" fill=\"#ffffe0\" fill-rule=\"evenodd\" fill-opacity=\"0.9\" stroke=\"#000000\" stroke-opacity=\"0.9\" stroke-width=\"3.2\"/>\n",
       "<circle clip-path=\"url(#clip182)\" cx=\"545.515\" cy=\"425.88\" r=\"7\" fill=\"#ffffe0\" fill-rule=\"evenodd\" fill-opacity=\"0.9\" stroke=\"#000000\" stroke-opacity=\"0.9\" stroke-width=\"3.2\"/>\n",
       "<circle clip-path=\"url(#clip182)\" cx=\"876.34\" cy=\"330.665\" r=\"7\" fill=\"#ffffe0\" fill-rule=\"evenodd\" fill-opacity=\"0.9\" stroke=\"#000000\" stroke-opacity=\"0.9\" stroke-width=\"3.2\"/>\n",
       "<circle clip-path=\"url(#clip182)\" cx=\"536.625\" cy=\"428.775\" r=\"7\" fill=\"#ffffe0\" fill-rule=\"evenodd\" fill-opacity=\"0.9\" stroke=\"#000000\" stroke-opacity=\"0.9\" stroke-width=\"3.2\"/>\n",
       "<circle clip-path=\"url(#clip182)\" cx=\"892.133\" cy=\"326.503\" r=\"7\" fill=\"#ffffe0\" fill-rule=\"evenodd\" fill-opacity=\"0.9\" stroke=\"#000000\" stroke-opacity=\"0.9\" stroke-width=\"3.2\"/>\n",
       "<circle clip-path=\"url(#clip182)\" cx=\"864.327\" cy=\"334.51\" r=\"7\" fill=\"#ffffe0\" fill-rule=\"evenodd\" fill-opacity=\"0.9\" stroke=\"#000000\" stroke-opacity=\"0.9\" stroke-width=\"3.2\"/>\n",
       "<circle clip-path=\"url(#clip182)\" cx=\"908.29\" cy=\"321.891\" r=\"7\" fill=\"#ffffe0\" fill-rule=\"evenodd\" fill-opacity=\"0.9\" stroke=\"#000000\" stroke-opacity=\"0.9\" stroke-width=\"3.2\"/>\n",
       "<circle clip-path=\"url(#clip182)\" cx=\"528.22\" cy=\"431.325\" r=\"7\" fill=\"#ffffe0\" fill-rule=\"evenodd\" fill-opacity=\"0.9\" stroke=\"#000000\" stroke-opacity=\"0.9\" stroke-width=\"3.2\"/>\n",
       "<circle clip-path=\"url(#clip182)\" cx=\"913.364\" cy=\"320.743\" r=\"7\" fill=\"#ffffe0\" fill-rule=\"evenodd\" fill-opacity=\"0.9\" stroke=\"#000000\" stroke-opacity=\"0.9\" stroke-width=\"3.2\"/>\n",
       "<circle clip-path=\"url(#clip182)\" cx=\"539.186\" cy=\"428.355\" r=\"7\" fill=\"#ffffe0\" fill-rule=\"evenodd\" fill-opacity=\"0.9\" stroke=\"#000000\" stroke-opacity=\"0.9\" stroke-width=\"3.2\"/>\n",
       "<circle clip-path=\"url(#clip182)\" cx=\"522.383\" cy=\"433.192\" r=\"7\" fill=\"#ffffe0\" fill-rule=\"evenodd\" fill-opacity=\"0.9\" stroke=\"#000000\" stroke-opacity=\"0.9\" stroke-width=\"3.2\"/>\n",
       "<circle clip-path=\"url(#clip182)\" cx=\"835.695\" cy=\"343.608\" r=\"7\" fill=\"#ffffe0\" fill-rule=\"evenodd\" fill-opacity=\"0.9\" stroke=\"#000000\" stroke-opacity=\"0.9\" stroke-width=\"3.2\"/>\n",
       "<circle clip-path=\"url(#clip182)\" cx=\"534.467\" cy=\"430.271\" r=\"7\" fill=\"#ffffe0\" fill-rule=\"evenodd\" fill-opacity=\"0.9\" stroke=\"#000000\" stroke-opacity=\"0.9\" stroke-width=\"3.2\"/>\n",
       "<circle clip-path=\"url(#clip182)\" cx=\"892.643\" cy=\"327.444\" r=\"7\" fill=\"#ffffe0\" fill-rule=\"evenodd\" fill-opacity=\"0.9\" stroke=\"#000000\" stroke-opacity=\"0.9\" stroke-width=\"3.2\"/>\n",
       "<circle clip-path=\"url(#clip182)\" cx=\"936.1\" cy=\"315.145\" r=\"7\" fill=\"#ffffe0\" fill-rule=\"evenodd\" fill-opacity=\"0.9\" stroke=\"#000000\" stroke-opacity=\"0.9\" stroke-width=\"3.2\"/>\n",
       "<circle clip-path=\"url(#clip182)\" cx=\"526.419\" cy=\"432.821\" r=\"7\" fill=\"#ffffe0\" fill-rule=\"evenodd\" fill-opacity=\"0.9\" stroke=\"#000000\" stroke-opacity=\"0.9\" stroke-width=\"3.2\"/>\n",
       "<circle clip-path=\"url(#clip182)\" cx=\"855.206\" cy=\"338.649\" r=\"7\" fill=\"#ffffe0\" fill-rule=\"evenodd\" fill-opacity=\"0.9\" stroke=\"#000000\" stroke-opacity=\"0.9\" stroke-width=\"3.2\"/>\n",
       "<circle clip-path=\"url(#clip182)\" cx=\"518.556\" cy=\"435.396\" r=\"7\" fill=\"#ffffe0\" fill-rule=\"evenodd\" fill-opacity=\"0.9\" stroke=\"#000000\" stroke-opacity=\"0.9\" stroke-width=\"3.2\"/>\n",
       "<circle clip-path=\"url(#clip182)\" cx=\"910.831\" cy=\"323.152\" r=\"7\" fill=\"#ffffe0\" fill-rule=\"evenodd\" fill-opacity=\"0.9\" stroke=\"#000000\" stroke-opacity=\"0.9\" stroke-width=\"3.2\"/>\n",
       "<circle clip-path=\"url(#clip182)\" cx=\"960.004\" cy=\"309.385\" r=\"7\" fill=\"#ffffe0\" fill-rule=\"evenodd\" fill-opacity=\"0.9\" stroke=\"#000000\" stroke-opacity=\"0.9\" stroke-width=\"3.2\"/>\n",
       "<circle clip-path=\"url(#clip182)\" cx=\"884.297\" cy=\"331.144\" r=\"7\" fill=\"#ffffe0\" fill-rule=\"evenodd\" fill-opacity=\"0.9\" stroke=\"#000000\" stroke-opacity=\"0.9\" stroke-width=\"3.2\"/>\n",
       "<circle clip-path=\"url(#clip182)\" cx=\"524.085\" cy=\"434.408\" r=\"7\" fill=\"#ffffe0\" fill-rule=\"evenodd\" fill-opacity=\"0.9\" stroke=\"#000000\" stroke-opacity=\"0.9\" stroke-width=\"3.2\"/>\n",
       "<circle clip-path=\"url(#clip182)\" cx=\"515.415\" cy=\"437.292\" r=\"7\" fill=\"#ffffe0\" fill-rule=\"evenodd\" fill-opacity=\"0.9\" stroke=\"#000000\" stroke-opacity=\"0.9\" stroke-width=\"3.2\"/>\n",
       "<circle clip-path=\"url(#clip182)\" cx=\"927.94\" cy=\"319.307\" r=\"7\" fill=\"#ffffe0\" fill-rule=\"evenodd\" fill-opacity=\"0.9\" stroke=\"#000000\" stroke-opacity=\"0.9\" stroke-width=\"3.2\"/>\n",
       "<circle clip-path=\"url(#clip182)\" cx=\"938.119\" cy=\"316.606\" r=\"7\" fill=\"#ffffe0\" fill-rule=\"evenodd\" fill-opacity=\"0.9\" stroke=\"#000000\" stroke-opacity=\"0.9\" stroke-width=\"3.2\"/>\n",
       "<circle clip-path=\"url(#clip182)\" cx=\"895.406\" cy=\"328.905\" r=\"7\" fill=\"#ffffe0\" fill-rule=\"evenodd\" fill-opacity=\"0.9\" stroke=\"#000000\" stroke-opacity=\"0.9\" stroke-width=\"3.2\"/>\n",
       "<circle clip-path=\"url(#clip182)\" cx=\"906.227\" cy=\"326.129\" r=\"7\" fill=\"#ffffe0\" fill-rule=\"evenodd\" fill-opacity=\"0.9\" stroke=\"#000000\" stroke-opacity=\"0.9\" stroke-width=\"3.2\"/>\n",
       "<circle clip-path=\"url(#clip182)\" cx=\"514.815\" cy=\"438.036\" r=\"7\" fill=\"#ffffe0\" fill-rule=\"evenodd\" fill-opacity=\"0.9\" stroke=\"#000000\" stroke-opacity=\"0.9\" stroke-width=\"3.2\"/>\n",
       "<circle clip-path=\"url(#clip182)\" cx=\"864.693\" cy=\"338.168\" r=\"7\" fill=\"#ffffe0\" fill-rule=\"evenodd\" fill-opacity=\"0.9\" stroke=\"#000000\" stroke-opacity=\"0.9\" stroke-width=\"3.2\"/>\n",
       "<circle clip-path=\"url(#clip182)\" cx=\"502.96\" cy=\"441.552\" r=\"7\" fill=\"#ffffe0\" fill-rule=\"evenodd\" fill-opacity=\"0.9\" stroke=\"#000000\" stroke-opacity=\"0.9\" stroke-width=\"3.2\"/>\n",
       "<circle clip-path=\"url(#clip182)\" cx=\"937.524\" cy=\"318.013\" r=\"7\" fill=\"#ffffe0\" fill-rule=\"evenodd\" fill-opacity=\"0.9\" stroke=\"#000000\" stroke-opacity=\"0.9\" stroke-width=\"3.2\"/>\n",
       "<circle clip-path=\"url(#clip182)\" cx=\"512.235\" cy=\"439.418\" r=\"7\" fill=\"#ffffe0\" fill-rule=\"evenodd\" fill-opacity=\"0.9\" stroke=\"#000000\" stroke-opacity=\"0.9\" stroke-width=\"3.2\"/>\n",
       "<circle clip-path=\"url(#clip182)\" cx=\"511.268\" cy=\"439.854\" r=\"7\" fill=\"#ffffe0\" fill-rule=\"evenodd\" fill-opacity=\"0.9\" stroke=\"#000000\" stroke-opacity=\"0.9\" stroke-width=\"3.2\"/>\n",
       "<circle clip-path=\"url(#clip182)\" cx=\"497.94\" cy=\"444.136\" r=\"7\" fill=\"#ffffe0\" fill-rule=\"evenodd\" fill-opacity=\"0.9\" stroke=\"#000000\" stroke-opacity=\"0.9\" stroke-width=\"3.2\"/>\n",
       "<circle clip-path=\"url(#clip182)\" cx=\"504.039\" cy=\"442.442\" r=\"7\" fill=\"#ffffe0\" fill-rule=\"evenodd\" fill-opacity=\"0.9\" stroke=\"#000000\" stroke-opacity=\"0.9\" stroke-width=\"3.2\"/>\n",
       "<circle clip-path=\"url(#clip182)\" cx=\"503.319\" cy=\"443.048\" r=\"7\" fill=\"#ffffe0\" fill-rule=\"evenodd\" fill-opacity=\"0.9\" stroke=\"#000000\" stroke-opacity=\"0.9\" stroke-width=\"3.2\"/>\n",
       "<circle clip-path=\"url(#clip182)\" cx=\"966.325\" cy=\"311.547\" r=\"7\" fill=\"#ffffe0\" fill-rule=\"evenodd\" fill-opacity=\"0.9\" stroke=\"#000000\" stroke-opacity=\"0.9\" stroke-width=\"3.2\"/>\n",
       "<circle clip-path=\"url(#clip182)\" cx=\"962.142\" cy=\"312.982\" r=\"7\" fill=\"#ffffe0\" fill-rule=\"evenodd\" fill-opacity=\"0.9\" stroke=\"#000000\" stroke-opacity=\"0.9\" stroke-width=\"3.2\"/>\n",
       "<circle clip-path=\"url(#clip182)\" cx=\"940.599\" cy=\"320.175\" r=\"7\" fill=\"#ffffe0\" fill-rule=\"evenodd\" fill-opacity=\"0.9\" stroke=\"#000000\" stroke-opacity=\"0.9\" stroke-width=\"3.2\"/>\n",
       "<circle clip-path=\"url(#clip182)\" cx=\"499.682\" cy=\"445.353\" r=\"7\" fill=\"#ffffe0\" fill-rule=\"evenodd\" fill-opacity=\"0.9\" stroke=\"#000000\" stroke-opacity=\"0.9\" stroke-width=\"3.2\"/>\n",
       "<circle clip-path=\"url(#clip182)\" cx=\"495\" cy=\"447.052\" r=\"7\" fill=\"#ffffe0\" fill-rule=\"evenodd\" fill-opacity=\"0.9\" stroke=\"#000000\" stroke-opacity=\"0.9\" stroke-width=\"3.2\"/>\n",
       "<circle clip-path=\"url(#clip182)\" cx=\"988.505\" cy=\"307.222\" r=\"7\" fill=\"#ffffe0\" fill-rule=\"evenodd\" fill-opacity=\"0.9\" stroke=\"#000000\" stroke-opacity=\"0.9\" stroke-width=\"3.2\"/>\n",
       "<circle clip-path=\"url(#clip182)\" cx=\"964.332\" cy=\"314.243\" r=\"7\" fill=\"#ffffe0\" fill-rule=\"evenodd\" fill-opacity=\"0.9\" stroke=\"#000000\" stroke-opacity=\"0.9\" stroke-width=\"3.2\"/>\n",
       "<circle clip-path=\"url(#clip182)\" cx=\"930.377\" cy=\"324.258\" r=\"7\" fill=\"#ffffe0\" fill-rule=\"evenodd\" fill-opacity=\"0.9\" stroke=\"#000000\" stroke-opacity=\"0.9\" stroke-width=\"3.2\"/>\n",
       "<circle clip-path=\"url(#clip182)\" cx=\"1015.54\" cy=\"300.476\" r=\"7\" fill=\"#ffffe0\" fill-rule=\"evenodd\" fill-opacity=\"0.9\" stroke=\"#000000\" stroke-opacity=\"0.9\" stroke-width=\"3.2\"/>\n",
       "<circle clip-path=\"url(#clip182)\" cx=\"495.558\" cy=\"447.813\" r=\"7\" fill=\"#ffffe0\" fill-rule=\"evenodd\" fill-opacity=\"0.9\" stroke=\"#000000\" stroke-opacity=\"0.9\" stroke-width=\"3.2\"/>\n",
       "<circle clip-path=\"url(#clip182)\" cx=\"488.076\" cy=\"449.947\" r=\"7\" fill=\"#ffffe0\" fill-rule=\"evenodd\" fill-opacity=\"0.9\" stroke=\"#000000\" stroke-opacity=\"0.9\" stroke-width=\"3.2\"/>\n",
       "<circle clip-path=\"url(#clip182)\" cx=\"982.572\" cy=\"310.398\" r=\"7\" fill=\"#ffffe0\" fill-rule=\"evenodd\" fill-opacity=\"0.9\" stroke=\"#000000\" stroke-opacity=\"0.9\" stroke-width=\"3.2\"/>\n",
       "<circle clip-path=\"url(#clip182)\" cx=\"992.765\" cy=\"307.697\" r=\"7\" fill=\"#ffffe0\" fill-rule=\"evenodd\" fill-opacity=\"0.9\" stroke=\"#000000\" stroke-opacity=\"0.9\" stroke-width=\"3.2\"/>\n",
       "<circle clip-path=\"url(#clip182)\" cx=\"486.254\" cy=\"450.863\" r=\"7\" fill=\"#ffffe0\" fill-rule=\"evenodd\" fill-opacity=\"0.9\" stroke=\"#000000\" stroke-opacity=\"0.9\" stroke-width=\"3.2\"/>\n",
       "<circle clip-path=\"url(#clip182)\" cx=\"1001.68\" cy=\"305.249\" r=\"7\" fill=\"#ffffe0\" fill-rule=\"evenodd\" fill-opacity=\"0.9\" stroke=\"#000000\" stroke-opacity=\"0.9\" stroke-width=\"3.2\"/>\n",
       "<circle clip-path=\"url(#clip182)\" cx=\"492.572\" cy=\"449.141\" r=\"7\" fill=\"#ffffe0\" fill-rule=\"evenodd\" fill-opacity=\"0.9\" stroke=\"#000000\" stroke-opacity=\"0.9\" stroke-width=\"3.2\"/>\n",
       "<circle clip-path=\"url(#clip182)\" cx=\"480.989\" cy=\"452.497\" r=\"7\" fill=\"#ffffe0\" fill-rule=\"evenodd\" fill-opacity=\"0.9\" stroke=\"#000000\" stroke-opacity=\"0.9\" stroke-width=\"3.2\"/>\n",
       "<circle clip-path=\"url(#clip182)\" cx=\"976.888\" cy=\"312.83\" r=\"7\" fill=\"#ffffe0\" fill-rule=\"evenodd\" fill-opacity=\"0.9\" stroke=\"#000000\" stroke-opacity=\"0.9\" stroke-width=\"3.2\"/>\n",
       "<circle clip-path=\"url(#clip182)\" cx=\"1008.77\" cy=\"304.201\" r=\"7\" fill=\"#ffffe0\" fill-rule=\"evenodd\" fill-opacity=\"0.9\" stroke=\"#000000\" stroke-opacity=\"0.9\" stroke-width=\"3.2\"/>\n",
       "<circle clip-path=\"url(#clip182)\" cx=\"480.551\" cy=\"453.291\" r=\"7\" fill=\"#ffffe0\" fill-rule=\"evenodd\" fill-opacity=\"0.9\" stroke=\"#000000\" stroke-opacity=\"0.9\" stroke-width=\"3.2\"/>\n",
       "<circle clip-path=\"url(#clip182)\" cx=\"1018.52\" cy=\"301.937\" r=\"7\" fill=\"#ffffe0\" fill-rule=\"evenodd\" fill-opacity=\"0.9\" stroke=\"#000000\" stroke-opacity=\"0.9\" stroke-width=\"3.2\"/>\n",
       "<circle clip-path=\"url(#clip182)\" cx=\"478.399\" cy=\"454.364\" r=\"7\" fill=\"#ffffe0\" fill-rule=\"evenodd\" fill-opacity=\"0.9\" stroke=\"#000000\" stroke-opacity=\"0.9\" stroke-width=\"3.2\"/>\n",
       "<circle clip-path=\"url(#clip182)\" cx=\"1016.94\" cy=\"302.999\" r=\"7\" fill=\"#ffffe0\" fill-rule=\"evenodd\" fill-opacity=\"0.9\" stroke=\"#000000\" stroke-opacity=\"0.9\" stroke-width=\"3.2\"/>\n",
       "<circle clip-path=\"url(#clip182)\" cx=\"477.702\" cy=\"455.58\" r=\"7\" fill=\"#ffffe0\" fill-rule=\"evenodd\" fill-opacity=\"0.9\" stroke=\"#000000\" stroke-opacity=\"0.9\" stroke-width=\"3.2\"/>\n",
       "<circle clip-path=\"url(#clip182)\" cx=\"1044.27\" cy=\"296.877\" r=\"7\" fill=\"#ffffe0\" fill-rule=\"evenodd\" fill-opacity=\"0.9\" stroke=\"#000000\" stroke-opacity=\"0.9\" stroke-width=\"3.2\"/>\n",
       "<circle clip-path=\"url(#clip182)\" cx=\"473.081\" cy=\"458.113\" r=\"7\" fill=\"#ffffe0\" fill-rule=\"evenodd\" fill-opacity=\"0.9\" stroke=\"#000000\" stroke-opacity=\"0.9\" stroke-width=\"3.2\"/>\n",
       "<circle clip-path=\"url(#clip182)\" cx=\"469.144\" cy=\"459.224\" r=\"7\" fill=\"#ffffe0\" fill-rule=\"evenodd\" fill-opacity=\"0.9\" stroke=\"#000000\" stroke-opacity=\"0.9\" stroke-width=\"3.2\"/>\n",
       "<circle clip-path=\"url(#clip182)\" cx=\"476.762\" cy=\"457.09\" r=\"7\" fill=\"#ffffe0\" fill-rule=\"evenodd\" fill-opacity=\"0.9\" stroke=\"#000000\" stroke-opacity=\"0.9\" stroke-width=\"3.2\"/>\n",
       "<circle clip-path=\"url(#clip182)\" cx=\"469.575\" cy=\"460.591\" r=\"7\" fill=\"#ffffe0\" fill-rule=\"evenodd\" fill-opacity=\"0.9\" stroke=\"#000000\" stroke-opacity=\"0.9\" stroke-width=\"3.2\"/>\n",
       "<circle clip-path=\"url(#clip182)\" cx=\"468.929\" cy=\"460.993\" r=\"7\" fill=\"#ffffe0\" fill-rule=\"evenodd\" fill-opacity=\"0.9\" stroke=\"#000000\" stroke-opacity=\"0.9\" stroke-width=\"3.2\"/>\n",
       "<circle clip-path=\"url(#clip182)\" cx=\"1080.49\" cy=\"290.58\" r=\"7\" fill=\"#ffffe0\" fill-rule=\"evenodd\" fill-opacity=\"0.9\" stroke=\"#000000\" stroke-opacity=\"0.9\" stroke-width=\"3.2\"/>\n",
       "<circle clip-path=\"url(#clip182)\" cx=\"1055\" cy=\"297.801\" r=\"7\" fill=\"#ffffe0\" fill-rule=\"evenodd\" fill-opacity=\"0.9\" stroke=\"#000000\" stroke-opacity=\"0.9\" stroke-width=\"3.2\"/>\n",
       "<circle clip-path=\"url(#clip182)\" cx=\"1050.31\" cy=\"299.454\" r=\"7\" fill=\"#ffffe0\" fill-rule=\"evenodd\" fill-opacity=\"0.9\" stroke=\"#000000\" stroke-opacity=\"0.9\" stroke-width=\"3.2\"/>\n",
       "<circle clip-path=\"url(#clip182)\" cx=\"1065.61\" cy=\"295.292\" r=\"7\" fill=\"#ffffe0\" fill-rule=\"evenodd\" fill-opacity=\"0.9\" stroke=\"#000000\" stroke-opacity=\"0.9\" stroke-width=\"3.2\"/>\n",
       "<circle clip-path=\"url(#clip182)\" cx=\"466.54\" cy=\"462.191\" r=\"7\" fill=\"#ffffe0\" fill-rule=\"evenodd\" fill-opacity=\"0.9\" stroke=\"#000000\" stroke-opacity=\"0.9\" stroke-width=\"3.2\"/>\n",
       "<circle clip-path=\"url(#clip182)\" cx=\"1089.33\" cy=\"289.532\" r=\"7\" fill=\"#ffffe0\" fill-rule=\"evenodd\" fill-opacity=\"0.9\" stroke=\"#000000\" stroke-opacity=\"0.9\" stroke-width=\"3.2\"/>\n",
       "<circle clip-path=\"url(#clip182)\" cx=\"463.877\" cy=\"463.576\" r=\"7\" fill=\"#ffffe0\" fill-rule=\"evenodd\" fill-opacity=\"0.9\" stroke=\"#000000\" stroke-opacity=\"0.9\" stroke-width=\"3.2\"/>\n",
       "<circle clip-path=\"url(#clip182)\" cx=\"461.044\" cy=\"464.383\" r=\"7\" fill=\"#ffffe0\" fill-rule=\"evenodd\" fill-opacity=\"0.9\" stroke=\"#000000\" stroke-opacity=\"0.9\" stroke-width=\"3.2\"/>\n",
       "<circle clip-path=\"url(#clip182)\" cx=\"1078.13\" cy=\"293.243\" r=\"7\" fill=\"#ffffe0\" fill-rule=\"evenodd\" fill-opacity=\"0.9\" stroke=\"#000000\" stroke-opacity=\"0.9\" stroke-width=\"3.2\"/>\n",
       "<circle clip-path=\"url(#clip182)\" cx=\"455.894\" cy=\"466.991\" r=\"7\" fill=\"#ffffe0\" fill-rule=\"evenodd\" fill-opacity=\"0.9\" stroke=\"#000000\" stroke-opacity=\"0.9\" stroke-width=\"3.2\"/>\n",
       "<circle clip-path=\"url(#clip182)\" cx=\"462.782\" cy=\"465.369\" r=\"7\" fill=\"#ffffe0\" fill-rule=\"evenodd\" fill-opacity=\"0.9\" stroke=\"#000000\" stroke-opacity=\"0.9\" stroke-width=\"3.2\"/>\n",
       "<circle clip-path=\"url(#clip182)\" cx=\"1060.05\" cy=\"301.154\" r=\"7\" fill=\"#ffffe0\" fill-rule=\"evenodd\" fill-opacity=\"0.9\" stroke=\"#000000\" stroke-opacity=\"0.9\" stroke-width=\"3.2\"/>\n",
       "<circle clip-path=\"url(#clip182)\" cx=\"456.238\" cy=\"468.226\" r=\"7\" fill=\"#ffffe0\" fill-rule=\"evenodd\" fill-opacity=\"0.9\" stroke=\"#000000\" stroke-opacity=\"0.9\" stroke-width=\"3.2\"/>\n",
       "<circle clip-path=\"url(#clip182)\" cx=\"450.016\" cy=\"470.093\" r=\"7\" fill=\"#ffffe0\" fill-rule=\"evenodd\" fill-opacity=\"0.9\" stroke=\"#000000\" stroke-opacity=\"0.9\" stroke-width=\"3.2\"/>\n",
       "<circle clip-path=\"url(#clip182)\" cx=\"454.406\" cy=\"469.189\" r=\"7\" fill=\"#ffffe0\" fill-rule=\"evenodd\" fill-opacity=\"0.9\" stroke=\"#000000\" stroke-opacity=\"0.9\" stroke-width=\"3.2\"/>\n",
       "<circle clip-path=\"url(#clip182)\" cx=\"1095.43\" cy=\"292.742\" r=\"7\" fill=\"#ffffe0\" fill-rule=\"evenodd\" fill-opacity=\"0.9\" stroke=\"#000000\" stroke-opacity=\"0.9\" stroke-width=\"3.2\"/>\n",
       "<circle clip-path=\"url(#clip182)\" cx=\"1100.06\" cy=\"291.694\" r=\"7\" fill=\"#ffffe0\" fill-rule=\"evenodd\" fill-opacity=\"0.9\" stroke=\"#000000\" stroke-opacity=\"0.9\" stroke-width=\"3.2\"/>\n",
       "<circle clip-path=\"url(#clip182)\" cx=\"450.352\" cy=\"471.061\" r=\"7\" fill=\"#ffffe0\" fill-rule=\"evenodd\" fill-opacity=\"0.9\" stroke=\"#000000\" stroke-opacity=\"0.9\" stroke-width=\"3.2\"/>\n",
       "<circle clip-path=\"url(#clip182)\" cx=\"1120.49\" cy=\"287.368\" r=\"7\" fill=\"#ffffe0\" fill-rule=\"evenodd\" fill-opacity=\"0.9\" stroke=\"#000000\" stroke-opacity=\"0.9\" stroke-width=\"3.2\"/>\n",
       "<circle clip-path=\"url(#clip182)\" cx=\"1151.95\" cy=\"278.74\" r=\"7\" fill=\"#ffffe0\" fill-rule=\"evenodd\" fill-opacity=\"0.9\" stroke=\"#000000\" stroke-opacity=\"0.9\" stroke-width=\"3.2\"/>\n",
       "<circle clip-path=\"url(#clip182)\" cx=\"447.664\" cy=\"472.727\" r=\"7\" fill=\"#ffffe0\" fill-rule=\"evenodd\" fill-opacity=\"0.9\" stroke=\"#000000\" stroke-opacity=\"0.9\" stroke-width=\"3.2\"/>\n",
       "<circle clip-path=\"url(#clip182)\" cx=\"1162.48\" cy=\"276.578\" r=\"7\" fill=\"#ffffe0\" fill-rule=\"evenodd\" fill-opacity=\"0.9\" stroke=\"#000000\" stroke-opacity=\"0.9\" stroke-width=\"3.2\"/>\n",
       "<circle clip-path=\"url(#clip182)\" cx=\"447.16\" cy=\"473.217\" r=\"7\" fill=\"#ffffe0\" fill-rule=\"evenodd\" fill-opacity=\"0.9\" stroke=\"#000000\" stroke-opacity=\"0.9\" stroke-width=\"3.2\"/>\n",
       "<circle clip-path=\"url(#clip182)\" cx=\"441.122\" cy=\"475.351\" r=\"7\" fill=\"#ffffe0\" fill-rule=\"evenodd\" fill-opacity=\"0.9\" stroke=\"#000000\" stroke-opacity=\"0.9\" stroke-width=\"3.2\"/>\n",
       "<circle clip-path=\"url(#clip182)\" cx=\"446.34\" cy=\"474.235\" r=\"7\" fill=\"#ffffe0\" fill-rule=\"evenodd\" fill-opacity=\"0.9\" stroke=\"#000000\" stroke-opacity=\"0.9\" stroke-width=\"3.2\"/>\n",
       "<circle clip-path=\"url(#clip182)\" cx=\"1100.95\" cy=\"295.003\" r=\"7\" fill=\"#ffffe0\" fill-rule=\"evenodd\" fill-opacity=\"0.9\" stroke=\"#000000\" stroke-opacity=\"0.9\" stroke-width=\"3.2\"/>\n",
       "<circle clip-path=\"url(#clip182)\" cx=\"1179.75\" cy=\"273.993\" r=\"7\" fill=\"#ffffe0\" fill-rule=\"evenodd\" fill-opacity=\"0.9\" stroke=\"#000000\" stroke-opacity=\"0.9\" stroke-width=\"3.2\"/>\n",
       "<circle clip-path=\"url(#clip182)\" cx=\"440.95\" cy=\"476.782\" r=\"7\" fill=\"#ffffe0\" fill-rule=\"evenodd\" fill-opacity=\"0.9\" stroke=\"#000000\" stroke-opacity=\"0.9\" stroke-width=\"3.2\"/>\n",
       "<circle clip-path=\"url(#clip182)\" cx=\"1142.18\" cy=\"285.396\" r=\"7\" fill=\"#ffffe0\" fill-rule=\"evenodd\" fill-opacity=\"0.9\" stroke=\"#000000\" stroke-opacity=\"0.9\" stroke-width=\"3.2\"/>\n",
       "<circle clip-path=\"url(#clip182)\" cx=\"436.429\" cy=\"478.454\" r=\"7\" fill=\"#ffffe0\" fill-rule=\"evenodd\" fill-opacity=\"0.9\" stroke=\"#000000\" stroke-opacity=\"0.9\" stroke-width=\"3.2\"/>\n",
       "<circle clip-path=\"url(#clip182)\" cx=\"1172.27\" cy=\"277.838\" r=\"7\" fill=\"#ffffe0\" fill-rule=\"evenodd\" fill-opacity=\"0.9\" stroke=\"#000000\" stroke-opacity=\"0.9\" stroke-width=\"3.2\"/>\n",
       "<circle clip-path=\"url(#clip182)\" cx=\"1150.89\" cy=\"284.797\" r=\"7\" fill=\"#ffffe0\" fill-rule=\"evenodd\" fill-opacity=\"0.9\" stroke=\"#000000\" stroke-opacity=\"0.9\" stroke-width=\"3.2\"/>\n",
       "<circle clip-path=\"url(#clip182)\" cx=\"1202.81\" cy=\"271.292\" r=\"7\" fill=\"#ffffe0\" fill-rule=\"evenodd\" fill-opacity=\"0.9\" stroke=\"#000000\" stroke-opacity=\"0.9\" stroke-width=\"3.2\"/>\n",
       "<circle clip-path=\"url(#clip182)\" cx=\"438.962\" cy=\"479.125\" r=\"7\" fill=\"#ffffe0\" fill-rule=\"evenodd\" fill-opacity=\"0.9\" stroke=\"#000000\" stroke-opacity=\"0.9\" stroke-width=\"3.2\"/>\n",
       "<circle clip-path=\"url(#clip182)\" cx=\"1230.28\" cy=\"264.071\" r=\"7\" fill=\"#ffffe0\" fill-rule=\"evenodd\" fill-opacity=\"0.9\" stroke=\"#000000\" stroke-opacity=\"0.9\" stroke-width=\"3.2\"/>\n",
       "<circle clip-path=\"url(#clip182)\" cx=\"1209.43\" cy=\"269.831\" r=\"7\" fill=\"#ffffe0\" fill-rule=\"evenodd\" fill-opacity=\"0.9\" stroke=\"#000000\" stroke-opacity=\"0.9\" stroke-width=\"3.2\"/>\n",
       "<circle clip-path=\"url(#clip182)\" cx=\"433.522\" cy=\"481.259\" r=\"7\" fill=\"#ffffe0\" fill-rule=\"evenodd\" fill-opacity=\"0.9\" stroke=\"#000000\" stroke-opacity=\"0.9\" stroke-width=\"3.2\"/>\n",
       "<circle clip-path=\"url(#clip182)\" cx=\"438.64\" cy=\"479.92\" r=\"7\" fill=\"#ffffe0\" fill-rule=\"evenodd\" fill-opacity=\"0.9\" stroke=\"#000000\" stroke-opacity=\"0.9\" stroke-width=\"3.2\"/>\n",
       "<circle clip-path=\"url(#clip182)\" cx=\"1165.09\" cy=\"282.932\" r=\"7\" fill=\"#ffffe0\" fill-rule=\"evenodd\" fill-opacity=\"0.9\" stroke=\"#000000\" stroke-opacity=\"0.9\" stroke-width=\"3.2\"/>\n",
       "<circle clip-path=\"url(#clip182)\" cx=\"1177.18\" cy=\"280.101\" r=\"7\" fill=\"#ffffe0\" fill-rule=\"evenodd\" fill-opacity=\"0.9\" stroke=\"#000000\" stroke-opacity=\"0.9\" stroke-width=\"3.2\"/>\n",
       "<circle clip-path=\"url(#clip182)\" cx=\"432.415\" cy=\"482.47\" r=\"7\" fill=\"#ffffe0\" fill-rule=\"evenodd\" fill-opacity=\"0.9\" stroke=\"#000000\" stroke-opacity=\"0.9\" stroke-width=\"3.2\"/>\n",
       "<circle clip-path=\"url(#clip182)\" cx=\"1176.44\" cy=\"281.496\" r=\"7\" fill=\"#ffffe0\" fill-rule=\"evenodd\" fill-opacity=\"0.9\" stroke=\"#000000\" stroke-opacity=\"0.9\" stroke-width=\"3.2\"/>\n",
       "<circle clip-path=\"url(#clip182)\" cx=\"431.76\" cy=\"483.374\" r=\"7\" fill=\"#ffffe0\" fill-rule=\"evenodd\" fill-opacity=\"0.9\" stroke=\"#000000\" stroke-opacity=\"0.9\" stroke-width=\"3.2\"/>\n",
       "<circle clip-path=\"url(#clip182)\" cx=\"428.446\" cy=\"484.337\" r=\"7\" fill=\"#ffffe0\" fill-rule=\"evenodd\" fill-opacity=\"0.9\" stroke=\"#000000\" stroke-opacity=\"0.9\" stroke-width=\"3.2\"/>\n",
       "<circle clip-path=\"url(#clip182)\" cx=\"425.146\" cy=\"485.896\" r=\"7\" fill=\"#ffffe0\" fill-rule=\"evenodd\" fill-opacity=\"0.9\" stroke=\"#000000\" stroke-opacity=\"0.9\" stroke-width=\"3.2\"/>\n",
       "<circle clip-path=\"url(#clip182)\" cx=\"426.285\" cy=\"486.612\" r=\"7\" fill=\"#ffffe0\" fill-rule=\"evenodd\" fill-opacity=\"0.9\" stroke=\"#000000\" stroke-opacity=\"0.9\" stroke-width=\"3.2\"/>\n",
       "<circle clip-path=\"url(#clip182)\" cx=\"421.835\" cy=\"488.43\" r=\"7\" fill=\"#ffffe0\" fill-rule=\"evenodd\" fill-opacity=\"0.9\" stroke=\"#000000\" stroke-opacity=\"0.9\" stroke-width=\"3.2\"/>\n",
       "<circle clip-path=\"url(#clip182)\" cx=\"421.888\" cy=\"488.65\" r=\"7\" fill=\"#ffffe0\" fill-rule=\"evenodd\" fill-opacity=\"0.9\" stroke=\"#000000\" stroke-opacity=\"0.9\" stroke-width=\"3.2\"/>\n",
       "<circle clip-path=\"url(#clip182)\" cx=\"1252.99\" cy=\"266.233\" r=\"7\" fill=\"#ffffe0\" fill-rule=\"evenodd\" fill-opacity=\"0.9\" stroke=\"#000000\" stroke-opacity=\"0.9\" stroke-width=\"3.2\"/>\n",
       "<circle clip-path=\"url(#clip182)\" cx=\"1231.02\" cy=\"272.355\" r=\"7\" fill=\"#ffffe0\" fill-rule=\"evenodd\" fill-opacity=\"0.9\" stroke=\"#000000\" stroke-opacity=\"0.9\" stroke-width=\"3.2\"/>\n",
       "<circle clip-path=\"url(#clip182)\" cx=\"1222.14\" cy=\"275.373\" r=\"7\" fill=\"#ffffe0\" fill-rule=\"evenodd\" fill-opacity=\"0.9\" stroke=\"#000000\" stroke-opacity=\"0.9\" stroke-width=\"3.2\"/>\n",
       "<circle clip-path=\"url(#clip182)\" cx=\"420.332\" cy=\"490.314\" r=\"7\" fill=\"#ffffe0\" fill-rule=\"evenodd\" fill-opacity=\"0.9\" stroke=\"#000000\" stroke-opacity=\"0.9\" stroke-width=\"3.2\"/>\n",
       "<circle clip-path=\"url(#clip182)\" cx=\"417.653\" cy=\"491.633\" r=\"7\" fill=\"#ffffe0\" fill-rule=\"evenodd\" fill-opacity=\"0.9\" stroke=\"#000000\" stroke-opacity=\"0.9\" stroke-width=\"3.2\"/>\n",
       "<circle clip-path=\"url(#clip182)\" cx=\"1205.19\" cy=\"282.185\" r=\"7\" fill=\"#ffffe0\" fill-rule=\"evenodd\" fill-opacity=\"0.9\" stroke=\"#000000\" stroke-opacity=\"0.9\" stroke-width=\"3.2\"/>\n",
       "<circle clip-path=\"url(#clip182)\" cx=\"416.495\" cy=\"492.862\" r=\"7\" fill=\"#ffffe0\" fill-rule=\"evenodd\" fill-opacity=\"0.9\" stroke=\"#000000\" stroke-opacity=\"0.9\" stroke-width=\"3.2\"/>\n",
       "<circle clip-path=\"url(#clip182)\" cx=\"415.835\" cy=\"493.355\" r=\"7\" fill=\"#ffffe0\" fill-rule=\"evenodd\" fill-opacity=\"0.9\" stroke=\"#000000\" stroke-opacity=\"0.9\" stroke-width=\"3.2\"/>\n",
       "<circle clip-path=\"url(#clip182)\" cx=\"1300.75\" cy=\"258.887\" r=\"7\" fill=\"#ffffe0\" fill-rule=\"evenodd\" fill-opacity=\"0.9\" stroke=\"#000000\" stroke-opacity=\"0.9\" stroke-width=\"3.2\"/>\n",
       "<circle clip-path=\"url(#clip182)\" cx=\"1263.51\" cy=\"268.795\" r=\"7\" fill=\"#ffffe0\" fill-rule=\"evenodd\" fill-opacity=\"0.9\" stroke=\"#000000\" stroke-opacity=\"0.9\" stroke-width=\"3.2\"/>\n",
       "<circle clip-path=\"url(#clip182)\" cx=\"411.969\" cy=\"495.125\" r=\"7\" fill=\"#ffffe0\" fill-rule=\"evenodd\" fill-opacity=\"0.9\" stroke=\"#000000\" stroke-opacity=\"0.9\" stroke-width=\"3.2\"/>\n",
       "<circle clip-path=\"url(#clip182)\" cx=\"1198.33\" cy=\"286.589\" r=\"7\" fill=\"#ffffe0\" fill-rule=\"evenodd\" fill-opacity=\"0.9\" stroke=\"#000000\" stroke-opacity=\"0.9\" stroke-width=\"3.2\"/>\n",
       "<circle clip-path=\"url(#clip182)\" cx=\"412.528\" cy=\"495.389\" r=\"7\" fill=\"#ffffe0\" fill-rule=\"evenodd\" fill-opacity=\"0.9\" stroke=\"#000000\" stroke-opacity=\"0.9\" stroke-width=\"3.2\"/>\n",
       "<circle clip-path=\"url(#clip182)\" cx=\"1302.42\" cy=\"259.935\" r=\"7\" fill=\"#ffffe0\" fill-rule=\"evenodd\" fill-opacity=\"0.9\" stroke=\"#000000\" stroke-opacity=\"0.9\" stroke-width=\"3.2\"/>\n",
       "<circle clip-path=\"url(#clip182)\" cx=\"409.412\" cy=\"496.697\" r=\"7\" fill=\"#ffffe0\" fill-rule=\"evenodd\" fill-opacity=\"0.9\" stroke=\"#000000\" stroke-opacity=\"0.9\" stroke-width=\"3.2\"/>\n",
       "<circle clip-path=\"url(#clip182)\" cx=\"1294.48\" cy=\"263.289\" r=\"7\" fill=\"#ffffe0\" fill-rule=\"evenodd\" fill-opacity=\"0.9\" stroke=\"#000000\" stroke-opacity=\"0.9\" stroke-width=\"3.2\"/>\n",
       "<circle clip-path=\"url(#clip182)\" cx=\"409.262\" cy=\"497.733\" r=\"7\" fill=\"#ffffe0\" fill-rule=\"evenodd\" fill-opacity=\"0.9\" stroke=\"#000000\" stroke-opacity=\"0.9\" stroke-width=\"3.2\"/>\n",
       "<circle clip-path=\"url(#clip182)\" cx=\"406.382\" cy=\"499.202\" r=\"7\" fill=\"#ffffe0\" fill-rule=\"evenodd\" fill-opacity=\"0.9\" stroke=\"#000000\" stroke-opacity=\"0.9\" stroke-width=\"3.2\"/>\n",
       "<circle clip-path=\"url(#clip182)\" cx=\"1303.51\" cy=\"262.598\" r=\"7\" fill=\"#ffffe0\" fill-rule=\"evenodd\" fill-opacity=\"0.9\" stroke=\"#000000\" stroke-opacity=\"0.9\" stroke-width=\"3.2\"/>\n",
       "<circle clip-path=\"url(#clip182)\" cx=\"405.567\" cy=\"499.993\" r=\"7\" fill=\"#ffffe0\" fill-rule=\"evenodd\" fill-opacity=\"0.9\" stroke=\"#000000\" stroke-opacity=\"0.9\" stroke-width=\"3.2\"/>\n",
       "<circle clip-path=\"url(#clip182)\" cx=\"403.502\" cy=\"500.835\" r=\"7\" fill=\"#ffffe0\" fill-rule=\"evenodd\" fill-opacity=\"0.9\" stroke=\"#000000\" stroke-opacity=\"0.9\" stroke-width=\"3.2\"/>\n",
       "<circle clip-path=\"url(#clip182)\" cx=\"402.83\" cy=\"502.02\" r=\"7\" fill=\"#ffffe0\" fill-rule=\"evenodd\" fill-opacity=\"0.9\" stroke=\"#000000\" stroke-opacity=\"0.9\" stroke-width=\"3.2\"/>\n",
       "<circle clip-path=\"url(#clip182)\" cx=\"398.79\" cy=\"503.161\" r=\"7\" fill=\"#ffffe0\" fill-rule=\"evenodd\" fill-opacity=\"0.9\" stroke=\"#000000\" stroke-opacity=\"0.9\" stroke-width=\"3.2\"/>\n",
       "<circle clip-path=\"url(#clip182)\" cx=\"399.845\" cy=\"504.398\" r=\"7\" fill=\"#ffffe0\" fill-rule=\"evenodd\" fill-opacity=\"0.9\" stroke=\"#000000\" stroke-opacity=\"0.9\" stroke-width=\"3.2\"/>\n",
       "<circle clip-path=\"url(#clip182)\" cx=\"1305.64\" cy=\"267.725\" r=\"7\" fill=\"#ffffe0\" fill-rule=\"evenodd\" fill-opacity=\"0.9\" stroke=\"#000000\" stroke-opacity=\"0.9\" stroke-width=\"3.2\"/>\n",
       "<circle clip-path=\"url(#clip182)\" cx=\"396.787\" cy=\"505.687\" r=\"7\" fill=\"#ffffe0\" fill-rule=\"evenodd\" fill-opacity=\"0.9\" stroke=\"#000000\" stroke-opacity=\"0.9\" stroke-width=\"3.2\"/>\n",
       "<circle clip-path=\"url(#clip182)\" cx=\"396.726\" cy=\"506.576\" r=\"7\" fill=\"#ffffe0\" fill-rule=\"evenodd\" fill-opacity=\"0.9\" stroke=\"#000000\" stroke-opacity=\"0.9\" stroke-width=\"3.2\"/>\n",
       "<circle clip-path=\"url(#clip182)\" cx=\"395.576\" cy=\"507.524\" r=\"7\" fill=\"#ffffe0\" fill-rule=\"evenodd\" fill-opacity=\"0.9\" stroke=\"#000000\" stroke-opacity=\"0.9\" stroke-width=\"3.2\"/>\n",
       "<circle clip-path=\"url(#clip182)\" cx=\"391.684\" cy=\"509.141\" r=\"7\" fill=\"#ffffe0\" fill-rule=\"evenodd\" fill-opacity=\"0.9\" stroke=\"#000000\" stroke-opacity=\"0.9\" stroke-width=\"3.2\"/>\n",
       "<circle clip-path=\"url(#clip182)\" cx=\"391.406\" cy=\"510.242\" r=\"7\" fill=\"#ffffe0\" fill-rule=\"evenodd\" fill-opacity=\"0.9\" stroke=\"#000000\" stroke-opacity=\"0.9\" stroke-width=\"3.2\"/>\n",
       "<circle clip-path=\"url(#clip182)\" cx=\"388.604\" cy=\"511.187\" r=\"7\" fill=\"#ffffe0\" fill-rule=\"evenodd\" fill-opacity=\"0.9\" stroke=\"#000000\" stroke-opacity=\"0.9\" stroke-width=\"3.2\"/>\n",
       "<circle clip-path=\"url(#clip182)\" cx=\"386.102\" cy=\"512.285\" r=\"7\" fill=\"#ffffe0\" fill-rule=\"evenodd\" fill-opacity=\"0.9\" stroke=\"#000000\" stroke-opacity=\"0.9\" stroke-width=\"3.2\"/>\n",
       "<circle clip-path=\"url(#clip182)\" cx=\"387.026\" cy=\"513.16\" r=\"7\" fill=\"#ffffe0\" fill-rule=\"evenodd\" fill-opacity=\"0.9\" stroke=\"#000000\" stroke-opacity=\"0.9\" stroke-width=\"3.2\"/>\n",
       "<circle clip-path=\"url(#clip182)\" cx=\"382.165\" cy=\"514.9\" r=\"7\" fill=\"#ffffe0\" fill-rule=\"evenodd\" fill-opacity=\"0.9\" stroke=\"#000000\" stroke-opacity=\"0.9\" stroke-width=\"3.2\"/>\n",
       "<circle clip-path=\"url(#clip182)\" cx=\"382.857\" cy=\"515.869\" r=\"7\" fill=\"#ffffe0\" fill-rule=\"evenodd\" fill-opacity=\"0.9\" stroke=\"#000000\" stroke-opacity=\"0.9\" stroke-width=\"3.2\"/>\n",
       "<circle clip-path=\"url(#clip182)\" cx=\"382.97\" cy=\"516.496\" r=\"7\" fill=\"#ffffe0\" fill-rule=\"evenodd\" fill-opacity=\"0.9\" stroke=\"#000000\" stroke-opacity=\"0.9\" stroke-width=\"3.2\"/>\n",
       "<circle clip-path=\"url(#clip182)\" cx=\"1333.91\" cy=\"273.698\" r=\"7\" fill=\"#ffffe0\" fill-rule=\"evenodd\" fill-opacity=\"0.9\" stroke=\"#000000\" stroke-opacity=\"0.9\" stroke-width=\"3.2\"/>\n",
       "<circle clip-path=\"url(#clip182)\" cx=\"377.513\" cy=\"518.499\" r=\"7\" fill=\"#ffffe0\" fill-rule=\"evenodd\" fill-opacity=\"0.9\" stroke=\"#000000\" stroke-opacity=\"0.9\" stroke-width=\"3.2\"/>\n",
       "<circle clip-path=\"url(#clip182)\" cx=\"379.312\" cy=\"518.757\" r=\"7\" fill=\"#ffffe0\" fill-rule=\"evenodd\" fill-opacity=\"0.9\" stroke=\"#000000\" stroke-opacity=\"0.9\" stroke-width=\"3.2\"/>\n",
       "<circle clip-path=\"url(#clip182)\" cx=\"374.243\" cy=\"520.833\" r=\"7\" fill=\"#ffffe0\" fill-rule=\"evenodd\" fill-opacity=\"0.9\" stroke=\"#000000\" stroke-opacity=\"0.9\" stroke-width=\"3.2\"/>\n",
       "<circle clip-path=\"url(#clip182)\" cx=\"375.995\" cy=\"520.955\" r=\"7\" fill=\"#ffffe0\" fill-rule=\"evenodd\" fill-opacity=\"0.9\" stroke=\"#000000\" stroke-opacity=\"0.9\" stroke-width=\"3.2\"/>\n",
       "<circle clip-path=\"url(#clip182)\" cx=\"377.213\" cy=\"522.076\" r=\"7\" fill=\"#ffffe0\" fill-rule=\"evenodd\" fill-opacity=\"0.9\" stroke=\"#000000\" stroke-opacity=\"0.9\" stroke-width=\"3.2\"/>\n",
       "<circle clip-path=\"url(#clip182)\" cx=\"374.823\" cy=\"523.09\" r=\"7\" fill=\"#ffffe0\" fill-rule=\"evenodd\" fill-opacity=\"0.9\" stroke=\"#000000\" stroke-opacity=\"0.9\" stroke-width=\"3.2\"/>\n",
       "<circle clip-path=\"url(#clip182)\" cx=\"370.167\" cy=\"524.908\" r=\"7\" fill=\"#ffffe0\" fill-rule=\"evenodd\" fill-opacity=\"0.9\" stroke=\"#000000\" stroke-opacity=\"0.9\" stroke-width=\"3.2\"/>\n",
       "<circle clip-path=\"url(#clip182)\" cx=\"372.161\" cy=\"525.374\" r=\"7\" fill=\"#ffffe0\" fill-rule=\"evenodd\" fill-opacity=\"0.9\" stroke=\"#000000\" stroke-opacity=\"0.9\" stroke-width=\"3.2\"/>\n",
       "<circle clip-path=\"url(#clip182)\" cx=\"369.491\" cy=\"526.736\" r=\"7\" fill=\"#ffffe0\" fill-rule=\"evenodd\" fill-opacity=\"0.9\" stroke=\"#000000\" stroke-opacity=\"0.9\" stroke-width=\"3.2\"/>\n",
       "<circle clip-path=\"url(#clip182)\" cx=\"366.883\" cy=\"527.898\" r=\"7\" fill=\"#ffffe0\" fill-rule=\"evenodd\" fill-opacity=\"0.9\" stroke=\"#000000\" stroke-opacity=\"0.9\" stroke-width=\"3.2\"/>\n",
       "<circle clip-path=\"url(#clip182)\" cx=\"366.362\" cy=\"529.349\" r=\"7\" fill=\"#ffffe0\" fill-rule=\"evenodd\" fill-opacity=\"0.9\" stroke=\"#000000\" stroke-opacity=\"0.9\" stroke-width=\"3.2\"/>\n",
       "<circle clip-path=\"url(#clip182)\" cx=\"367.154\" cy=\"529.819\" r=\"7\" fill=\"#ffffe0\" fill-rule=\"evenodd\" fill-opacity=\"0.9\" stroke=\"#000000\" stroke-opacity=\"0.9\" stroke-width=\"3.2\"/>\n",
       "<circle clip-path=\"url(#clip182)\" cx=\"362.378\" cy=\"531.492\" r=\"7\" fill=\"#ffffe0\" fill-rule=\"evenodd\" fill-opacity=\"0.9\" stroke=\"#000000\" stroke-opacity=\"0.9\" stroke-width=\"3.2\"/>\n",
       "<circle clip-path=\"url(#clip182)\" cx=\"361.084\" cy=\"532.67\" r=\"7\" fill=\"#ffffe0\" fill-rule=\"evenodd\" fill-opacity=\"0.9\" stroke=\"#000000\" stroke-opacity=\"0.9\" stroke-width=\"3.2\"/>\n",
       "<circle clip-path=\"url(#clip182)\" cx=\"360.038\" cy=\"534.035\" r=\"7\" fill=\"#ffffe0\" fill-rule=\"evenodd\" fill-opacity=\"0.9\" stroke=\"#000000\" stroke-opacity=\"0.9\" stroke-width=\"3.2\"/>\n",
       "<circle clip-path=\"url(#clip182)\" cx=\"359.024\" cy=\"534.829\" r=\"7\" fill=\"#ffffe0\" fill-rule=\"evenodd\" fill-opacity=\"0.9\" stroke=\"#000000\" stroke-opacity=\"0.9\" stroke-width=\"3.2\"/>\n",
       "<circle clip-path=\"url(#clip182)\" cx=\"358.026\" cy=\"535.58\" r=\"7\" fill=\"#ffffe0\" fill-rule=\"evenodd\" fill-opacity=\"0.9\" stroke=\"#000000\" stroke-opacity=\"0.9\" stroke-width=\"3.2\"/>\n",
       "<circle clip-path=\"url(#clip182)\" cx=\"357.696\" cy=\"536.616\" r=\"7\" fill=\"#ffffe0\" fill-rule=\"evenodd\" fill-opacity=\"0.9\" stroke=\"#000000\" stroke-opacity=\"0.9\" stroke-width=\"3.2\"/>\n",
       "<circle clip-path=\"url(#clip182)\" cx=\"356.071\" cy=\"537.652\" r=\"7\" fill=\"#ffffe0\" fill-rule=\"evenodd\" fill-opacity=\"0.9\" stroke=\"#000000\" stroke-opacity=\"0.9\" stroke-width=\"3.2\"/>\n",
       "<circle clip-path=\"url(#clip182)\" cx=\"354.63\" cy=\"539.114\" r=\"7\" fill=\"#ffffe0\" fill-rule=\"evenodd\" fill-opacity=\"0.9\" stroke=\"#000000\" stroke-opacity=\"0.9\" stroke-width=\"3.2\"/>\n",
       "<circle clip-path=\"url(#clip182)\" cx=\"354.395\" cy=\"539.852\" r=\"7\" fill=\"#ffffe0\" fill-rule=\"evenodd\" fill-opacity=\"0.9\" stroke=\"#000000\" stroke-opacity=\"0.9\" stroke-width=\"3.2\"/>\n",
       "<circle clip-path=\"url(#clip182)\" cx=\"353.735\" cy=\"541.138\" r=\"7\" fill=\"#ffffe0\" fill-rule=\"evenodd\" fill-opacity=\"0.9\" stroke=\"#000000\" stroke-opacity=\"0.9\" stroke-width=\"3.2\"/>\n",
       "<circle clip-path=\"url(#clip182)\" cx=\"352.242\" cy=\"542.181\" r=\"7\" fill=\"#ffffe0\" fill-rule=\"evenodd\" fill-opacity=\"0.9\" stroke=\"#000000\" stroke-opacity=\"0.9\" stroke-width=\"3.2\"/>\n",
       "<circle clip-path=\"url(#clip182)\" cx=\"349.205\" cy=\"543.272\" r=\"7\" fill=\"#ffffe0\" fill-rule=\"evenodd\" fill-opacity=\"0.9\" stroke=\"#000000\" stroke-opacity=\"0.9\" stroke-width=\"3.2\"/>\n",
       "<circle clip-path=\"url(#clip182)\" cx=\"350.951\" cy=\"544.271\" r=\"7\" fill=\"#ffffe0\" fill-rule=\"evenodd\" fill-opacity=\"0.9\" stroke=\"#000000\" stroke-opacity=\"0.9\" stroke-width=\"3.2\"/>\n",
       "<circle clip-path=\"url(#clip182)\" cx=\"349.001\" cy=\"545.606\" r=\"7\" fill=\"#ffffe0\" fill-rule=\"evenodd\" fill-opacity=\"0.9\" stroke=\"#000000\" stroke-opacity=\"0.9\" stroke-width=\"3.2\"/>\n",
       "<circle clip-path=\"url(#clip182)\" cx=\"347.013\" cy=\"546.83\" r=\"7\" fill=\"#ffffe0\" fill-rule=\"evenodd\" fill-opacity=\"0.9\" stroke=\"#000000\" stroke-opacity=\"0.9\" stroke-width=\"3.2\"/>\n",
       "<circle clip-path=\"url(#clip182)\" cx=\"348.374\" cy=\"547.727\" r=\"7\" fill=\"#ffffe0\" fill-rule=\"evenodd\" fill-opacity=\"0.9\" stroke=\"#000000\" stroke-opacity=\"0.9\" stroke-width=\"3.2\"/>\n",
       "<circle clip-path=\"url(#clip182)\" cx=\"343.618\" cy=\"549.241\" r=\"7\" fill=\"#ffffe0\" fill-rule=\"evenodd\" fill-opacity=\"0.9\" stroke=\"#000000\" stroke-opacity=\"0.9\" stroke-width=\"3.2\"/>\n",
       "<circle clip-path=\"url(#clip182)\" cx=\"342.811\" cy=\"550.031\" r=\"7\" fill=\"#ffffe0\" fill-rule=\"evenodd\" fill-opacity=\"0.9\" stroke=\"#000000\" stroke-opacity=\"0.9\" stroke-width=\"3.2\"/>\n",
       "<circle clip-path=\"url(#clip182)\" cx=\"342.494\" cy=\"551.367\" r=\"7\" fill=\"#ffffe0\" fill-rule=\"evenodd\" fill-opacity=\"0.9\" stroke=\"#000000\" stroke-opacity=\"0.9\" stroke-width=\"3.2\"/>\n",
       "<circle clip-path=\"url(#clip182)\" cx=\"342.923\" cy=\"552.089\" r=\"7\" fill=\"#ffffe0\" fill-rule=\"evenodd\" fill-opacity=\"0.9\" stroke=\"#000000\" stroke-opacity=\"0.9\" stroke-width=\"3.2\"/>\n",
       "<circle clip-path=\"url(#clip182)\" cx=\"341.964\" cy=\"553.421\" r=\"7\" fill=\"#ffffe0\" fill-rule=\"evenodd\" fill-opacity=\"0.9\" stroke=\"#000000\" stroke-opacity=\"0.9\" stroke-width=\"3.2\"/>\n",
       "<circle clip-path=\"url(#clip182)\" cx=\"339.043\" cy=\"554.449\" r=\"7\" fill=\"#ffffe0\" fill-rule=\"evenodd\" fill-opacity=\"0.9\" stroke=\"#000000\" stroke-opacity=\"0.9\" stroke-width=\"3.2\"/>\n",
       "<circle clip-path=\"url(#clip182)\" cx=\"339.806\" cy=\"555.496\" r=\"7\" fill=\"#ffffe0\" fill-rule=\"evenodd\" fill-opacity=\"0.9\" stroke=\"#000000\" stroke-opacity=\"0.9\" stroke-width=\"3.2\"/>\n",
       "<circle clip-path=\"url(#clip182)\" cx=\"336.545\" cy=\"556.889\" r=\"7\" fill=\"#ffffe0\" fill-rule=\"evenodd\" fill-opacity=\"0.9\" stroke=\"#000000\" stroke-opacity=\"0.9\" stroke-width=\"3.2\"/>\n",
       "<circle clip-path=\"url(#clip182)\" cx=\"338.178\" cy=\"557.748\" r=\"7\" fill=\"#ffffe0\" fill-rule=\"evenodd\" fill-opacity=\"0.9\" stroke=\"#000000\" stroke-opacity=\"0.9\" stroke-width=\"3.2\"/>\n",
       "<circle clip-path=\"url(#clip182)\" cx=\"336.001\" cy=\"559.001\" r=\"7\" fill=\"#ffffe0\" fill-rule=\"evenodd\" fill-opacity=\"0.9\" stroke=\"#000000\" stroke-opacity=\"0.9\" stroke-width=\"3.2\"/>\n",
       "<circle clip-path=\"url(#clip182)\" cx=\"334.274\" cy=\"559.991\" r=\"7\" fill=\"#ffffe0\" fill-rule=\"evenodd\" fill-opacity=\"0.9\" stroke=\"#000000\" stroke-opacity=\"0.9\" stroke-width=\"3.2\"/>\n",
       "<circle clip-path=\"url(#clip182)\" cx=\"333.696\" cy=\"561.061\" r=\"7\" fill=\"#ffffe0\" fill-rule=\"evenodd\" fill-opacity=\"0.9\" stroke=\"#000000\" stroke-opacity=\"0.9\" stroke-width=\"3.2\"/>\n",
       "<circle clip-path=\"url(#clip182)\" cx=\"332.77\" cy=\"562.234\" r=\"7\" fill=\"#ffffe0\" fill-rule=\"evenodd\" fill-opacity=\"0.9\" stroke=\"#000000\" stroke-opacity=\"0.9\" stroke-width=\"3.2\"/>\n",
       "<circle clip-path=\"url(#clip182)\" cx=\"332.809\" cy=\"563.176\" r=\"7\" fill=\"#ffffe0\" fill-rule=\"evenodd\" fill-opacity=\"0.9\" stroke=\"#000000\" stroke-opacity=\"0.9\" stroke-width=\"3.2\"/>\n",
       "<circle clip-path=\"url(#clip182)\" cx=\"331.996\" cy=\"564.841\" r=\"7\" fill=\"#ffffe0\" fill-rule=\"evenodd\" fill-opacity=\"0.9\" stroke=\"#000000\" stroke-opacity=\"0.9\" stroke-width=\"3.2\"/>\n",
       "<circle clip-path=\"url(#clip182)\" cx=\"330.302\" cy=\"565.359\" r=\"7\" fill=\"#ffffe0\" fill-rule=\"evenodd\" fill-opacity=\"0.9\" stroke=\"#000000\" stroke-opacity=\"0.9\" stroke-width=\"3.2\"/>\n",
       "<circle clip-path=\"url(#clip182)\" cx=\"329.976\" cy=\"566.443\" r=\"7\" fill=\"#ffffe0\" fill-rule=\"evenodd\" fill-opacity=\"0.9\" stroke=\"#000000\" stroke-opacity=\"0.9\" stroke-width=\"3.2\"/>\n",
       "<circle clip-path=\"url(#clip182)\" cx=\"328.969\" cy=\"568.044\" r=\"7\" fill=\"#ffffe0\" fill-rule=\"evenodd\" fill-opacity=\"0.9\" stroke=\"#000000\" stroke-opacity=\"0.9\" stroke-width=\"3.2\"/>\n",
       "<circle clip-path=\"url(#clip182)\" cx=\"328.036\" cy=\"568.823\" r=\"7\" fill=\"#ffffe0\" fill-rule=\"evenodd\" fill-opacity=\"0.9\" stroke=\"#000000\" stroke-opacity=\"0.9\" stroke-width=\"3.2\"/>\n",
       "<circle clip-path=\"url(#clip182)\" cx=\"326.912\" cy=\"569.871\" r=\"7\" fill=\"#ffffe0\" fill-rule=\"evenodd\" fill-opacity=\"0.9\" stroke=\"#000000\" stroke-opacity=\"0.9\" stroke-width=\"3.2\"/>\n",
       "<circle clip-path=\"url(#clip182)\" cx=\"326.546\" cy=\"571.321\" r=\"7\" fill=\"#ffffe0\" fill-rule=\"evenodd\" fill-opacity=\"0.9\" stroke=\"#000000\" stroke-opacity=\"0.9\" stroke-width=\"3.2\"/>\n",
       "<circle clip-path=\"url(#clip182)\" cx=\"325.027\" cy=\"572.387\" r=\"7\" fill=\"#ffffe0\" fill-rule=\"evenodd\" fill-opacity=\"0.9\" stroke=\"#000000\" stroke-opacity=\"0.9\" stroke-width=\"3.2\"/>\n",
       "<circle clip-path=\"url(#clip182)\" cx=\"323.199\" cy=\"573.276\" r=\"7\" fill=\"#ffffe0\" fill-rule=\"evenodd\" fill-opacity=\"0.9\" stroke=\"#000000\" stroke-opacity=\"0.9\" stroke-width=\"3.2\"/>\n",
       "<circle clip-path=\"url(#clip182)\" cx=\"322.859\" cy=\"574.756\" r=\"7\" fill=\"#ffffe0\" fill-rule=\"evenodd\" fill-opacity=\"0.9\" stroke=\"#000000\" stroke-opacity=\"0.9\" stroke-width=\"3.2\"/>\n",
       "<circle clip-path=\"url(#clip182)\" cx=\"323.368\" cy=\"575.414\" r=\"7\" fill=\"#ffffe0\" fill-rule=\"evenodd\" fill-opacity=\"0.9\" stroke=\"#000000\" stroke-opacity=\"0.9\" stroke-width=\"3.2\"/>\n",
       "<circle clip-path=\"url(#clip182)\" cx=\"323.946\" cy=\"576.511\" r=\"7\" fill=\"#ffffe0\" fill-rule=\"evenodd\" fill-opacity=\"0.9\" stroke=\"#000000\" stroke-opacity=\"0.9\" stroke-width=\"3.2\"/>\n",
       "<circle clip-path=\"url(#clip182)\" cx=\"320.598\" cy=\"577.738\" r=\"7\" fill=\"#ffffe0\" fill-rule=\"evenodd\" fill-opacity=\"0.9\" stroke=\"#000000\" stroke-opacity=\"0.9\" stroke-width=\"3.2\"/>\n",
       "<circle clip-path=\"url(#clip182)\" cx=\"321.216\" cy=\"578.828\" r=\"7\" fill=\"#ffffe0\" fill-rule=\"evenodd\" fill-opacity=\"0.9\" stroke=\"#000000\" stroke-opacity=\"0.9\" stroke-width=\"3.2\"/>\n",
       "<circle clip-path=\"url(#clip182)\" cx=\"318.636\" cy=\"580.251\" r=\"7\" fill=\"#ffffe0\" fill-rule=\"evenodd\" fill-opacity=\"0.9\" stroke=\"#000000\" stroke-opacity=\"0.9\" stroke-width=\"3.2\"/>\n",
       "<circle clip-path=\"url(#clip182)\" cx=\"320.696\" cy=\"580.925\" r=\"7\" fill=\"#ffffe0\" fill-rule=\"evenodd\" fill-opacity=\"0.9\" stroke=\"#000000\" stroke-opacity=\"0.9\" stroke-width=\"3.2\"/>\n",
       "<circle clip-path=\"url(#clip182)\" cx=\"318.918\" cy=\"582.026\" r=\"7\" fill=\"#ffffe0\" fill-rule=\"evenodd\" fill-opacity=\"0.9\" stroke=\"#000000\" stroke-opacity=\"0.9\" stroke-width=\"3.2\"/>\n",
       "<circle clip-path=\"url(#clip182)\" cx=\"320.037\" cy=\"583.144\" r=\"7\" fill=\"#ffffe0\" fill-rule=\"evenodd\" fill-opacity=\"0.9\" stroke=\"#000000\" stroke-opacity=\"0.9\" stroke-width=\"3.2\"/>\n",
       "<circle clip-path=\"url(#clip182)\" cx=\"319.085\" cy=\"584.297\" r=\"7\" fill=\"#ffffe0\" fill-rule=\"evenodd\" fill-opacity=\"0.9\" stroke=\"#000000\" stroke-opacity=\"0.9\" stroke-width=\"3.2\"/>\n",
       "<circle clip-path=\"url(#clip182)\" cx=\"317.398\" cy=\"585.446\" r=\"7\" fill=\"#ffffe0\" fill-rule=\"evenodd\" fill-opacity=\"0.9\" stroke=\"#000000\" stroke-opacity=\"0.9\" stroke-width=\"3.2\"/>\n",
       "<circle clip-path=\"url(#clip182)\" cx=\"316.905\" cy=\"586.693\" r=\"7\" fill=\"#ffffe0\" fill-rule=\"evenodd\" fill-opacity=\"0.9\" stroke=\"#000000\" stroke-opacity=\"0.9\" stroke-width=\"3.2\"/>\n",
       "<circle clip-path=\"url(#clip182)\" cx=\"316.85\" cy=\"587.936\" r=\"7\" fill=\"#ffffe0\" fill-rule=\"evenodd\" fill-opacity=\"0.9\" stroke=\"#000000\" stroke-opacity=\"0.9\" stroke-width=\"3.2\"/>\n",
       "<circle clip-path=\"url(#clip182)\" cx=\"315.379\" cy=\"588.696\" r=\"7\" fill=\"#ffffe0\" fill-rule=\"evenodd\" fill-opacity=\"0.9\" stroke=\"#000000\" stroke-opacity=\"0.9\" stroke-width=\"3.2\"/>\n",
       "<circle clip-path=\"url(#clip182)\" cx=\"314.388\" cy=\"589.8\" r=\"7\" fill=\"#ffffe0\" fill-rule=\"evenodd\" fill-opacity=\"0.9\" stroke=\"#000000\" stroke-opacity=\"0.9\" stroke-width=\"3.2\"/>\n",
       "<circle clip-path=\"url(#clip182)\" cx=\"315.737\" cy=\"590.945\" r=\"7\" fill=\"#ffffe0\" fill-rule=\"evenodd\" fill-opacity=\"0.9\" stroke=\"#000000\" stroke-opacity=\"0.9\" stroke-width=\"3.2\"/>\n",
       "<circle clip-path=\"url(#clip182)\" cx=\"312.449\" cy=\"592.315\" r=\"7\" fill=\"#ffffe0\" fill-rule=\"evenodd\" fill-opacity=\"0.9\" stroke=\"#000000\" stroke-opacity=\"0.9\" stroke-width=\"3.2\"/>\n",
       "<circle clip-path=\"url(#clip182)\" cx=\"313.371\" cy=\"593.176\" r=\"7\" fill=\"#ffffe0\" fill-rule=\"evenodd\" fill-opacity=\"0.9\" stroke=\"#000000\" stroke-opacity=\"0.9\" stroke-width=\"3.2\"/>\n",
       "<circle clip-path=\"url(#clip182)\" cx=\"313.072\" cy=\"594.302\" r=\"7\" fill=\"#ffffe0\" fill-rule=\"evenodd\" fill-opacity=\"0.9\" stroke=\"#000000\" stroke-opacity=\"0.9\" stroke-width=\"3.2\"/>\n",
       "<circle clip-path=\"url(#clip182)\" cx=\"312.198\" cy=\"595.355\" r=\"7\" fill=\"#ffffe0\" fill-rule=\"evenodd\" fill-opacity=\"0.9\" stroke=\"#000000\" stroke-opacity=\"0.9\" stroke-width=\"3.2\"/>\n",
       "<circle clip-path=\"url(#clip182)\" cx=\"311.565\" cy=\"596.47\" r=\"7\" fill=\"#ffffe0\" fill-rule=\"evenodd\" fill-opacity=\"0.9\" stroke=\"#000000\" stroke-opacity=\"0.9\" stroke-width=\"3.2\"/>\n",
       "<circle clip-path=\"url(#clip182)\" cx=\"310.81\" cy=\"597.731\" r=\"7\" fill=\"#ffffe0\" fill-rule=\"evenodd\" fill-opacity=\"0.9\" stroke=\"#000000\" stroke-opacity=\"0.9\" stroke-width=\"3.2\"/>\n",
       "<circle clip-path=\"url(#clip182)\" cx=\"311.756\" cy=\"598.721\" r=\"7\" fill=\"#ffffe0\" fill-rule=\"evenodd\" fill-opacity=\"0.9\" stroke=\"#000000\" stroke-opacity=\"0.9\" stroke-width=\"3.2\"/>\n",
       "<circle clip-path=\"url(#clip182)\" cx=\"310.664\" cy=\"599.917\" r=\"7\" fill=\"#ffffe0\" fill-rule=\"evenodd\" fill-opacity=\"0.9\" stroke=\"#000000\" stroke-opacity=\"0.9\" stroke-width=\"3.2\"/>\n",
       "<circle clip-path=\"url(#clip182)\" cx=\"309.405\" cy=\"600.908\" r=\"7\" fill=\"#ffffe0\" fill-rule=\"evenodd\" fill-opacity=\"0.9\" stroke=\"#000000\" stroke-opacity=\"0.9\" stroke-width=\"3.2\"/>\n",
       "<circle clip-path=\"url(#clip182)\" cx=\"308.302\" cy=\"602.183\" r=\"7\" fill=\"#ffffe0\" fill-rule=\"evenodd\" fill-opacity=\"0.9\" stroke=\"#000000\" stroke-opacity=\"0.9\" stroke-width=\"3.2\"/>\n",
       "<circle clip-path=\"url(#clip182)\" cx=\"309.217\" cy=\"603.132\" r=\"7\" fill=\"#ffffe0\" fill-rule=\"evenodd\" fill-opacity=\"0.9\" stroke=\"#000000\" stroke-opacity=\"0.9\" stroke-width=\"3.2\"/>\n",
       "<circle clip-path=\"url(#clip182)\" cx=\"309.529\" cy=\"604.27\" r=\"7\" fill=\"#ffffe0\" fill-rule=\"evenodd\" fill-opacity=\"0.9\" stroke=\"#000000\" stroke-opacity=\"0.9\" stroke-width=\"3.2\"/>\n",
       "<circle clip-path=\"url(#clip182)\" cx=\"306.33\" cy=\"605.483\" r=\"7\" fill=\"#ffffe0\" fill-rule=\"evenodd\" fill-opacity=\"0.9\" stroke=\"#000000\" stroke-opacity=\"0.9\" stroke-width=\"3.2\"/>\n",
       "<circle clip-path=\"url(#clip182)\" cx=\"306.948\" cy=\"606.52\" r=\"7\" fill=\"#ffffe0\" fill-rule=\"evenodd\" fill-opacity=\"0.9\" stroke=\"#000000\" stroke-opacity=\"0.9\" stroke-width=\"3.2\"/>\n",
       "<circle clip-path=\"url(#clip182)\" cx=\"306.225\" cy=\"607.789\" r=\"7\" fill=\"#ffffe0\" fill-rule=\"evenodd\" fill-opacity=\"0.9\" stroke=\"#000000\" stroke-opacity=\"0.9\" stroke-width=\"3.2\"/>\n",
       "<circle clip-path=\"url(#clip182)\" cx=\"306.073\" cy=\"609.143\" r=\"7\" fill=\"#ffffe0\" fill-rule=\"evenodd\" fill-opacity=\"0.9\" stroke=\"#000000\" stroke-opacity=\"0.9\" stroke-width=\"3.2\"/>\n",
       "<circle clip-path=\"url(#clip182)\" cx=\"307.787\" cy=\"609.932\" r=\"7\" fill=\"#ffffe0\" fill-rule=\"evenodd\" fill-opacity=\"0.9\" stroke=\"#000000\" stroke-opacity=\"0.9\" stroke-width=\"3.2\"/>\n",
       "<circle clip-path=\"url(#clip182)\" cx=\"305.691\" cy=\"610.999\" r=\"7\" fill=\"#ffffe0\" fill-rule=\"evenodd\" fill-opacity=\"0.9\" stroke=\"#000000\" stroke-opacity=\"0.9\" stroke-width=\"3.2\"/>\n",
       "<circle clip-path=\"url(#clip182)\" cx=\"305.014\" cy=\"612.057\" r=\"7\" fill=\"#ffffe0\" fill-rule=\"evenodd\" fill-opacity=\"0.9\" stroke=\"#000000\" stroke-opacity=\"0.9\" stroke-width=\"3.2\"/>\n",
       "<circle clip-path=\"url(#clip182)\" cx=\"307.287\" cy=\"613.245\" r=\"7\" fill=\"#ffffe0\" fill-rule=\"evenodd\" fill-opacity=\"0.9\" stroke=\"#000000\" stroke-opacity=\"0.9\" stroke-width=\"3.2\"/>\n",
       "<circle clip-path=\"url(#clip182)\" cx=\"304.246\" cy=\"614.751\" r=\"7\" fill=\"#ffffe0\" fill-rule=\"evenodd\" fill-opacity=\"0.9\" stroke=\"#000000\" stroke-opacity=\"0.9\" stroke-width=\"3.2\"/>\n",
       "<circle clip-path=\"url(#clip182)\" cx=\"305.652\" cy=\"615.437\" r=\"7\" fill=\"#ffffe0\" fill-rule=\"evenodd\" fill-opacity=\"0.9\" stroke=\"#000000\" stroke-opacity=\"0.9\" stroke-width=\"3.2\"/>\n",
       "<circle clip-path=\"url(#clip182)\" cx=\"303.537\" cy=\"616.578\" r=\"7\" fill=\"#ffffe0\" fill-rule=\"evenodd\" fill-opacity=\"0.9\" stroke=\"#000000\" stroke-opacity=\"0.9\" stroke-width=\"3.2\"/>\n",
       "<circle clip-path=\"url(#clip182)\" cx=\"303.653\" cy=\"617.63\" r=\"7\" fill=\"#ffffe0\" fill-rule=\"evenodd\" fill-opacity=\"0.9\" stroke=\"#000000\" stroke-opacity=\"0.9\" stroke-width=\"3.2\"/>\n",
       "<circle clip-path=\"url(#clip182)\" cx=\"305.07\" cy=\"618.721\" r=\"7\" fill=\"#ffffe0\" fill-rule=\"evenodd\" fill-opacity=\"0.9\" stroke=\"#000000\" stroke-opacity=\"0.9\" stroke-width=\"3.2\"/>\n",
       "<circle clip-path=\"url(#clip182)\" cx=\"303.777\" cy=\"620.067\" r=\"7\" fill=\"#ffffe0\" fill-rule=\"evenodd\" fill-opacity=\"0.9\" stroke=\"#000000\" stroke-opacity=\"0.9\" stroke-width=\"3.2\"/>\n",
       "<circle clip-path=\"url(#clip182)\" cx=\"302.969\" cy=\"621.057\" r=\"7\" fill=\"#ffffe0\" fill-rule=\"evenodd\" fill-opacity=\"0.9\" stroke=\"#000000\" stroke-opacity=\"0.9\" stroke-width=\"3.2\"/>\n",
       "<circle clip-path=\"url(#clip182)\" cx=\"302.528\" cy=\"622.136\" r=\"7\" fill=\"#ffffe0\" fill-rule=\"evenodd\" fill-opacity=\"0.9\" stroke=\"#000000\" stroke-opacity=\"0.9\" stroke-width=\"3.2\"/>\n",
       "<circle clip-path=\"url(#clip182)\" cx=\"303.38\" cy=\"623.2\" r=\"7\" fill=\"#ffffe0\" fill-rule=\"evenodd\" fill-opacity=\"0.9\" stroke=\"#000000\" stroke-opacity=\"0.9\" stroke-width=\"3.2\"/>\n",
       "<circle clip-path=\"url(#clip182)\" cx=\"303.074\" cy=\"624.486\" r=\"7\" fill=\"#ffffe0\" fill-rule=\"evenodd\" fill-opacity=\"0.9\" stroke=\"#000000\" stroke-opacity=\"0.9\" stroke-width=\"3.2\"/>\n",
       "<circle clip-path=\"url(#clip182)\" cx=\"302.623\" cy=\"625.617\" r=\"7\" fill=\"#ffffe0\" fill-rule=\"evenodd\" fill-opacity=\"0.9\" stroke=\"#000000\" stroke-opacity=\"0.9\" stroke-width=\"3.2\"/>\n",
       "<circle clip-path=\"url(#clip182)\" cx=\"302.74\" cy=\"626.649\" r=\"7\" fill=\"#ffffe0\" fill-rule=\"evenodd\" fill-opacity=\"0.9\" stroke=\"#000000\" stroke-opacity=\"0.9\" stroke-width=\"3.2\"/>\n",
       "<circle clip-path=\"url(#clip182)\" cx=\"301.958\" cy=\"627.71\" r=\"7\" fill=\"#ffffe0\" fill-rule=\"evenodd\" fill-opacity=\"0.9\" stroke=\"#000000\" stroke-opacity=\"0.9\" stroke-width=\"3.2\"/>\n",
       "<circle clip-path=\"url(#clip182)\" cx=\"304.197\" cy=\"628.717\" r=\"7\" fill=\"#ffffe0\" fill-rule=\"evenodd\" fill-opacity=\"0.9\" stroke=\"#000000\" stroke-opacity=\"0.9\" stroke-width=\"3.2\"/>\n",
       "<circle clip-path=\"url(#clip182)\" cx=\"303.506\" cy=\"629.852\" r=\"7\" fill=\"#ffffe0\" fill-rule=\"evenodd\" fill-opacity=\"0.9\" stroke=\"#000000\" stroke-opacity=\"0.9\" stroke-width=\"3.2\"/>\n",
       "<circle clip-path=\"url(#clip182)\" cx=\"303.156\" cy=\"631.106\" r=\"7\" fill=\"#ffffe0\" fill-rule=\"evenodd\" fill-opacity=\"0.9\" stroke=\"#000000\" stroke-opacity=\"0.9\" stroke-width=\"3.2\"/>\n",
       "<circle clip-path=\"url(#clip182)\" cx=\"302.395\" cy=\"632.269\" r=\"7\" fill=\"#ffffe0\" fill-rule=\"evenodd\" fill-opacity=\"0.9\" stroke=\"#000000\" stroke-opacity=\"0.9\" stroke-width=\"3.2\"/>\n",
       "<circle clip-path=\"url(#clip182)\" cx=\"302.556\" cy=\"633.168\" r=\"7\" fill=\"#ffffe0\" fill-rule=\"evenodd\" fill-opacity=\"0.9\" stroke=\"#000000\" stroke-opacity=\"0.9\" stroke-width=\"3.2\"/>\n",
       "<circle clip-path=\"url(#clip182)\" cx=\"302.133\" cy=\"634.46\" r=\"7\" fill=\"#ffffe0\" fill-rule=\"evenodd\" fill-opacity=\"0.9\" stroke=\"#000000\" stroke-opacity=\"0.9\" stroke-width=\"3.2\"/>\n",
       "<circle clip-path=\"url(#clip182)\" cx=\"302.533\" cy=\"635.592\" r=\"7\" fill=\"#ffffe0\" fill-rule=\"evenodd\" fill-opacity=\"0.9\" stroke=\"#000000\" stroke-opacity=\"0.9\" stroke-width=\"3.2\"/>\n",
       "<circle clip-path=\"url(#clip182)\" cx=\"303.999\" cy=\"636.687\" r=\"7\" fill=\"#ffffe0\" fill-rule=\"evenodd\" fill-opacity=\"0.9\" stroke=\"#000000\" stroke-opacity=\"0.9\" stroke-width=\"3.2\"/>\n",
       "<circle clip-path=\"url(#clip182)\" cx=\"302.723\" cy=\"637.823\" r=\"7\" fill=\"#ffffe0\" fill-rule=\"evenodd\" fill-opacity=\"0.9\" stroke=\"#000000\" stroke-opacity=\"0.9\" stroke-width=\"3.2\"/>\n",
       "<circle clip-path=\"url(#clip182)\" cx=\"301.869\" cy=\"638.719\" r=\"7\" fill=\"#ffffe0\" fill-rule=\"evenodd\" fill-opacity=\"0.9\" stroke=\"#000000\" stroke-opacity=\"0.9\" stroke-width=\"3.2\"/>\n",
       "<circle clip-path=\"url(#clip182)\" cx=\"302.37\" cy=\"640.143\" r=\"7\" fill=\"#ffffe0\" fill-rule=\"evenodd\" fill-opacity=\"0.9\" stroke=\"#000000\" stroke-opacity=\"0.9\" stroke-width=\"3.2\"/>\n",
       "<circle clip-path=\"url(#clip182)\" cx=\"304.003\" cy=\"641.052\" r=\"7\" fill=\"#ffffe0\" fill-rule=\"evenodd\" fill-opacity=\"0.9\" stroke=\"#000000\" stroke-opacity=\"0.9\" stroke-width=\"3.2\"/>\n",
       "<line clip-path=\"url(#clip182)\" x1=\"1723.81\" y1=\"160.256\" x2=\"1723.81\" y2=\"144.256\" style=\"stroke:#0000ff; stroke-width:3.2; stroke-opacity:1\"/>\n",
       "<line clip-path=\"url(#clip182)\" x1=\"1723.81\" y1=\"160.256\" x2=\"1707.81\" y2=\"160.256\" style=\"stroke:#0000ff; stroke-width:3.2; stroke-opacity:1\"/>\n",
       "<line clip-path=\"url(#clip182)\" x1=\"1723.81\" y1=\"160.256\" x2=\"1723.81\" y2=\"176.256\" style=\"stroke:#0000ff; stroke-width:3.2; stroke-opacity:1\"/>\n",
       "<line clip-path=\"url(#clip182)\" x1=\"1723.81\" y1=\"160.256\" x2=\"1739.81\" y2=\"160.256\" style=\"stroke:#0000ff; stroke-width:3.2; stroke-opacity:1\"/>\n",
       "<line clip-path=\"url(#clip182)\" x1=\"676.934\" y1=\"649.717\" x2=\"676.934\" y2=\"633.717\" style=\"stroke:#0000ff; stroke-width:3.2; stroke-opacity:1\"/>\n",
       "<line clip-path=\"url(#clip182)\" x1=\"676.934\" y1=\"649.717\" x2=\"660.934\" y2=\"649.717\" style=\"stroke:#0000ff; stroke-width:3.2; stroke-opacity:1\"/>\n",
       "<line clip-path=\"url(#clip182)\" x1=\"676.934\" y1=\"649.717\" x2=\"676.934\" y2=\"665.717\" style=\"stroke:#0000ff; stroke-width:3.2; stroke-opacity:1\"/>\n",
       "<line clip-path=\"url(#clip182)\" x1=\"676.934\" y1=\"649.717\" x2=\"692.934\" y2=\"649.717\" style=\"stroke:#0000ff; stroke-width:3.2; stroke-opacity:1\"/>\n",
       "<line clip-path=\"url(#clip182)\" x1=\"952.745\" y1=\"903.359\" x2=\"952.745\" y2=\"887.359\" style=\"stroke:#0000ff; stroke-width:3.2; stroke-opacity:1\"/>\n",
       "<line clip-path=\"url(#clip182)\" x1=\"952.745\" y1=\"903.359\" x2=\"936.745\" y2=\"903.359\" style=\"stroke:#0000ff; stroke-width:3.2; stroke-opacity:1\"/>\n",
       "<line clip-path=\"url(#clip182)\" x1=\"952.745\" y1=\"903.359\" x2=\"952.745\" y2=\"919.359\" style=\"stroke:#0000ff; stroke-width:3.2; stroke-opacity:1\"/>\n",
       "<line clip-path=\"url(#clip182)\" x1=\"952.745\" y1=\"903.359\" x2=\"968.745\" y2=\"903.359\" style=\"stroke:#0000ff; stroke-width:3.2; stroke-opacity:1\"/>\n",
       "<line clip-path=\"url(#clip182)\" x1=\"1096.5\" y1=\"401.341\" x2=\"1096.5\" y2=\"385.341\" style=\"stroke:#0000ff; stroke-width:3.2; stroke-opacity:1\"/>\n",
       "<line clip-path=\"url(#clip182)\" x1=\"1096.5\" y1=\"401.341\" x2=\"1080.5\" y2=\"401.341\" style=\"stroke:#0000ff; stroke-width:3.2; stroke-opacity:1\"/>\n",
       "<line clip-path=\"url(#clip182)\" x1=\"1096.5\" y1=\"401.341\" x2=\"1096.5\" y2=\"417.341\" style=\"stroke:#0000ff; stroke-width:3.2; stroke-opacity:1\"/>\n",
       "<line clip-path=\"url(#clip182)\" x1=\"1096.5\" y1=\"401.341\" x2=\"1112.5\" y2=\"401.341\" style=\"stroke:#0000ff; stroke-width:3.2; stroke-opacity:1\"/>\n",
       "<line clip-path=\"url(#clip182)\" x1=\"2293.02\" y1=\"1386.4\" x2=\"2293.02\" y2=\"1370.4\" style=\"stroke:#0000ff; stroke-width:3.2; stroke-opacity:1\"/>\n",
       "<line clip-path=\"url(#clip182)\" x1=\"2293.02\" y1=\"1386.4\" x2=\"2277.02\" y2=\"1386.4\" style=\"stroke:#0000ff; stroke-width:3.2; stroke-opacity:1\"/>\n",
       "<line clip-path=\"url(#clip182)\" x1=\"2293.02\" y1=\"1386.4\" x2=\"2293.02\" y2=\"1402.4\" style=\"stroke:#0000ff; stroke-width:3.2; stroke-opacity:1\"/>\n",
       "<line clip-path=\"url(#clip182)\" x1=\"2293.02\" y1=\"1386.4\" x2=\"2309.02\" y2=\"1386.4\" style=\"stroke:#0000ff; stroke-width:3.2; stroke-opacity:1\"/>\n",
       "<path clip-path=\"url(#clip180)\" d=\"M1674.24 119.935 L1667.9 137.134 L1680.61 137.134 L1674.24 119.935 M1671.6 115.328 L1676.9 115.328 L1690.08 149.888 L1685.21 149.888 L1682.07 141.023 L1666.49 141.023 L1663.34 149.888 L1658.41 149.888 L1671.6 115.328 Z\" fill=\"#000000\" fill-rule=\"evenodd\" fill-opacity=\"1\" /><path clip-path=\"url(#clip180)\" d=\"M1695.12 115.328 L1702.09 115.328 L1710.91 138.847 L1719.77 115.328 L1726.74 115.328 L1726.74 149.888 L1722.18 149.888 L1722.18 119.541 L1713.27 143.245 L1708.57 143.245 L1699.66 119.541 L1699.66 149.888 L1695.12 149.888 L1695.12 115.328 Z\" fill=\"#000000\" fill-rule=\"evenodd\" fill-opacity=\"1\" /><path clip-path=\"url(#clip180)\" d=\"M1747.58 119.935 L1741.23 137.134 L1753.94 137.134 L1747.58 119.935 M1744.94 115.328 L1750.24 115.328 L1763.41 149.888 L1758.55 149.888 L1755.4 141.023 L1739.82 141.023 L1736.67 149.888 L1731.74 149.888 L1744.94 115.328 Z\" fill=\"#000000\" fill-rule=\"evenodd\" fill-opacity=\"1\" /><path clip-path=\"url(#clip180)\" d=\"M1759.98 115.328 L1789.22 115.328 L1789.22 119.263 L1776.95 119.263 L1776.95 149.888 L1772.25 149.888 L1772.25 119.263 L1759.98 119.263 L1759.98 115.328 Z\" fill=\"#000000\" fill-rule=\"evenodd\" fill-opacity=\"1\" /><path clip-path=\"url(#clip180)\" d=\"M629.84 604.789 L651.691 604.789 L651.691 608.724 L634.516 608.724 L634.516 618.955 L650.974 618.955 L650.974 622.89 L634.516 622.89 L634.516 635.414 L652.108 635.414 L652.108 639.349 L629.84 639.349 L629.84 604.789 Z\" fill=\"#000000\" fill-rule=\"evenodd\" fill-opacity=\"1\" /><path clip-path=\"url(#clip180)\" d=\"M673.821 607.96 Q668.728 607.96 665.719 611.756 Q662.733 615.553 662.733 622.103 Q662.733 628.631 665.719 632.427 Q668.728 636.224 673.821 636.224 Q678.914 636.224 681.876 632.427 Q684.863 628.631 684.863 622.103 Q684.863 615.553 681.876 611.756 Q678.914 607.96 673.821 607.96 M680.372 638.724 L686.529 645.46 L680.881 645.46 L675.765 639.927 Q675.002 639.974 674.585 639.997 Q674.191 640.02 673.821 640.02 Q666.529 640.02 662.154 635.159 Q657.803 630.275 657.803 622.103 Q657.803 613.909 662.154 609.048 Q666.529 604.164 673.821 604.164 Q681.089 604.164 685.441 609.048 Q689.793 613.909 689.793 622.103 Q689.793 628.122 687.363 632.404 Q684.955 636.687 680.372 638.724 Z\" fill=\"#000000\" fill-rule=\"evenodd\" fill-opacity=\"1\" /><path clip-path=\"url(#clip180)\" d=\"M713.497 623.145 Q715.001 623.654 716.413 625.321 Q717.849 626.988 719.284 629.904 L724.029 639.349 L719.006 639.349 L714.585 630.483 Q712.872 627.011 711.251 625.877 Q709.654 624.742 706.876 624.742 L701.784 624.742 L701.784 639.349 L697.108 639.349 L697.108 604.789 L707.663 604.789 Q713.589 604.789 716.506 607.266 Q719.423 609.742 719.423 614.742 Q719.423 618.006 717.895 620.159 Q716.39 622.312 713.497 623.145 M701.784 608.631 L701.784 620.9 L707.663 620.9 Q711.043 620.9 712.756 619.349 Q714.492 617.775 714.492 614.742 Q714.492 611.71 712.756 610.182 Q711.043 608.631 707.663 608.631 L701.784 608.631 Z\" fill=\"#000000\" fill-rule=\"evenodd\" fill-opacity=\"1\" /><path clip-path=\"url(#clip180)\" d=\"M927.976 858.431 L947.837 858.431 L947.837 862.366 L932.652 862.366 L932.652 872.551 L946.356 872.551 L946.356 876.486 L932.652 876.486 L932.652 892.991 L927.976 892.991 L927.976 858.431 Z\" fill=\"#000000\" fill-rule=\"evenodd\" fill-opacity=\"1\" /><path clip-path=\"url(#clip180)\" d=\"M955.245 858.431 L977.096 858.431 L977.096 862.366 L959.921 862.366 L959.921 872.598 L976.379 872.598 L976.379 876.533 L959.921 876.533 L959.921 889.056 L977.513 889.056 L977.513 892.991 L955.245 892.991 L955.245 858.431 Z\" fill=\"#000000\" fill-rule=\"evenodd\" fill-opacity=\"1\" /><path clip-path=\"url(#clip180)\" d=\"M1050.8 356.413 L1055.48 356.413 L1055.48 370.579 L1072.47 370.579 L1072.47 356.413 L1077.15 356.413 L1077.15 390.973 L1072.47 390.973 L1072.47 374.514 L1055.48 374.514 L1055.48 390.973 L1050.8 390.973 L1050.8 356.413 Z\" fill=\"#000000\" fill-rule=\"evenodd\" fill-opacity=\"1\" /><path clip-path=\"url(#clip180)\" d=\"M1102.84 374.769 Q1104.34 375.278 1105.76 376.945 Q1107.19 378.612 1108.63 381.528 L1113.37 390.973 L1108.35 390.973 L1103.93 382.107 Q1102.22 378.635 1100.59 377.5 Q1099 376.366 1096.22 376.366 L1091.13 376.366 L1091.13 390.973 L1086.45 390.973 L1086.45 356.413 L1097.01 356.413 Q1102.93 356.413 1105.85 358.889 Q1108.77 361.366 1108.77 366.366 Q1108.77 369.63 1107.24 371.783 Q1105.73 373.936 1102.84 374.769 M1091.13 360.255 L1091.13 372.524 L1097.01 372.524 Q1100.39 372.524 1102.1 370.973 Q1103.84 369.399 1103.84 366.366 Q1103.84 363.334 1102.1 361.806 Q1100.39 360.255 1097.01 360.255 L1091.13 360.255 Z\" fill=\"#000000\" fill-rule=\"evenodd\" fill-opacity=\"1\" /><path clip-path=\"url(#clip180)\" d=\"M1140.11 357.547 L1140.11 362.107 Q1137.45 360.834 1135.09 360.209 Q1132.72 359.584 1130.53 359.584 Q1126.71 359.584 1124.62 361.065 Q1122.56 362.547 1122.56 365.278 Q1122.56 367.57 1123.93 368.751 Q1125.32 369.908 1129.16 370.626 L1131.98 371.204 Q1137.21 372.2 1139.69 374.723 Q1142.19 377.223 1142.19 381.436 Q1142.19 386.459 1138.81 389.051 Q1135.46 391.644 1128.95 391.644 Q1126.5 391.644 1123.72 391.088 Q1120.97 390.533 1118 389.445 L1118 384.63 Q1120.85 386.227 1123.58 387.037 Q1126.31 387.848 1128.95 387.848 Q1132.96 387.848 1135.13 386.274 Q1137.31 384.7 1137.31 381.783 Q1137.31 379.237 1135.73 377.801 Q1134.18 376.366 1130.62 375.649 L1127.77 375.093 Q1122.54 374.051 1120.2 371.829 Q1117.86 369.607 1117.86 365.649 Q1117.86 361.065 1121.08 358.426 Q1124.32 355.788 1129.99 355.788 Q1132.42 355.788 1134.95 356.227 Q1137.47 356.667 1140.11 357.547 Z\" fill=\"#000000\" fill-rule=\"evenodd\" fill-opacity=\"1\" /><path clip-path=\"url(#clip180)\" d=\"M2242.51 1341.47 L2249.48 1341.47 L2258.3 1364.99 L2267.16 1341.47 L2274.13 1341.47 L2274.13 1376.03 L2269.57 1376.03 L2269.57 1345.68 L2260.66 1369.38 L2255.96 1369.38 L2247.05 1345.68 L2247.05 1376.03 L2242.51 1376.03 L2242.51 1341.47 Z\" fill=\"#000000\" fill-rule=\"evenodd\" fill-opacity=\"1\" /><path clip-path=\"url(#clip180)\" d=\"M2297.44 1344.64 Q2292.35 1344.64 2289.34 1348.44 Q2286.35 1352.23 2286.35 1358.78 Q2286.35 1365.31 2289.34 1369.11 Q2292.35 1372.9 2297.44 1372.9 Q2302.54 1372.9 2305.5 1369.11 Q2308.48 1365.31 2308.48 1358.78 Q2308.48 1352.23 2305.5 1348.44 Q2302.54 1344.64 2297.44 1344.64 M2297.44 1340.84 Q2304.71 1340.84 2309.06 1345.73 Q2313.41 1350.59 2313.41 1358.78 Q2313.41 1366.95 2309.06 1371.84 Q2304.71 1376.7 2297.44 1376.7 Q2290.15 1376.7 2285.78 1371.84 Q2281.42 1366.98 2281.42 1358.78 Q2281.42 1350.59 2285.78 1345.73 Q2290.15 1340.84 2297.44 1340.84 Z\" fill=\"#000000\" fill-rule=\"evenodd\" fill-opacity=\"1\" /><path clip-path=\"url(#clip180)\" d=\"M2341.45 1342.6 L2341.45 1347.16 Q2338.78 1345.89 2336.42 1345.26 Q2334.06 1344.64 2331.86 1344.64 Q2328.04 1344.64 2325.96 1346.12 Q2323.9 1347.6 2323.9 1350.33 Q2323.9 1352.63 2325.27 1353.81 Q2326.66 1354.96 2330.5 1355.68 L2333.32 1356.26 Q2338.55 1357.25 2341.03 1359.78 Q2343.53 1362.28 2343.53 1366.49 Q2343.53 1371.51 2340.15 1374.11 Q2336.79 1376.7 2330.29 1376.7 Q2327.84 1376.7 2325.06 1376.14 Q2322.3 1375.59 2319.34 1374.5 L2319.34 1369.69 Q2322.19 1371.28 2324.92 1372.09 Q2327.65 1372.9 2330.29 1372.9 Q2334.29 1372.9 2336.47 1371.33 Q2338.65 1369.75 2338.65 1366.84 Q2338.65 1364.29 2337.07 1362.86 Q2335.52 1361.42 2331.96 1360.7 L2329.11 1360.15 Q2323.88 1359.11 2321.54 1356.88 Q2319.2 1354.66 2319.2 1350.7 Q2319.2 1346.12 2322.42 1343.48 Q2325.66 1340.84 2331.33 1340.84 Q2333.76 1340.84 2336.28 1341.28 Q2338.81 1341.72 2341.45 1342.6 Z\" fill=\"#000000\" fill-rule=\"evenodd\" fill-opacity=\"1\" /><path clip-path=\"url(#clip182)\" d=\"M658.286 417.029 L651.886 396.101 L630.574 401.029 L645.486 385.029 L630.574 369.029 L651.886 373.957 L658.286 353.029 L664.686 373.957 L685.998 369.029 L671.086 385.029 L685.998 401.029 L664.686 396.101 L658.286 417.029 Z\" fill=\"#ff0000\" fill-rule=\"evenodd\" fill-opacity=\"1\" stroke=\"#000000\" stroke-opacity=\"1\" stroke-width=\"3.2\"/>\n",
       "<path clip-path=\"url(#clip180)\" d=\"\n",
       "M1656.71 374.156 L2282.4 374.156 L2282.4 166.796 L1656.71 166.796  Z\n",
       "  \" fill=\"#ffffff\" fill-rule=\"evenodd\" fill-opacity=\"1\"/>\n",
       "<polyline clip-path=\"url(#clip180)\" style=\"stroke:#000000; stroke-linecap:butt; stroke-linejoin:round; stroke-width:4; stroke-opacity:1; fill:none\" points=\"\n",
       "  1656.71,374.156 2282.4,374.156 2282.4,166.796 1656.71,166.796 1656.71,374.156 \n",
       "  \"/>\n",
       "<circle clip-path=\"url(#clip180)\" cx=\"1752.71\" cy=\"218.636\" r=\"23\" fill=\"#ffffe0\" fill-rule=\"evenodd\" fill-opacity=\"0.9\" stroke=\"#000000\" stroke-opacity=\"0.9\" stroke-width=\"10.24\"/>\n",
       "<path clip-path=\"url(#clip180)\" d=\"M1848.71 201.356 L1870.56 201.356 L1870.56 205.291 L1853.39 205.291 L1853.39 215.522 L1869.84 215.522 L1869.84 219.457 L1853.39 219.457 L1853.39 231.981 L1870.98 231.981 L1870.98 235.916 L1848.71 235.916 L1848.71 201.356 Z\" fill=\"#000000\" fill-rule=\"evenodd\" fill-opacity=\"1\" /><path clip-path=\"url(#clip180)\" d=\"M1891.6 199.897 L1891.6 203.439 L1887.53 203.439 Q1885.24 203.439 1884.33 204.365 Q1883.45 205.291 1883.45 207.698 L1883.45 209.99 L1890.47 209.99 L1890.47 213.3 L1883.45 213.3 L1883.45 235.916 L1879.17 235.916 L1879.17 213.3 L1875.1 213.3 L1875.1 209.99 L1879.17 209.99 L1879.17 208.184 Q1879.17 203.856 1881.19 201.888 Q1883.2 199.897 1887.58 199.897 L1891.6 199.897 Z\" fill=\"#000000\" fill-rule=\"evenodd\" fill-opacity=\"1\" /><path clip-path=\"url(#clip180)\" d=\"M1908.29 199.897 L1908.29 203.439 L1904.22 203.439 Q1901.93 203.439 1901.02 204.365 Q1900.14 205.291 1900.14 207.698 L1900.14 209.99 L1907.16 209.99 L1907.16 213.3 L1900.14 213.3 L1900.14 235.916 L1895.86 235.916 L1895.86 213.3 L1891.79 213.3 L1891.79 209.99 L1895.86 209.99 L1895.86 208.184 Q1895.86 203.856 1897.88 201.888 Q1899.89 199.897 1904.26 199.897 L1908.29 199.897 Z\" fill=\"#000000\" fill-rule=\"evenodd\" fill-opacity=\"1\" /><path clip-path=\"url(#clip180)\" d=\"M1911.86 209.99 L1916.12 209.99 L1916.12 235.916 L1911.86 235.916 L1911.86 209.99 M1911.86 199.897 L1916.12 199.897 L1916.12 205.291 L1911.86 205.291 L1911.86 199.897 Z\" fill=\"#000000\" fill-rule=\"evenodd\" fill-opacity=\"1\" /><path clip-path=\"url(#clip180)\" d=\"M1943.69 210.985 L1943.69 214.967 Q1941.88 213.971 1940.05 213.485 Q1938.25 212.976 1936.39 212.976 Q1932.25 212.976 1929.96 215.615 Q1927.67 218.231 1927.67 222.976 Q1927.67 227.721 1929.96 230.36 Q1932.25 232.976 1936.39 232.976 Q1938.25 232.976 1940.05 232.49 Q1941.88 231.981 1943.69 230.985 L1943.69 234.92 Q1941.9 235.754 1939.98 236.17 Q1938.08 236.587 1935.93 236.587 Q1930.07 236.587 1926.63 232.906 Q1923.18 229.226 1923.18 222.976 Q1923.18 216.633 1926.65 212.999 Q1930.14 209.365 1936.21 209.365 Q1938.18 209.365 1940.05 209.782 Q1941.93 210.175 1943.69 210.985 Z\" fill=\"#000000\" fill-rule=\"evenodd\" fill-opacity=\"1\" /><path clip-path=\"url(#clip180)\" d=\"M1951.09 209.99 L1955.35 209.99 L1955.35 235.916 L1951.09 235.916 L1951.09 209.99 M1951.09 199.897 L1955.35 199.897 L1955.35 205.291 L1951.09 205.291 L1951.09 199.897 Z\" fill=\"#000000\" fill-rule=\"evenodd\" fill-opacity=\"1\" /><path clip-path=\"url(#clip180)\" d=\"M1986.44 221.888 L1986.44 223.971 L1966.86 223.971 Q1967.13 228.369 1969.5 230.684 Q1971.88 232.976 1976.12 232.976 Q1978.57 232.976 1980.86 232.374 Q1983.18 231.772 1985.44 230.569 L1985.44 234.596 Q1983.15 235.568 1980.75 236.078 Q1978.34 236.587 1975.86 236.587 Q1969.66 236.587 1966.02 232.976 Q1962.41 229.365 1962.41 223.207 Q1962.41 216.842 1965.84 213.115 Q1969.29 209.365 1975.12 209.365 Q1980.35 209.365 1983.38 212.745 Q1986.44 216.101 1986.44 221.888 M1982.18 220.638 Q1982.13 217.143 1980.21 215.059 Q1978.32 212.976 1975.17 212.976 Q1971.6 212.976 1969.45 214.99 Q1967.32 217.004 1967 220.661 L1982.18 220.638 Z\" fill=\"#000000\" fill-rule=\"evenodd\" fill-opacity=\"1\" /><path clip-path=\"url(#clip180)\" d=\"M2014.98 220.268 L2014.98 235.916 L2010.72 235.916 L2010.72 220.407 Q2010.72 216.726 2009.29 214.897 Q2007.85 213.069 2004.98 213.069 Q2001.53 213.069 1999.54 215.268 Q1997.55 217.467 1997.55 221.263 L1997.55 235.916 L1993.27 235.916 L1993.27 209.99 L1997.55 209.99 L1997.55 214.018 Q1999.08 211.68 2001.14 210.522 Q2003.22 209.365 2005.93 209.365 Q2010.4 209.365 2012.69 212.143 Q2014.98 214.897 2014.98 220.268 Z\" fill=\"#000000\" fill-rule=\"evenodd\" fill-opacity=\"1\" /><path clip-path=\"url(#clip180)\" d=\"M2027.69 202.629 L2027.69 209.99 L2036.46 209.99 L2036.46 213.3 L2027.69 213.3 L2027.69 227.374 Q2027.69 230.545 2028.55 231.448 Q2029.43 232.351 2032.09 232.351 L2036.46 232.351 L2036.46 235.916 L2032.09 235.916 Q2027.16 235.916 2025.28 234.087 Q2023.41 232.235 2023.41 227.374 L2023.41 213.3 L2020.28 213.3 L2020.28 209.99 L2023.41 209.99 L2023.41 202.629 L2027.69 202.629 Z\" fill=\"#000000\" fill-rule=\"evenodd\" fill-opacity=\"1\" /><path clip-path=\"url(#clip180)\" d=\"M2057.32 201.356 L2077.18 201.356 L2077.18 205.291 L2062 205.291 L2062 215.476 L2075.7 215.476 L2075.7 219.411 L2062 219.411 L2062 235.916 L2057.32 235.916 L2057.32 201.356 Z\" fill=\"#000000\" fill-rule=\"evenodd\" fill-opacity=\"1\" /><path clip-path=\"url(#clip180)\" d=\"M2095.98 213.971 Q2095.26 213.555 2094.4 213.37 Q2093.57 213.161 2092.55 213.161 Q2088.94 213.161 2087 215.522 Q2085.07 217.86 2085.07 222.258 L2085.07 235.916 L2080.79 235.916 L2080.79 209.99 L2085.07 209.99 L2085.07 214.018 Q2086.42 211.657 2088.57 210.522 Q2090.72 209.365 2093.8 209.365 Q2094.24 209.365 2094.77 209.434 Q2095.31 209.481 2095.95 209.596 L2095.98 213.971 Z\" fill=\"#000000\" fill-rule=\"evenodd\" fill-opacity=\"1\" /><path clip-path=\"url(#clip180)\" d=\"M2109.45 212.976 Q2106.02 212.976 2104.03 215.661 Q2102.04 218.323 2102.04 222.976 Q2102.04 227.629 2104.01 230.314 Q2106 232.976 2109.45 232.976 Q2112.85 232.976 2114.84 230.291 Q2116.83 227.606 2116.83 222.976 Q2116.83 218.37 2114.84 215.684 Q2112.85 212.976 2109.45 212.976 M2109.45 209.365 Q2115 209.365 2118.18 212.976 Q2121.35 216.587 2121.35 222.976 Q2121.35 229.342 2118.18 232.976 Q2115 236.587 2109.45 236.587 Q2103.87 236.587 2100.7 232.976 Q2097.55 229.342 2097.55 222.976 Q2097.55 216.587 2100.7 212.976 Q2103.87 209.365 2109.45 209.365 Z\" fill=\"#000000\" fill-rule=\"evenodd\" fill-opacity=\"1\" /><path clip-path=\"url(#clip180)\" d=\"M2149.96 220.268 L2149.96 235.916 L2145.7 235.916 L2145.7 220.407 Q2145.7 216.726 2144.26 214.897 Q2142.83 213.069 2139.96 213.069 Q2136.51 213.069 2134.52 215.268 Q2132.53 217.467 2132.53 221.263 L2132.53 235.916 L2128.25 235.916 L2128.25 209.99 L2132.53 209.99 L2132.53 214.018 Q2134.06 211.68 2136.12 210.522 Q2138.2 209.365 2140.91 209.365 Q2145.37 209.365 2147.67 212.143 Q2149.96 214.897 2149.96 220.268 Z\" fill=\"#000000\" fill-rule=\"evenodd\" fill-opacity=\"1\" /><path clip-path=\"url(#clip180)\" d=\"M2162.67 202.629 L2162.67 209.99 L2171.44 209.99 L2171.44 213.3 L2162.67 213.3 L2162.67 227.374 Q2162.67 230.545 2163.52 231.448 Q2164.4 232.351 2167.06 232.351 L2171.44 232.351 L2171.44 235.916 L2167.06 235.916 Q2162.13 235.916 2160.26 234.087 Q2158.38 232.235 2158.38 227.374 L2158.38 213.3 L2155.26 213.3 L2155.26 209.99 L2158.38 209.99 L2158.38 202.629 L2162.67 202.629 Z\" fill=\"#000000\" fill-rule=\"evenodd\" fill-opacity=\"1\" /><path clip-path=\"url(#clip180)\" d=\"M2177.04 209.99 L2181.3 209.99 L2181.3 235.916 L2177.04 235.916 L2177.04 209.99 M2177.04 199.897 L2181.3 199.897 L2181.3 205.291 L2177.04 205.291 L2177.04 199.897 Z\" fill=\"#000000\" fill-rule=\"evenodd\" fill-opacity=\"1\" /><path clip-path=\"url(#clip180)\" d=\"M2212.39 221.888 L2212.39 223.971 L2192.8 223.971 Q2193.08 228.369 2195.44 230.684 Q2197.83 232.976 2202.06 232.976 Q2204.52 232.976 2206.81 232.374 Q2209.12 231.772 2211.39 230.569 L2211.39 234.596 Q2209.1 235.568 2206.69 236.078 Q2204.29 236.587 2201.81 236.587 Q2195.61 236.587 2191.97 232.976 Q2188.36 229.365 2188.36 223.207 Q2188.36 216.842 2191.79 213.115 Q2195.24 209.365 2201.07 209.365 Q2206.3 209.365 2209.33 212.745 Q2212.39 216.101 2212.39 221.888 M2208.13 220.638 Q2208.08 217.143 2206.16 215.059 Q2204.26 212.976 2201.12 212.976 Q2197.55 212.976 2195.4 214.99 Q2193.27 217.004 2192.94 220.661 L2208.13 220.638 Z\" fill=\"#000000\" fill-rule=\"evenodd\" fill-opacity=\"1\" /><path clip-path=\"url(#clip180)\" d=\"M2234.4 213.971 Q2233.68 213.555 2232.83 213.37 Q2231.99 213.161 2230.98 213.161 Q2227.36 213.161 2225.42 215.522 Q2223.5 217.86 2223.5 222.258 L2223.5 235.916 L2219.22 235.916 L2219.22 209.99 L2223.5 209.99 L2223.5 214.018 Q2224.84 211.657 2226.99 210.522 Q2229.15 209.365 2232.23 209.365 Q2232.67 209.365 2233.2 209.434 Q2233.73 209.481 2234.38 209.596 L2234.4 213.971 Z\" fill=\"#000000\" fill-rule=\"evenodd\" fill-opacity=\"1\" /><line clip-path=\"url(#clip180)\" x1=\"1752.71\" y1=\"270.476\" x2=\"1752.71\" y2=\"244.876\" style=\"stroke:#0000ff; stroke-width:3.2; stroke-opacity:1\"/>\n",
       "<line clip-path=\"url(#clip180)\" x1=\"1752.71\" y1=\"270.476\" x2=\"1727.11\" y2=\"270.476\" style=\"stroke:#0000ff; stroke-width:3.2; stroke-opacity:1\"/>\n",
       "<line clip-path=\"url(#clip180)\" x1=\"1752.71\" y1=\"270.476\" x2=\"1752.71\" y2=\"296.076\" style=\"stroke:#0000ff; stroke-width:3.2; stroke-opacity:1\"/>\n",
       "<line clip-path=\"url(#clip180)\" x1=\"1752.71\" y1=\"270.476\" x2=\"1778.31\" y2=\"270.476\" style=\"stroke:#0000ff; stroke-width:3.2; stroke-opacity:1\"/>\n",
       "<path clip-path=\"url(#clip180)\" d=\"M1848.71 253.196 L1870.56 253.196 L1870.56 257.131 L1853.39 257.131 L1853.39 267.362 L1869.84 267.362 L1869.84 271.297 L1853.39 271.297 L1853.39 283.821 L1870.98 283.821 L1870.98 287.756 L1848.71 287.756 L1848.71 253.196 Z\" fill=\"#000000\" fill-rule=\"evenodd\" fill-opacity=\"1\" /><path clip-path=\"url(#clip180)\" d=\"M1881.02 274.816 Q1881.02 279.515 1882.95 282.2 Q1884.89 284.862 1888.27 284.862 Q1891.65 284.862 1893.59 282.2 Q1895.54 279.515 1895.54 274.816 Q1895.54 270.117 1893.59 267.455 Q1891.65 264.77 1888.27 264.77 Q1884.89 264.77 1882.95 267.455 Q1881.02 270.117 1881.02 274.816 M1895.54 283.867 Q1894.2 286.182 1892.14 287.316 Q1890.1 288.427 1887.23 288.427 Q1882.53 288.427 1879.57 284.677 Q1876.63 280.927 1876.63 274.816 Q1876.63 268.705 1879.57 264.955 Q1882.53 261.205 1887.23 261.205 Q1890.1 261.205 1892.14 262.339 Q1894.2 263.45 1895.54 265.765 L1895.54 261.83 L1899.8 261.83 L1899.8 297.617 L1895.54 297.617 L1895.54 283.867 Z\" fill=\"#000000\" fill-rule=\"evenodd\" fill-opacity=\"1\" /><path clip-path=\"url(#clip180)\" d=\"M1908.13 277.524 L1908.13 261.83 L1912.39 261.83 L1912.39 277.362 Q1912.39 281.043 1913.82 282.895 Q1915.26 284.723 1918.13 284.723 Q1921.58 284.723 1923.57 282.524 Q1925.58 280.325 1925.58 276.529 L1925.58 261.83 L1929.84 261.83 L1929.84 287.756 L1925.58 287.756 L1925.58 283.774 Q1924.03 286.135 1921.97 287.293 Q1919.94 288.427 1917.23 288.427 Q1912.76 288.427 1910.45 285.649 Q1908.13 282.871 1908.13 277.524 M1918.85 261.205 L1918.85 261.205 Z\" fill=\"#000000\" fill-rule=\"evenodd\" fill-opacity=\"1\" /><path clip-path=\"url(#clip180)\" d=\"M1938.62 261.83 L1942.88 261.83 L1942.88 287.756 L1938.62 287.756 L1938.62 261.83 M1938.62 251.737 L1942.88 251.737 L1942.88 257.131 L1938.62 257.131 L1938.62 251.737 Z\" fill=\"#000000\" fill-rule=\"evenodd\" fill-opacity=\"1\" /><path clip-path=\"url(#clip180)\" d=\"M1956 254.469 L1956 261.83 L1964.77 261.83 L1964.77 265.14 L1956 265.14 L1956 279.214 Q1956 282.385 1956.86 283.288 Q1957.74 284.191 1960.4 284.191 L1964.77 284.191 L1964.77 287.756 L1960.4 287.756 Q1955.47 287.756 1953.59 285.927 Q1951.72 284.075 1951.72 279.214 L1951.72 265.14 L1948.59 265.14 L1948.59 261.83 L1951.72 261.83 L1951.72 254.469 L1956 254.469 Z\" fill=\"#000000\" fill-rule=\"evenodd\" fill-opacity=\"1\" /><path clip-path=\"url(#clip180)\" d=\"M1970.38 261.83 L1974.63 261.83 L1974.63 287.756 L1970.38 287.756 L1970.38 261.83 M1970.38 251.737 L1974.63 251.737 L1974.63 257.131 L1970.38 257.131 L1970.38 251.737 Z\" fill=\"#000000\" fill-rule=\"evenodd\" fill-opacity=\"1\" /><path clip-path=\"url(#clip180)\" d=\"M2005.72 273.728 L2005.72 275.811 L1986.14 275.811 Q1986.42 280.209 1988.78 282.524 Q1991.16 284.816 1995.4 284.816 Q1997.85 284.816 2000.14 284.214 Q2002.46 283.612 2004.73 282.409 L2004.73 286.436 Q2002.44 287.408 2000.03 287.918 Q1997.62 288.427 1995.14 288.427 Q1988.94 288.427 1985.31 284.816 Q1981.69 281.205 1981.69 275.047 Q1981.69 268.682 1985.12 264.955 Q1988.57 261.205 1994.4 261.205 Q1999.63 261.205 2002.67 264.585 Q2005.72 267.941 2005.72 273.728 M2001.46 272.478 Q2001.42 268.983 1999.5 266.899 Q1997.6 264.816 1994.45 264.816 Q1990.88 264.816 1988.73 266.83 Q1986.6 268.844 1986.28 272.501 L2001.46 272.478 Z\" fill=\"#000000\" fill-rule=\"evenodd\" fill-opacity=\"1\" /><path clip-path=\"url(#clip180)\" d=\"M2029.24 262.594 L2029.24 266.622 Q2027.44 265.696 2025.49 265.233 Q2023.55 264.77 2021.46 264.77 Q2018.29 264.77 2016.69 265.742 Q2015.12 266.714 2015.12 268.659 Q2015.12 270.14 2016.25 270.997 Q2017.39 271.83 2020.82 272.594 L2022.27 272.918 Q2026.81 273.89 2028.71 275.672 Q2030.63 277.432 2030.63 280.603 Q2030.63 284.214 2027.76 286.321 Q2024.91 288.427 2019.91 288.427 Q2017.83 288.427 2015.56 288.01 Q2013.32 287.617 2010.82 286.807 L2010.82 282.409 Q2013.18 283.635 2015.47 284.26 Q2017.76 284.862 2020 284.862 Q2023.01 284.862 2024.63 283.844 Q2026.25 282.802 2026.25 280.927 Q2026.25 279.191 2025.07 278.265 Q2023.92 277.339 2019.96 276.483 L2018.48 276.135 Q2014.52 275.302 2012.76 273.589 Q2011 271.853 2011 268.844 Q2011 265.186 2013.59 263.196 Q2016.19 261.205 2020.95 261.205 Q2023.32 261.205 2025.4 261.552 Q2027.48 261.899 2029.24 262.594 Z\" fill=\"#000000\" fill-rule=\"evenodd\" fill-opacity=\"1\" /><path clip-path=\"url(#clip180)\" d=\"M1752.71 347.916 L1747.59 331.173 L1730.54 335.116 L1742.47 322.316 L1730.54 309.516 L1747.59 313.458 L1752.71 296.716 L1757.83 313.458 L1774.88 309.516 L1762.95 322.316 L1774.88 335.116 L1757.83 331.173 L1752.71 347.916 Z\" fill=\"#ff0000\" fill-rule=\"evenodd\" fill-opacity=\"1\" stroke=\"#000000\" stroke-opacity=\"1\" stroke-width=\"2.56\"/>\n",
       "<path clip-path=\"url(#clip180)\" d=\"M1848.71 305.036 L1855.68 305.036 L1864.5 328.554 L1873.36 305.036 L1880.33 305.036 L1880.33 339.596 L1875.77 339.596 L1875.77 309.249 L1866.86 332.952 L1862.16 332.952 L1853.25 309.249 L1853.25 339.596 L1848.71 339.596 L1848.71 305.036 Z\" fill=\"#000000\" fill-rule=\"evenodd\" fill-opacity=\"1\" /><path clip-path=\"url(#clip180)\" d=\"M1901.21 326.563 Q1896.05 326.563 1894.06 327.744 Q1892.07 328.924 1892.07 331.772 Q1892.07 334.04 1893.55 335.383 Q1895.05 336.702 1897.62 336.702 Q1901.16 336.702 1903.29 334.202 Q1905.45 331.679 1905.45 327.512 L1905.45 326.563 L1901.21 326.563 M1909.7 324.804 L1909.7 339.596 L1905.45 339.596 L1905.45 335.661 Q1903.99 338.022 1901.81 339.156 Q1899.64 340.267 1896.49 340.267 Q1892.51 340.267 1890.14 338.045 Q1887.81 335.799 1887.81 332.049 Q1887.81 327.674 1890.72 325.452 Q1893.66 323.23 1899.47 323.23 L1905.45 323.23 L1905.45 322.813 Q1905.45 319.874 1903.5 318.276 Q1901.58 316.656 1898.08 316.656 Q1895.86 316.656 1893.76 317.188 Q1891.65 317.721 1889.7 318.786 L1889.7 314.85 Q1892.04 313.948 1894.24 313.508 Q1896.44 313.045 1898.52 313.045 Q1904.15 313.045 1906.93 315.962 Q1909.7 318.878 1909.7 324.804 Z\" fill=\"#000000\" fill-rule=\"evenodd\" fill-opacity=\"1\" /><path clip-path=\"url(#clip180)\" d=\"M1933.5 317.651 Q1932.78 317.235 1931.93 317.05 Q1931.09 316.841 1930.07 316.841 Q1926.46 316.841 1924.52 319.202 Q1922.6 321.54 1922.6 325.938 L1922.6 339.596 L1918.32 339.596 L1918.32 313.67 L1922.6 313.67 L1922.6 317.698 Q1923.94 315.337 1926.09 314.202 Q1928.25 313.045 1931.32 313.045 Q1931.76 313.045 1932.3 313.114 Q1932.83 313.161 1933.48 313.276 L1933.5 317.651 Z\" fill=\"#000000\" fill-rule=\"evenodd\" fill-opacity=\"1\" /><path clip-path=\"url(#clip180)\" d=\"M1937.81 303.577 L1942.09 303.577 L1942.09 324.85 L1954.8 313.67 L1960.24 313.67 L1946.49 325.799 L1960.82 339.596 L1955.26 339.596 L1942.09 326.934 L1942.09 339.596 L1937.81 339.596 L1937.81 303.577 Z\" fill=\"#000000\" fill-rule=\"evenodd\" fill-opacity=\"1\" /><path clip-path=\"url(#clip180)\" d=\"M1985.91 325.568 L1985.91 327.651 L1966.32 327.651 Q1966.6 332.049 1968.96 334.364 Q1971.35 336.656 1975.58 336.656 Q1978.04 336.656 1980.33 336.054 Q1982.64 335.452 1984.91 334.249 L1984.91 338.276 Q1982.62 339.248 1980.21 339.758 Q1977.81 340.267 1975.33 340.267 Q1969.13 340.267 1965.49 336.656 Q1961.88 333.045 1961.88 326.887 Q1961.88 320.522 1965.31 316.795 Q1968.76 313.045 1974.59 313.045 Q1979.82 313.045 1982.85 316.425 Q1985.91 319.781 1985.91 325.568 M1981.65 324.318 Q1981.6 320.823 1979.68 318.739 Q1977.78 316.656 1974.63 316.656 Q1971.07 316.656 1968.92 318.67 Q1966.79 320.684 1966.46 324.341 L1981.65 324.318 Z\" fill=\"#000000\" fill-rule=\"evenodd\" fill-opacity=\"1\" /><path clip-path=\"url(#clip180)\" d=\"M1997.11 306.309 L1997.11 313.67 L2005.88 313.67 L2005.88 316.98 L1997.11 316.98 L1997.11 331.054 Q1997.11 334.225 1997.97 335.128 Q1998.85 336.031 2001.51 336.031 L2005.88 336.031 L2005.88 339.596 L2001.51 339.596 Q1996.58 339.596 1994.7 337.767 Q1992.83 335.915 1992.83 331.054 L1992.83 316.98 L1989.7 316.98 L1989.7 313.67 L1992.83 313.67 L1992.83 306.309 L1997.11 306.309 Z\" fill=\"#000000\" fill-rule=\"evenodd\" fill-opacity=\"1\" /><path clip-path=\"url(#clip180)\" d=\"M2031.42 308.878 L2031.42 321.864 L2037.3 321.864 Q2040.56 321.864 2042.34 320.175 Q2044.13 318.485 2044.13 315.36 Q2044.13 312.258 2042.34 310.568 Q2040.56 308.878 2037.3 308.878 L2031.42 308.878 M2026.74 305.036 L2037.3 305.036 Q2043.11 305.036 2046.07 307.675 Q2049.06 310.29 2049.06 315.36 Q2049.06 320.475 2046.07 323.091 Q2043.11 325.707 2037.3 325.707 L2031.42 325.707 L2031.42 339.596 L2026.74 339.596 L2026.74 305.036 Z\" fill=\"#000000\" fill-rule=\"evenodd\" fill-opacity=\"1\" /><path clip-path=\"url(#clip180)\" d=\"M2063.5 316.656 Q2060.07 316.656 2058.08 319.341 Q2056.09 322.003 2056.09 326.656 Q2056.09 331.309 2058.06 333.994 Q2060.05 336.656 2063.5 336.656 Q2066.9 336.656 2068.89 333.971 Q2070.88 331.286 2070.88 326.656 Q2070.88 322.05 2068.89 319.364 Q2066.9 316.656 2063.5 316.656 M2063.5 313.045 Q2069.06 313.045 2072.23 316.656 Q2075.4 320.267 2075.4 326.656 Q2075.4 333.022 2072.23 336.656 Q2069.06 340.267 2063.5 340.267 Q2057.92 340.267 2054.75 336.656 Q2051.6 333.022 2051.6 326.656 Q2051.6 320.267 2054.75 316.656 Q2057.92 313.045 2063.5 313.045 Z\" fill=\"#000000\" fill-rule=\"evenodd\" fill-opacity=\"1\" /><path clip-path=\"url(#clip180)\" d=\"M2097.48 317.651 Q2096.76 317.235 2095.91 317.05 Q2095.07 316.841 2094.06 316.841 Q2090.44 316.841 2088.5 319.202 Q2086.58 321.54 2086.58 325.938 L2086.58 339.596 L2082.3 339.596 L2082.3 313.67 L2086.58 313.67 L2086.58 317.698 Q2087.92 315.337 2090.07 314.202 Q2092.23 313.045 2095.31 313.045 Q2095.75 313.045 2096.28 313.114 Q2096.81 313.161 2097.46 313.276 L2097.48 317.651 Z\" fill=\"#000000\" fill-rule=\"evenodd\" fill-opacity=\"1\" /><path clip-path=\"url(#clip180)\" d=\"M2106.16 306.309 L2106.16 313.67 L2114.93 313.67 L2114.93 316.98 L2106.16 316.98 L2106.16 331.054 Q2106.16 334.225 2107.02 335.128 Q2107.9 336.031 2110.56 336.031 L2114.93 336.031 L2114.93 339.596 L2110.56 339.596 Q2105.63 339.596 2103.75 337.767 Q2101.88 335.915 2101.88 331.054 L2101.88 316.98 L2098.75 316.98 L2098.75 313.67 L2101.88 313.67 L2101.88 306.309 L2106.16 306.309 Z\" fill=\"#000000\" fill-rule=\"evenodd\" fill-opacity=\"1\" /><path clip-path=\"url(#clip180)\" d=\"M2133.66 303.577 L2133.66 307.119 L2129.59 307.119 Q2127.3 307.119 2126.39 308.045 Q2125.51 308.971 2125.51 311.378 L2125.51 313.67 L2132.53 313.67 L2132.53 316.98 L2125.51 316.98 L2125.51 339.596 L2121.23 339.596 L2121.23 316.98 L2117.16 316.98 L2117.16 313.67 L2121.23 313.67 L2121.23 311.864 Q2121.23 307.536 2123.25 305.568 Q2125.26 303.577 2129.63 303.577 L2133.66 303.577 Z\" fill=\"#000000\" fill-rule=\"evenodd\" fill-opacity=\"1\" /><path clip-path=\"url(#clip180)\" d=\"M2147.27 316.656 Q2143.85 316.656 2141.86 319.341 Q2139.87 322.003 2139.87 326.656 Q2139.87 331.309 2141.83 333.994 Q2143.82 336.656 2147.27 336.656 Q2150.68 336.656 2152.67 333.971 Q2154.66 331.286 2154.66 326.656 Q2154.66 322.05 2152.67 319.364 Q2150.68 316.656 2147.27 316.656 M2147.27 313.045 Q2152.83 313.045 2156 316.656 Q2159.17 320.267 2159.17 326.656 Q2159.17 333.022 2156 336.656 Q2152.83 340.267 2147.27 340.267 Q2141.69 340.267 2138.52 336.656 Q2135.37 333.022 2135.37 326.656 Q2135.37 320.267 2138.52 316.656 Q2141.69 313.045 2147.27 313.045 Z\" fill=\"#000000\" fill-rule=\"evenodd\" fill-opacity=\"1\" /><path clip-path=\"url(#clip180)\" d=\"M2166.23 303.577 L2170.49 303.577 L2170.49 339.596 L2166.23 339.596 L2166.23 303.577 Z\" fill=\"#000000\" fill-rule=\"evenodd\" fill-opacity=\"1\" /><path clip-path=\"url(#clip180)\" d=\"M2179.4 313.67 L2183.66 313.67 L2183.66 339.596 L2179.4 339.596 L2179.4 313.67 M2179.4 303.577 L2183.66 303.577 L2183.66 308.971 L2179.4 308.971 L2179.4 303.577 Z\" fill=\"#000000\" fill-rule=\"evenodd\" fill-opacity=\"1\" /><path clip-path=\"url(#clip180)\" d=\"M2202.62 316.656 Q2199.19 316.656 2197.2 319.341 Q2195.21 322.003 2195.21 326.656 Q2195.21 331.309 2197.18 333.994 Q2199.17 336.656 2202.62 336.656 Q2206.02 336.656 2208.01 333.971 Q2210 331.286 2210 326.656 Q2210 322.05 2208.01 319.364 Q2206.02 316.656 2202.62 316.656 M2202.62 313.045 Q2208.18 313.045 2211.35 316.656 Q2214.52 320.267 2214.52 326.656 Q2214.52 333.022 2211.35 336.656 Q2208.18 340.267 2202.62 340.267 Q2197.04 340.267 2193.87 336.656 Q2190.72 333.022 2190.72 326.656 Q2190.72 320.267 2193.87 316.656 Q2197.04 313.045 2202.62 313.045 Z\" fill=\"#000000\" fill-rule=\"evenodd\" fill-opacity=\"1\" /></svg>\n"
      ]
     },
     "execution_count": 23,
     "metadata": {},
     "output_type": "execute_result"
    }
   ],
   "source": [
    "# Plots the efficient frontier\n",
    "efficient_frontier(p_array)"
   ]
  },
  {
   "cell_type": "markdown",
   "id": "8e463a4d-72fd-4f3b-90b7-7b4b8130ca00",
   "metadata": {},
   "source": [
    "![](graph.png)"
   ]
  },
  {
   "cell_type": "code",
   "execution_count": 24,
   "id": "70a01af8",
   "metadata": {},
   "outputs": [
    {
     "data": {
      "text/html": [
       "<div class=\"data-frame\"><p>5 rows × 5 columns</p><table class=\"data-frame\"><thead><tr><th></th><th>Equities</th><th>Weights</th><th>Expected_Return</th><th>Expected_Risk</th><th>Sharp_Ratio</th></tr><tr><th></th><th title=\"String\">String</th><th title=\"Float64\">Float64</th><th title=\"Float64\">Float64</th><th title=\"Float64\">Float64</th><th title=\"Float64\">Float64</th></tr></thead><tbody><tr><th>1</th><td>AMAT</td><td>0.406</td><td>63.1757</td><td>5.88623</td><td>10.7328</td></tr><tr><th>2</th><td>EQR</td><td>0.311</td><td>19.1607</td><td>3.59994</td><td>5.32251</td></tr><tr><th>3</th><td>FE</td><td>0.006</td><td>-3.6482</td><td>4.20228</td><td>-0.868148</td></tr><tr><th>4</th><td>HRS</td><td>0.276</td><td>41.496</td><td>4.51623</td><td>9.18821</td></tr><tr><th>5</th><td>MOS</td><td>0.001</td><td>-47.0855</td><td>7.12933</td><td>-6.60448</td></tr></tbody></table></div>"
      ],
      "text/latex": [
       "\\begin{tabular}{r|ccccc}\n",
       "\t& Equities & Weights & Expected\\_Return & Expected\\_Risk & Sharp\\_Ratio\\\\\n",
       "\t\\hline\n",
       "\t& String & Float64 & Float64 & Float64 & Float64\\\\\n",
       "\t\\hline\n",
       "\t1 & AMAT & 0.406 & 63.1757 & 5.88623 & 10.7328 \\\\\n",
       "\t2 & EQR & 0.311 & 19.1607 & 3.59994 & 5.32251 \\\\\n",
       "\t3 & FE & 0.006 & -3.6482 & 4.20228 & -0.868148 \\\\\n",
       "\t4 & HRS & 0.276 & 41.496 & 4.51623 & 9.18821 \\\\\n",
       "\t5 & MOS & 0.001 & -47.0855 & 7.12933 & -6.60448 \\\\\n",
       "\\end{tabular}\n"
      ],
      "text/plain": [
       "\u001b[1m5×5 DataFrame\u001b[0m\n",
       "\u001b[1m Row \u001b[0m│\u001b[1m Equities \u001b[0m\u001b[1m Weights \u001b[0m\u001b[1m Expected_Return \u001b[0m\u001b[1m Expected_Risk \u001b[0m\u001b[1m Sharp_Ratio \u001b[0m\n",
       "\u001b[1m     \u001b[0m│\u001b[90m String   \u001b[0m\u001b[90m Float64 \u001b[0m\u001b[90m Float64         \u001b[0m\u001b[90m Float64       \u001b[0m\u001b[90m Float64     \u001b[0m\n",
       "─────┼────────────────────────────────────────────────────────────────\n",
       "   1 │ AMAT        0.406          63.1757        5.88623    10.7328\n",
       "   2 │ EQR         0.311          19.1607        3.59994     5.32251\n",
       "   3 │ FE          0.006          -3.6482        4.20228    -0.868148\n",
       "   4 │ HRS         0.276          41.496         4.51623     9.18821\n",
       "   5 │ MOS         0.001         -47.0855        7.12933    -6.60448"
      ]
     },
     "execution_count": 24,
     "metadata": {},
     "output_type": "execute_result"
    }
   ],
   "source": [
    "equity_performance(p_array)"
   ]
  },
  {
   "cell_type": "markdown",
   "id": "aac0cc26",
   "metadata": {},
   "source": [
    "The above results suggest that resources should be allocated to AMAT, EQR and HRS respectively, with nothing going to FE and MOS.  "
   ]
  },
  {
   "cell_type": "code",
   "execution_count": 25,
   "id": "f535cb53",
   "metadata": {},
   "outputs": [
    {
     "data": {
      "text/html": [
       "<div class=\"data-frame\"><p>1 rows × 4 columns</p><table class=\"data-frame\"><thead><tr><th></th><th>Market_Portfolio</th><th>Expected_Return</th><th>Expected_Risk</th><th>Sharp_Ratio</th></tr><tr><th></th><th title=\"String\">String</th><th title=\"Float64\">Float64</th><th title=\"Float64\">Float64</th><th title=\"Float64\">Float64</th></tr></thead><tbody><tr><th>1</th><td>Market Portfolio</td><td>42.9629</td><td>3.55921</td><td>12.0709</td></tr></tbody></table></div>"
      ],
      "text/latex": [
       "\\begin{tabular}{r|cccc}\n",
       "\t& Market\\_Portfolio & Expected\\_Return & Expected\\_Risk & Sharp\\_Ratio\\\\\n",
       "\t\\hline\n",
       "\t& String & Float64 & Float64 & Float64\\\\\n",
       "\t\\hline\n",
       "\t1 & Market Portfolio & 42.9629 & 3.55921 & 12.0709 \\\\\n",
       "\\end{tabular}\n"
      ],
      "text/plain": [
       "\u001b[1m1×4 DataFrame\u001b[0m\n",
       "\u001b[1m Row \u001b[0m│\u001b[1m Market_Portfolio \u001b[0m\u001b[1m Expected_Return \u001b[0m\u001b[1m Expected_Risk \u001b[0m\u001b[1m Sharp_Ratio \u001b[0m\n",
       "\u001b[1m     \u001b[0m│\u001b[90m String           \u001b[0m\u001b[90m Float64         \u001b[0m\u001b[90m Float64       \u001b[0m\u001b[90m Float64     \u001b[0m\n",
       "─────┼───────────────────────────────────────────────────────────────\n",
       "   1 │ Market Portfolio          42.9629        3.55921      12.0709"
      ]
     },
     "execution_count": 25,
     "metadata": {},
     "output_type": "execute_result"
    }
   ],
   "source": [
    "market_performance(p_array)"
   ]
  },
  {
   "cell_type": "markdown",
   "id": "ad5cb189",
   "metadata": {},
   "source": [
    "The optimal portfolio should be expected to have 40 to 50 % return."
   ]
  }
 ],
 "metadata": {
  "kernelspec": {
   "display_name": "Julia 1.7.1",
   "language": "julia",
   "name": "julia-1.7"
  },
  "language_info": {
   "file_extension": ".jl",
   "mimetype": "application/julia",
   "name": "julia",
   "version": "1.7.1"
  }
 },
 "nbformat": 4,
 "nbformat_minor": 5
}
