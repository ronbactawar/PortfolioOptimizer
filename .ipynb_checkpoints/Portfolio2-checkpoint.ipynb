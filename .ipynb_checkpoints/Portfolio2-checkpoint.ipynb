{
 "cells": [
  {
   "cell_type": "code",
   "execution_count": 1,
   "id": "76f8c8cf",
   "metadata": {},
   "outputs": [
    {
     "data": {
      "text/plain": [
       "120"
      ]
     },
     "execution_count": 1,
     "metadata": {},
     "output_type": "execute_result"
    }
   ],
   "source": [
    "using DataFrames\n",
    "using Statistics\n",
    "using LinearAlgebra\n",
    "using Dates\n",
    "using CSV\n",
    "using Plots\n",
    "using Combinatorics: combinations\n",
    "ENV[\"COLUMNS\"]=120"
   ]
  },
  {
   "cell_type": "code",
   "execution_count": 2,
   "id": "4f73abc5",
   "metadata": {},
   "outputs": [
    {
     "data": {
      "text/plain": [
       "select_stocks (generic function with 2 methods)"
      ]
     },
     "execution_count": 2,
     "metadata": {},
     "output_type": "execute_result"
    }
   ],
   "source": [
    "# Select an array of stocks, between given dates, at a given daily period\n",
    "function select_stocks(file_path::String, begin_date::Date, end_date::Date, period::Int64, stock_list::Vector{String})\n",
    "    data = CSV.read(file_path, DataFrame) |> DataFrame # read in long data\n",
    "    data = filter(row -> (begin_date <= row.date <= end_date), data) # filter for date range\n",
    "    data = filter(row -> row.stock ∈ stock_list, data) # filter for stocks in stock_list\n",
    "    wide_data = unstack(data, :date, :stock, :close) # Create wide table\n",
    "    sort!(data, [:date]) # Make sure data is sorted by date\n",
    "    index = 1:period:size(wide_data)[1] # Create an index based on period to subset the rows\n",
    "    wide_data = wide_data[index, :] # Filter the row based on the index\n",
    "end\n",
    "\n",
    "# If stock list is missing, then return whole stock dataframe in wideform\n",
    "function select_stocks(file_path::String, begin_date::Date, end_date::Date, period::Int64)\n",
    "    data = CSV.read(file_path, DataFrame) |> DataFrame # read in long data\n",
    "    stock_list = levels(data.stock)[1:17]\n",
    "    return select_stocks(file_path::String, begin_date::Date, end_date::Date, period::Int64, stock_list::Vector{String})\n",
    "end"
   ]
  },
  {
   "cell_type": "code",
   "execution_count": 3,
   "id": "d62be5fa",
   "metadata": {},
   "outputs": [
    {
     "data": {
      "text/plain": [
       "portfolio_returns_table (generic function with 2 methods)"
      ]
     },
     "execution_count": 3,
     "metadata": {},
     "output_type": "execute_result"
    }
   ],
   "source": [
    "# This a function that returns a set of portfolio returns for each stock\n",
    "# The returns are in the form of :percentage_change or log_difference\n",
    "# An unspecified third argument defaults to :percentage_change\n",
    "\n",
    "function portfolio_returns_table(input::DataFrame, date::Symbol, relative_difference::Symbol = :percentage_change)\n",
    "    sort!(input, [date])\n",
    "    input_data = select(input, Not([date]))\n",
    "    input_names = names(input_data)\n",
    "    dates = input[!, date]\n",
    "    L = size(input_data)[1]\n",
    "    input_matrix = Matrix(input_data)\n",
    "    input_matrix = float.(input_matrix)\n",
    "    \n",
    "    \n",
    "    if relative_difference == :percentage_change\n",
    "        #\n",
    "        ML = input_matrix[2:L, :]\n",
    "        MR = input_matrix[1:L-1, :]\n",
    "        MF = (ML .- MR) ./ ML\n",
    "        MF = MF * 100\n",
    "    elseif relative_difference == :log_difference\n",
    "        input_matrix = log.(input_matrix)\n",
    "        ML = input_matrix[2:L, :]\n",
    "        MR = input_matrix[1:L-1, :]\n",
    "        MF = ML .- MR\n",
    "        MF = MF * 100\n",
    "    else\n",
    "        error(\"Choose :percentage_change or :log_difference for the relative_difference paramater\")\n",
    "    end\n",
    "\n",
    "    mydates = dates[2:L, :] |> vec\n",
    "    \n",
    "    output = DataFrame()\n",
    "    output[!, :date] = mydates\n",
    "    \n",
    "    for i in eachindex(input_names)\n",
    "        output[!, input_names[i]] = MF[:, i]\n",
    "    end\n",
    "    \n",
    "    return output\n",
    "        \n",
    "end"
   ]
  },
  {
   "cell_type": "code",
   "execution_count": 4,
   "id": "1e1b728c",
   "metadata": {},
   "outputs": [],
   "source": [
    "# Define the Portfolio struct\n",
    "mutable struct Portfolio\n",
    "    equities::Vector{Symbol}\n",
    "    cov_matrix::Matrix{Float64}\n",
    "    means::Vector{Float64}\n",
    "    weights::Vector{Float64}\n",
    "    \n",
    "    # Constraint function\n",
    "    function Portfolio(equities, cov_matrix, means, weights)\n",
    "        if length(equities) == length(means) == length(weights) == size(cov_matrix)[1] == size(cov_matrix)[2]\n",
    "            return new(equities, cov_matrix, means, weights)\n",
    "        else\n",
    "            error(\"Check the dimension of inputs\")\n",
    "        end        \n",
    "    end    \n",
    "end"
   ]
  },
  {
   "cell_type": "code",
   "execution_count": 26,
   "id": "118d484c",
   "metadata": {},
   "outputs": [
    {
     "data": {
      "text/plain": [
       "portfolio (generic function with 1 method)"
      ]
     },
     "execution_count": 26,
     "metadata": {},
     "output_type": "execute_result"
    }
   ],
   "source": [
    "# Constructs a portfolio object from a portfolio return table \n",
    "# Random weights that add to 1 are assigned \n",
    "function portfolio(df_input::DataFrame, date::Symbol)\n",
    "    df = sort(df_input, [date])\n",
    "    df = select(df, Not([date]))\n",
    "    \n",
    "    # Get the data matrix\n",
    "    data = Matrix(df)\n",
    "    \n",
    "    # Produce the equities, cov_matrix, means and random weights that add to 1\n",
    "    equities = Symbol.(names(df))\n",
    "    cov_matrix = Statistics.cov(data)\n",
    "    means = sum(data, dims = 1) |> vec\n",
    "    unscaled_weights = rand(length(means))\n",
    "    weights = unscaled_weights ./ sum(unscaled_weights)\n",
    "    \n",
    "    # Returns a Portfolio object\n",
    "    return Portfolio(equities, cov_matrix, means, weights)\n",
    "end"
   ]
  },
  {
   "cell_type": "code",
   "execution_count": 6,
   "id": "d0bf5aef",
   "metadata": {},
   "outputs": [
    {
     "data": {
      "text/plain": [
       "expected_return (generic function with 1 method)"
      ]
     },
     "execution_count": 6,
     "metadata": {},
     "output_type": "execute_result"
    }
   ],
   "source": [
    "# Calculates the expected return of the portfolio\n",
    "function expected_return(p::Portfolio)\n",
    "    e_return = transpose(p.weights) * p.means\n",
    "    return e_return\n",
    "end"
   ]
  },
  {
   "cell_type": "code",
   "execution_count": 7,
   "id": "f08cb3b8",
   "metadata": {},
   "outputs": [
    {
     "data": {
      "text/plain": [
       "expected_risk (generic function with 1 method)"
      ]
     },
     "execution_count": 7,
     "metadata": {},
     "output_type": "execute_result"
    }
   ],
   "source": [
    "# Calculates the expected risk of the portfolio\n",
    "function expected_risk(p::Portfolio)\n",
    "    e_risk_squared = transpose(p.weights) * p.cov_matrix * p.weights\n",
    "    e_risk = sqrt(e_risk_squared)\n",
    "    return e_risk   \n",
    "end"
   ]
  },
  {
   "cell_type": "code",
   "execution_count": 8,
   "id": "9ef643b4",
   "metadata": {},
   "outputs": [
    {
     "data": {
      "text/plain": [
       "sharp_ratio (generic function with 1 method)"
      ]
     },
     "execution_count": 8,
     "metadata": {},
     "output_type": "execute_result"
    }
   ],
   "source": [
    "# Calculates the Sharp ratio of a portfolio\n",
    "function sharp_ratio(p::Portfolio)\n",
    "    s_ratio = expected_return(p) / expected_risk(p)\n",
    "    return s_ratio\n",
    "end"
   ]
  },
  {
   "cell_type": "code",
   "execution_count": 9,
   "id": "9294ccc1",
   "metadata": {},
   "outputs": [
    {
     "data": {
      "text/plain": [
       "variant (generic function with 1 method)"
      ]
     },
     "execution_count": 9,
     "metadata": {},
     "output_type": "execute_result"
    }
   ],
   "source": [
    "# Creates a variant of a portfolio, only with a different weights \n",
    "function variant(p::Portfolio)\n",
    "    unscaled_weights = rand(length(p.means))\n",
    "    new_weights = unscaled_weights ./ sum(unscaled_weights)\n",
    "    return Portfolio(p.equities, p.cov_matrix, p.means, new_weights)    \n",
    "end"
   ]
  },
  {
   "cell_type": "code",
   "execution_count": 10,
   "id": "b0cbeb9e",
   "metadata": {},
   "outputs": [
    {
     "data": {
      "text/plain": [
       "create_population (generic function with 1 method)"
      ]
     },
     "execution_count": 10,
     "metadata": {},
     "output_type": "execute_result"
    }
   ],
   "source": [
    "# Create a population of portfolios of size N\n",
    "function create_population(p::Portfolio, N::Int64)\n",
    "    population = fill(p, N)\n",
    "    population = variant.(population)\n",
    "    return population   \n",
    "end"
   ]
  },
  {
   "cell_type": "code",
   "execution_count": 11,
   "id": "381d154e",
   "metadata": {},
   "outputs": [
    {
     "data": {
      "text/plain": [
       "reproduce (generic function with 2 methods)"
      ]
     },
     "execution_count": 11,
     "metadata": {},
     "output_type": "execute_result"
    }
   ],
   "source": [
    "# Creates a child portfolio from 2 parent portfolios by averaging their weights\n",
    "function reproduce(p1::Portfolio, p2::Portfolio)\n",
    "    mixed_weights = 0.5 * (p1.weights .+ p2.weights)\n",
    "    return Portfolio(p1.equities, p1.cov_matrix, p1.means, mixed_weights)\n",
    "end\n",
    "\n",
    "# Offspring porfolios are created by mating all pairs in the population \n",
    "function reproduce(p_array::Vector{Portfolio})\n",
    "    idx = 1:length(p_array) |> collect # Create a full index for p_array\n",
    "    pair_set = combinations(idx, 2) |> collect # Generate all ways to select pairs out the full index\n",
    "    offspring = [reproduce(p_array[i[1]], p_array[i[2]]) for i in pair_set] # Create offspring portfolios\n",
    "    new_pop = cat(p_array, offspring, dims = 1) # Merge the parent and offspring portfolios into a single portfolio\n",
    "    return offspring\n",
    "end"
   ]
  },
  {
   "cell_type": "code",
   "execution_count": 12,
   "id": "06bfcd32",
   "metadata": {},
   "outputs": [
    {
     "data": {
      "text/plain": [
       "boundary (generic function with 1 method)"
      ]
     },
     "execution_count": 12,
     "metadata": {},
     "output_type": "execute_result"
    }
   ],
   "source": [
    "# Get the boundary of the efficient frontier\n",
    "function boundary(p_array::Vector{Portfolio})\n",
    "    # Create a base df for analysis\n",
    "    e_risk = expected_risk.(p_array)\n",
    "    e_return = expected_return.(p_array)\n",
    "    sr = sharp_ratio.(p_array)\n",
    "    df = DataFrame(Expected_Return = e_return, Expected_Risk = e_risk, Sharp_Ratio = sr, Portfolio = p_array)\n",
    "    # code here\n",
    "    df = filter(row -> row.Expected_Return > 0, df) # Filter for positive expected returns\n",
    "    df[:er_class] = round.(df.Expected_Return, digits = 1) # Create er_class variable for sorting/grouping\n",
    "    sort!(df, [:er_class, :Sharp_Ratio]) # Sort df by :er_class, :Sharp_Ratio\n",
    "    df[:id] = 1:size(df)[1] # create an :id variable as a key\n",
    "    ranked_data = select(df,[:id, :er_class, :Sharp_Ratio]) # Create dataframe with just :id, :er_class and Sharp_ratio\n",
    "    gb = groupby(ranked_data, [:er_class]) # Create groupby object over :er_class\n",
    "    id_df = combine(gb, :id => maximum) # Get maximum id over each er_class, :id_maximum is agg value\n",
    "    boundary = df[id_df.id_maximum, [:Portfolio, :Expected_Return, :Expected_Risk, :Sharp_Ratio]] # Original df is filtered for indexes near the boundry\n",
    "    # new code stats here\n",
    "    sort!(boundary, [:Expected_Risk, :Expected_Return]) # Sort boundary for and expected risk and expected return\n",
    "    er_fil = boundary.Expected_Return[1] # Get the expected return for minimum variance\n",
    "    boundary = filter(row -> row.Expected_Return > er_fil, boundary)\n",
    "    # new code ends here\n",
    "    sort!(boundary, [:Sharp_Ratio], rev=(true)) # Sort boundary for desc Sharp ratios\n",
    "    return boundary.Portfolio # Return sorted Portfolio vector, such that the member has the max sharp_ratio\n",
    " \n",
    "end"
   ]
  },
  {
   "cell_type": "code",
   "execution_count": 13,
   "id": "ef9e61c1",
   "metadata": {},
   "outputs": [
    {
     "data": {
      "text/plain": [
       "summary (generic function with 1 method)"
      ]
     },
     "execution_count": 13,
     "metadata": {},
     "output_type": "execute_result"
    }
   ],
   "source": [
    "# For any population of portfolios, a table with expected returns, expected risks and sharp ratios is returned\n",
    "function summary(p_array::Vector{Portfolio})\n",
    "    df = DataFrame(\n",
    "        Expected_Return = expected_return.(p_array),\n",
    "        Expected_Risk = expected_risk.(p_array),\n",
    "        Sharp_Ratio = sharp_ratio.(p_array)\n",
    "    )\n",
    "    sort!(df, [:Sharp_Ratio], rev=(true))\n",
    "    return df\n",
    "end"
   ]
  },
  {
   "cell_type": "code",
   "execution_count": 14,
   "id": "97a0d373",
   "metadata": {},
   "outputs": [
    {
     "data": {
      "text/plain": [
       "equity_performance (generic function with 2 methods)"
      ]
     },
     "execution_count": 14,
     "metadata": {},
     "output_type": "execute_result"
    }
   ],
   "source": [
    "# Summarise a single portfolio\n",
    "## For a portfolio object with a given set of equities and weights, the expected return, expected risk and Sharp ratio is measured for each equity.\n",
    "function equity_performance(p::Portfolio)\n",
    "    equities = string.(p.equities) # # Get the equities\n",
    "    weights = p.weights\n",
    "    weights = round.(weights, digits = 3)\n",
    "    e_returns = p.means # Get the returns\n",
    "    CM = p.cov_matrix\n",
    "    CM_diag = [CM[i, i] for i in 1:size(CM)[1]]\n",
    "    e_risk = sqrt.(CM_diag) # Get the risk\n",
    "    s_ratio = e_returns ./ e_risk # Get the sharp ratio\n",
    "    output = DataFrame(Equities = equities, Weights = weights, Expected_Return = e_returns, Expected_Risk = e_risk, Sharp_Ratio = s_ratio)\n",
    "    return output\n",
    "end\n",
    "\n",
    "# For an optimally sorted portfolio population, the summary of the array is the summary of the first member\n",
    "function equity_performance(p_array::Vector{Portfolio})\n",
    "    equity_performance(p_array[1])\n",
    "end"
   ]
  },
  {
   "cell_type": "code",
   "execution_count": 15,
   "id": "d82d0e3c",
   "metadata": {},
   "outputs": [
    {
     "data": {
      "text/plain": [
       "market_performance (generic function with 2 methods)"
      ]
     },
     "execution_count": 15,
     "metadata": {},
     "output_type": "execute_result"
    }
   ],
   "source": [
    "# This function returns the market portfolio summary for the total equity set  \n",
    "function market_performance(p::Portfolio)\n",
    "    output = DataFrame(\n",
    "        Market_Portfolio = String[], \n",
    "        Expected_Return = Float64[], \n",
    "        Expected_Risk = Float64[], \n",
    "        Sharp_Ratio = Float64[]\n",
    "    )\n",
    "    \n",
    "    market_point = (\"Market Portfolio\", expected_return(p), expected_risk(p), sharp_ratio(p))\n",
    "    push!(output, market_point)\n",
    "end\n",
    "\n",
    "function market_performance(p_array::Vector{Portfolio})\n",
    "    market_performance(p_array[1])   \n",
    "end"
   ]
  },
  {
   "cell_type": "code",
   "execution_count": 16,
   "id": "935162ed",
   "metadata": {},
   "outputs": [
    {
     "data": {
      "text/plain": [
       "efficient_frontier (generic function with 1 method)"
      ]
     },
     "execution_count": 16,
     "metadata": {},
     "output_type": "execute_result"
    }
   ],
   "source": [
    "# This function plots the efficient frontier\n",
    "function efficient_frontier(p_array::Vector{Portfolio})\n",
    "    dfA = summary(p_array)\n",
    "    dfB = equity_performance(p_array[1])\n",
    "    dfC = market_performance(p_array[1])\n",
    "    \n",
    "    Plots.plot(\n",
    "    dfA.Expected_Risk, \n",
    "    dfA.Expected_Return, \n",
    "    seriestype = :scatter, \n",
    "    color = :heat,\n",
    "    markersize = 2,\n",
    "    markeralpha = 0.9,\n",
    "    label = \"Efficient Frontier\"\n",
    "    )\n",
    "    Plots.plot!(\n",
    "        dfB.Expected_Risk, \n",
    "        dfB.Expected_Return, \n",
    "        seriestype = :scatter, \n",
    "        series_annotations = Plots.text.(dfB.Equities, 8, :bottom),\n",
    "        markershape = :cross,\n",
    "        color = :blue,\n",
    "        markersize = 4,\n",
    "        label = \"Equities\"\n",
    "    )\n",
    "    Plots.plot!(\n",
    "        dfC.Expected_Risk, \n",
    "        dfC.Expected_Return,\n",
    "        seriestype = :scatter,\n",
    "        markershape = :star6,\n",
    "        markersize = 8,\n",
    "        color = :red,\n",
    "        label = \"Market Portfolio\"\n",
    "    )\n",
    "    Plots.plot!(\n",
    "        title = \"Efficient Frontier\", \n",
    "        xlabel = \"Expected Risk\", \n",
    "        ylabel = \"Expected Return\",\n",
    "    )\n",
    "        \n",
    "end"
   ]
  },
  {
   "cell_type": "markdown",
   "id": "4488884b",
   "metadata": {},
   "source": [
    "## Upload Stock Data\n",
    "\n",
    "This function imports the portfolio stock data for analysis.  A table of the results are shown below. "
   ]
  },
  {
   "cell_type": "code",
   "execution_count": 17,
   "id": "116dcb2a",
   "metadata": {},
   "outputs": [
    {
     "data": {
      "text/html": [
       "<div class=\"data-frame\"><p>10 rows × 6 columns</p><table class=\"data-frame\"><thead><tr><th></th><th>date</th><th>AMAT</th><th>EQR</th><th>FE</th><th>HRS</th><th>MOS</th></tr><tr><th></th><th title=\"Date\">Date</th><th title=\"Union{Missing, Float64}\">Float64?</th><th title=\"Union{Missing, Float64}\">Float64?</th><th title=\"Union{Missing, Float64}\">Float64?</th><th title=\"Union{Missing, Float64}\">Float64?</th><th title=\"Union{Missing, Float64}\">Float64?</th></tr></thead><tbody><tr><th>1</th><td>2014-01-02</td><td>17.55</td><td>51.99</td><td>32.38</td><td>68.48</td><td>47.0</td></tr><tr><th>2</th><td>2014-01-16</td><td>17.63</td><td>53.89</td><td>32.49</td><td>70.59</td><td>49.32</td></tr><tr><th>3</th><td>2014-01-31</td><td>16.82</td><td>55.38</td><td>31.49</td><td>69.34</td><td>44.66</td></tr><tr><th>4</th><td>2014-02-14</td><td>18.96</td><td>58.58</td><td>31.75</td><td>72.0</td><td>47.78</td></tr><tr><th>5</th><td>2014-03-03</td><td>18.71</td><td>58.52</td><td>30.52</td><td>73.79</td><td>48.98</td></tr><tr><th>6</th><td>2014-03-17</td><td>18.98</td><td>58.37</td><td>31.89</td><td>73.59</td><td>48.02</td></tr><tr><th>7</th><td>2014-03-31</td><td>20.415</td><td>57.99</td><td>34.03</td><td>73.16</td><td>50.0</td></tr><tr><th>8</th><td>2014-04-14</td><td>19.02</td><td>58.08</td><td>33.31</td><td>69.34</td><td>47.44</td></tr><tr><th>9</th><td>2014-04-29</td><td>19.07</td><td>59.32</td><td>34.26</td><td>72.64</td><td>49.94</td></tr><tr><th>10</th><td>2014-05-13</td><td>19.11</td><td>61.71</td><td>32.49</td><td>75.89</td><td>49.26</td></tr></tbody></table></div>"
      ],
      "text/latex": [
       "\\begin{tabular}{r|cccccc}\n",
       "\t& date & AMAT & EQR & FE & HRS & MOS\\\\\n",
       "\t\\hline\n",
       "\t& Date & Float64? & Float64? & Float64? & Float64? & Float64?\\\\\n",
       "\t\\hline\n",
       "\t1 & 2014-01-02 & 17.55 & 51.99 & 32.38 & 68.48 & 47.0 \\\\\n",
       "\t2 & 2014-01-16 & 17.63 & 53.89 & 32.49 & 70.59 & 49.32 \\\\\n",
       "\t3 & 2014-01-31 & 16.82 & 55.38 & 31.49 & 69.34 & 44.66 \\\\\n",
       "\t4 & 2014-02-14 & 18.96 & 58.58 & 31.75 & 72.0 & 47.78 \\\\\n",
       "\t5 & 2014-03-03 & 18.71 & 58.52 & 30.52 & 73.79 & 48.98 \\\\\n",
       "\t6 & 2014-03-17 & 18.98 & 58.37 & 31.89 & 73.59 & 48.02 \\\\\n",
       "\t7 & 2014-03-31 & 20.415 & 57.99 & 34.03 & 73.16 & 50.0 \\\\\n",
       "\t8 & 2014-04-14 & 19.02 & 58.08 & 33.31 & 69.34 & 47.44 \\\\\n",
       "\t9 & 2014-04-29 & 19.07 & 59.32 & 34.26 & 72.64 & 49.94 \\\\\n",
       "\t10 & 2014-05-13 & 19.11 & 61.71 & 32.49 & 75.89 & 49.26 \\\\\n",
       "\\end{tabular}\n"
      ],
      "text/plain": [
       "\u001b[1m10×6 DataFrame\u001b[0m\n",
       "\u001b[1m Row \u001b[0m│\u001b[1m date       \u001b[0m\u001b[1m AMAT     \u001b[0m\u001b[1m EQR      \u001b[0m\u001b[1m FE       \u001b[0m\u001b[1m HRS      \u001b[0m\u001b[1m MOS      \u001b[0m\n",
       "\u001b[1m     \u001b[0m│\u001b[90m Date       \u001b[0m\u001b[90m Float64? \u001b[0m\u001b[90m Float64? \u001b[0m\u001b[90m Float64? \u001b[0m\u001b[90m Float64? \u001b[0m\u001b[90m Float64? \u001b[0m\n",
       "─────┼──────────────────────────────────────────────────────────────\n",
       "   1 │ 2014-01-02    17.55      51.99     32.38     68.48     47.0\n",
       "   2 │ 2014-01-16    17.63      53.89     32.49     70.59     49.32\n",
       "   3 │ 2014-01-31    16.82      55.38     31.49     69.34     44.66\n",
       "   4 │ 2014-02-14    18.96      58.58     31.75     72.0      47.78\n",
       "   5 │ 2014-03-03    18.71      58.52     30.52     73.79     48.98\n",
       "   6 │ 2014-03-17    18.98      58.37     31.89     73.59     48.02\n",
       "   7 │ 2014-03-31    20.415     57.99     34.03     73.16     50.0\n",
       "   8 │ 2014-04-14    19.02      58.08     33.31     69.34     47.44\n",
       "   9 │ 2014-04-29    19.07      59.32     34.26     72.64     49.94\n",
       "  10 │ 2014-05-13    19.11      61.71     32.49     75.89     49.26"
      ]
     },
     "execution_count": 17,
     "metadata": {},
     "output_type": "execute_result"
    }
   ],
   "source": [
    "# Defining the input parameters\n",
    "file_path = \"full_stocks.csv\"\n",
    "begin_date = Date(\"2014-01-01\")\n",
    "end_date = Date(\"2017-01-01\")\n",
    "period = 10\n",
    "stock_list = [\"MOS\", \"AMAT\", \"HRS\", \"EQR\", \"FE\"]\n",
    "\n",
    "\n",
    "# Calling the select_stocks function\n",
    "stocks = \n",
    "select_stocks(\n",
    "    file_path, \n",
    "    begin_date, \n",
    "    end_date,\n",
    "    period,\n",
    "    stock_list \n",
    "    \n",
    ")\n",
    "\n",
    "first(stocks, 10)"
   ]
  },
  {
   "cell_type": "markdown",
   "id": "f9cec21a",
   "metadata": {},
   "source": [
    "## Portfolio Returns Table\n",
    "\n",
    " This a function that returns a set of portfolio returns for each stock .The returns are in the form of :percentage_change or log_difference.  An unspecified third argument defaults to :percentage_change."
   ]
  },
  {
   "cell_type": "code",
   "execution_count": 18,
   "id": "7c21de94",
   "metadata": {},
   "outputs": [
    {
     "data": {
      "text/html": [
       "<div class=\"data-frame\"><p>10 rows × 6 columns</p><table class=\"data-frame\"><thead><tr><th></th><th>date</th><th>AMAT</th><th>EQR</th><th>FE</th><th>HRS</th><th>MOS</th></tr><tr><th></th><th title=\"Date\">Date</th><th title=\"Float64\">Float64</th><th title=\"Float64\">Float64</th><th title=\"Float64\">Float64</th><th title=\"Float64\">Float64</th><th title=\"Float64\">Float64</th></tr></thead><tbody><tr><th>1</th><td>2014-01-16</td><td>0.454805</td><td>3.58935</td><td>0.33914</td><td>3.03468</td><td>4.81821</td></tr><tr><th>2</th><td>2014-01-31</td><td>-4.70333</td><td>2.72736</td><td>-3.12623</td><td>-1.78666</td><td>-9.92514</td></tr><tr><th>3</th><td>2014-02-14</td><td>11.9763</td><td>5.61748</td><td>0.822269</td><td>3.76442</td><td>6.75289</td></tr><tr><th>4</th><td>2014-03-03</td><td>-1.32734</td><td>-0.102477</td><td>-3.95105</td><td>2.45571</td><td>2.48049</td></tr><tr><th>5</th><td>2014-03-17</td><td>1.43277</td><td>-0.256652</td><td>4.39103</td><td>-0.271407</td><td>-1.97945</td></tr><tr><th>6</th><td>2014-03-31</td><td>7.28841</td><td>-0.653148</td><td>6.495</td><td>-0.586032</td><td>4.04054</td></tr><tr><th>7</th><td>2014-04-14</td><td>-7.07789</td><td>0.155079</td><td>-2.13848</td><td>-5.36269</td><td>-5.25573</td></tr><tr><th>8</th><td>2014-04-29</td><td>0.262536</td><td>2.11251</td><td>2.81208</td><td>4.64938</td><td>5.13565</td></tr><tr><th>9</th><td>2014-05-13</td><td>0.209534</td><td>3.94995</td><td>-5.30461</td><td>4.37692</td><td>-1.37099</td></tr><tr><th>10</th><td>2014-05-28</td><td>7.21624</td><td>-0.846221</td><td>3.47835</td><td>1.40009</td><td>0.142002</td></tr></tbody></table></div>"
      ],
      "text/latex": [
       "\\begin{tabular}{r|cccccc}\n",
       "\t& date & AMAT & EQR & FE & HRS & MOS\\\\\n",
       "\t\\hline\n",
       "\t& Date & Float64 & Float64 & Float64 & Float64 & Float64\\\\\n",
       "\t\\hline\n",
       "\t1 & 2014-01-16 & 0.454805 & 3.58935 & 0.33914 & 3.03468 & 4.81821 \\\\\n",
       "\t2 & 2014-01-31 & -4.70333 & 2.72736 & -3.12623 & -1.78666 & -9.92514 \\\\\n",
       "\t3 & 2014-02-14 & 11.9763 & 5.61748 & 0.822269 & 3.76442 & 6.75289 \\\\\n",
       "\t4 & 2014-03-03 & -1.32734 & -0.102477 & -3.95105 & 2.45571 & 2.48049 \\\\\n",
       "\t5 & 2014-03-17 & 1.43277 & -0.256652 & 4.39103 & -0.271407 & -1.97945 \\\\\n",
       "\t6 & 2014-03-31 & 7.28841 & -0.653148 & 6.495 & -0.586032 & 4.04054 \\\\\n",
       "\t7 & 2014-04-14 & -7.07789 & 0.155079 & -2.13848 & -5.36269 & -5.25573 \\\\\n",
       "\t8 & 2014-04-29 & 0.262536 & 2.11251 & 2.81208 & 4.64938 & 5.13565 \\\\\n",
       "\t9 & 2014-05-13 & 0.209534 & 3.94995 & -5.30461 & 4.37692 & -1.37099 \\\\\n",
       "\t10 & 2014-05-28 & 7.21624 & -0.846221 & 3.47835 & 1.40009 & 0.142002 \\\\\n",
       "\\end{tabular}\n"
      ],
      "text/plain": [
       "\u001b[1m10×6 DataFrame\u001b[0m\n",
       "\u001b[1m Row \u001b[0m│\u001b[1m date       \u001b[0m\u001b[1m AMAT      \u001b[0m\u001b[1m EQR       \u001b[0m\u001b[1m FE        \u001b[0m\u001b[1m HRS       \u001b[0m\u001b[1m MOS       \u001b[0m\n",
       "\u001b[1m     \u001b[0m│\u001b[90m Date       \u001b[0m\u001b[90m Float64   \u001b[0m\u001b[90m Float64   \u001b[0m\u001b[90m Float64   \u001b[0m\u001b[90m Float64   \u001b[0m\u001b[90m Float64   \u001b[0m\n",
       "─────┼───────────────────────────────────────────────────────────────────\n",
       "   1 │ 2014-01-16   0.454805   3.58935    0.33914    3.03468    4.81821\n",
       "   2 │ 2014-01-31  -4.70333    2.72736   -3.12623   -1.78666   -9.92514\n",
       "   3 │ 2014-02-14  11.9763     5.61748    0.822269   3.76442    6.75289\n",
       "   4 │ 2014-03-03  -1.32734   -0.102477  -3.95105    2.45571    2.48049\n",
       "   5 │ 2014-03-17   1.43277   -0.256652   4.39103   -0.271407  -1.97945\n",
       "   6 │ 2014-03-31   7.28841   -0.653148   6.495     -0.586032   4.04054\n",
       "   7 │ 2014-04-14  -7.07789    0.155079  -2.13848   -5.36269   -5.25573\n",
       "   8 │ 2014-04-29   0.262536   2.11251    2.81208    4.64938    5.13565\n",
       "   9 │ 2014-05-13   0.209534   3.94995   -5.30461    4.37692   -1.37099\n",
       "  10 │ 2014-05-28   7.21624   -0.846221   3.47835    1.40009    0.142002"
      ]
     },
     "execution_count": 18,
     "metadata": {},
     "output_type": "execute_result"
    }
   ],
   "source": [
    "# Call the portfolio_returns_table function\n",
    "prt = portfolio_returns_table(stocks, :date, :log_difference)\n",
    "\n",
    "first(prt, 10)"
   ]
  },
  {
   "cell_type": "markdown",
   "id": "7a59d0d3",
   "metadata": {},
   "source": [
    "## Portfolio Objects and Populations\n",
    "\n",
    "A single portfolio object can be created from the portfolio returns table as shown below.\n"
   ]
  },
  {
   "cell_type": "code",
   "execution_count": 27,
   "id": "ea158dd0",
   "metadata": {},
   "outputs": [
    {
     "name": "stdout",
     "output_type": "stream",
     "text": [
      "p = Portfolio([:AMAT, :EQR, :FE, :HRS, :MOS], [34.6476876766464 1.771888465797342 6.4756570468747405 13.181091565688204 23.450322814529663; 1.771888465797342 12.959554025557528 4.573208287530197 3.86094773165766 0.07248472898003032; 6.4756570468747405 4.573208287530197 17.65918278116134 1.5603566735009462 8.850378349560836; 13.181091565688204 3.86094773165766 1.5603566735009462 20.396301965956205 15.379700739376382; 23.450322814529663 0.07248472898003032 8.850378349560836 15.379700739376382 50.82730924999266], [63.17565959532267, 19.16070301050268, -3.6482033162203162, 41.496038340199526, -47.0855055435953], [0.058176773814194345, 0.22285007451514088, 0.15602268185720922, 0.29129419295628484, 0.27165627685717075])\n"
     ]
    },
    {
     "data": {
      "text/plain": [
       "Portfolio([:AMAT, :EQR, :FE, :HRS, :MOS], [34.6476876766464 1.771888465797342 … 13.181091565688204 23.450322814529663; 1.771888465797342 12.959554025557528 … 3.86094773165766 0.07248472898003032; … ; 13.181091565688204 3.86094773165766 … 20.396301965956205 15.379700739376382; 23.450322814529663 0.07248472898003032 … 15.379700739376382 50.82730924999266], [63.17565959532267, 19.16070301050268, -3.6482033162203162, 41.496038340199526, -47.0855055435953], [0.058176773814194345, 0.22285007451514088, 0.15602268185720922, 0.29129419295628484, 0.27165627685717075])"
      ]
     },
     "execution_count": 27,
     "metadata": {},
     "output_type": "execute_result"
    }
   ],
   "source": [
    "# Create a single portfolio object\n",
    "p = portfolio(prt, :date);\n",
    "@show p"
   ]
  },
  {
   "cell_type": "markdown",
   "id": "0fb65708",
   "metadata": {},
   "source": [
    "## Equity Performance\n",
    "For a portfolio object with a given set of equities and weights, the expected return, expected risk and Sharp ratio  is measured for each equity."
   ]
  },
  {
   "cell_type": "code",
   "execution_count": 28,
   "id": "41d94e8e",
   "metadata": {},
   "outputs": [
    {
     "data": {
      "text/html": [
       "<div class=\"data-frame\"><p>5 rows × 5 columns</p><table class=\"data-frame\"><thead><tr><th></th><th>Equities</th><th>Weights</th><th>Expected_Return</th><th>Expected_Risk</th><th>Sharp_Ratio</th></tr><tr><th></th><th title=\"String\">String</th><th title=\"Float64\">Float64</th><th title=\"Float64\">Float64</th><th title=\"Float64\">Float64</th><th title=\"Float64\">Float64</th></tr></thead><tbody><tr><th>1</th><td>AMAT</td><td>0.058</td><td>63.1757</td><td>5.88623</td><td>10.7328</td></tr><tr><th>2</th><td>EQR</td><td>0.223</td><td>19.1607</td><td>3.59994</td><td>5.32251</td></tr><tr><th>3</th><td>FE</td><td>0.156</td><td>-3.6482</td><td>4.20228</td><td>-0.868148</td></tr><tr><th>4</th><td>HRS</td><td>0.291</td><td>41.496</td><td>4.51623</td><td>9.18821</td></tr><tr><th>5</th><td>MOS</td><td>0.272</td><td>-47.0855</td><td>7.12933</td><td>-6.60448</td></tr></tbody></table></div>"
      ],
      "text/latex": [
       "\\begin{tabular}{r|ccccc}\n",
       "\t& Equities & Weights & Expected\\_Return & Expected\\_Risk & Sharp\\_Ratio\\\\\n",
       "\t\\hline\n",
       "\t& String & Float64 & Float64 & Float64 & Float64\\\\\n",
       "\t\\hline\n",
       "\t1 & AMAT & 0.058 & 63.1757 & 5.88623 & 10.7328 \\\\\n",
       "\t2 & EQR & 0.223 & 19.1607 & 3.59994 & 5.32251 \\\\\n",
       "\t3 & FE & 0.156 & -3.6482 & 4.20228 & -0.868148 \\\\\n",
       "\t4 & HRS & 0.291 & 41.496 & 4.51623 & 9.18821 \\\\\n",
       "\t5 & MOS & 0.272 & -47.0855 & 7.12933 & -6.60448 \\\\\n",
       "\\end{tabular}\n"
      ],
      "text/plain": [
       "\u001b[1m5×5 DataFrame\u001b[0m\n",
       "\u001b[1m Row \u001b[0m│\u001b[1m Equities \u001b[0m\u001b[1m Weights \u001b[0m\u001b[1m Expected_Return \u001b[0m\u001b[1m Expected_Risk \u001b[0m\u001b[1m Sharp_Ratio \u001b[0m\n",
       "\u001b[1m     \u001b[0m│\u001b[90m String   \u001b[0m\u001b[90m Float64 \u001b[0m\u001b[90m Float64         \u001b[0m\u001b[90m Float64       \u001b[0m\u001b[90m Float64     \u001b[0m\n",
       "─────┼────────────────────────────────────────────────────────────────\n",
       "   1 │ AMAT        0.058          63.1757        5.88623    10.7328\n",
       "   2 │ EQR         0.223          19.1607        3.59994     5.32251\n",
       "   3 │ FE          0.156          -3.6482        4.20228    -0.868148\n",
       "   4 │ HRS         0.291          41.496         4.51623     9.18821\n",
       "   5 │ MOS         0.272         -47.0855        7.12933    -6.60448"
      ]
     },
     "execution_count": 28,
     "metadata": {},
     "output_type": "execute_result"
    }
   ],
   "source": [
    "# This is the summary of the portfolio object p\n",
    "equity_performance(p)"
   ]
  },
  {
   "cell_type": "markdown",
   "id": "1b6b7f2c",
   "metadata": {},
   "source": [
    "## Market Performance\n",
    "This table measures the market performance by returning the expected return, expected risk and sharp ratio for the full equity set. "
   ]
  },
  {
   "cell_type": "code",
   "execution_count": 29,
   "id": "6b598d4c",
   "metadata": {},
   "outputs": [
    {
     "data": {
      "text/html": [
       "<div class=\"data-frame\"><p>1 rows × 4 columns</p><table class=\"data-frame\"><thead><tr><th></th><th>Market_Portfolio</th><th>Expected_Return</th><th>Expected_Risk</th><th>Sharp_Ratio</th></tr><tr><th></th><th title=\"String\">String</th><th title=\"Float64\">Float64</th><th title=\"Float64\">Float64</th><th title=\"Float64\">Float64</th></tr></thead><tbody><tr><th>1</th><td>Market Portfolio</td><td>6.6726</td><td>3.4897</td><td>1.91209</td></tr></tbody></table></div>"
      ],
      "text/latex": [
       "\\begin{tabular}{r|cccc}\n",
       "\t& Market\\_Portfolio & Expected\\_Return & Expected\\_Risk & Sharp\\_Ratio\\\\\n",
       "\t\\hline\n",
       "\t& String & Float64 & Float64 & Float64\\\\\n",
       "\t\\hline\n",
       "\t1 & Market Portfolio & 6.6726 & 3.4897 & 1.91209 \\\\\n",
       "\\end{tabular}\n"
      ],
      "text/plain": [
       "\u001b[1m1×4 DataFrame\u001b[0m\n",
       "\u001b[1m Row \u001b[0m│\u001b[1m Market_Portfolio \u001b[0m\u001b[1m Expected_Return \u001b[0m\u001b[1m Expected_Risk \u001b[0m\u001b[1m Sharp_Ratio \u001b[0m\n",
       "\u001b[1m     \u001b[0m│\u001b[90m String           \u001b[0m\u001b[90m Float64         \u001b[0m\u001b[90m Float64       \u001b[0m\u001b[90m Float64     \u001b[0m\n",
       "─────┼───────────────────────────────────────────────────────────────\n",
       "   1 │ Market Portfolio           6.6726         3.4897      1.91209"
      ]
     },
     "execution_count": 29,
     "metadata": {},
     "output_type": "execute_result"
    }
   ],
   "source": [
    "# This is the market portfolio summary for the total equity set.  \n",
    "market_performance(p)"
   ]
  },
  {
   "cell_type": "markdown",
   "id": "9255951c",
   "metadata": {},
   "source": [
    "##  Portfolio Populations\n",
    "\n",
    "1. A portfolio population is an array of portfolio objects, each with a random variation of weights.  \n",
    "\n",
    "2. The boundary function filters and returns portfolios on or near the efficient frontier. \n",
    "\n",
    "3. For any population of portfolios, a table with expected return, expected risk and sharp ratio is returned."
   ]
  },
  {
   "cell_type": "code",
   "execution_count": 30,
   "id": "4ec63a39-f916-4c91-83a6-28d97fba602c",
   "metadata": {},
   "outputs": [
    {
     "data": {
      "text/plain": [
       "100000-element Vector{Portfolio}:\n",
       " Portfolio([:AMAT, :EQR, :FE, :HRS, :MOS], [34.6476876766464 1.771888465797342 … 13.181091565688204 23.450322814529663; 1.771888465797342 12.959554025557528 … 3.86094773165766 0.07248472898003032; … ; 13.181091565688204 3.86094773165766 … 20.396301965956205 15.379700739376382; 23.450322814529663 0.07248472898003032 … 15.379700739376382 50.82730924999266], [63.17565959532267, 19.16070301050268, -3.6482033162203162, 41.496038340199526, -47.0855055435953], [0.08977005475990964, 0.2584961431649592, 0.21026305718321053, 0.25311929719274573, 0.188351447699175])\n",
       " Portfolio([:AMAT, :EQR, :FE, :HRS, :MOS], [34.6476876766464 1.771888465797342 … 13.181091565688204 23.450322814529663; 1.771888465797342 12.959554025557528 … 3.86094773165766 0.07248472898003032; … ; 13.181091565688204 3.86094773165766 … 20.396301965956205 15.379700739376382; 23.450322814529663 0.07248472898003032 … 15.379700739376382 50.82730924999266], [63.17565959532267, 19.16070301050268, -3.6482033162203162, 41.496038340199526, -47.0855055435953], [0.09614255039337222, 0.4106447502932039, 0.18250176442052005, 0.31022189480456513, 0.0004890400883386935])\n",
       " Portfolio([:AMAT, :EQR, :FE, :HRS, :MOS], [34.6476876766464 1.771888465797342 … 13.181091565688204 23.450322814529663; 1.771888465797342 12.959554025557528 … 3.86094773165766 0.07248472898003032; … ; 13.181091565688204 3.86094773165766 … 20.396301965956205 15.379700739376382; 23.450322814529663 0.07248472898003032 … 15.379700739376382 50.82730924999266], [63.17565959532267, 19.16070301050268, -3.6482033162203162, 41.496038340199526, -47.0855055435953], [0.2836011725293409, 0.08002205004973008, 0.1034659024261802, 0.25342944812752427, 0.2794814268672245])\n",
       " Portfolio([:AMAT, :EQR, :FE, :HRS, :MOS], [34.6476876766464 1.771888465797342 … 13.181091565688204 23.450322814529663; 1.771888465797342 12.959554025557528 … 3.86094773165766 0.07248472898003032; … ; 13.181091565688204 3.86094773165766 … 20.396301965956205 15.379700739376382; 23.450322814529663 0.07248472898003032 … 15.379700739376382 50.82730924999266], [63.17565959532267, 19.16070301050268, -3.6482033162203162, 41.496038340199526, -47.0855055435953], [0.25085865611807723, 0.518310335779335, 0.06240018749096577, 0.016094985216763086, 0.15233583539485887])\n",
       " Portfolio([:AMAT, :EQR, :FE, :HRS, :MOS], [34.6476876766464 1.771888465797342 … 13.181091565688204 23.450322814529663; 1.771888465797342 12.959554025557528 … 3.86094773165766 0.07248472898003032; … ; 13.181091565688204 3.86094773165766 … 20.396301965956205 15.379700739376382; 23.450322814529663 0.07248472898003032 … 15.379700739376382 50.82730924999266], [63.17565959532267, 19.16070301050268, -3.6482033162203162, 41.496038340199526, -47.0855055435953], [0.16044942490292552, 0.31781600966901, 0.07454646832981561, 0.37337616870170626, 0.07381192839654267])\n",
       " Portfolio([:AMAT, :EQR, :FE, :HRS, :MOS], [34.6476876766464 1.771888465797342 … 13.181091565688204 23.450322814529663; 1.771888465797342 12.959554025557528 … 3.86094773165766 0.07248472898003032; … ; 13.181091565688204 3.86094773165766 … 20.396301965956205 15.379700739376382; 23.450322814529663 0.07248472898003032 … 15.379700739376382 50.82730924999266], [63.17565959532267, 19.16070301050268, -3.6482033162203162, 41.496038340199526, -47.0855055435953], [0.17425621293379975, 0.4324912794619442, 0.0774428593138967, 0.2756114361401933, 0.04019821215016611])\n",
       " Portfolio([:AMAT, :EQR, :FE, :HRS, :MOS], [34.6476876766464 1.771888465797342 … 13.181091565688204 23.450322814529663; 1.771888465797342 12.959554025557528 … 3.86094773165766 0.07248472898003032; … ; 13.181091565688204 3.86094773165766 … 20.396301965956205 15.379700739376382; 23.450322814529663 0.07248472898003032 … 15.379700739376382 50.82730924999266], [63.17565959532267, 19.16070301050268, -3.6482033162203162, 41.496038340199526, -47.0855055435953], [0.2779998361697504, 0.22082268846302994, 0.07601534977205911, 0.16254864190983395, 0.26261348368532667])\n",
       " Portfolio([:AMAT, :EQR, :FE, :HRS, :MOS], [34.6476876766464 1.771888465797342 … 13.181091565688204 23.450322814529663; 1.771888465797342 12.959554025557528 … 3.86094773165766 0.07248472898003032; … ; 13.181091565688204 3.86094773165766 … 20.396301965956205 15.379700739376382; 23.450322814529663 0.07248472898003032 … 15.379700739376382 50.82730924999266], [63.17565959532267, 19.16070301050268, -3.6482033162203162, 41.496038340199526, -47.0855055435953], [0.19367098445550596, 0.2026447409463325, 0.08555233038255226, 0.288168914575839, 0.22996302963977033])\n",
       " Portfolio([:AMAT, :EQR, :FE, :HRS, :MOS], [34.6476876766464 1.771888465797342 … 13.181091565688204 23.450322814529663; 1.771888465797342 12.959554025557528 … 3.86094773165766 0.07248472898003032; … ; 13.181091565688204 3.86094773165766 … 20.396301965956205 15.379700739376382; 23.450322814529663 0.07248472898003032 … 15.379700739376382 50.82730924999266], [63.17565959532267, 19.16070301050268, -3.6482033162203162, 41.496038340199526, -47.0855055435953], [0.18166678856907784, 0.2291307422647862, 0.2534328405655273, 0.08742288086097108, 0.24834674773963755])\n",
       " Portfolio([:AMAT, :EQR, :FE, :HRS, :MOS], [34.6476876766464 1.771888465797342 … 13.181091565688204 23.450322814529663; 1.771888465797342 12.959554025557528 … 3.86094773165766 0.07248472898003032; … ; 13.181091565688204 3.86094773165766 … 20.396301965956205 15.379700739376382; 23.450322814529663 0.07248472898003032 … 15.379700739376382 50.82730924999266], [63.17565959532267, 19.16070301050268, -3.6482033162203162, 41.496038340199526, -47.0855055435953], [0.01709935570543665, 0.010872592953301865, 0.13826275346902153, 0.3319265422767704, 0.5018387555954695])\n",
       " Portfolio([:AMAT, :EQR, :FE, :HRS, :MOS], [34.6476876766464 1.771888465797342 … 13.181091565688204 23.450322814529663; 1.771888465797342 12.959554025557528 … 3.86094773165766 0.07248472898003032; … ; 13.181091565688204 3.86094773165766 … 20.396301965956205 15.379700739376382; 23.450322814529663 0.07248472898003032 … 15.379700739376382 50.82730924999266], [63.17565959532267, 19.16070301050268, -3.6482033162203162, 41.496038340199526, -47.0855055435953], [0.012177620447046966, 0.16124424328221837, 0.4272143233450492, 0.04636164238467201, 0.35300217054101346])\n",
       " Portfolio([:AMAT, :EQR, :FE, :HRS, :MOS], [34.6476876766464 1.771888465797342 … 13.181091565688204 23.450322814529663; 1.771888465797342 12.959554025557528 … 3.86094773165766 0.07248472898003032; … ; 13.181091565688204 3.86094773165766 … 20.396301965956205 15.379700739376382; 23.450322814529663 0.07248472898003032 … 15.379700739376382 50.82730924999266], [63.17565959532267, 19.16070301050268, -3.6482033162203162, 41.496038340199526, -47.0855055435953], [0.2107259721768794, 0.1816544987988049, 0.3339706118682141, 0.25407643644670624, 0.019572480709395136])\n",
       " Portfolio([:AMAT, :EQR, :FE, :HRS, :MOS], [34.6476876766464 1.771888465797342 … 13.181091565688204 23.450322814529663; 1.771888465797342 12.959554025557528 … 3.86094773165766 0.07248472898003032; … ; 13.181091565688204 3.86094773165766 … 20.396301965956205 15.379700739376382; 23.450322814529663 0.07248472898003032 … 15.379700739376382 50.82730924999266], [63.17565959532267, 19.16070301050268, -3.6482033162203162, 41.496038340199526, -47.0855055435953], [0.5237657712158589, 0.14941337174320346, 0.13118114086324215, 0.04919098138406984, 0.14644873479362552])\n",
       " ⋮\n",
       " Portfolio([:AMAT, :EQR, :FE, :HRS, :MOS], [34.6476876766464 1.771888465797342 … 13.181091565688204 23.450322814529663; 1.771888465797342 12.959554025557528 … 3.86094773165766 0.07248472898003032; … ; 13.181091565688204 3.86094773165766 … 20.396301965956205 15.379700739376382; 23.450322814529663 0.07248472898003032 … 15.379700739376382 50.82730924999266], [63.17565959532267, 19.16070301050268, -3.6482033162203162, 41.496038340199526, -47.0855055435953], [0.20505115661205262, 0.22623043251558364, 0.09474021484330328, 0.1501461879848003, 0.32383200804426016])\n",
       " Portfolio([:AMAT, :EQR, :FE, :HRS, :MOS], [34.6476876766464 1.771888465797342 … 13.181091565688204 23.450322814529663; 1.771888465797342 12.959554025557528 … 3.86094773165766 0.07248472898003032; … ; 13.181091565688204 3.86094773165766 … 20.396301965956205 15.379700739376382; 23.450322814529663 0.07248472898003032 … 15.379700739376382 50.82730924999266], [63.17565959532267, 19.16070301050268, -3.6482033162203162, 41.496038340199526, -47.0855055435953], [0.28304643257297596, 0.35350642804534804, 0.2680378587517907, 0.08873850124895746, 0.006670779380927699])\n",
       " Portfolio([:AMAT, :EQR, :FE, :HRS, :MOS], [34.6476876766464 1.771888465797342 … 13.181091565688204 23.450322814529663; 1.771888465797342 12.959554025557528 … 3.86094773165766 0.07248472898003032; … ; 13.181091565688204 3.86094773165766 … 20.396301965956205 15.379700739376382; 23.450322814529663 0.07248472898003032 … 15.379700739376382 50.82730924999266], [63.17565959532267, 19.16070301050268, -3.6482033162203162, 41.496038340199526, -47.0855055435953], [0.0341458889489434, 0.14193738922363103, 0.4193212070900623, 0.28904208788414404, 0.11555342685321919])\n",
       " Portfolio([:AMAT, :EQR, :FE, :HRS, :MOS], [34.6476876766464 1.771888465797342 … 13.181091565688204 23.450322814529663; 1.771888465797342 12.959554025557528 … 3.86094773165766 0.07248472898003032; … ; 13.181091565688204 3.86094773165766 … 20.396301965956205 15.379700739376382; 23.450322814529663 0.07248472898003032 … 15.379700739376382 50.82730924999266], [63.17565959532267, 19.16070301050268, -3.6482033162203162, 41.496038340199526, -47.0855055435953], [0.2541962711558404, 0.1912090103494688, 0.2722574696254004, 0.2697089773583217, 0.012628271510968715])\n",
       " Portfolio([:AMAT, :EQR, :FE, :HRS, :MOS], [34.6476876766464 1.771888465797342 … 13.181091565688204 23.450322814529663; 1.771888465797342 12.959554025557528 … 3.86094773165766 0.07248472898003032; … ; 13.181091565688204 3.86094773165766 … 20.396301965956205 15.379700739376382; 23.450322814529663 0.07248472898003032 … 15.379700739376382 50.82730924999266], [63.17565959532267, 19.16070301050268, -3.6482033162203162, 41.496038340199526, -47.0855055435953], [0.14367444323303855, 0.3001540178690044, 0.10183306507675172, 0.22375374859357042, 0.23058472522763496])\n",
       " Portfolio([:AMAT, :EQR, :FE, :HRS, :MOS], [34.6476876766464 1.771888465797342 … 13.181091565688204 23.450322814529663; 1.771888465797342 12.959554025557528 … 3.86094773165766 0.07248472898003032; … ; 13.181091565688204 3.86094773165766 … 20.396301965956205 15.379700739376382; 23.450322814529663 0.07248472898003032 … 15.379700739376382 50.82730924999266], [63.17565959532267, 19.16070301050268, -3.6482033162203162, 41.496038340199526, -47.0855055435953], [0.07892117289647964, 0.15772424096305335, 0.38935534705384633, 0.21892392732829, 0.15507531175833061])\n",
       " Portfolio([:AMAT, :EQR, :FE, :HRS, :MOS], [34.6476876766464 1.771888465797342 … 13.181091565688204 23.450322814529663; 1.771888465797342 12.959554025557528 … 3.86094773165766 0.07248472898003032; … ; 13.181091565688204 3.86094773165766 … 20.396301965956205 15.379700739376382; 23.450322814529663 0.07248472898003032 … 15.379700739376382 50.82730924999266], [63.17565959532267, 19.16070301050268, -3.6482033162203162, 41.496038340199526, -47.0855055435953], [0.036851865430696754, 0.36488679853176464, 0.19438411675544845, 0.18724281714305904, 0.216634402139031])\n",
       " Portfolio([:AMAT, :EQR, :FE, :HRS, :MOS], [34.6476876766464 1.771888465797342 … 13.181091565688204 23.450322814529663; 1.771888465797342 12.959554025557528 … 3.86094773165766 0.07248472898003032; … ; 13.181091565688204 3.86094773165766 … 20.396301965956205 15.379700739376382; 23.450322814529663 0.07248472898003032 … 15.379700739376382 50.82730924999266], [63.17565959532267, 19.16070301050268, -3.6482033162203162, 41.496038340199526, -47.0855055435953], [0.36170711524540783, 0.07996077217407159, 0.29363188224765074, 0.02682619885796105, 0.2378740314749088])\n",
       " Portfolio([:AMAT, :EQR, :FE, :HRS, :MOS], [34.6476876766464 1.771888465797342 … 13.181091565688204 23.450322814529663; 1.771888465797342 12.959554025557528 … 3.86094773165766 0.07248472898003032; … ; 13.181091565688204 3.86094773165766 … 20.396301965956205 15.379700739376382; 23.450322814529663 0.07248472898003032 … 15.379700739376382 50.82730924999266], [63.17565959532267, 19.16070301050268, -3.6482033162203162, 41.496038340199526, -47.0855055435953], [0.2909341400937197, 0.34613011035607816, 0.2079277397931715, 0.12690881080244754, 0.02809919895458313])\n",
       " Portfolio([:AMAT, :EQR, :FE, :HRS, :MOS], [34.6476876766464 1.771888465797342 … 13.181091565688204 23.450322814529663; 1.771888465797342 12.959554025557528 … 3.86094773165766 0.07248472898003032; … ; 13.181091565688204 3.86094773165766 … 20.396301965956205 15.379700739376382; 23.450322814529663 0.07248472898003032 … 15.379700739376382 50.82730924999266], [63.17565959532267, 19.16070301050268, -3.6482033162203162, 41.496038340199526, -47.0855055435953], [0.19667362939251012, 0.2875913989643039, 0.12037744204223753, 0.13723572715186527, 0.25812180244908306])\n",
       " Portfolio([:AMAT, :EQR, :FE, :HRS, :MOS], [34.6476876766464 1.771888465797342 … 13.181091565688204 23.450322814529663; 1.771888465797342 12.959554025557528 … 3.86094773165766 0.07248472898003032; … ; 13.181091565688204 3.86094773165766 … 20.396301965956205 15.379700739376382; 23.450322814529663 0.07248472898003032 … 15.379700739376382 50.82730924999266], [63.17565959532267, 19.16070301050268, -3.6482033162203162, 41.496038340199526, -47.0855055435953], [0.040172485084683324, 0.4974529982137839, 0.042065124549619665, 0.06247801847733982, 0.35783137367457335])\n",
       " Portfolio([:AMAT, :EQR, :FE, :HRS, :MOS], [34.6476876766464 1.771888465797342 … 13.181091565688204 23.450322814529663; 1.771888465797342 12.959554025557528 … 3.86094773165766 0.07248472898003032; … ; 13.181091565688204 3.86094773165766 … 20.396301965956205 15.379700739376382; 23.450322814529663 0.07248472898003032 … 15.379700739376382 50.82730924999266], [63.17565959532267, 19.16070301050268, -3.6482033162203162, 41.496038340199526, -47.0855055435953], [0.18221826888965423, 0.01841823093262198, 0.2932522109246255, 0.16543997740892977, 0.3406713118441685])"
      ]
     },
     "execution_count": 30,
     "metadata": {},
     "output_type": "execute_result"
    }
   ],
   "source": [
    "p_array = create_population(p, 100000)"
   ]
  },
  {
   "cell_type": "code",
   "execution_count": 22,
   "id": "1742753d",
   "metadata": {},
   "outputs": [
    {
     "ename": "LoadError",
     "evalue": "UndefVarError: p not defined",
     "output_type": "error",
     "traceback": [
      "UndefVarError: p not defined",
      "",
      "Stacktrace:",
      " [1] top-level scope",
      "   @ In[22]:2",
      " [2] eval",
      "   @ ./boot.jl:373 [inlined]",
      " [3] include_string(mapexpr::typeof(REPL.softscope), mod::Module, code::String, filename::String)",
      "   @ Base ./loading.jl:1196"
     ]
    }
   ],
   "source": [
    "# Create a 100000 long array population of portfolios with random weights\n",
    "p_array = create_population(p, 100000)\n",
    "\n",
    "# Filters the population to only include members on the efficient frontier \n",
    "p_array = boundary(p_array)\n",
    "typeof(p_array)\n",
    "\n",
    "# Have the population members breed with each other which tends to produce decendents on the boundary\n",
    "p_array = reproduce(p_array)\n",
    "\n",
    "# Filter the population so that they are close to the boundary\n",
    "p_array = boundary(p_array)\n",
    "\n",
    "# Summarize the outputs\n",
    "details = summary(p_array)\n",
    "first(details, 8)"
   ]
  },
  {
   "cell_type": "markdown",
   "id": "ee54f904",
   "metadata": {},
   "source": [
    "## Efficient Frontier\n",
    "\n",
    "The efficient frontier, equities, and the market portfolio are plotted together in one chart.  The optimal market portfolio is where the Sharp ratio is maximized.  The weights associated with that optimal market portfolio indicates how to allocate resources to each equity.    "
   ]
  },
  {
   "cell_type": "code",
   "execution_count": 23,
   "id": "d1033acd",
   "metadata": {},
   "outputs": [
    {
     "ename": "LoadError",
     "evalue": "UndefVarError: p_array not defined",
     "output_type": "error",
     "traceback": [
      "UndefVarError: p_array not defined",
      "",
      "Stacktrace:",
      " [1] top-level scope",
      "   @ In[23]:2",
      " [2] eval",
      "   @ ./boot.jl:373 [inlined]",
      " [3] include_string(mapexpr::typeof(REPL.softscope), mod::Module, code::String, filename::String)",
      "   @ Base ./loading.jl:1196"
     ]
    }
   ],
   "source": [
    "# Plots the efficient frontier\n",
    "efficient_frontier(p_array)"
   ]
  },
  {
   "cell_type": "code",
   "execution_count": 24,
   "id": "70a01af8",
   "metadata": {},
   "outputs": [
    {
     "ename": "LoadError",
     "evalue": "UndefVarError: p_array not defined",
     "output_type": "error",
     "traceback": [
      "UndefVarError: p_array not defined",
      "",
      "Stacktrace:",
      " [1] top-level scope",
      "   @ In[24]:1",
      " [2] eval",
      "   @ ./boot.jl:373 [inlined]",
      " [3] include_string(mapexpr::typeof(REPL.softscope), mod::Module, code::String, filename::String)",
      "   @ Base ./loading.jl:1196"
     ]
    }
   ],
   "source": [
    "equity_performance(p_array)"
   ]
  },
  {
   "cell_type": "markdown",
   "id": "aac0cc26",
   "metadata": {},
   "source": [
    "The above results suggest that resources should be allocated to AMAT, EQR and HRS respectively, with nothing going to FE and MOS.  "
   ]
  },
  {
   "cell_type": "code",
   "execution_count": 25,
   "id": "f535cb53",
   "metadata": {},
   "outputs": [
    {
     "ename": "LoadError",
     "evalue": "UndefVarError: p_array not defined",
     "output_type": "error",
     "traceback": [
      "UndefVarError: p_array not defined",
      "",
      "Stacktrace:",
      " [1] top-level scope",
      "   @ In[25]:1",
      " [2] eval",
      "   @ ./boot.jl:373 [inlined]",
      " [3] include_string(mapexpr::typeof(REPL.softscope), mod::Module, code::String, filename::String)",
      "   @ Base ./loading.jl:1196"
     ]
    }
   ],
   "source": [
    "market_performance(p_array)"
   ]
  },
  {
   "cell_type": "markdown",
   "id": "ad5cb189",
   "metadata": {},
   "source": [
    "The optimal portfolio should be expected to have 40 to 50 % return."
   ]
  },
  {
   "cell_type": "code",
   "execution_count": null,
   "id": "5c692b8c",
   "metadata": {},
   "outputs": [],
   "source": []
  },
  {
   "cell_type": "code",
   "execution_count": null,
   "id": "bce6eeb1",
   "metadata": {},
   "outputs": [],
   "source": []
  }
 ],
 "metadata": {
  "kernelspec": {
   "display_name": "Julia 1.7.1",
   "language": "julia",
   "name": "julia-1.7"
  },
  "language_info": {
   "file_extension": ".jl",
   "mimetype": "application/julia",
   "name": "julia",
   "version": "1.7.1"
  }
 },
 "nbformat": 4,
 "nbformat_minor": 5
}
